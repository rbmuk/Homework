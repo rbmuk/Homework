{
 "cells": [
  {
   "cell_type": "code",
   "execution_count": null,
   "id": "67a9e784",
   "metadata": {},
   "outputs": [],
   "source": [
    "from google.colab import drive\n",
    "\n",
    "drive.mount('/content/drive')\n",
    "\n",
    "# TODO: Enter the path in your Drive of the assignment.\n",
    "# e.g. 'cse455/assignments/assignment0/'\n",
    "FOLDERNAME = None\n",
    "\n",
    "assert FOLDERNAME is not None, \"[!] Enter the foldername.\""
   ]
  },
  {
   "attachments": {},
   "cell_type": "markdown",
   "id": "36fc5e68",
   "metadata": {},
   "source": [
    "# Collect Submission - Zip + Generate PDF \n",
    "\n",
    "Run this notebook once you have completed all the other notebooks: `intro.ipynb`).\n",
    "\n",
    "It will:\n",
    "\n",
    "* Generate a zip file of your code (`.py` and `.ipynb`) called `a0_code_submission.zip`.\n",
    "* Convert all notebooks into a single PDF file called `a0_inline_submission.pdf`.\n",
    "\n",
    "If your submission for this step was successful, you should see the following display message:\n",
    "\n",
    "`### Done! Please submit a0_code_submission.zip and a0_inline_submission.pdf to Gradescope. ###`\n",
    "\n",
    "Make sure to download the zip and pdf file locally to your computer, then submit to Gradescope. Congrats on succesfully completing the assignment!"
   ]
  },
  {
   "cell_type": "code",
   "id": "6bdb5ed6",
   "metadata": {
    "ExecuteTime": {
     "end_time": "2025-01-10T08:57:53.832542Z",
     "start_time": "2025-01-10T08:57:28.824105Z"
    }
   },
   "source": [
    "%cd drive/My\\ Drive\n",
    "%cd $FOLDERNAME\n",
    "!sudo apt-get update\n",
    "!sudo apt-get install texlive-xetex texlive-fonts-recommended texlive-latex-recommended pandoc\n",
    "!pip install PyPDF2\n",
    "!bash collectSubmission.sh"
   ],
   "outputs": [
    {
     "name": "stdout",
     "output_type": "stream",
     "text": [
      "[Errno 2] No such file or directory: 'drive/My Drive'\n",
      "/mnt/c/Users/Rohan Mukherjee/Documents/Homework/CSE455/assignment0\n",
      "[Errno 2] No such file or directory: '$FOLDERNAME'\n",
      "/mnt/c/Users/Rohan Mukherjee/Documents/Homework/CSE455/assignment0\n",
      "[sudo] password for rbmuk: \r\n",
      "[sudo] password for rbmuk: \r\n",
      "Requirement already satisfied: PyPDF2 in /home/rbmuk/anaconda3/lib/python3.12/site-packages (3.0.1)\r\n",
      "bash: warning: setlocale: LC_ALL: cannot change locale (en_US.UTF-8)\r\n",
      "### Zipping file ###\r\n",
      "### Creating PDFs ###\r\n",
      "Created PDF intro.ipynb.\r\n",
      "### Done! Please submit a0_code_submission.zip and a0_inline_submission.pdf to Gradescope. ###\r\n"
     ]
    }
   ],
   "execution_count": 1
  }
 ],
 "metadata": {
  "kernelspec": {
   "name": "python3",
   "language": "python",
   "display_name": "Python 3 (ipykernel)"
  }
 },
 "nbformat": 4,
 "nbformat_minor": 5
}
