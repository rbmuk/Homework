{
 "cells": [
  {
   "cell_type": "code",
   "execution_count": null,
   "metadata": {},
   "outputs": [],
   "source": [
    "from itertools import product\n",
    "import numpy as np\n",
    "import numpy.linalg as la\n",
    "\n",
    "def vectors(n):\n",
    "  return np.array(list(product([-1, 1], repeat=n))).T\n",
    "\n",
    "def beta(A):\n",
    "    B = A @ vectors(A.shape[1])\n",
    "    return 1/(2**A.shape[1])*np.sum(la.norm(np.abs(B), np.inf, axis=0))\n",
    "\n",
    "def norm_p(A, p):\n",
    "  return 1/(2**A.shape[1])*np.sum(la.norm(A @ vectors(A.shape[1]), p, axis=0))"
   ]
  },
  {
   "cell_type": "code",
   "execution_count": null,
   "metadata": {},
   "outputs": [],
   "source": []
  },
  {
   "cell_type": "code",
   "execution_count": null,
   "metadata": {},
   "outputs": [],
   "source": [
    "# n, m = 17, 17 # replace with your desired value of n\n",
    "\n",
    "#configurations = np.c_[np.array(list(product([-1, 1], repeat=n-1))),np.ones(2**(n-1), dtype=float)]\n",
    "#print(configurations)\n",
    "\n",
    "\n",
    "def collapse(A: np.array, earliest: int) -> np.array:\n",
    "    C = np.copy(A)\n",
    "    C[earliest+1] = (C[earliest] + C[earliest+1]) / 2\n",
    "    C = np.delete(C, earliest, 0)\n",
    "    return C\n",
    "\n",
    "def collapse_times(A: np.array, times: int) -> np.array:\n",
    "    earliest = 0\n",
    "    C = np.copy(A)\n",
    "    for _ in range(times):\n",
    "        C = collapse(C, earliest)\n",
    "        earliest += 1\n",
    "        earliest %= C.shape[0]\n",
    "    return C\n",
    "\n",
    "best_vals = {}\n",
    "#n,m  = 6, 6\n",
    "for n in range(1, 16):\n",
    "    configurations = np.c_[np.array(list(product([-1, 1], repeat=n-1))),np.ones(2**(n-1), dtype=float)]\n",
    "    B = collapse_times(configurations, 2**(n-1) - n)\n",
    "    earliest = 0\n",
    "    B /= la.norm(B, 2, axis=1).reshape(-1, 1)\n",
    "    best_vals[n]  = beta(B)\n",
    "\n",
    "print(best_vals)"
   ]
  }
 ],
 "metadata": {
  "kernelspec": {
   "display_name": "Python 3",
   "language": "python",
   "name": "python3"
  },
  "language_info": {
   "codemirror_mode": {
    "name": "ipython",
    "version": 3
   },
   "file_extension": ".py",
   "mimetype": "text/x-python",
   "name": "python",
   "nbconvert_exporter": "python",
   "pygments_lexer": "ipython3",
   "version": "3.9.13"
  }
 },
 "nbformat": 4,
 "nbformat_minor": 2
}
