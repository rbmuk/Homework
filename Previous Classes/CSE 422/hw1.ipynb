{
 "cells": [
  {
   "metadata": {},
   "cell_type": "markdown",
   "source": "# Problem 1: The power of two choices",
   "id": "11a8e04ba70356d2"
  },
  {
   "metadata": {
    "ExecuteTime": {
     "end_time": "2025-01-15T05:09:26.008375Z",
     "start_time": "2025-01-15T05:09:23.502126Z"
    }
   },
   "cell_type": "code",
   "source": [
    "import numpy as np\n",
    "import matplotlib.pyplot as plt\n",
    "import pandas\n",
    "from tqdm import tqdm\n",
    "import torch\n",
    "import hashlib\n",
    "from sortedcontainers import SortedDict\n",
    "from collections import Counter\n",
    "import pandas as pd\n",
    "from tabulate import tabulate\n",
    "\n",
    "DEVICE = torch.device('cuda' if torch.cuda.is_available() else 'cpu')"
   ],
   "id": "5460528d8cd859a5",
   "outputs": [],
   "execution_count": 3
  },
  {
   "metadata": {
    "ExecuteTime": {
     "end_time": "2025-01-15T05:36:29.943467Z",
     "start_time": "2025-01-15T05:36:29.938713Z"
    }
   },
   "cell_type": "code",
   "source": [
    "import numpy as np\n",
    "\n",
    "def uniform_sample(m: int, n: int) -> int:\n",
    "    bins = np.zeros(n)\n",
    "    for _ in range(m):\n",
    "        sample = np.random.randint(0, n)\n",
    "        bins[sample] += 1\n",
    "    return int(bins.max())\n",
    "\n",
    "def two_bins_sample(m: int, n: int) -> int:\n",
    "    bins = np.zeros(n)\n",
    "    for _ in range(m):\n",
    "        list1 = np.random.randint(0, n)\n",
    "        list2 = np.random.randint(0, n)\n",
    "        if bins[list1] < bins[list2]:\n",
    "            bins[list1] += 1\n",
    "        else:\n",
    "            bins[list2] += 1\n",
    "    return int(bins.max())\n",
    "\n",
    "def three_bins_sample(m: int, n: int) -> int:\n",
    "    bins = np.zeros(n)\n",
    "    for _ in range(m):\n",
    "        list1 = np.random.randint(0, n)\n",
    "        list2 = np.random.randint(0, n)\n",
    "        list3 = np.random.randint(0, n)\n",
    "        if bins[list1] <= bins[list2] and bins[list1] <= bins[list3]:\n",
    "            bins[list1] += 1\n",
    "        elif bins[list2] <= bins[list1] and bins[list2] <= bins[list3]:\n",
    "            bins[list2] += 1\n",
    "        else:\n",
    "            bins[list3] += 1\n",
    "    return int(bins.max())\n",
    "\n",
    "def next_sample(m: int, n: int) -> int:\n",
    "    bins = np.zeros(n)\n",
    "    for _ in range(m):\n",
    "        index = np.random.randint(0, n)\n",
    "        next_index = (index + 1) % n\n",
    "        if bins[index] < bins[next_index]:\n",
    "            bins[index] += 1\n",
    "        else:\n",
    "            bins[next_index] += 1\n",
    "    return int(bins.max())"
   ],
   "id": "88b2cd86c1190df4",
   "outputs": [],
   "execution_count": 33
  },
  {
   "metadata": {
    "ExecuteTime": {
     "end_time": "2025-01-15T05:51:51.379891Z",
     "start_time": "2025-01-15T05:36:32.876760Z"
    }
   },
   "cell_type": "code",
   "source": [
    "from tqdm import tqdm  # Import tqdm for progress bars\n",
    "\n",
    "sample_size = 100\n",
    "m = 1000000\n",
    "n = 100000\n",
    "\n",
    "print(\"doing uniform: \")\n",
    "uniform_results = []\n",
    "for _ in tqdm(range(sample_size)):\n",
    "    uniform_results.append(uniform_sample(m, n))\n",
    "\n",
    "print(\"doing two bins: \")\n",
    "two_bins_results = []\n",
    "for _ in tqdm(range(sample_size)):\n",
    "    two_bins_results.append(two_bins_sample(m, n))\n",
    "\n",
    "print(\"doing three bins: \")\n",
    "three_bins_results = []\n",
    "for _ in tqdm(range(sample_size)):\n",
    "    three_bins_results.append(three_bins_sample(m, n))\n",
    "\n",
    "print(\"doing next: \")\n",
    "next_results = []\n",
    "for _ in tqdm(range(sample_size)):\n",
    "    next_results.append(next_sample(m, n))"
   ],
   "id": "a0e4ea2da3cd0f62",
   "outputs": [
    {
     "name": "stdout",
     "output_type": "stream",
     "text": [
      "doing uniform: \n"
     ]
    },
    {
     "name": "stderr",
     "output_type": "stream",
     "text": [
      "100%|██████████| 100/100 [02:10<00:00,  1.31s/it]\n"
     ]
    },
    {
     "name": "stdout",
     "output_type": "stream",
     "text": [
      "doing two bins: \n"
     ]
    },
    {
     "name": "stderr",
     "output_type": "stream",
     "text": [
      "100%|██████████| 100/100 [04:20<00:00,  2.61s/it]\n"
     ]
    },
    {
     "name": "stdout",
     "output_type": "stream",
     "text": [
      "doing three bins: \n"
     ]
    },
    {
     "name": "stderr",
     "output_type": "stream",
     "text": [
      "100%|██████████| 100/100 [06:23<00:00,  3.83s/it]\n"
     ]
    },
    {
     "name": "stdout",
     "output_type": "stream",
     "text": [
      "doing next: \n"
     ]
    },
    {
     "name": "stderr",
     "output_type": "stream",
     "text": [
      "100%|██████████| 100/100 [02:23<00:00,  1.43s/it]\n"
     ]
    }
   ],
   "execution_count": 34
  },
  {
   "metadata": {
    "ExecuteTime": {
     "end_time": "2025-01-15T06:01:19.159083Z",
     "start_time": "2025-01-15T06:01:18.927088Z"
    }
   },
   "cell_type": "code",
   "source": [
    "def plot():\n",
    "    import numpy as np\n",
    "    \n",
    "    # Combine all plots into one figure\n",
    "    plt.figure(figsize=(12, 10))\n",
    "    \n",
    "    # Function to determine bins\n",
    "    def get_bins(data, num_bins=10):\n",
    "        if len(set(data)) == 1:  # Constant data\n",
    "            unique_value = data[0]\n",
    "            # Create centered bins around the constant value\n",
    "            half_bin_width = (unique_value + 1) / num_bins\n",
    "            return np.linspace(unique_value - half_bin_width, unique_value + half_bin_width, num_bins + 1)\n",
    "        return num_bins\n",
    "\n",
    "    # Uniform Results\n",
    "    plt.subplot(2, 2, 1)\n",
    "    plt.hist(uniform_results, bins=get_bins(uniform_results), alpha=0.5, label='Uniform', align='mid')\n",
    "    plt.xlabel('Max number of elements in a bin')\n",
    "    plt.ylabel('Frequency')\n",
    "    plt.title('Uniform')\n",
    "    plt.legend()\n",
    "\n",
    "    # Two Bins Results\n",
    "    plt.subplot(2, 2, 2)\n",
    "    plt.hist(two_bins_results, bins=get_bins(two_bins_results), alpha=0.5, label='Two Bins', align='mid')\n",
    "    plt.xlabel('Max number of elements in a bin')\n",
    "    plt.ylabel('Frequency')\n",
    "    plt.title('Two Bins')\n",
    "    plt.legend()\n",
    "\n",
    "    # Three Bins Results\n",
    "    plt.subplot(2, 2, 3)\n",
    "    plt.hist(three_bins_results, bins=get_bins(three_bins_results), alpha=0.5, label='Three Bins', align='mid')\n",
    "    plt.xlabel('Max number of elements in a bin')\n",
    "    plt.ylabel('Frequency')\n",
    "    plt.title('Three Bins')\n",
    "    plt.legend()\n",
    "\n",
    "    # Next Results\n",
    "    plt.subplot(2, 2, 4)\n",
    "    plt.hist(next_results, bins=get_bins(next_results), alpha=0.5, label='Next', align='mid')\n",
    "    plt.xlabel('Max number of elements in a bin')\n",
    "    plt.ylabel('Frequency')\n",
    "    plt.title('Next')\n",
    "    plt.legend()\n",
    "\n",
    "    # Adjust layout\n",
    "    plt.tight_layout()\n",
    "    plt.show()\n",
    "\n",
    "    \n",
    "plot()"
   ],
   "id": "91c1c236b402a049",
   "outputs": [
    {
     "data": {
      "text/plain": [
       "<Figure size 1200x1000 with 4 Axes>"
      ],
      "image/png": "[encoded data removed]"
     },
     "metadata": {},
     "output_type": "display_data"
    }
   ],
   "execution_count": 49
  },
  {
   "metadata": {},
   "cell_type": "markdown",
   "source": "# Problem 2: Count-min sketch\n",
   "id": "b931c7ac8928d555"
  },
  {
   "metadata": {
    "ExecuteTime": {
     "end_time": "2025-01-15T05:22:55.110112Z",
     "start_time": "2025-01-15T05:22:55.106407Z"
    }
   },
   "cell_type": "code",
   "source": [
    "class CountMinSketch:\n",
    "    def __init__(self, seed: int, n: int, eps: float):\n",
    "        self.seed = seed\n",
    "        self.b = 256  # Number of columns\n",
    "        self.l = 6    # Number of hash functions (rows)\n",
    "        self.n = n    # Number of elements\n",
    "        self.eps = eps  # Epsilon for heavy hitters\n",
    "        self.counts = np.zeros((self.l, self.b), dtype=int)  # 2D array for counts\n",
    "        self.heavy_hitters = set()  # Set to track heavy hitters\n",
    "\n",
    "    def hash(self, key: str) -> np.ndarray:\n",
    "        \"\"\"Hash a key using MD5 and return a NumPy array of hash values.\"\"\"\n",
    "        hash_val = hashlib.md5((key + str(self.seed)).encode('utf-8')).digest()\n",
    "        return np.array([hash_val[i] % self.b for i in range(self.l)], dtype=int)\n",
    "\n",
    "    def inc(self, key: str):\n",
    "        \"\"\"Increment the counts for the given key.\"\"\"\n",
    "        hashes = self.hash(key)  # Get hash values\n",
    "        indices = np.arange(self.l)\n",
    "        \n",
    "        # for i,h in enumerate(hashes):\n",
    "        #     self.counts[i,h] += 1\n",
    "        \n",
    "        # Find the minimum count across hash functions for the given key\n",
    "        min_count = self.counts[indices, hashes].min()\n",
    "        \n",
    "        for i,h in enumerate(hashes):\n",
    "            if self.counts[i,h] == min_count:\n",
    "                self.counts[i,h] += 1\n",
    "\n",
    "        # Check for heavy hitter\n",
    "        if min_count >= self.eps * self.n:\n",
    "            self.heavy_hitters.add(key)\n",
    "\n",
    "    def count(self, key: str) -> int:\n",
    "        \"\"\"Return the estimated count of a key.\"\"\"\n",
    "        hashes = self.hash(key)  # Get hash values\n",
    "        return self.counts[np.arange(self.l), hashes].min()  # Minimum count across hash functions\n"
   ],
   "id": "87845733a1f9ce1c",
   "outputs": [],
   "execution_count": 26
  },
  {
   "metadata": {
    "ExecuteTime": {
     "end_time": "2025-01-15T05:22:55.128191Z",
     "start_time": "2025-01-15T05:22:55.125117Z"
    }
   },
   "cell_type": "code",
   "source": [
    "def generate_dataset(n: int):\n",
    "    dataset = []\n",
    "    # For i = 1 to n, add i (as a string) i^2 times\n",
    "    for i in range(1, n + 1):\n",
    "        dataset.extend([str(i)] * (i ** 2))\n",
    "    # For i = n+1 to n^2, add i (as a string) once\n",
    "    dataset.extend(map(str, range(n + 1, n**2 + 1)))\n",
    "    return dataset\n",
    "\n",
    "def count_min_sketch_experiment(dataset: list, seed: int):\n",
    "    count_min_sketch = CountMinSketch(seed, len(dataset), 0.01)\n",
    "    for key in dataset:\n",
    "        count_min_sketch.inc(key)\n",
    "    return count_min_sketch"
   ],
   "id": "b6fb81079c567133",
   "outputs": [],
   "execution_count": 27
  },
  {
   "metadata": {
    "ExecuteTime": {
     "end_time": "2025-01-15T05:26:00.615713Z",
     "start_time": "2025-01-15T05:22:55.171897Z"
    }
   },
   "cell_type": "code",
   "source": [
    "n = 150\n",
    "\n",
    "heavy_first_freq100 = np.zeros(10)\n",
    "heavy_last_freq100 = np.zeros(10)\n",
    "random_freq100 = np.zeros(10)\n",
    "\n",
    "heavy_first_heavyhitters = np.zeros(10)\n",
    "heavy_last_heavyhitters = np.zeros(10)\n",
    "random_heavyhitters = np.zeros(10)\n",
    "\n",
    "for i in tqdm(range(10)):\n",
    "    dataset = generate_dataset(n)\n",
    "    heavy_first = sorted(dataset, key=Counter(dataset).get, reverse=True)\n",
    "    heavy_last = sorted(dataset, key=Counter(dataset).get)\n",
    "    random_perm = np.random.permutation(dataset)\n",
    "    \n",
    "    count_heavy_first = count_min_sketch_experiment(heavy_first, i)\n",
    "    count_heavy_last = count_min_sketch_experiment(heavy_last, i)\n",
    "    count_random = count_min_sketch_experiment(random_perm, i)\n",
    "    \n",
    "    heavy_first_freq100[i] = count_heavy_first.count('100')\n",
    "    heavy_last_freq100[i] = count_heavy_last.count('100')\n",
    "    random_freq100[i] = count_random.count('100')\n",
    "    \n",
    "    heavy_first_heavyhitters[i] = len(count_heavy_first.heavy_hitters)\n",
    "    heavy_last_heavyhitters[i] = len(count_heavy_last.heavy_hitters)\n",
    "    random_heavyhitters[i] = len(count_random.heavy_hitters)"
   ],
   "id": "ad1d5b8e442af43",
   "outputs": [
    {
     "name": "stderr",
     "output_type": "stream",
     "text": [
      "100%|██████████| 10/10 [03:05<00:00, 18.54s/it]\n"
     ]
    }
   ],
   "execution_count": 28
  },
  {
   "metadata": {
    "ExecuteTime": {
     "end_time": "2025-01-15T05:26:00.673918Z",
     "start_time": "2025-01-15T05:26:00.666897Z"
    }
   },
   "cell_type": "code",
   "source": [
    "# Calculate averages and prepare the table\n",
    "data = {\n",
    "    \"Category\": [\"Heavy First\", \"Heavy Last\", \"Random\"],\n",
    "    \"Average Frequency of 100\": [\n",
    "        heavy_first_freq100.mean(),\n",
    "        heavy_last_freq100.mean(),\n",
    "        random_freq100.mean(),\n",
    "    ],\n",
    "    \"Average Number of Heavy Hitters\": [\n",
    "        heavy_first_heavyhitters.mean(),\n",
    "        heavy_last_heavyhitters.mean(),\n",
    "        random_heavyhitters.mean(),\n",
    "    ],\n",
    "}\n",
    "\n",
    "# Create a DataFrame for the table\n",
    "df = pd.DataFrame(data)\n",
    "# Convert to Markdown\n",
    "markdown_table = tabulate(df, headers=\"keys\", tablefmt=\"pipe\", showindex=False, floatfmt=\".2f\")\n",
    "\n",
    "# Save to a Markdown file\n",
    "with open(\"table.md\", \"w\") as f:\n",
    "    f.write(markdown_table)\n",
    "\n",
    "print(\"Markdown table saved to 'table.md'\")"
   ],
   "id": "e5852b754a4d91e6",
   "outputs": [
    {
     "name": "stdout",
     "output_type": "stream",
     "text": [
      "Markdown table saved to 'table.md'\n"
     ]
    }
   ],
   "execution_count": 29
  },
  {
   "metadata": {},
   "cell_type": "markdown",
   "source": [
    "Unoptimized Table:\n",
    "| Category    |   Average Frequency of 100 |   Average Number of Heavy Hitters |\n",
    "|:------------|---------------------------:|----------------------------------:|\n",
    "| Heavy First |                   10082.00 |                             43.30 |\n",
    "| Heavy Last  |                   10082.00 |                             43.00 |\n",
    "| Random      |                   10082.00 |                             43.30 |\n",
    "\n",
    "Optimized Table:\n",
    "| Category    |   Average Frequency of 100 |   Average Number of Heavy Hitters |\n",
    "|:------------|---------------------------:|----------------------------------:|\n",
    "| Heavy First |                   10000.00 |                             43.20 |\n",
    "| Heavy Last  |                   10033.80 |                             43.00 |\n",
    "| Random      |                   10000.00 |                             43.00 |"
   ],
   "id": "13e67e672932b62c"
  }
 ],
 "metadata": {
  "kernelspec": {
   "display_name": "Python 3",
   "language": "python",
   "name": "python3"
  },
  "language_info": {
   "codemirror_mode": {
    "name": "ipython",
    "version": 2
   },
   "file_extension": ".py",
   "mimetype": "text/x-python",
   "name": "python",
   "nbconvert_exporter": "python",
   "pygments_lexer": "ipython2",
   "version": "2.7.6"
  }
 },
 "nbformat": 4,
 "nbformat_minor": 5
}
