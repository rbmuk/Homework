{
  "cells": [
    {
      "cell_type": "markdown",
      "metadata": {
        "deletable": false,
        "editable": false,
        "id": "Pbig2pBmi55s",
        "nbgrader": {
          "cell_type": "markdown",
          "checksum": "fa9fab83b39e0e8986fe51f4973a53c4",
          "grade": false,
          "grade_id": "cell-5a064f468649bd70",
          "locked": true,
          "schema_version": 3,
          "solution": false,
          "task": false
        }
      },
      "source": [
        "# CSE447: Project 0, Python and Pytorch Tutorial + Review (Autumn '24)\n",
        "\n",
        "Author: Kabir Ahuja\n",
        "\n",
        "Thanks to Kavel Rao for feedback!\n",
        "\n",
        "\n",
        "In this notebook we will have a review of Python programming and a basic introduction to Pytorch. We assume familiarity with Python from all students and the notebook should serve mainly as a review and practice of important Python concepts. No familiarity with Pytorch is assumed. In this tutorial we only focus on the very basics i.e. tensor operations. More advanced usage of Pytorch will be covered in the upcoming projects.\n",
        "\n",
        "The Python tutorial is adapted from [Stanford's CS231N Python Numpy Tutorial](https://cs231n.github.io/python-numpy-tutorial/) originally written by [Justin Johnson](https://web.eecs.umich.edu/~justincj/) and updated for Colab by Kevin Zakka. It is compatible only with **Python3**\n",
        "\n",
        "The Pytorch tutorial is adapted from Stanford's [CS224N PyTorch Tutorial](https://colab.research.google.com/drive/13HGy3-uIIy1KD_WFhG4nVrxJC-3nUUkP?usp=sharing) by Dilara Soylu and Ethan Chi and [UW's CSE 517 (Autumn'24) Assignment 0](https://arc.net/l/quote/pxssjbrt) by Yegor Kuznetsov.\n",
        "\n",
        "The tutorials are accompanied by 4 exercises in total, which are originally created for this course."
      ]
    },
    {
      "cell_type": "markdown",
      "metadata": {
        "deletable": false,
        "editable": false,
        "id": "uO_Clnrni55t",
        "nbgrader": {
          "cell_type": "markdown",
          "checksum": "f9977363a5bafa33cb508c5b909b102b",
          "grade": false,
          "grade_id": "cell-6a201ef0252f952f",
          "locked": true,
          "schema_version": 3,
          "solution": false,
          "task": false
        }
      },
      "source": [
        "## Part 1: Python Fundamentals\n",
        "\n",
        "This part is adapted from Stanford's CS231n Python tutorial.\n",
        "\n",
        "In this part of the assignment, we will cover Basic Python:\n",
        "\n",
        "* Basic Data Types\n",
        "* Functions\n",
        "* Containers or Data structures: Lists, Dictionaries, Sets, Tuples,\n",
        "* Classes"
      ]
    },
    {
      "cell_type": "markdown",
      "metadata": {
        "deletable": false,
        "editable": false,
        "id": "SueOJvhki55u",
        "nbgrader": {
          "cell_type": "markdown",
          "checksum": "980af17c21ada7fe25d31c635555cb3a",
          "grade": false,
          "grade_id": "cell-dc30aa59c9cc238c",
          "locked": true,
          "schema_version": 3,
          "solution": false,
          "task": false
        }
      },
      "source": [
        "### Basic data types"
      ]
    },
    {
      "cell_type": "markdown",
      "metadata": {
        "deletable": false,
        "editable": false,
        "id": "XuFsfyDfi55u",
        "nbgrader": {
          "cell_type": "markdown",
          "checksum": "3e474a1b0ec4d300bfd3475303cd32b5",
          "grade": false,
          "grade_id": "cell-2458f5e84f665542",
          "locked": true,
          "schema_version": 3,
          "solution": false,
          "task": false
        }
      },
      "source": [
        "#### Numbers"
      ]
    },
    {
      "cell_type": "markdown",
      "metadata": {
        "deletable": false,
        "editable": false,
        "id": "6zhzmszGi55u",
        "nbgrader": {
          "cell_type": "markdown",
          "checksum": "891a77ec73916dc04e2a247f13aeb6f3",
          "grade": false,
          "grade_id": "cell-00a9878a8c25762d",
          "locked": true,
          "schema_version": 3,
          "solution": false,
          "task": false
        }
      },
      "source": [
        "Integers and floats work as you would expect from other languages:"
      ]
    },
    {
      "cell_type": "code",
      "execution_count": 60,
      "metadata": {
        "colab": {
          "base_uri": "https://localhost:8080/"
        },
        "deletable": false,
        "editable": false,
        "id": "7l12UVT4i55u",
        "nbgrader": {
          "cell_type": "code",
          "checksum": "fd9f07adbc6adbd95f91a7264ce3f423",
          "grade": false,
          "grade_id": "cell-85fbd24138b86dac",
          "locked": true,
          "schema_version": 3,
          "solution": false,
          "task": false
        },
        "outputId": "c534400f-631f-4e6d-be62-1609840de856"
      },
      "outputs": [
        {
          "name": "stdout",
          "output_type": "stream",
          "text": [
            "3 <class 'int'>\n"
          ]
        }
      ],
      "source": [
        "x = 3\n",
        "print(x, type(x))"
      ]
    },
    {
      "cell_type": "code",
      "execution_count": 61,
      "metadata": {
        "colab": {
          "base_uri": "https://localhost:8080/"
        },
        "deletable": false,
        "editable": false,
        "id": "Cj0p4DX1i55u",
        "nbgrader": {
          "cell_type": "code",
          "checksum": "e884db29a64da9f1f6dc341d6fe2f643",
          "grade": false,
          "grade_id": "cell-6b28ee84781be258",
          "locked": true,
          "schema_version": 3,
          "solution": false,
          "task": false
        },
        "outputId": "1c2f8f1e-d523-4ed8-d5a5-6b7a63de0c16"
      },
      "outputs": [
        {
          "name": "stdout",
          "output_type": "stream",
          "text": [
            "4\n",
            "2\n",
            "6\n",
            "9\n"
          ]
        }
      ],
      "source": [
        "print(x + 1)  # Addition\n",
        "print(x - 1)  # Subtraction\n",
        "print(x * 2)  # Multiplication\n",
        "print(x**2)  # Exponentiation"
      ]
    },
    {
      "cell_type": "code",
      "execution_count": 62,
      "metadata": {
        "colab": {
          "base_uri": "https://localhost:8080/"
        },
        "deletable": false,
        "editable": false,
        "id": "zZAyfYiDi55u",
        "nbgrader": {
          "cell_type": "code",
          "checksum": "d41e2c7e8ba32d92be0e9b2128b20c17",
          "grade": false,
          "grade_id": "cell-299ef7d17976ada9",
          "locked": true,
          "schema_version": 3,
          "solution": false,
          "task": false
        },
        "outputId": "3c7a929c-ed29-42ce-9988-686ea813401c"
      },
      "outputs": [
        {
          "name": "stdout",
          "output_type": "stream",
          "text": [
            "4\n",
            "8\n"
          ]
        }
      ],
      "source": [
        "x += 1\n",
        "print(x)\n",
        "x *= 2\n",
        "print(x)"
      ]
    },
    {
      "cell_type": "markdown",
      "metadata": {
        "deletable": false,
        "editable": false,
        "id": "5txrPcTki55v",
        "nbgrader": {
          "cell_type": "markdown",
          "checksum": "eea207c8e420b00d6a046a63dfffa69e",
          "grade": false,
          "grade_id": "cell-3f6a29863eb2465d",
          "locked": true,
          "schema_version": 3,
          "solution": false,
          "task": false
        }
      },
      "source": [
        "Note that unlike many languages, Python does not have unary increment (x++) or decrement (x--) operators.\n",
        "\n",
        "Python also has built-in types for long integers and complex numbers; you can find all of the details in the [documentation](https://docs.python.org/3.7/library/stdtypes.html#numeric-types-int-float-long-complex)."
      ]
    },
    {
      "cell_type": "markdown",
      "metadata": {
        "id": "-zlXbhgKi55v"
      },
      "source": [
        "#### Booleans"
      ]
    },
    {
      "cell_type": "markdown",
      "metadata": {
        "id": "Z-QM3SFKi55v"
      },
      "source": [
        "Python implements all of the usual operators for Boolean logic, but uses English words rather than symbols (`&&`, `||`, etc.):"
      ]
    },
    {
      "cell_type": "code",
      "execution_count": 63,
      "metadata": {
        "colab": {
          "base_uri": "https://localhost:8080/"
        },
        "id": "e4oZN83ki55v",
        "outputId": "f0a28fc7-37c6-4ef9-be73-4ec4131b411d"
      },
      "outputs": [
        {
          "name": "stdout",
          "output_type": "stream",
          "text": [
            "<class 'bool'>\n"
          ]
        }
      ],
      "source": [
        "t, f = True, False\n",
        "print(type(t))"
      ]
    },
    {
      "cell_type": "markdown",
      "metadata": {
        "id": "lr0IsIJvi55v"
      },
      "source": [
        "Now we let's look at the operations:"
      ]
    },
    {
      "cell_type": "code",
      "execution_count": 64,
      "metadata": {
        "colab": {
          "base_uri": "https://localhost:8080/"
        },
        "id": "bOC1lUDhi55v",
        "outputId": "30e5186f-b849-4318-b274-36ce913dd42a"
      },
      "outputs": [
        {
          "name": "stdout",
          "output_type": "stream",
          "text": [
            "False\n",
            "True\n",
            "False\n",
            "True\n"
          ]
        }
      ],
      "source": [
        "print(t and f)  # Logical AND;\n",
        "print(t or f)  # Logical OR;\n",
        "print(not t)  # Logical NOT;\n",
        "print(t != f)  # Logical XOR;"
      ]
    },
    {
      "cell_type": "markdown",
      "metadata": {
        "id": "bzsBLjZwi55v"
      },
      "source": [
        "#### Strings"
      ]
    },
    {
      "cell_type": "code",
      "execution_count": 65,
      "metadata": {
        "colab": {
          "base_uri": "https://localhost:8080/"
        },
        "id": "o3wpWu_Di55v",
        "outputId": "0c36456c-855b-4359-87b1-95d72dd2c990"
      },
      "outputs": [
        {
          "name": "stdout",
          "output_type": "stream",
          "text": [
            "hello 5\n"
          ]
        }
      ],
      "source": [
        "hello = \"hello\"  # String literals can use single quotes\n",
        "world = \"world\"  # or double quotes; it does not matter\n",
        "print(hello, len(hello))"
      ]
    },
    {
      "cell_type": "code",
      "execution_count": 66,
      "metadata": {
        "colab": {
          "base_uri": "https://localhost:8080/"
        },
        "id": "CfIOprZGi55v",
        "outputId": "1ba3b0bd-1a08-446a-d334-35264f738898"
      },
      "outputs": [
        {
          "name": "stdout",
          "output_type": "stream",
          "text": [
            "hello world\n"
          ]
        }
      ],
      "source": [
        "hw = hello + \" \" + world  # String concatenation\n",
        "print(hw)"
      ]
    },
    {
      "cell_type": "code",
      "execution_count": 67,
      "metadata": {
        "colab": {
          "base_uri": "https://localhost:8080/"
        },
        "id": "jb4_U1w9i55w",
        "outputId": "1f6e53e3-a480-4863-fb2f-b3778b0a7fea"
      },
      "outputs": [
        {
          "name": "stdout",
          "output_type": "stream",
          "text": [
            "hello world 12\n"
          ]
        }
      ],
      "source": [
        "hw12 = \"{} {} {}\".format(hello, world, 12)  # string formatting\n",
        "print(hw12)"
      ]
    },
    {
      "cell_type": "markdown",
      "metadata": {
        "id": "Bsc99bKei55w"
      },
      "source": [
        "String objects have a bunch of useful methods; for example:"
      ]
    },
    {
      "cell_type": "code",
      "execution_count": 68,
      "metadata": {
        "colab": {
          "base_uri": "https://localhost:8080/"
        },
        "id": "PW6LY7Ari55w",
        "outputId": "bb31eb78-a338-4a5d-d906-b5436af45fc0"
      },
      "outputs": [
        {
          "name": "stdout",
          "output_type": "stream",
          "text": [
            "Hello\n",
            "HELLO\n",
            "  hello\n",
            " hello \n",
            "he(ell)(ell)o\n",
            "world\n"
          ]
        }
      ],
      "source": [
        "s = \"hello\"\n",
        "print(s.capitalize())  # Capitalize a string\n",
        "print(s.upper())  # Convert a string to uppercase; prints \"HELLO\"\n",
        "print(s.rjust(7))  # Right-justify a string, padding with spaces\n",
        "print(s.center(7))  # Center a string, padding with spaces\n",
        "print(s.replace(\"l\", \"(ell)\"))  # Replace all instances of one substring with another\n",
        "print(\"  world \".strip())  # Strip leading and trailing whitespace"
      ]
    },
    {
      "cell_type": "markdown",
      "metadata": {
        "id": "lLdUewT-i55w"
      },
      "source": [
        "You can find a list of all string methods in the [documentation](https://docs.python.org/3.7/library/stdtypes.html#string-methods)."
      ]
    },
    {
      "cell_type": "markdown",
      "metadata": {
        "id": "Yp-3YIt9i55w"
      },
      "source": [
        "### Functions"
      ]
    },
    {
      "cell_type": "markdown",
      "metadata": {
        "id": "mGGHAVTsi55w"
      },
      "source": [
        "Python functions are defined using the `def` keyword. For example:"
      ]
    },
    {
      "cell_type": "code",
      "execution_count": 69,
      "metadata": {
        "colab": {
          "base_uri": "https://localhost:8080/"
        },
        "id": "_BjpbSXXi55w",
        "outputId": "40636c05-bf3d-43e2-f2e9-b62cc3d2ee34"
      },
      "outputs": [
        {
          "name": "stdout",
          "output_type": "stream",
          "text": [
            "positive\n",
            "negative\n",
            "zero\n"
          ]
        }
      ],
      "source": [
        "def sign(x):\n",
        "    if x > 0:\n",
        "        return \"positive\"\n",
        "    elif x < 0:\n",
        "        return \"negative\"\n",
        "    else:\n",
        "        return \"zero\"\n",
        "\n",
        "\n",
        "print(sign(3))\n",
        "print(sign(-3))\n",
        "print(sign(0))"
      ]
    },
    {
      "cell_type": "markdown",
      "metadata": {
        "id": "8e2x8OfIi55w"
      },
      "source": [
        "We will often define functions to take optional keyword arguments, like this:"
      ]
    },
    {
      "cell_type": "code",
      "execution_count": 70,
      "metadata": {
        "colab": {
          "base_uri": "https://localhost:8080/"
        },
        "id": "eLx1B3yli55w",
        "outputId": "8dd06012-4fbb-40ac-f749-28f6c504a229"
      },
      "outputs": [
        {
          "name": "stdout",
          "output_type": "stream",
          "text": [
            "Hello, Bob!\n",
            "HELLO, FRED\n"
          ]
        }
      ],
      "source": [
        "def hello(name, loud=False):\n",
        "    if loud:\n",
        "        print(\"HELLO, {}\".format(name.upper()))\n",
        "    else:\n",
        "        print(\"Hello, {}!\".format(name))\n",
        "\n",
        "\n",
        "hello(\"Bob\")\n",
        "hello(\"Fred\", loud=True)"
      ]
    },
    {
      "cell_type": "markdown",
      "metadata": {
        "id": "guryGLbzi55w"
      },
      "source": [
        "### Exercise 1: Basic Text Processing Using String Methods (1 Point)\n",
        "\n",
        "You will now use what we just learned to implement some basic text processing methods in Python. Text processing comes very much in handy when training machine learning models on natural language data. Since text processing is typically done before training of the models, it is also commonly referred to as *preprocessing*. While in the lectures and following projects more advanced preprocessing techniques will be covered, for this exercise you will perform the following basic text processing steps:\n",
        "\n",
        "- convert the text to lower case\n",
        "- remove extra spaces (left trailing, right trailing, or in between the words)\n",
        "- remove punctuations\n",
        "\n",
        "Note that, while more advanced libraries like regular expressions (re) or natural language toolkit (NLTK) can also be used for implementing these methods, it is also straightforward to use string methods to carry out these basic operations, which is what we recommend you to use.\n",
        "\n",
        "**Important Note: Remove `raise NotImplementedError()` when you write your code in the functions**"
      ]
    },
    {
      "cell_type": "code",
      "execution_count": 71,
      "metadata": {
        "deletable": false,
        "id": "VymB-XPli55w",
        "nbgrader": {
          "cell_type": "code",
          "checksum": "bddf1fb4b24295539520efebb171ca69",
          "grade": false,
          "grade_id": "cell-243665322a6645a5",
          "locked": false,
          "schema_version": 3,
          "solution": true,
          "task": false
        }
      },
      "outputs": [],
      "source": [
        "def to_lowercase(text: str) -> str:\n",
        "    \"\"\"\n",
        "    Convert a string to lowercase\n",
        "\n",
        "    E.g. \"Hello\" -> \"hello\"\n",
        "\n",
        "    Input:\n",
        "        - text: string\n",
        "    Output:\n",
        "        - string\n",
        "\n",
        "    \"\"\"\n",
        "    # YOUR CODE HERE\n",
        "    lowercase_text = text.lower()\n",
        "    return lowercase_text\n",
        "\n",
        "\n",
        "def remove_extra_spaces(text: str) -> str:\n",
        "    \"\"\"\n",
        "    Remove extra spaces from a string.\n",
        "\n",
        "    E.g.: \"  This is a    string   \" -> \"This is a string\"\n",
        "\n",
        "    Input:\n",
        "        - text: string\n",
        "    Output:\n",
        "        - string\n",
        "\n",
        "    \"\"\"\n",
        "    text_without_extra_spaces = text\n",
        "\n",
        "    # YOUR CODE HERE\n",
        "    text_without_extra_spaces = \" \".join(text.split())\n",
        "\n",
        "    return text_without_extra_spaces\n",
        "\n",
        "def remove_punctuations(text):\n",
        "    \"\"\"\n",
        "    Remove punctuations from a string\n",
        "\n",
        "    E.g.: \"Hello! How are you?\" -> \"Hello How are you\"\n",
        "\n",
        "    Input:\n",
        "        - text: string\n",
        "    Output:\n",
        "        - string\n",
        "\n",
        "    \"\"\"\n",
        "    # we can get a list of punctuations from the string module\n",
        "    import string\n",
        "    punctuations = string.punctuation\n",
        "\n",
        "    text_without_punctuations = text\n",
        "\n",
        "    # YOUR CODE HERE\n",
        "    for p in punctuations:\n",
        "        text_without_punctuations = text_without_punctuations.replace(p, \"\")\n",
        "\n",
        "    return text_without_punctuations\n",
        "\n",
        "\n",
        "def text_processing(text):\n",
        "    \"\"\"\n",
        "    Process a text by converting it to lowercase, removing extra spaces and removing punctuations\n",
        "\n",
        "    Input:\n",
        "        - text: string\n",
        "    Output:\n",
        "        - string\n",
        "\n",
        "    \"\"\"\n",
        "    processed_text = None\n",
        "\n",
        "    # YOUR CODE HERE\n",
        "    processed_text = remove_punctuations(remove_extra_spaces(to_lowercase(text)))\n",
        "\n",
        "    return processed_text"
      ]
    },
    {
      "cell_type": "code",
      "execution_count": 72,
      "metadata": {
        "colab": {
          "base_uri": "https://localhost:8080/"
        },
        "deletable": false,
        "editable": false,
        "id": "yxxDc_0qi55w",
        "nbgrader": {
          "cell_type": "code",
          "checksum": "1ba0e3615fe4c91b7958db090781607b",
          "grade": true,
          "grade_id": "cell-0d71367e7eadb2e5",
          "locked": true,
          "points": 1,
          "schema_version": 3,
          "solution": false,
          "task": false
        },
        "outputId": "1ebbac43-aee1-43f0-d8cd-f265e60886dc"
      },
      "outputs": [
        {
          "name": "stdout",
          "output_type": "stream",
          "text": [
            "All tests pass\n"
          ]
        }
      ],
      "source": [
        "def test_text_processing():\n",
        "    assert text_processing(\"  This is a    string   \") == \"this is a string\"\n",
        "    assert text_processing(\"Hello! How are you?\") == \"hello how are you\"\n",
        "    assert text_processing(\"  This is a    string   with punctuations! \") == \"this is a string with punctuations\"\n",
        "    assert text_processing(\"  This is a    string   with punctuations! \") == \"this is a string with punctuations\"\n",
        "    print(\"All tests pass\")\n",
        "\n",
        "test_text_processing()"
      ]
    },
    {
      "cell_type": "markdown",
      "metadata": {
        "deletable": false,
        "editable": false,
        "id": "JdTOkGMwi55w",
        "nbgrader": {
          "cell_type": "markdown",
          "checksum": "64dce26e5449aea4c0098a8c5d45038b",
          "grade": false,
          "grade_id": "cell-b93a88faac1d07f0",
          "locked": true,
          "schema_version": 3,
          "solution": false,
          "task": false
        }
      },
      "source": [
        "### Containers\n",
        "\n",
        "Python includes several built-in container types: lists, dictionaries, sets, and tuples."
      ]
    },
    {
      "cell_type": "markdown",
      "metadata": {
        "deletable": false,
        "editable": false,
        "id": "2Bvnr824i55x",
        "nbgrader": {
          "cell_type": "markdown",
          "checksum": "5e9207b88380753feceb5fb9e07d208a",
          "grade": false,
          "grade_id": "cell-2bca4ba13a63ef9a",
          "locked": true,
          "schema_version": 3,
          "solution": false,
          "task": false
        }
      },
      "source": [
        "#### Lists"
      ]
    },
    {
      "cell_type": "markdown",
      "metadata": {
        "deletable": false,
        "editable": false,
        "id": "zQyP-SyDi55x",
        "nbgrader": {
          "cell_type": "markdown",
          "checksum": "13ab38d5e3a7f751a638a08c46f45a8e",
          "grade": false,
          "grade_id": "cell-60bd176bcf23fe39",
          "locked": true,
          "schema_version": 3,
          "solution": false,
          "task": false
        }
      },
      "source": [
        "A list is the Python equivalent of an array, but is resizeable and can contain elements of different types:"
      ]
    },
    {
      "cell_type": "code",
      "execution_count": 73,
      "metadata": {
        "colab": {
          "base_uri": "https://localhost:8080/"
        },
        "id": "SZ0rSfjqi55x",
        "outputId": "f8e21bf3-fe46-49f6-e69d-adb0d2f3cec5"
      },
      "outputs": [
        {
          "name": "stdout",
          "output_type": "stream",
          "text": [
            "[3, 1, 2] 2\n",
            "2\n"
          ]
        }
      ],
      "source": [
        "xs = [3, 1, 2]  # Create a list\n",
        "print(xs, xs[2])\n",
        "print(xs[-1])  # Negative indices count from the end of the list; prints \"2\""
      ]
    },
    {
      "cell_type": "code",
      "execution_count": 74,
      "metadata": {
        "colab": {
          "base_uri": "https://localhost:8080/"
        },
        "id": "I0fRNxqPi55x",
        "outputId": "192bde19-f5be-4c9b-ac4d-ad88217a34c3"
      },
      "outputs": [
        {
          "name": "stdout",
          "output_type": "stream",
          "text": [
            "[3, 1, 'foo']\n"
          ]
        }
      ],
      "source": [
        "xs[2] = \"foo\"  # Lists can contain elements of different types\n",
        "print(xs)"
      ]
    },
    {
      "cell_type": "code",
      "execution_count": 75,
      "metadata": {
        "colab": {
          "base_uri": "https://localhost:8080/"
        },
        "id": "Eti_l5D8i55x",
        "outputId": "86f5b780-f04f-4055-a6d5-8c068b175355"
      },
      "outputs": [
        {
          "name": "stdout",
          "output_type": "stream",
          "text": [
            "[3, 1, 'foo', 'bar']\n"
          ]
        }
      ],
      "source": [
        "xs.append(\"bar\")  # Add a new element to the end of the list\n",
        "print(xs)"
      ]
    },
    {
      "cell_type": "code",
      "execution_count": 76,
      "metadata": {
        "colab": {
          "base_uri": "https://localhost:8080/"
        },
        "id": "CsGhCWdgi55x",
        "outputId": "8d3a7737-f58a-443c-ac0e-d85e01f35998"
      },
      "outputs": [
        {
          "name": "stdout",
          "output_type": "stream",
          "text": [
            "bar [3, 1, 'foo']\n"
          ]
        }
      ],
      "source": [
        "x = xs.pop()  # Remove and return the last element of the list\n",
        "print(x, xs)"
      ]
    },
    {
      "cell_type": "markdown",
      "metadata": {
        "deletable": false,
        "editable": false,
        "id": "HCEs_s1Ui55x",
        "nbgrader": {
          "cell_type": "markdown",
          "checksum": "d7718e3a47326103ebf692baa71d3bc9",
          "grade": false,
          "grade_id": "cell-a015128a3fa0ed8d",
          "locked": true,
          "schema_version": 3,
          "solution": false,
          "task": false
        }
      },
      "source": [
        "As usual, you can find all the gory details about lists in the [documentation](https://docs.python.org/3.7/tutorial/datastructures.html#more-on-lists)."
      ]
    },
    {
      "cell_type": "markdown",
      "metadata": {
        "deletable": false,
        "editable": false,
        "id": "ddYT7VKfi55x",
        "nbgrader": {
          "cell_type": "markdown",
          "checksum": "a6b9435a67e2a19fa5edeae95bca5725",
          "grade": false,
          "grade_id": "cell-547b907038385349",
          "locked": true,
          "schema_version": 3,
          "solution": false,
          "task": false
        }
      },
      "source": [
        "#### Slicing"
      ]
    },
    {
      "cell_type": "markdown",
      "metadata": {
        "deletable": false,
        "editable": false,
        "id": "oDnfAeTPi55x",
        "nbgrader": {
          "cell_type": "markdown",
          "checksum": "e4020808791bd78ab1071d272e6eba64",
          "grade": false,
          "grade_id": "cell-ee5148a00c4417ab",
          "locked": true,
          "schema_version": 3,
          "solution": false,
          "task": false
        }
      },
      "source": [
        "In addition to accessing list elements one at a time, Python provides concise syntax to access sublists; this is known as slicing:"
      ]
    },
    {
      "cell_type": "code",
      "execution_count": 77,
      "metadata": {
        "colab": {
          "base_uri": "https://localhost:8080/"
        },
        "id": "pm-LY14qi55x",
        "outputId": "c027e16b-5d90-432f-9054-538a24bf1ac8"
      },
      "outputs": [
        {
          "name": "stdout",
          "output_type": "stream",
          "text": [
            "[0, 1, 2, 3, 4]\n",
            "[2, 3]\n",
            "[2, 3, 4]\n",
            "[0, 1]\n",
            "[0, 1, 2, 3, 4]\n",
            "[0, 1, 2, 3]\n",
            "[0, 1, 8, 9, 4]\n"
          ]
        }
      ],
      "source": [
        "nums = list(range(5))  # range is a built-in function that creates a list of integers\n",
        "print(nums)  # Prints \"[0, 1, 2, 3, 4]\"\n",
        "print(nums[2:4])  # Get a slice from index 2 to 4 (exclusive); prints \"[2, 3]\"\n",
        "print(nums[2:])  # Get a slice from index 2 to the end; prints \"[2, 3, 4]\"\n",
        "print(nums[:2])  # Get a slice from the start to index 2 (exclusive); prints \"[0, 1]\"\n",
        "print(nums[:])  # Get a slice of the whole list; prints [\"0, 1, 2, 3, 4]\"\n",
        "print(nums[:-1])  # Slice indices can be negative; prints [\"0, 1, 2, 3]\"\n",
        "nums[2:4] = [8, 9]  # Assign a new sublist to a slice\n",
        "print(nums)  # Prints \"[0, 1, 8, 9, 4]\""
      ]
    },
    {
      "cell_type": "markdown",
      "metadata": {
        "deletable": false,
        "editable": false,
        "id": "eKC_GtuWi55y",
        "nbgrader": {
          "cell_type": "markdown",
          "checksum": "499878e9df18b7c1631ce18acc46fb53",
          "grade": false,
          "grade_id": "cell-d4a7dc32bbed9c9d",
          "locked": true,
          "schema_version": 3,
          "solution": false,
          "task": false
        }
      },
      "source": [
        "#### Loops\n",
        "\n",
        "You can loop over the elements of a list like this:"
      ]
    },
    {
      "cell_type": "code",
      "execution_count": 78,
      "metadata": {
        "colab": {
          "base_uri": "https://localhost:8080/"
        },
        "id": "DkmSRAShi55y",
        "outputId": "a9af83f7-7b5a-4f4d-cfc6-226dd72417be"
      },
      "outputs": [
        {
          "name": "stdout",
          "output_type": "stream",
          "text": [
            "cat\n",
            "dog\n",
            "monkey\n"
          ]
        }
      ],
      "source": [
        "animals = [\"cat\", \"dog\", \"monkey\"]\n",
        "for animal in animals:\n",
        "    print(animal)"
      ]
    },
    {
      "cell_type": "markdown",
      "metadata": {
        "id": "IXT-lo7Ei55y"
      },
      "source": [
        "If you want access to the index of each element within the body of a loop, use the built-in `enumerate` function:"
      ]
    },
    {
      "cell_type": "code",
      "execution_count": 79,
      "metadata": {
        "colab": {
          "base_uri": "https://localhost:8080/"
        },
        "id": "3SYHtRGWi55y",
        "outputId": "bfd720a3-3dee-444a-8294-b54981a9eb32"
      },
      "outputs": [
        {
          "name": "stdout",
          "output_type": "stream",
          "text": [
            "#1: cat\n",
            "#2: dog\n",
            "#3: monkey\n"
          ]
        }
      ],
      "source": [
        "animals = [\"cat\", \"dog\", \"monkey\"]\n",
        "for idx, animal in enumerate(animals):\n",
        "    print(\"#{}: {}\".format(idx + 1, animal))"
      ]
    },
    {
      "cell_type": "markdown",
      "metadata": {
        "deletable": false,
        "editable": false,
        "id": "UaKjxOXii55y",
        "nbgrader": {
          "cell_type": "markdown",
          "checksum": "86c6f7fe13cbd23235589198cc5dd60c",
          "grade": false,
          "grade_id": "cell-7e5ba131ac9b3c1d",
          "locked": true,
          "schema_version": 3,
          "solution": false,
          "task": false
        }
      },
      "source": [
        "#### List comprehensions:\n",
        "When programming, frequently we want to transform one type of data into another. As a simple example, consider the following code that computes square numbers:"
      ]
    },
    {
      "cell_type": "code",
      "execution_count": 80,
      "metadata": {
        "colab": {
          "base_uri": "https://localhost:8080/"
        },
        "id": "mGLm0b7ii55y",
        "outputId": "b88e9368-7d12-4cab-a0e4-0390aa1a8d4c"
      },
      "outputs": [
        {
          "name": "stdout",
          "output_type": "stream",
          "text": [
            "[0, 1, 4, 9, 16]\n"
          ]
        }
      ],
      "source": [
        "nums = [0, 1, 2, 3, 4]\n",
        "squares = []\n",
        "for x in nums:\n",
        "    squares.append(x**2)\n",
        "print(squares)"
      ]
    },
    {
      "cell_type": "markdown",
      "metadata": {
        "id": "KagoDajFi55y"
      },
      "source": [
        "You can make this code simpler using a list comprehension:"
      ]
    },
    {
      "cell_type": "code",
      "execution_count": 81,
      "metadata": {
        "colab": {
          "base_uri": "https://localhost:8080/"
        },
        "id": "0LQ-H_HWi55y",
        "outputId": "a468e97a-2532-45fd-e871-2fcf499f4e87"
      },
      "outputs": [
        {
          "name": "stdout",
          "output_type": "stream",
          "text": [
            "[0, 1, 4, 9, 16]\n"
          ]
        }
      ],
      "source": [
        "nums = [0, 1, 2, 3, 4]\n",
        "squares = [x**2 for x in nums]\n",
        "print(squares)"
      ]
    },
    {
      "cell_type": "markdown",
      "metadata": {
        "id": "a-5nENHai55y"
      },
      "source": [
        "List comprehensions can also contain conditions:"
      ]
    },
    {
      "cell_type": "code",
      "execution_count": 82,
      "metadata": {
        "colab": {
          "base_uri": "https://localhost:8080/"
        },
        "id": "y5K0aVqvi55y",
        "outputId": "62250a8d-6b41-45f0-8a23-202efdc0a421"
      },
      "outputs": [
        {
          "name": "stdout",
          "output_type": "stream",
          "text": [
            "[0, 4, 16]\n"
          ]
        }
      ],
      "source": [
        "nums = [0, 1, 2, 3, 4]\n",
        "even_squares = [x**2 for x in nums if x % 2 == 0]\n",
        "print(even_squares)"
      ]
    },
    {
      "cell_type": "markdown",
      "metadata": {
        "deletable": false,
        "editable": false,
        "id": "3idoHhIgi55y",
        "nbgrader": {
          "cell_type": "markdown",
          "checksum": "b7e7b9942d9dd7e2f925e4a50ca4acf5",
          "grade": false,
          "grade_id": "cell-42411258549847e8",
          "locked": true,
          "schema_version": 3,
          "solution": false,
          "task": false
        }
      },
      "source": [
        "#### Dictionaries\n",
        "\n",
        "A dictionary stores (key, value) pairs, similar to a `Map` in Java or an object in Javascript. You can use it like this:"
      ]
    },
    {
      "cell_type": "code",
      "execution_count": 83,
      "metadata": {
        "colab": {
          "base_uri": "https://localhost:8080/"
        },
        "id": "RU2iscaki55y",
        "outputId": "e97a934b-88ec-49eb-d2c4-9457c71cb156"
      },
      "outputs": [
        {
          "name": "stdout",
          "output_type": "stream",
          "text": [
            "cute\n",
            "True\n"
          ]
        }
      ],
      "source": [
        "d = {\"cat\": \"cute\", \"dog\": \"furry\"}  # Create a new dictionary with some data\n",
        "print(d[\"cat\"])  # Get an entry from a dictionary; prints \"cute\"\n",
        "print(\"cat\" in d)  # Check if a dictionary has a given key; prints \"True\""
      ]
    },
    {
      "cell_type": "code",
      "execution_count": 84,
      "metadata": {
        "colab": {
          "base_uri": "https://localhost:8080/"
        },
        "id": "GeeBesKyi55y",
        "outputId": "87ddbaa1-b118-483a-a07d-908009040781"
      },
      "outputs": [
        {
          "name": "stdout",
          "output_type": "stream",
          "text": [
            "wet\n"
          ]
        }
      ],
      "source": [
        "d[\"fish\"] = \"wet\"  # Set an entry in a dictionary\n",
        "print(d[\"fish\"])  # Prints \"wet\""
      ]
    },
    {
      "cell_type": "code",
      "execution_count": 85,
      "metadata": {
        "colab": {
          "base_uri": "https://localhost:8080/",
          "height": 144
        },
        "id": "67Yv8vBci55z",
        "outputId": "17bff09b-d48e-45c7-c129-0103550fe771"
      },
      "outputs": [
        {
          "ename": "KeyError",
          "evalue": "'monkey'",
          "output_type": "error",
          "traceback": [
            "\u001b[1;31m---------------------------------------------------------------------------\u001b[0m",
            "\u001b[1;31mKeyError\u001b[0m                                  Traceback (most recent call last)",
            "Cell \u001b[1;32mIn[85], line 1\u001b[0m\n\u001b[1;32m----> 1\u001b[0m \u001b[38;5;28mprint\u001b[39m(\u001b[43md\u001b[49m\u001b[43m[\u001b[49m\u001b[38;5;124;43m\"\u001b[39;49m\u001b[38;5;124;43mmonkey\u001b[39;49m\u001b[38;5;124;43m\"\u001b[39;49m\u001b[43m]\u001b[49m)\n",
            "\u001b[1;31mKeyError\u001b[0m: 'monkey'"
          ]
        }
      ],
      "source": [
        "print(d[\"monkey\"])  # KeyError: 'monkey' not a key of d"
      ]
    },
    {
      "cell_type": "code",
      "execution_count": null,
      "metadata": {
        "colab": {
          "base_uri": "https://localhost:8080/"
        },
        "id": "rXP9VI6Bi55z",
        "outputId": "a2c2c1e6-b0ba-4768-cd57-6ba504d511fa"
      },
      "outputs": [
        {
          "name": "stdout",
          "output_type": "stream",
          "text": [
            "N/A\n",
            "wet\n"
          ]
        }
      ],
      "source": [
        "print(d.get(\"monkey\", \"N/A\"))  # Get an element with a default; prints \"N/A\"\n",
        "print(d.get(\"fish\", \"N/A\"))  # Get an element with a default; prints \"wet\""
      ]
    },
    {
      "cell_type": "code",
      "execution_count": null,
      "metadata": {
        "colab": {
          "base_uri": "https://localhost:8080/"
        },
        "id": "N2hSWESzi55z",
        "outputId": "b64b31ad-200a-41c0-a8c8-1e65575761ec"
      },
      "outputs": [
        {
          "name": "stdout",
          "output_type": "stream",
          "text": [
            "N/A\n"
          ]
        }
      ],
      "source": [
        "del d[\"fish\"]  # Remove an element from a dictionary\n",
        "print(d.get(\"fish\", \"N/A\"))  # \"fish\" is no longer a key; prints \"N/A\""
      ]
    },
    {
      "cell_type": "markdown",
      "metadata": {
        "id": "gTsKxYHci55z"
      },
      "source": [
        "You can find all you need to know about dictionaries in the [documentation](https://docs.python.org/3/library/stdtypes.html#mapping-types-dict)."
      ]
    },
    {
      "cell_type": "markdown",
      "metadata": {
        "id": "erV-niAWi55z"
      },
      "source": [
        "It is easy to iterate over the keys in a dictionary:"
      ]
    },
    {
      "cell_type": "code",
      "execution_count": null,
      "metadata": {
        "colab": {
          "base_uri": "https://localhost:8080/"
        },
        "id": "RUfO2rcoi55z",
        "outputId": "87c6b6ad-6752-4f4d-d61d-da3bb17fe324"
      },
      "outputs": [
        {
          "name": "stdout",
          "output_type": "stream",
          "text": [
            "A person has 2 legs\n",
            "A cat has 4 legs\n",
            "A spider has 8 legs\n"
          ]
        }
      ],
      "source": [
        "d = {\"person\": 2, \"cat\": 4, \"spider\": 8}\n",
        "for animal, legs in d.items():\n",
        "    print(\"A {} has {} legs\".format(animal, legs))"
      ]
    },
    {
      "cell_type": "markdown",
      "metadata": {
        "id": "03U3MXNUi55z"
      },
      "source": [
        "Dictionary comprehensions: These are similar to list comprehensions, but allow you to easily construct dictionaries. For example:"
      ]
    },
    {
      "cell_type": "code",
      "execution_count": null,
      "metadata": {
        "colab": {
          "base_uri": "https://localhost:8080/"
        },
        "id": "dpF7PPtFi55z",
        "outputId": "4324f44a-cb23-48a1-ad75-123be58c1a9f"
      },
      "outputs": [
        {
          "name": "stdout",
          "output_type": "stream",
          "text": [
            "{0: 0, 2: 4, 4: 16}\n"
          ]
        }
      ],
      "source": [
        "nums = [0, 1, 2, 3, 4]\n",
        "even_num_to_square = {x: x**2 for x in nums if x % 2 == 0}\n",
        "print(even_num_to_square)"
      ]
    },
    {
      "cell_type": "markdown",
      "metadata": {
        "id": "Yt5ccM7Pi55z"
      },
      "source": [
        "#### Sets\n",
        "A set is an unordered collection of distinct elements. As a simple example, consider the following:"
      ]
    },
    {
      "cell_type": "code",
      "execution_count": null,
      "metadata": {
        "colab": {
          "base_uri": "https://localhost:8080/"
        },
        "id": "hsNwDwdni55z",
        "outputId": "fb169908-2040-481d-a3ea-4455aa74d0a0"
      },
      "outputs": [
        {
          "name": "stdout",
          "output_type": "stream",
          "text": [
            "True\n",
            "False\n"
          ]
        }
      ],
      "source": [
        "animals = {\"cat\", \"dog\"}\n",
        "print(\"cat\" in animals)  # Check if an element is in a set; prints \"True\"\n",
        "print(\"fish\" in animals)  # prints \"False\""
      ]
    },
    {
      "cell_type": "code",
      "execution_count": null,
      "metadata": {
        "colab": {
          "base_uri": "https://localhost:8080/"
        },
        "id": "6FxFEYK3i55z",
        "outputId": "2b1123ce-5012-4da2-c816-e9fa7d8f6f9f"
      },
      "outputs": [
        {
          "name": "stdout",
          "output_type": "stream",
          "text": [
            "True\n",
            "3\n"
          ]
        }
      ],
      "source": [
        "animals.add(\"fish\")  # Add an element to a set\n",
        "print(\"fish\" in animals)\n",
        "print(len(animals))  # Number of elements in a set;"
      ]
    },
    {
      "cell_type": "code",
      "execution_count": null,
      "metadata": {
        "colab": {
          "base_uri": "https://localhost:8080/"
        },
        "id": "ah5yEbtyi55z",
        "outputId": "e1f274de-b52d-4f43-c408-7cffb45d3072"
      },
      "outputs": [
        {
          "name": "stdout",
          "output_type": "stream",
          "text": [
            "3\n",
            "2\n"
          ]
        }
      ],
      "source": [
        "animals.add(\"cat\")  # Adding an element that is already in the set does nothing\n",
        "print(len(animals))\n",
        "animals.remove(\"cat\")  # Remove an element from a set\n",
        "print(len(animals))"
      ]
    },
    {
      "cell_type": "markdown",
      "metadata": {
        "id": "ZnNnKntpi55z"
      },
      "source": [
        "_Loops_: Iterating over a set has the same syntax as iterating over a list; however since sets are unordered, you cannot make assumptions about the order in which you visit the elements of the set:"
      ]
    },
    {
      "cell_type": "code",
      "execution_count": null,
      "metadata": {
        "colab": {
          "base_uri": "https://localhost:8080/"
        },
        "id": "lNGZvdkmi55z",
        "outputId": "36707322-1b11-4272-b705-d7b2820580b9"
      },
      "outputs": [
        {
          "name": "stdout",
          "output_type": "stream",
          "text": [
            "#1: dog\n",
            "#2: cat\n",
            "#3: fish\n"
          ]
        }
      ],
      "source": [
        "animals = {\"cat\", \"dog\", \"fish\"}\n",
        "for idx, animal in enumerate(animals):\n",
        "    print(\"#{}: {}\".format(idx + 1, animal))"
      ]
    },
    {
      "cell_type": "markdown",
      "metadata": {
        "id": "QF9DMuhVi55z"
      },
      "source": [
        "Set comprehensions: Like lists and dictionaries, we can easily construct sets using set comprehensions:"
      ]
    },
    {
      "cell_type": "code",
      "execution_count": null,
      "metadata": {
        "colab": {
          "base_uri": "https://localhost:8080/"
        },
        "id": "NsCmLZsni55z",
        "outputId": "ecfc2ec9-11f1-445f-832d-7d2ddedfb149"
      },
      "outputs": [
        {
          "name": "stdout",
          "output_type": "stream",
          "text": [
            "{0, 1, 2, 3, 4, 5}\n"
          ]
        }
      ],
      "source": [
        "from math import sqrt\n",
        "\n",
        "print({int(sqrt(x)) for x in range(30)})"
      ]
    },
    {
      "cell_type": "markdown",
      "metadata": {
        "id": "CldD2T0Ji550"
      },
      "source": [
        "#### Tuples\n",
        "\n",
        "A tuple is an (immutable) ordered list of values. A tuple is in many ways similar to a list; one of the most important differences is that tuples can be used as keys in dictionaries and as elements of sets, while lists cannot. Here is a trivial example:"
      ]
    },
    {
      "cell_type": "code",
      "execution_count": null,
      "metadata": {
        "colab": {
          "base_uri": "https://localhost:8080/"
        },
        "id": "3MXPTp-oi550",
        "outputId": "df070469-d9b8-4dea-ad6f-272af66242fa"
      },
      "outputs": [
        {
          "name": "stdout",
          "output_type": "stream",
          "text": [
            "<class 'tuple'>\n",
            "5\n",
            "1\n"
          ]
        }
      ],
      "source": [
        "d = {(x, x + 1): x for x in range(10)}  # Create a dictionary with tuple keys\n",
        "t = (5, 6)  # Create a tuple\n",
        "print(type(t))\n",
        "print(d[t])\n",
        "print(d[(1, 2)])"
      ]
    },
    {
      "cell_type": "code",
      "execution_count": null,
      "metadata": {
        "colab": {
          "base_uri": "https://localhost:8080/",
          "height": 144
        },
        "id": "a6FyoRq0i550",
        "outputId": "a67ea8ec-2975-412c-b9ba-388110beaed8"
      },
      "outputs": [
        {
          "ename": "TypeError",
          "evalue": "'tuple' object does not support item assignment",
          "output_type": "error",
          "traceback": [
            "\u001b[0;31m---------------------------------------------------------------------------\u001b[0m",
            "\u001b[0;31mTypeError\u001b[0m                                 Traceback (most recent call last)",
            "\u001b[0;32m<ipython-input-39-c8aeb8cd20ae>\u001b[0m in \u001b[0;36m<cell line: 1>\u001b[0;34m()\u001b[0m\n\u001b[0;32m----> 1\u001b[0;31m \u001b[0mt\u001b[0m\u001b[0;34m[\u001b[0m\u001b[0;36m0\u001b[0m\u001b[0;34m]\u001b[0m \u001b[0;34m=\u001b[0m \u001b[0;36m1\u001b[0m\u001b[0;34m\u001b[0m\u001b[0;34m\u001b[0m\u001b[0m\n\u001b[0m",
            "\u001b[0;31mTypeError\u001b[0m: 'tuple' object does not support item assignment"
          ]
        }
      ],
      "source": [
        "t[0] = 1"
      ]
    },
    {
      "cell_type": "markdown",
      "metadata": {
        "deletable": false,
        "editable": false,
        "id": "i9Am_wSri550",
        "nbgrader": {
          "cell_type": "markdown",
          "checksum": "5d046b0ecd34a89d335b5fa58bb6c3f7",
          "grade": false,
          "grade_id": "cell-c3eb7edad36dfe60",
          "locked": true,
          "schema_version": 3,
          "solution": false,
          "task": false
        }
      },
      "source": [
        "### Exercise 2: Word Tokenization and Converting Tokens to IDs (1.5 Points)\n",
        "\n",
        "When working with text data most Machine Learning / Deep Learning algorithms treat text as a sequence of smaller units, which are also called tokens. While there exists different levels of granularities on what constitutes as a token, for this homework we will focus on the classical approach of word tokenization i.e. the text is split into a sequence of words.\n",
        "\n",
        "E.g. ``` \"This is a sentence about to be word tokenized\" -> [\"This\", \"is\", \"a\", \"sentence\", \"about\", \"to\", \"be\", \"word\", \"tokenized\"]```\n",
        "\n",
        "Tokenization is usually followed by a step converting the tokens into a set of input ids. As you will learn during the course, machines do not have semantic knowledge of words built in, and learning algorithms treat these words as numbers identifying (IDs) each word or token. These IDs are typically assigned according to the index of a word in the vocabulary, which is a list of all unique words in the training corpus.\n",
        "\n",
        "E.g. For a vocabulary: ```vocab = [\"A\", a\", \"cat\", \"mat\", \"on\", \"sits\"]```, the sentence ```\"a cat sits on a mat\"``` with tokens ```[\"A\", \"cat\", \"sits\", \"on\", \"a\", \"mat\"]```, will get converted to the list of ids: ```[0, 2, 5, 4, 1, 3]```"
      ]
    },
    {
      "cell_type": "markdown",
      "metadata": {
        "deletable": false,
        "editable": false,
        "id": "ePMCTLlSi550",
        "nbgrader": {
          "cell_type": "markdown",
          "checksum": "c440bdebb4ccc25aa403ca183cdded9b",
          "grade": false,
          "grade_id": "cell-ec56531958f040d0",
          "locked": true,
          "schema_version": 3,
          "solution": false,
          "task": false
        }
      },
      "source": [
        "Below you will implement the necessary functionality to implement word tokenization and conversion of words into ids. Specifically you will implement three functions:\n",
        "\n",
        "- `word_tokenize` : Converts a text (represented as python string) into a sequence of words\n",
        "- `fit_vocab`: Constructs vocabulary i.e. list of unique tokens from a corpus (a list of text documents)\n",
        "- `convert_token_to_ids`: Converts a list of tokens to ids\n",
        "\n",
        "You will be using functionalities from different containers like lists, sets, and dictionaries, which you just learned. Like previous exercise, we recommend you to avoid using any external libraries to do this exercise to maximize your learning of the underlying concepts.\n",
        "\n",
        "**Important Note: Remove `raise NotImplementedError()` when you write your code in the functions**\n"
      ]
    },
    {
      "cell_type": "code",
      "execution_count": 86,
      "metadata": {
        "deletable": false,
        "id": "Y0sj_kdNi550",
        "nbgrader": {
          "cell_type": "code",
          "checksum": "47f2ab26e9829bfe2742a139abf9fc36",
          "grade": false,
          "grade_id": "cell-14520531a5c2169c",
          "locked": false,
          "schema_version": 3,
          "solution": true,
          "task": false
        }
      },
      "outputs": [],
      "source": [
        "def word_tokenize(text: str) -> list:\n",
        "    \"\"\"\n",
        "    Tokenize a text into words. You can assume that no punctuations are present in the text.\n",
        "\n",
        "    E.g.: \"we all live in a yellow submarine\" -> [\"we\", \"all\", \"live\", \"in\", \"a\", \"yellow\", \"submarine\"]\n",
        "\n",
        "    Input:\n",
        "        - text: string\n",
        "    Output:\n",
        "        - list of strings\n",
        "\n",
        "    \"\"\"\n",
        "    words = text\n",
        "    # YOUR CODE HERE\n",
        "    words = text.split()\n",
        "    return words"
      ]
    },
    {
      "cell_type": "code",
      "execution_count": 87,
      "metadata": {
        "colab": {
          "base_uri": "https://localhost:8080/"
        },
        "deletable": false,
        "editable": false,
        "id": "fJi1LvSXi550",
        "nbgrader": {
          "cell_type": "code",
          "checksum": "f6a0c92bb70c6c6f9ec4963ae4c9ac84",
          "grade": true,
          "grade_id": "cell-da4dc5898efa830f",
          "locked": true,
          "points": 0.5,
          "schema_version": 3,
          "solution": false,
          "task": false
        },
        "outputId": "97bce754-ee8d-45bf-b938-49d1fe12359f"
      },
      "outputs": [
        {
          "name": "stdout",
          "output_type": "stream",
          "text": [
            "All tests pass\n"
          ]
        }
      ],
      "source": [
        "def test_word_tokenize():\n",
        "    assert word_tokenize(\"we all live in a yellow submarine\") == [\n",
        "        \"we\",\n",
        "        \"all\",\n",
        "        \"live\",\n",
        "        \"in\",\n",
        "        \"a\",\n",
        "        \"yellow\",\n",
        "        \"submarine\",\n",
        "    ]\n",
        "    assert word_tokenize(\"This is a sentence about to be word tokenized?\") == [\n",
        "        \"This\",\n",
        "        \"is\",\n",
        "        \"a\",\n",
        "        \"sentence\",\n",
        "        \"about\",\n",
        "        \"to\",\n",
        "        \"be\",\n",
        "        \"word\",\n",
        "        \"tokenized?\",\n",
        "    ]\n",
        "    print(\"All tests pass\")\n",
        "\n",
        "\n",
        "test_word_tokenize()"
      ]
    },
    {
      "cell_type": "code",
      "execution_count": 88,
      "metadata": {
        "deletable": false,
        "id": "544Y3aXBi550",
        "nbgrader": {
          "cell_type": "code",
          "checksum": "3e30e605d8264621d5e84c0e3568f13a",
          "grade": false,
          "grade_id": "cell-e2f0d372919b87c4",
          "locked": false,
          "schema_version": 3,
          "solution": true,
          "task": false
        }
      },
      "outputs": [],
      "source": [
        "def fit_vocab(corpus):\n",
        "    \"\"\"\n",
        "    Creates a vocabulary from a corpus i.e. a list of documents.\n",
        "\n",
        "\n",
        "    Input:\n",
        "        - corpus: list of strings\n",
        "    Output:\n",
        "        - List of unique words in the corpus (sorted in alphabetical order)\n",
        "        - Dictionary mapping each word to its index in the vocabulary\n",
        "\n",
        "    Important: Remember to sort the vocabulary before using it to construct the dictionary mapping\n",
        "    \"\"\"\n",
        "\n",
        "    vocab = None\n",
        "    word_to_idx = None\n",
        "\n",
        "    # YOUR CODE HERE\n",
        "    vocab = set()\n",
        "    for text in corpus:\n",
        "        for word in word_tokenize(text):\n",
        "            vocab.add(word)\n",
        "    vocab = sorted(list(vocab))\n",
        "    word_to_idx = {word: idx for idx, word in enumerate(vocab)}\n",
        "\n",
        "    return vocab, word_to_idx"
      ]
    },
    {
      "cell_type": "code",
      "execution_count": 89,
      "metadata": {
        "colab": {
          "base_uri": "https://localhost:8080/"
        },
        "deletable": false,
        "editable": false,
        "id": "eAm9h2Aai550",
        "nbgrader": {
          "cell_type": "code",
          "checksum": "fe6cf792e05ad9dd838ff2362e22dc2f",
          "grade": true,
          "grade_id": "cell-da20f6bfa22f808b",
          "locked": true,
          "points": 0.5,
          "schema_version": 3,
          "solution": false,
          "task": false
        },
        "outputId": "a8b05776-8fac-4d0c-82e7-8c756daef1d5"
      },
      "outputs": [
        {
          "name": "stdout",
          "output_type": "stream",
          "text": [
            "All tests pass\n"
          ]
        }
      ],
      "source": [
        "def test_fit_vocab():\n",
        "    corpus = [\n",
        "        \"We all live in a yellow submarine\",\n",
        "        \"I am the walrus\",\n",
        "        \"Yellow Submarine\",\n",
        "    ]\n",
        "    vocab, word_to_idx = fit_vocab(corpus)\n",
        "    assert vocab == [\n",
        "        \"I\",\n",
        "        \"Submarine\",\n",
        "        \"We\",\n",
        "        \"Yellow\",\n",
        "        \"a\",\n",
        "        \"all\",\n",
        "        \"am\",\n",
        "        \"in\",\n",
        "        \"live\",\n",
        "        \"submarine\",\n",
        "        \"the\",\n",
        "        \"walrus\",\n",
        "        \"yellow\",\n",
        "    ]\n",
        "    assert word_to_idx == {\n",
        "        \"I\": 0,\n",
        "        \"Submarine\": 1,\n",
        "        \"We\": 2,\n",
        "        \"Yellow\": 3,\n",
        "        \"a\": 4,\n",
        "        \"all\": 5,\n",
        "        \"am\": 6,\n",
        "        \"in\": 7,\n",
        "        \"live\": 8,\n",
        "        \"submarine\": 9,\n",
        "        \"the\": 10,\n",
        "        \"walrus\": 11,\n",
        "        \"yellow\": 12,\n",
        "    }\n",
        "\n",
        "    print(\"All tests pass\")\n",
        "\n",
        "\n",
        "test_fit_vocab()"
      ]
    },
    {
      "cell_type": "code",
      "execution_count": 90,
      "metadata": {
        "deletable": false,
        "id": "IoXP_Rrti550",
        "nbgrader": {
          "cell_type": "code",
          "checksum": "e2883635483850bd5ba6f4648b81ad20",
          "grade": false,
          "grade_id": "cell-437d01662d031940",
          "locked": false,
          "schema_version": 3,
          "solution": true,
          "task": false
        }
      },
      "outputs": [],
      "source": [
        "def convert_tokens_to_ids(tokens, word_to_idx):\n",
        "    \"\"\"\n",
        "    Convert a list of tokens to a list of token ids using the word_to_idx dictionary.\n",
        "\n",
        "    Input:\n",
        "        - tokens: list of strings\n",
        "        - word_to_idx: dictionary mapping words to their ids\n",
        "    Output:\n",
        "        - list of integers\n",
        "    \"\"\"\n",
        "\n",
        "    token_ids = None\n",
        "    # YOUR CODE HERE\n",
        "    token_ids = [word_to_idx[token] for token in tokens]\n",
        "    return token_ids"
      ]
    },
    {
      "cell_type": "code",
      "execution_count": 91,
      "metadata": {
        "colab": {
          "base_uri": "https://localhost:8080/"
        },
        "deletable": false,
        "editable": false,
        "id": "daCBM0HDi550",
        "nbgrader": {
          "cell_type": "code",
          "checksum": "4a5632641c6ad0cb0532362dbec0d42d",
          "grade": true,
          "grade_id": "cell-1c0ee37757d295c9",
          "locked": true,
          "points": 0.5,
          "schema_version": 3,
          "solution": false,
          "task": false
        },
        "outputId": "ff32860a-875f-40f4-f46c-58a74c437f5f"
      },
      "outputs": [
        {
          "name": "stdout",
          "output_type": "stream",
          "text": [
            "All tests pass\n"
          ]
        }
      ],
      "source": [
        "def test_convert_tokens_to_ids():\n",
        "    word_to_idx = {\n",
        "        \"I\": 0,\n",
        "        \"Submarine\": 1,\n",
        "        \"We\": 2,\n",
        "        \"Yellow\": 3,\n",
        "        \"a\": 4,\n",
        "        \"all\": 5,\n",
        "        \"am\": 6,\n",
        "        \"in\": 7,\n",
        "        \"live\": 8,\n",
        "        \"submarine\": 9,\n",
        "        \"the\": 10,\n",
        "        \"walrus\": 11,\n",
        "        \"yellow\": 12,\n",
        "    }\n",
        "    tokens = [\"We\", \"all\", \"live\", \"in\", \"a\", \"yellow\", \"submarine\"]\n",
        "    assert convert_tokens_to_ids(tokens, word_to_idx) == [2, 5, 8, 7, 4, 12, 9]\n",
        "    print(\"All tests pass\")\n",
        "\n",
        "\n",
        "test_convert_tokens_to_ids()"
      ]
    },
    {
      "cell_type": "markdown",
      "metadata": {
        "deletable": false,
        "editable": false,
        "id": "egOE3vSUi550",
        "nbgrader": {
          "cell_type": "markdown",
          "checksum": "a3e392b584141681e60c3e69675dad76",
          "grade": false,
          "grade_id": "cell-2a56324d8ad9e739",
          "locked": true,
          "schema_version": 3,
          "solution": false,
          "task": false
        }
      },
      "source": [
        "### Classes\n",
        "\n",
        "The syntax for defining classes in Python is straightforward:"
      ]
    },
    {
      "cell_type": "code",
      "execution_count": 92,
      "metadata": {
        "colab": {
          "base_uri": "https://localhost:8080/"
        },
        "id": "CPyMERwBi551",
        "outputId": "2b898996-ee17-4dce-9ce4-b61e1bf86b36"
      },
      "outputs": [
        {
          "name": "stdout",
          "output_type": "stream",
          "text": [
            "Hello, Fred!\n",
            "HELLO, FRED\n"
          ]
        }
      ],
      "source": [
        "class Greeter:\n",
        "\n",
        "    # Constructor\n",
        "    def __init__(self, name):\n",
        "        self.name = name  # Create an instance variable\n",
        "\n",
        "    # Instance method\n",
        "    def greet(self, loud=False):\n",
        "        if loud:\n",
        "            print(\"HELLO, {}\".format(self.name.upper()))\n",
        "        else:\n",
        "            print(\"Hello, {}!\".format(self.name))\n",
        "\n",
        "\n",
        "g = Greeter(\"Fred\")  # Construct an instance of the Greeter class\n",
        "g.greet()  # Call an instance method; prints \"Hello, Fred\"\n",
        "g.greet(loud=True)  # Call an instance method; prints \"HELLO, FRED!\""
      ]
    },
    {
      "cell_type": "markdown",
      "metadata": {
        "deletable": false,
        "editable": false,
        "id": "rZXEXAl5i551",
        "nbgrader": {
          "cell_type": "markdown",
          "checksum": "3089c5a4eab41b4467128cf5f1c086bf",
          "grade": false,
          "grade_id": "cell-b61193214c639611",
          "locked": true,
          "schema_version": 3,
          "solution": false,
          "task": false
        }
      },
      "source": [
        "### Exercise 3: Implementing the Full Tokenization Pipeline from Scratch (1.5 Points)\n",
        "\n",
        "We will now take everything we learned to implement a typical tokenization pipeline very similar to the one used in [Hugging Face Transformers library](https://huggingface.co/docs/tokenizers/en/pipeline). In particular, you will implement the class `WordTokenizer` with the following methods:\n",
        "\n",
        "- `normalizer`: Applies the text processing techniques to the input text (we will use the same 3 techniques we implemented before; we use a different terminology i.e. normalizer instead of processing to be close to the huggingface naming convention)\n",
        "- `tokenize`: Splits the text into a list of words\n",
        "- `convert_tokens_to_ids`: Converts a list of tokens to a list of ids\n",
        "- `convert_ids_to_tokens`: Converts a list of ids to a list of tokens\n",
        "- `encode`: Applies `tokenize` and `convert_tokens_to_ids` methods in succession to an input text\n",
        "- `decode`: Converts the list of ids back to the text form\n",
        "- `train`: Trains the tokenizer, which for the word tokenizer means simply fitting the vocabulary over the corpus\n",
        "  \n",
        "**Important Note: Remove `raise NotImplementedError()` when you write your code in the functions**"
      ]
    },
    {
      "cell_type": "code",
      "execution_count": 93,
      "metadata": {
        "deletable": false,
        "id": "yftk6uqCi551",
        "nbgrader": {
          "cell_type": "code",
          "checksum": "eee7f6e00c30d4da389669e694b37a41",
          "grade": false,
          "grade_id": "cell-66b4de2616f3e708",
          "locked": false,
          "schema_version": 3,
          "solution": true,
          "task": false
        }
      },
      "outputs": [],
      "source": [
        "class WordTokenizer:\n",
        "\n",
        "    def __init__(self):\n",
        "        \"\"\"\n",
        "        Constructor for the WordTokenizer class.\n",
        "\n",
        "        Initialize `vocab` attribute as an empty list and `word_to_idx` attribute as an empty dictionary.\n",
        "        \"\"\"\n",
        "\n",
        "        # YOUR CODE HERE\n",
        "        self.vocab = []\n",
        "        self.word_to_idx = {}\n",
        "\n",
        "    def normalizer(self, text):\n",
        "        \"\"\"\n",
        "        Normalizes the input text by converting it to lowercase, removing extra spaces, and removing punctuations.\n",
        "\n",
        "        Input:\n",
        "            - text: string\n",
        "        Output:\n",
        "            - string\n",
        "\n",
        "        \"\"\"\n",
        "\n",
        "        normalized_text = to_lowercase(remove_extra_spaces(remove_punctuations(text)))\n",
        "        # YOUR CODE HERE\n",
        "        return normalized_text\n",
        "\n",
        "    def tokenize(self, text):\n",
        "        \"\"\"\n",
        "        Tokenizes the input text into words.\n",
        "\n",
        "        Input:\n",
        "            - text: string\n",
        "        Output:\n",
        "            - list of strings\n",
        "\n",
        "        \"\"\"\n",
        "\n",
        "        tokens = None\n",
        "        # YOUR CODE HERE\n",
        "        tokens = word_tokenize(text)\n",
        "        return tokens\n",
        "\n",
        "    def convert_tokens_to_ids(self, tokens):\n",
        "        \"\"\"\n",
        "        Convert a list of tokens to a list of token ids using the word_to_idx dictionary.\n",
        "\n",
        "        Input:\n",
        "            - tokens: list of strings\n",
        "        Output:\n",
        "            - list of integers\n",
        "\n",
        "        \"\"\"\n",
        "\n",
        "        # Throw an error if the word_to_idx dictionary is empty\n",
        "        if not self.word_to_idx:\n",
        "            raise ValueError(\"Tokenizer has not been fit on a vocabulary yet. Call `train` method with a corpus first!\")\n",
        "\n",
        "        token_ids = None\n",
        "        # YOUR CODE HERE\n",
        "        token_ids = convert_tokens_to_ids(tokens, self.word_to_idx)\n",
        "        return token_ids\n",
        "\n",
        "    def convert_ids_to_tokens(self, token_ids):\n",
        "        \"\"\"\n",
        "        Convert a list of token ids to a list of tokens using the idx_to_word dictionary.\n",
        "\n",
        "        Input:\n",
        "            - token_ids: list of integers\n",
        "        Output:\n",
        "            - list of strings\n",
        "\n",
        "        \"\"\"\n",
        "\n",
        "        # Throw an error if the vocabulary is empty\n",
        "        if self.vocab == []:\n",
        "            raise ValueError(\"Tokenizer has not been fit on a vocabulary yet. Call `train` method with a corpus first!\")\n",
        "\n",
        "        tokens = None\n",
        "        # YOUR CODE HERE\n",
        "        tokens = [self.vocab[token] for token in token_ids]\n",
        "        return tokens\n",
        "\n",
        "    def encode(self, text):\n",
        "        \"\"\"\n",
        "        Encodes the input text into token ids. Do not forget to normalize the text before tokenizing it.\n",
        "\n",
        "        Input:\n",
        "            - text: string\n",
        "        Output:\n",
        "            - list of integers\n",
        "\n",
        "        \"\"\"\n",
        "\n",
        "        token_ids = None\n",
        "        # YOUR CODE HERE\n",
        "        text = self.normalizer(text)\n",
        "        token_ids = convert_tokens_to_ids(self.tokenize(text), self.word_to_idx)\n",
        "        return token_ids\n",
        "\n",
        "    def decode(self, token_ids):\n",
        "        \"\"\"\n",
        "        Decodes the input token ids into text.\n",
        "\n",
        "        Input:\n",
        "            - token_ids: list of integers\n",
        "        Output:\n",
        "            - string\n",
        "\n",
        "        \"\"\"\n",
        "        text = None\n",
        "        # YOUR CODE HERE\n",
        "        text = \" \".join(self.convert_ids_to_tokens(token_ids))\n",
        "        return text\n",
        "\n",
        "    def train(self, corpus):\n",
        "        \"\"\"\n",
        "        Trains the tokenizer on a corpus i.e. a list of documents, filling in values of `self.vocab` and `self.word_to_idx`.\n",
        "\n",
        "        Input:\n",
        "            - corpus: list of strings\n",
        "\n",
        "        Note: Do not forget to normalize the text before tokenizing it.\n",
        "        \"\"\"\n",
        "        \n",
        "\n",
        "        # YOUR CODE HERE\n",
        "        corpus = [self.normalizer(text) for text in corpus]\n",
        "        self.vocab, self.word_to_idx = fit_vocab(corpus)\n"
      ]
    },
    {
      "cell_type": "code",
      "execution_count": 94,
      "metadata": {
        "deletable": false,
        "editable": false,
        "id": "r103d7J-i551",
        "nbgrader": {
          "cell_type": "code",
          "checksum": "b68f4d1c7662cf791ab02f75e1388c62",
          "grade": true,
          "grade_id": "cell-65defcf000eeba30",
          "locked": true,
          "points": 1.5,
          "schema_version": 3,
          "solution": false,
          "task": false
        }
      },
      "outputs": [
        {
          "name": "stdout",
          "output_type": "stream",
          "text": [
            "All tests pass\n"
          ]
        }
      ],
      "source": [
        "def test_WordTokenizer():\n",
        "    tokenizer = WordTokenizer()\n",
        "    corpus = [\n",
        "        \"We all live in a yellow submarine\",\n",
        "        \"I am the walrus\",\n",
        "        \"Yellow Submarine\",\n",
        "    ]\n",
        "    tokenizer.train(corpus)\n",
        "    token_ids = tokenizer.encode(\"We all live in a yellow submarine\")\n",
        "\n",
        "    assert token_ids == [9, 1, 5, 4, 0, 10, 6]\n",
        "\n",
        "    text = tokenizer.decode(token_ids)\n",
        "    assert text == \"we all live in a yellow submarine\"\n",
        "\n",
        "    print(\"All tests pass\")\n",
        "\n",
        "\n",
        "test_WordTokenizer()"
      ]
    },
    {
      "cell_type": "markdown",
      "metadata": {
        "id": "QDk6gF89i551"
      },
      "source": [
        "## Part 2: Pytorch\n",
        "\n",
        "Some tutorial content has been adapted from Stanford's CS224N PyTorch Tutorial and from Assignment 0 of CSE 517 (Winter 2024)."
      ]
    },
    {
      "cell_type": "markdown",
      "metadata": {
        "id": "XVmR8_sEi551"
      },
      "source": [
        "### Introduction\n",
        "[PyTorch](https://pytorch.org/) is a deep learning framework, one of the two main frameworks alongside [TensorFlow](https://www.tensorflow.org/).\n",
        "Let's start by installing and importing PyTorch:"
      ]
    },
    {
      "cell_type": "code",
      "execution_count": null,
      "metadata": {
        "id": "OlH9BC49i551"
      },
      "outputs": [],
      "source": [
        "!pip install torch"
      ]
    },
    {
      "cell_type": "code",
      "execution_count": 3,
      "metadata": {
        "id": "kSama5Q6i551"
      },
      "outputs": [],
      "source": [
        "import torch\n",
        "import torch.nn as nn"
      ]
    },
    {
      "cell_type": "markdown",
      "metadata": {
        "id": "6X6vv8nyi551"
      },
      "source": [
        "Tensors\n",
        "\n",
        "This part is adapted from Stanford's CS224N PyTorch Tutorial\n",
        "\n",
        "**Tensors** are PyTorch's most basic building block. Each tensor is a multi-dimensional matrix; for example, a 256x256 square image might be represented by a `3x256x256` tensor, where the first dimension represents color. Here's how to create a tensor from a python list:"
      ]
    },
    {
      "cell_type": "code",
      "execution_count": 96,
      "metadata": {
        "id": "ALHGL_F1i551"
      },
      "outputs": [
        {
          "name": "stdout",
          "output_type": "stream",
          "text": [
            "[[1, 2, 3], [4, 5, 6]]\n"
          ]
        }
      ],
      "source": [
        "list_of_lists = [\n",
        "    [1, 2, 3],\n",
        "    [4, 5, 6],\n",
        "]\n",
        "\n",
        "# This is just a normal python list\n",
        "print(list_of_lists)"
      ]
    },
    {
      "cell_type": "code",
      "execution_count": 97,
      "metadata": {
        "id": "8p_gEcr7i551"
      },
      "outputs": [
        {
          "name": "stdout",
          "output_type": "stream",
          "text": [
            "tensor([[1, 2, 3],\n",
            "        [4, 5, 6]])\n"
          ]
        }
      ],
      "source": [
        "# And now we make a PyTorch tensor with the same data\n",
        "data = torch.tensor(list_of_lists)\n",
        "print(data)"
      ]
    },
    {
      "cell_type": "code",
      "execution_count": 98,
      "metadata": {
        "id": "OsWro2RJi551"
      },
      "outputs": [
        {
          "name": "stdout",
          "output_type": "stream",
          "text": [
            "tensor([[0, 1],\n",
            "        [2, 3],\n",
            "        [4, 5]])\n"
          ]
        }
      ],
      "source": [
        "# We can, of course, create the tensor directly from a list (of lists)\n",
        "data = torch.tensor(\n",
        "    [\n",
        "        [0, 1],\n",
        "        [2, 3],\n",
        "        [4, 5],\n",
        "    ]\n",
        ")\n",
        "print(data)"
      ]
    },
    {
      "cell_type": "code",
      "execution_count": 99,
      "metadata": {
        "id": "9LYj1OaUi551"
      },
      "outputs": [
        {
          "ename": "ValueError",
          "evalue": "expected sequence of length 2 at dim 1 (got 3)",
          "output_type": "error",
          "traceback": [
            "\u001b[1;31m---------------------------------------------------------------------------\u001b[0m",
            "\u001b[1;31mValueError\u001b[0m                                Traceback (most recent call last)",
            "Cell \u001b[1;32mIn[99], line 2\u001b[0m\n\u001b[0;32m      1\u001b[0m \u001b[38;5;66;03m# ValueError: tensors cannot have different lengths at different indices\u001b[39;00m\n\u001b[1;32m----> 2\u001b[0m \u001b[43mtorch\u001b[49m\u001b[38;5;241;43m.\u001b[39;49m\u001b[43mtensor\u001b[49m\u001b[43m(\u001b[49m\n\u001b[0;32m      3\u001b[0m \u001b[43m    \u001b[49m\u001b[43m[\u001b[49m\n\u001b[0;32m      4\u001b[0m \u001b[43m        \u001b[49m\u001b[43m[\u001b[49m\u001b[38;5;241;43m0\u001b[39;49m\u001b[43m,\u001b[49m\u001b[43m \u001b[49m\u001b[38;5;241;43m1\u001b[39;49m\u001b[43m]\u001b[49m\u001b[43m,\u001b[49m\n\u001b[0;32m      5\u001b[0m \u001b[43m        \u001b[49m\u001b[43m[\u001b[49m\u001b[38;5;241;43m2\u001b[39;49m\u001b[43m,\u001b[49m\u001b[43m \u001b[49m\u001b[38;5;241;43m3\u001b[39;49m\u001b[43m,\u001b[49m\u001b[43m \u001b[49m\u001b[38;5;241;43m4\u001b[39;49m\u001b[43m]\u001b[49m\u001b[43m,\u001b[49m\n\u001b[0;32m      6\u001b[0m \u001b[43m    \u001b[49m\u001b[43m]\u001b[49m\n\u001b[0;32m      7\u001b[0m \u001b[43m)\u001b[49m\n",
            "\u001b[1;31mValueError\u001b[0m: expected sequence of length 2 at dim 1 (got 3)"
          ]
        }
      ],
      "source": [
        "# ValueError: tensors cannot have different lengths at different indices\n",
        "torch.tensor(\n",
        "    [\n",
        "        [0, 1],\n",
        "        [2, 3, 4],\n",
        "    ]\n",
        ")"
      ]
    },
    {
      "cell_type": "markdown",
      "metadata": {
        "id": "TAlMCYvli552"
      },
      "source": [
        "Each tensor has a **data type**: the major data types you'll need to worry about are floats (`torch.float32`) and integers (`torch.int`). You can specify the data type explicitly when you create the tensor, or it can be determined implicitly based on the provided data."
      ]
    },
    {
      "cell_type": "code",
      "execution_count": 100,
      "metadata": {
        "id": "l9hGwZ0xi552"
      },
      "outputs": [
        {
          "name": "stdout",
          "output_type": "stream",
          "text": [
            "tensor([[0., 1.],\n",
            "        [2., 3.],\n",
            "        [4., 5.]])\n"
          ]
        }
      ],
      "source": [
        "# Initializing a tensor with an explicit data type\n",
        "# Notice the dots after the numbers in the output, which specify that they're floats\n",
        "data = torch.tensor(\n",
        "    [\n",
        "        [0, 1],\n",
        "        [2, 3],\n",
        "        [4, 5],\n",
        "    ],\n",
        "    dtype=torch.float32,\n",
        ")\n",
        "print(data)"
      ]
    },
    {
      "cell_type": "code",
      "execution_count": 101,
      "metadata": {
        "id": "-2TM6BTpi552"
      },
      "outputs": [
        {
          "name": "stdout",
          "output_type": "stream",
          "text": [
            "tensor([[0.1111, 1.0000],\n",
            "        [2.0000, 3.0000],\n",
            "        [4.0000, 5.0000]]) torch.float32\n"
          ]
        }
      ],
      "source": [
        "# Initializing a tensor with an implicit data type\n",
        "# Notice the dots after the numbers, which specify that they're floats\n",
        "data = torch.tensor(\n",
        "    [\n",
        "        [0.11111111, 1],\n",
        "        [2, 3],\n",
        "        [4, 5],\n",
        "    ]\n",
        ")\n",
        "print(data, data.dtype)"
      ]
    },
    {
      "cell_type": "code",
      "execution_count": 102,
      "metadata": {
        "id": "iUZkFMimi552"
      },
      "outputs": [
        {
          "name": "stdout",
          "output_type": "stream",
          "text": [
            "tensor([[0, 1],\n",
            "        [2, 3],\n",
            "        [4, 5]]) torch.int64\n"
          ]
        }
      ],
      "source": [
        "# Contrast that to this version, which contains ints\n",
        "data = torch.tensor(\n",
        "    [\n",
        "        [0, 1],\n",
        "        [2, 3],\n",
        "        [4, 5],\n",
        "    ]\n",
        ")\n",
        "print(data, data.dtype)"
      ]
    },
    {
      "cell_type": "markdown",
      "metadata": {
        "id": "IvIRhyvqi552"
      },
      "source": [
        "From here on out, for brevity, we frequently use the behavior of a Jupyter Notebook display the value of the last line of a cell.\n",
        "\n",
        "Note that tensors are more flexible than just matrices, being able to have any number of dimensions.\n",
        "\n",
        "Utility functions also exist to create tensors with given shapes and contents:"
      ]
    },
    {
      "cell_type": "code",
      "execution_count": 103,
      "metadata": {
        "id": "gpVm1lLbi552"
      },
      "outputs": [
        {
          "data": {
            "text/plain": [
              "tensor([[0., 0., 0., 0., 0.],\n",
              "        [0., 0., 0., 0., 0.]])"
            ]
          },
          "execution_count": 103,
          "metadata": {},
          "output_type": "execute_result"
        }
      ],
      "source": [
        "torch.zeros(2, 5)  # a tensor of all zeros"
      ]
    },
    {
      "cell_type": "code",
      "execution_count": 104,
      "metadata": {
        "id": "sb_LjUbei552"
      },
      "outputs": [
        {
          "data": {
            "text/plain": [
              "tensor([[1., 1., 1., 1.],\n",
              "        [1., 1., 1., 1.],\n",
              "        [1., 1., 1., 1.]])"
            ]
          },
          "execution_count": 104,
          "metadata": {},
          "output_type": "execute_result"
        }
      ],
      "source": [
        "torch.ones(3, 4)  # a tensor of all ones"
      ]
    },
    {
      "cell_type": "code",
      "execution_count": 105,
      "metadata": {
        "id": "uvU4Recji552"
      },
      "outputs": [
        {
          "data": {
            "text/plain": [
              "tensor([[0.0202, 0.9506, 0.8732],\n",
              "        [0.6783, 0.7848, 0.8923],\n",
              "        [0.6374, 0.6257, 0.1092]])"
            ]
          },
          "execution_count": 105,
          "metadata": {},
          "output_type": "execute_result"
        }
      ],
      "source": [
        "torch.rand(3, 3)  # a tensor with random numbers within (0,1)"
      ]
    },
    {
      "cell_type": "code",
      "execution_count": 106,
      "metadata": {
        "id": "qfm8leQii552"
      },
      "outputs": [
        {
          "name": "stdout",
          "output_type": "stream",
          "text": [
            "tensor([1, 2, 3, 4, 5, 6, 7, 8, 9])\n"
          ]
        }
      ],
      "source": [
        "rr = torch.arange(1, 10)  # range from [1, 10)\n",
        "print(rr)"
      ]
    },
    {
      "cell_type": "markdown",
      "metadata": {
        "id": "7Vpu5IFHi552"
      },
      "source": [
        "Mathematical operations can be used with tensors fairly flexibly. Operations involving a tensor and a number are easy to reason with, while operations involving tensors require them to have compatible shapes."
      ]
    },
    {
      "cell_type": "code",
      "execution_count": 107,
      "metadata": {
        "id": "FGY8dlxvi552"
      },
      "outputs": [
        {
          "name": "stdout",
          "output_type": "stream",
          "text": [
            "tensor([ 3,  4,  5,  6,  7,  8,  9, 10, 11])\n",
            "tensor([ 2,  4,  6,  8, 10, 12, 14, 16, 18])\n",
            "tensor([ 1,  4,  9, 16, 25, 36, 49, 64, 81])\n",
            "tensor([1, 2, 0, 1, 2, 0, 1, 2, 0])\n"
          ]
        }
      ],
      "source": [
        "print(rr + 2)\n",
        "print(rr * 2)\n",
        "print(rr**2)\n",
        "print(rr % 3)"
      ]
    },
    {
      "cell_type": "code",
      "execution_count": 108,
      "metadata": {
        "id": "5y03dGvTi552"
      },
      "outputs": [
        {
          "name": "stdout",
          "output_type": "stream",
          "text": [
            "A is tensor([[1, 2],\n",
            "        [2, 3],\n",
            "        [4, 5]])\n",
            "B is tensor([[1, 2, 3, 4],\n",
            "        [5, 6, 7, 8]])\n",
            "a.matmul(b) is tensor([[11, 14, 17, 20],\n",
            "        [17, 22, 27, 32],\n",
            "        [29, 38, 47, 56]])\n",
            "a @ b is tensor([[11, 14, 17, 20],\n",
            "        [17, 22, 27, 32],\n",
            "        [29, 38, 47, 56]])\n"
          ]
        }
      ],
      "source": [
        "a = torch.tensor([[1, 2], [2, 3], [4, 5]])  # (3, 2)\n",
        "b = torch.tensor([[1, 2, 3, 4], [5, 6, 7, 8]])  # (2, 4)  (3, 4)\n",
        "\n",
        "print(\"A is\", a)\n",
        "print(\"B is\", b)\n",
        "\n",
        "# a.matmul(b) and a@b do the same thing -- matrix multiply\n",
        "print(\"a.matmul(b) is\", a.matmul(b))\n",
        "print(\"a @ b is\", a @ b)"
      ]
    },
    {
      "cell_type": "markdown",
      "metadata": {
        "id": "qbdNVGUoi552"
      },
      "source": [
        "We can also compute **inverse** of a square matrix in pytorch"
      ]
    },
    {
      "cell_type": "code",
      "execution_count": 109,
      "metadata": {
        "id": "MwM3MvWji552"
      },
      "outputs": [
        {
          "name": "stdout",
          "output_type": "stream",
          "text": [
            "A is tensor([[-0.6422,  0.9027,  2.5695, -0.1949],\n",
            "        [ 0.7295,  0.9331, -1.2526, -0.8328],\n",
            "        [-0.0088, -0.5572, -1.9768, -1.3940],\n",
            "        [-0.3536,  0.2622,  0.4919, -1.0026]])\n",
            "Ainv is tensor([[-8.2242, -0.0343, -7.6255, 12.2292],\n",
            "        [ 4.5985,  0.7939,  3.7800, -6.8088],\n",
            "        [-3.0855, -0.2813, -3.0692,  5.1006],\n",
            "        [ 2.5892,  0.0817,  2.1720, -4.5884]])\n",
            "A @ Ainv is tensor([[ 1.0000e+00,  2.9802e-07,  7.1526e-07, -1.9073e-06],\n",
            "        [-4.7684e-07,  1.0000e+00, -4.7684e-07,  1.4305e-06],\n",
            "        [ 0.0000e+00, -1.7881e-07,  1.0000e+00,  9.5367e-07],\n",
            "        [ 1.1921e-07,  7.4506e-08,  2.3842e-07,  1.0000e+00]])\n",
            "Distance from I is tensor(2.9270e-06)\n"
          ]
        }
      ],
      "source": [
        "A = torch.randn(4, 4)\n",
        "Ainv = torch.linalg.inv(A)\n",
        "\n",
        "print(\"A is\", A)\n",
        "print(\"Ainv is\", Ainv)\n",
        "print(\"A @ Ainv is\", A @ Ainv)\n",
        "print(\"Distance from I is\", torch.linalg.norm(A @ Ainv - torch.eye(4)))"
      ]
    },
    {
      "cell_type": "markdown",
      "metadata": {
        "id": "JQWEwJ9Oi552"
      },
      "source": [
        "We can also compute **Pseudo (Moore-Penrose) Inverse** when a matrix is not invertible. If you are not familiar with Pseudo inverse, you can refer to [Section 2.9 in this document](https://www.deeplearningbook.org/contents/linear_algebra.html)."
      ]
    },
    {
      "cell_type": "code",
      "execution_count": 110,
      "metadata": {
        "id": "wHCCW8Hzi552"
      },
      "outputs": [
        {
          "name": "stdout",
          "output_type": "stream",
          "text": [
            "A is tensor([[-0.4108, -2.2564, -0.4473,  0.3267, -0.6969],\n",
            "        [-0.7866, -0.8247, -1.1705, -0.2358,  0.7393],\n",
            "        [ 0.1280,  0.1413,  0.2283, -1.0081,  0.7400]])\n",
            "Apinv is tensor([[ 0.0868, -0.3153,  0.2040],\n",
            "        [-0.4643,  0.0755, -0.2987],\n",
            "        [ 0.1900, -0.5159,  0.3835],\n",
            "        [-0.1341,  0.0818, -0.7320],\n",
            "        [-0.1676,  0.3107,  0.2576]])\n",
            "A @ Apinv is tensor([[ 1.0000e+00,  1.3411e-07, -1.6391e-07],\n",
            "        [ 5.2154e-08,  1.0000e+00,  1.4901e-08],\n",
            "        [-7.4506e-09,  2.3842e-07,  1.0000e+00]])\n",
            "Distance from I is tensor(3.6485e-07)\n",
            "Apinv @ A is tensor([[ 0.2385,  0.0931,  0.3769, -0.1030, -0.1426],\n",
            "        [ 0.0931,  0.9431,  0.0510,  0.1316,  0.1584],\n",
            "        [ 0.3769,  0.0510,  0.6064, -0.2029, -0.2299],\n",
            "        [-0.1030,  0.1316, -0.2029,  0.6748, -0.3877],\n",
            "        [-0.1426,  0.1584, -0.2299, -0.3877,  0.5372]])\n",
            "Distance from I is tensor(1.4142)\n"
          ]
        }
      ],
      "source": [
        "A = torch.randn(3, 5)\n",
        "Apinv = torch.linalg.pinv(A)\n",
        "\n",
        "print(\"A is\", A)\n",
        "print(\"Apinv is\", Apinv)\n",
        "print(\"A @ Apinv is\", A @ Apinv)\n",
        "print(\"Distance from I is\", torch.dist(A @ Apinv, torch.eye(3)))\n",
        "print(\"Apinv @ A is\", Apinv @ A)\n",
        "print(\"Distance from I is\", torch.dist(Apinv @ A, torch.eye(5)))"
      ]
    },
    {
      "cell_type": "markdown",
      "metadata": {
        "id": "l4EgriS5i553"
      },
      "source": [
        "The **shape** of a tensor (which can be accessed by `.shape`) is defined as the dimensions of the tensor. Here's some examples:"
      ]
    },
    {
      "cell_type": "code",
      "execution_count": 111,
      "metadata": {
        "id": "pAOIW27bi553"
      },
      "outputs": [
        {
          "name": "stdout",
          "output_type": "stream",
          "text": [
            "torch.Size([2, 3])\n",
            "tensor([[1, 2, 3],\n",
            "        [4, 5, 6]])\n"
          ]
        }
      ],
      "source": [
        "matr_2d = torch.tensor([[1, 2, 3], [4, 5, 6]])\n",
        "print(matr_2d.shape)\n",
        "print(matr_2d)"
      ]
    },
    {
      "cell_type": "code",
      "execution_count": 112,
      "metadata": {
        "id": "5pmcnemEi553"
      },
      "outputs": [
        {
          "name": "stdout",
          "output_type": "stream",
          "text": [
            "tensor([[[ 1,  2,  3,  4],\n",
            "         [-2,  5,  6,  9]],\n",
            "\n",
            "        [[ 5,  6,  7,  2],\n",
            "         [ 8,  9, 10,  4]],\n",
            "\n",
            "        [[-3,  2,  2,  1],\n",
            "         [ 4,  6,  5,  9]]])\n",
            "torch.Size([3, 2, 4])\n"
          ]
        }
      ],
      "source": [
        "matr_3d = torch.tensor(\n",
        "    [\n",
        "        [[1, 2, 3, 4], [-2, 5, 6, 9]],\n",
        "        [[5, 6, 7, 2], [8, 9, 10, 4]],\n",
        "        [[-3, 2, 2, 1], [4, 6, 5, 9]],\n",
        "    ]\n",
        ")\n",
        "print(matr_3d)\n",
        "print(matr_3d.shape)"
      ]
    },
    {
      "cell_type": "markdown",
      "metadata": {
        "id": "dTeEwFjpi553"
      },
      "source": [
        "**Reshaping** tensors can be used to make batch operations easier (more on that later), but be careful that the data is reshaped in the order you expect:"
      ]
    },
    {
      "cell_type": "code",
      "execution_count": 113,
      "metadata": {
        "id": "zWkI-LZui553"
      },
      "outputs": [
        {
          "name": "stdout",
          "output_type": "stream",
          "text": [
            "tensor([ 1,  2,  3,  4,  5,  6,  7,  8,  9, 10, 11, 12, 13, 14, 15])\n",
            "torch.Size([15])\n"
          ]
        }
      ],
      "source": [
        "rr = torch.arange(1, 16)\n",
        "print(rr)\n",
        "print(rr.shape)"
      ]
    },
    {
      "cell_type": "code",
      "execution_count": 114,
      "metadata": {
        "id": "pA9rF6g6i553"
      },
      "outputs": [
        {
          "name": "stdout",
          "output_type": "stream",
          "text": [
            "tensor([[ 1,  2,  3],\n",
            "        [ 4,  5,  6],\n",
            "        [ 7,  8,  9],\n",
            "        [10, 11, 12],\n",
            "        [13, 14, 15]])\n",
            "torch.Size([5, 3])\n"
          ]
        }
      ],
      "source": [
        "rr = rr.view(5, 3)\n",
        "print(rr)\n",
        "print(rr.shape)"
      ]
    },
    {
      "cell_type": "markdown",
      "metadata": {
        "id": "KVeSfRfzi553"
      },
      "source": [
        "One of the reasons why we use **tensors** is *vectorized operations*: operations that be conducted in parallel over a particular dimension of a tensor."
      ]
    },
    {
      "cell_type": "code",
      "execution_count": 115,
      "metadata": {
        "id": "LIf5Gt11i553"
      },
      "outputs": [
        {
          "name": "stdout",
          "output_type": "stream",
          "text": [
            "Data is: tensor([[ 1.,  2.,  3.,  4.,  5.,  6.,  7.],\n",
            "        [ 8.,  9., 10., 11., 12., 13., 14.],\n",
            "        [15., 16., 17., 18., 19., 20., 21.],\n",
            "        [22., 23., 24., 25., 26., 27., 28.],\n",
            "        [29., 30., 31., 32., 33., 34., 35.]])\n",
            "Taking the sum over columns:\n",
            "tensor([ 75.,  80.,  85.,  90.,  95., 100., 105.])\n",
            "Taking thep sum over rows:\n",
            "tensor([ 28.,  77., 126., 175., 224.])\n",
            "Taking the stdev over rows:\n",
            "tensor([2.1602, 2.1602, 2.1602, 2.1602, 2.1602])\n"
          ]
        }
      ],
      "source": [
        "data = torch.arange(1, 36, dtype=torch.float32).reshape(5, 7)\n",
        "print(\"Data is:\", data)\n",
        "\n",
        "# We can perform operations like *sum* over each row...\n",
        "print(\"Taking the sum over columns:\")\n",
        "print(data.sum(dim=0))\n",
        "\n",
        "# or over each column.\n",
        "print(\"Taking thep sum over rows:\")\n",
        "print(data.sum(dim=1))\n",
        "\n",
        "# Other operations are available:\n",
        "print(\"Taking the stdev over rows:\")\n",
        "print(data.std(dim=1))"
      ]
    },
    {
      "cell_type": "code",
      "execution_count": 116,
      "metadata": {
        "id": "05bn40j9i553"
      },
      "outputs": [
        {
          "data": {
            "text/plain": [
              "tensor(630.)"
            ]
          },
          "execution_count": 116,
          "metadata": {},
          "output_type": "execute_result"
        }
      ],
      "source": [
        "data.sum()"
      ]
    },
    {
      "cell_type": "markdown",
      "metadata": {
        "id": "4ZouoER_i553"
      },
      "source": [
        "**Indexing**\n",
        "\n",
        "You can access arbitrary elements of a tensor using the `[]` operator."
      ]
    },
    {
      "cell_type": "code",
      "execution_count": 117,
      "metadata": {
        "id": "-Zt4DQmmi553"
      },
      "outputs": [
        {
          "name": "stdout",
          "output_type": "stream",
          "text": [
            "tensor([[[ 1.,  2.],\n",
            "         [ 3.,  4.]],\n",
            "\n",
            "        [[ 5.,  6.],\n",
            "         [ 7.,  8.]],\n",
            "\n",
            "        [[ 9., 10.],\n",
            "         [11., 12.]]])\n",
            "torch.Size([3, 2, 2])\n"
          ]
        }
      ],
      "source": [
        "x = torch.Tensor([[[1, 2], [3, 4]], [[5, 6], [7, 8]], [[9, 10], [11, 12]]])\n",
        "print(x)\n",
        "print(x.shape)"
      ]
    },
    {
      "cell_type": "code",
      "execution_count": 118,
      "metadata": {
        "id": "BOM_qtmKi553"
      },
      "outputs": [
        {
          "data": {
            "text/plain": [
              "tensor([[1., 2.],\n",
              "        [3., 4.]])"
            ]
          },
          "execution_count": 118,
          "metadata": {},
          "output_type": "execute_result"
        }
      ],
      "source": [
        "# Access the 0th element, which is the first row\n",
        "x[0]  # Equivalent to x[0, :, :]"
      ]
    },
    {
      "cell_type": "code",
      "execution_count": 119,
      "metadata": {
        "id": "yDNnlZfUi553"
      },
      "outputs": [
        {
          "data": {
            "text/plain": [
              "tensor([[ 1.,  2.],\n",
              "        [ 5.,  6.],\n",
              "        [ 9., 10.]])"
            ]
          },
          "execution_count": 119,
          "metadata": {},
          "output_type": "execute_result"
        }
      ],
      "source": [
        "x[:, 0]"
      ]
    },
    {
      "cell_type": "code",
      "execution_count": 120,
      "metadata": {
        "id": "3Jbuz-gli553"
      },
      "outputs": [
        {
          "data": {
            "text/plain": [
              "tensor([5., 7.])"
            ]
          },
          "execution_count": 120,
          "metadata": {},
          "output_type": "execute_result"
        }
      ],
      "source": [
        "x[1, :, 0]"
      ]
    },
    {
      "cell_type": "markdown",
      "metadata": {
        "deletable": false,
        "editable": false,
        "id": "BviBdF6fi556",
        "nbgrader": {
          "cell_type": "markdown",
          "checksum": "7c7ef68f4b91d7f2083c464889f6a6ca",
          "grade": false,
          "grade_id": "cell-45f283847d596e7a",
          "locked": true,
          "schema_version": 3,
          "solution": false,
          "task": false
        }
      },
      "source": [
        "### Exercise 4: Implementing Linear Regression Using Pytorch Tensor Operations (2 Points)\n",
        "\n",
        "You will now use what we just learned to implement linear regression using Pytorch. Recall that linear regression is a supervised learning algorithm, which is used for learning a linear relationship between a scalar output variable and input features, i.e.,\n",
        "\n",
        "$$ y = w_0 + w_1x_1 + w_2x_2 + \\cdots + w_nx_n$$\n",
        "\n",
        "where $y \\in \\mathbb{R}$ is the scalar output variable and $x \\in \\mathbb{R}^n$ corresponds to the input features. The weights $w \\in \\mathbb{R}^{n+1}$ defines the linear transformation of the input features to the scalar output. We can simplify the notation by considering $x_0 = 1$,\n",
        "\n",
        "$$y = w^Tx \\text{ \\quad(Note that here } x \\in \\mathbb{R}^{n+1}\\text{ )}$$\n",
        "\n",
        "\n",
        "For the cases with $m$ inputs and outputs, we can write the vectorized form as follows:\n",
        "\n",
        "$$Y = Xw$$\n",
        "\n",
        "where $X \\in \\mathbb{R}^{m \\times n + 1}$ and $Y \\in \\mathbb{R}^m$\n",
        "\n",
        "Training a linear regression model involves finding the values of $w$ that achieve minimum squared error on the observed data, i.e., $w = \\mathrm{argmin} ||Y - Xw||_2^2$\n",
        "\n",
        "While there are different methods for solving the linear regression problem, we will focus on the normal equations approach, which defines the exact solution to the problem as:\n",
        "\n",
        "$w = (X^TX)^{-1}X^TY$\n",
        "\n",
        "For numerical stability, we recommend computing the pseudo inverse of $X^TX$ instead.\n",
        "\n",
        "We recommend checking [Stanford's CS229 notes on Linear Regression](https://see.stanford.edu/materials/aimlcs229/cs229-notes1.pdf) for those unfamiliar with the topic.\n",
        "\n",
        "**Important Note: Remove `raise NotImplementedError()` when you write your code in the functions**"
      ]
    },
    {
      "cell_type": "code",
      "execution_count": 16,
      "metadata": {
        "deletable": false,
        "id": "olQ1scfvi556",
        "nbgrader": {
          "cell_type": "code",
          "checksum": "25a8c114b55bdf88f5cb766498f122e5",
          "grade": false,
          "grade_id": "cell-052c337f966b6b25",
          "locked": false,
          "schema_version": 3,
          "solution": true,
          "task": false
        }
      },
      "outputs": [],
      "source": [
        "class LinearRegression:\n",
        "\n",
        "    def __init__(self, n_features):\n",
        "        \"\"\"\n",
        "        Constructor for the LinearRegression class.\n",
        "\n",
        "        Initialize the weight vector w as zeros.\n",
        "\n",
        "        Input:\n",
        "            - n_features: int\n",
        "        \"\"\"\n",
        "        # YOUR CODE HERE\n",
        "        self.weights = torch.zeros(n_features+1)\n",
        "\n",
        "    def predict(self, X):\n",
        "        \"\"\"\n",
        "        Predicts the target variable given the input features.\n",
        "\n",
        "        Input:\n",
        "            - X: either a 1d torch.Tensor of shape (n_features,) or a 2d torch.Tensor of shape (n_samples, n_features)\n",
        "\n",
        "        Output:\n",
        "            - torch.float32 if X is a 1d torch.Tensor or torch.Tensor of shape (n_samples,) if X is a 2d torch.Tensor\n",
        "        \"\"\"\n",
        "\n",
        "        y_pred = None\n",
        "\n",
        "        # YOUR CODE HERE\n",
        "        if X.dim() == 1:\n",
        "            X = X.unsqueeze(1)\n",
        "        X_aug = torch.cat((torch.ones((X.shape[0], 1)), X), dim=1)\n",
        "        y_pred = X_aug @ self.weights\n",
        "        return y_pred\n",
        "\n",
        "    def fit(self, X, Y):\n",
        "        \"\"\"\n",
        "        Solves the linear regression problem using the normal equations.\n",
        "\n",
        "        Input:\n",
        "            - X: torch.Tensor of shape (n_samples, n_features)\n",
        "            - Y: torch.Tensor of shape (n_samples,)\n",
        "\n",
        "        \"\"\"\n",
        "\n",
        "        # YOUR CODE HERE\n",
        "        if X.dim() == 1:\n",
        "            X = X.unsqueeze(1)\n",
        "        X_aug = torch.cat((torch.ones((X.shape[0], 1)), X), dim=1)\n",
        "        self.weights = torch.linalg.pinv(X_aug.T @ X_aug) @ X_aug.T @ Y\n",
        "\n",
        "    def mse_loss(self, Y_pred, Y):\n",
        "        \"\"\"\n",
        "        Computes the mean squared error loss ||Y - Y_pred||_2^2.\n",
        "\n",
        "        Inputs:\n",
        "            - Y_pred: torch.Tensor of shape (n_samples,) containing the predicted target variable\n",
        "            - Y: torch.Tensor of shape (n_samples,) containing the true target variable\n",
        "\n",
        "        Output:\n",
        "            - torch.float32\n",
        "\n",
        "        \"\"\"\n",
        "\n",
        "        mse = None\n",
        "        # YOUR CODE HERE\n",
        "        mse = torch.mean((Y - Y_pred)**2)\n",
        "        return mse"
      ]
    },
    {
      "cell_type": "code",
      "execution_count": 17,
      "metadata": {
        "deletable": false,
        "editable": false,
        "id": "Fz7mCEV4i556",
        "nbgrader": {
          "cell_type": "code",
          "checksum": "b3c7e6509ee6668ca3295fa40b3e9db2",
          "grade": true,
          "grade_id": "cell-601195730ad694b2",
          "locked": true,
          "points": 2,
          "schema_version": 3,
          "solution": false,
          "task": false
        }
      },
      "outputs": [
        {
          "name": "stdout",
          "output_type": "stream",
          "text": [
            "All tests pass\n"
          ]
        }
      ],
      "source": [
        "def test_LinearRegression():\n",
        "\n",
        "    X = torch.tensor([[1.0], [2.0], [3.0], [4.0], [5.0]])\n",
        "    Y = torch.tensor([3.0, 5.0, 7.0, 9.0, 11.0])\n",
        "    model = LinearRegression(1)\n",
        "    # Test if weights are initialized correctly\n",
        "    assert torch.all(model.weights == torch.tensor([0.0, 0.0]))\n",
        "\n",
        "    # Test if training works correctly\n",
        "    model.fit(X, Y)\n",
        "    assert model.weights.shape == (2,)\n",
        "    assert torch.allclose(model.weights, torch.tensor([1.0, 2.0]), atol=1e-4)\n",
        "\n",
        "    # Test if prediction works correctly\n",
        "    y_pred = model.predict(torch.tensor([6]))\n",
        "    assert torch.allclose(y_pred, torch.tensor(13.0), atol=1e-4)\n",
        "\n",
        "    # Test if prediction works correctly\n",
        "    y_pred = model.predict(X)\n",
        "    assert y_pred.shape == (5,)\n",
        "    assert torch.allclose(y_pred, Y, atol=1e-4)\n",
        "\n",
        "    # Test if mean squared error loss is computed correctly\n",
        "    mse = model.mse_loss(y_pred, Y)\n",
        "    assert torch.allclose(mse, torch.tensor(0.0), atol=1e-4)\n",
        "\n",
        "    mse = model.mse_loss(y_pred + 2, Y)\n",
        "    assert torch.allclose(mse, torch.tensor(4.0), atol=1e-4)\n",
        "\n",
        "    print(\"All tests pass\")\n",
        "\n",
        "test_LinearRegression()"
      ]
    },
    {
      "cell_type": "markdown",
      "metadata": {
        "deletable": false,
        "editable": false,
        "id": "Sk2PH2i9i556",
        "nbgrader": {
          "cell_type": "markdown",
          "checksum": "b58b3b09237299fae6d07902e6cb7763",
          "grade": false,
          "grade_id": "cell-292343471a1429bc",
          "locked": true,
          "schema_version": 3,
          "solution": false,
          "task": false
        }
      },
      "source": [
        "There is a lot more to Pytorch than what we just discussed today. Pytorch and other deep learning libraries are popular because they provide auto-differentiation, which as you will learn in the lectures comes in super-handy when training neural network models. We will sprinkle tutorials on advanced usage of Pytorch in the upcoming projects."
      ]
    }
  ],
  "metadata": {
    "colab": {
      "provenance": []
    },
    "kernelspec": {
      "display_name": "Python 3 (ipykernel)",
      "language": "python",
      "name": "python3"
    },
    "language_info": {
      "codemirror_mode": {
        "name": "ipython",
        "version": 3
      },
      "file_extension": ".py",
      "mimetype": "text/x-python",
      "name": "python",
      "nbconvert_exporter": "python",
      "pygments_lexer": "ipython3",
      "version": "3.9.15"
    }
  },
  "nbformat": 4,
  "nbformat_minor": 0
}
