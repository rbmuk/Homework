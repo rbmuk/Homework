{
 "cells": [
  {
   "cell_type": "code",
   "id": "initial_id",
   "metadata": {
    "collapsed": true,
    "ExecuteTime": {
     "end_time": "2024-11-16T21:37:42.345488Z",
     "start_time": "2024-11-16T21:37:42.341460Z"
    }
   },
   "source": [
    "import os\n",
    "from typing import List, Dict\n",
    "\n",
    "import nltk\n",
    "import pandas as pd\n",
    "import torch\n",
    "from nltk.tokenize import word_tokenize\n",
    "import seaborn as sns\n",
    "import matplotlib.pyplot as plt\n",
    "from pprint import pprint\n",
    "from torch.utils.data import DataLoader\n",
    "from torch.optim import Adam\n",
    "import torch.nn as nn\n",
    "from tqdm import tqdm\n",
    "import numpy as np\n",
    "from torch.utils.data.sampler import WeightedRandomSampler\n",
    "\n",
    "from glove import GloveEmbeddings\n",
    "\n",
    "nltk.download(\"punkt\")\n",
    "DEVICE = \"cuda\" if torch.cuda.is_available() else \"cpu\"\n",
    "print(f\"Using {DEVICE} device\")\n",
    "\n",
    "# Empty cache\n",
    "torch.cuda.empty_cache()"
   ],
   "outputs": [
    {
     "name": "stdout",
     "output_type": "stream",
     "text": [
      "Using cuda device\n"
     ]
    },
    {
     "name": "stderr",
     "output_type": "stream",
     "text": [
      "[nltk_data] Downloading package punkt to C:\\Users\\Rohan\n",
      "[nltk_data]     Mukherjee\\AppData\\Roaming\\nltk_data...\n",
      "[nltk_data]   Package punkt is already up-to-date!\n"
     ]
    }
   ],
   "execution_count": 4
  },
  {
   "metadata": {
    "ExecuteTime": {
     "end_time": "2024-11-16T21:37:42.431321Z",
     "start_time": "2024-11-16T21:37:42.414544Z"
    }
   },
   "cell_type": "code",
   "source": [
    "msr_train = pd.read_csv(\n",
    "    'data/msr/msr_paraphrase_train.txt', sep='\\t', encoding='utf-8', quoting=3\n",
    ")\n",
    "msr_test = pd.read_csv(\n",
    "    'data/msr/msr_paraphrase_test.txt', sep='\\t', encoding='utf-8', quoting=3\n",
    ")"
   ],
   "id": "8ad9ff978aea7f6f",
   "outputs": [],
   "execution_count": 5
  },
  {
   "metadata": {
    "ExecuteTime": {
     "end_time": "2024-11-16T21:37:42.457357Z",
     "start_time": "2024-11-16T21:37:42.447609Z"
    }
   },
   "cell_type": "code",
   "source": "msr_train.head(10)",
   "id": "b6ca4b86d7c90126",
   "outputs": [
    {
     "data": {
      "text/plain": [
       "   Quality    #1 ID    #2 ID  \\\n",
       "0        1   702876   702977   \n",
       "1        0  2108705  2108831   \n",
       "2        1  1330381  1330521   \n",
       "3        0  3344667  3344648   \n",
       "4        1  1236820  1236712   \n",
       "5        1   738533   737951   \n",
       "6        0   264589   264502   \n",
       "7        1   579975   579810   \n",
       "8        0  3114205  3114194   \n",
       "9        1  1355540  1355592   \n",
       "\n",
       "                                           #1 String  \\\n",
       "0  Amrozi accused his brother, whom he called \"th...   \n",
       "1  Yucaipa owned Dominick's before selling the ch...   \n",
       "2  They had published an advertisement on the Int...   \n",
       "3  Around 0335 GMT, Tab shares were up 19 cents, ...   \n",
       "4  The stock rose $2.11, or about 11 percent, to ...   \n",
       "5  Revenue in the first quarter of the year dropp...   \n",
       "6  The Nasdaq had a weekly gain of 17.27, or 1.2 ...   \n",
       "7  The DVD-CCA then appealed to the state Supreme...   \n",
       "8  That compared with $35.18 million, or 24 cents...   \n",
       "9  He said the foodservice pie business doesn't f...   \n",
       "\n",
       "                                           #2 String  \n",
       "0  Referring to him as only \"the witness\", Amrozi...  \n",
       "1  Yucaipa bought Dominick's in 1995 for $693 mil...  \n",
       "2  On June 10, the ship's owners had published an...  \n",
       "3  Tab shares jumped 20 cents, or 4.6%, to set a ...  \n",
       "4  PG&E Corp. shares jumped $1.63 or 8 percent to...  \n",
       "5  With the scandal hanging over Stewart's compan...  \n",
       "6  The tech-laced Nasdaq Composite .IXIC rallied ...  \n",
       "7  The DVD CCA appealed that decision to the U.S....  \n",
       "8  Earnings were affected by a non-recurring $8 m...  \n",
       "9  \"The foodservice pie business does not fit our...  "
      ],
      "text/html": [
       "<div>\n",
       "<style scoped>\n",
       "    .dataframe tbody tr th:only-of-type {\n",
       "        vertical-align: middle;\n",
       "    }\n",
       "\n",
       "    .dataframe tbody tr th {\n",
       "        vertical-align: top;\n",
       "    }\n",
       "\n",
       "    .dataframe thead th {\n",
       "        text-align: right;\n",
       "    }\n",
       "</style>\n",
       "<table border=\"1\" class=\"dataframe\">\n",
       "  <thead>\n",
       "    <tr style=\"text-align: right;\">\n",
       "      <th></th>\n",
       "      <th>Quality</th>\n",
       "      <th>#1 ID</th>\n",
       "      <th>#2 ID</th>\n",
       "      <th>#1 String</th>\n",
       "      <th>#2 String</th>\n",
       "    </tr>\n",
       "  </thead>\n",
       "  <tbody>\n",
       "    <tr>\n",
       "      <th>0</th>\n",
       "      <td>1</td>\n",
       "      <td>702876</td>\n",
       "      <td>702977</td>\n",
       "      <td>Amrozi accused his brother, whom he called \"th...</td>\n",
       "      <td>Referring to him as only \"the witness\", Amrozi...</td>\n",
       "    </tr>\n",
       "    <tr>\n",
       "      <th>1</th>\n",
       "      <td>0</td>\n",
       "      <td>2108705</td>\n",
       "      <td>2108831</td>\n",
       "      <td>Yucaipa owned Dominick's before selling the ch...</td>\n",
       "      <td>Yucaipa bought Dominick's in 1995 for $693 mil...</td>\n",
       "    </tr>\n",
       "    <tr>\n",
       "      <th>2</th>\n",
       "      <td>1</td>\n",
       "      <td>1330381</td>\n",
       "      <td>1330521</td>\n",
       "      <td>They had published an advertisement on the Int...</td>\n",
       "      <td>On June 10, the ship's owners had published an...</td>\n",
       "    </tr>\n",
       "    <tr>\n",
       "      <th>3</th>\n",
       "      <td>0</td>\n",
       "      <td>3344667</td>\n",
       "      <td>3344648</td>\n",
       "      <td>Around 0335 GMT, Tab shares were up 19 cents, ...</td>\n",
       "      <td>Tab shares jumped 20 cents, or 4.6%, to set a ...</td>\n",
       "    </tr>\n",
       "    <tr>\n",
       "      <th>4</th>\n",
       "      <td>1</td>\n",
       "      <td>1236820</td>\n",
       "      <td>1236712</td>\n",
       "      <td>The stock rose $2.11, or about 11 percent, to ...</td>\n",
       "      <td>PG&amp;E Corp. shares jumped $1.63 or 8 percent to...</td>\n",
       "    </tr>\n",
       "    <tr>\n",
       "      <th>5</th>\n",
       "      <td>1</td>\n",
       "      <td>738533</td>\n",
       "      <td>737951</td>\n",
       "      <td>Revenue in the first quarter of the year dropp...</td>\n",
       "      <td>With the scandal hanging over Stewart's compan...</td>\n",
       "    </tr>\n",
       "    <tr>\n",
       "      <th>6</th>\n",
       "      <td>0</td>\n",
       "      <td>264589</td>\n",
       "      <td>264502</td>\n",
       "      <td>The Nasdaq had a weekly gain of 17.27, or 1.2 ...</td>\n",
       "      <td>The tech-laced Nasdaq Composite .IXIC rallied ...</td>\n",
       "    </tr>\n",
       "    <tr>\n",
       "      <th>7</th>\n",
       "      <td>1</td>\n",
       "      <td>579975</td>\n",
       "      <td>579810</td>\n",
       "      <td>The DVD-CCA then appealed to the state Supreme...</td>\n",
       "      <td>The DVD CCA appealed that decision to the U.S....</td>\n",
       "    </tr>\n",
       "    <tr>\n",
       "      <th>8</th>\n",
       "      <td>0</td>\n",
       "      <td>3114205</td>\n",
       "      <td>3114194</td>\n",
       "      <td>That compared with $35.18 million, or 24 cents...</td>\n",
       "      <td>Earnings were affected by a non-recurring $8 m...</td>\n",
       "    </tr>\n",
       "    <tr>\n",
       "      <th>9</th>\n",
       "      <td>1</td>\n",
       "      <td>1355540</td>\n",
       "      <td>1355592</td>\n",
       "      <td>He said the foodservice pie business doesn't f...</td>\n",
       "      <td>\"The foodservice pie business does not fit our...</td>\n",
       "    </tr>\n",
       "  </tbody>\n",
       "</table>\n",
       "</div>"
      ]
     },
     "execution_count": 6,
     "metadata": {},
     "output_type": "execute_result"
    }
   ],
   "execution_count": 6
  },
  {
   "metadata": {
    "ExecuteTime": {
     "end_time": "2024-11-16T21:37:47.612139Z",
     "start_time": "2024-11-16T21:37:42.492999Z"
    }
   },
   "cell_type": "code",
   "source": [
    "parent_dir = os.path.dirname(os.path.abspath(\"__file__\"))\n",
    "data_dir = os.path.join(parent_dir, \"data\")\n",
    "\n",
    "glove_embeddings = GloveEmbeddings(\n",
    "    path=f\"{data_dir}/embeddings/glove.6B/glove.6B.50d.txt\"\n",
    ")"
   ],
   "id": "d500dcb8a96220c2",
   "outputs": [],
   "execution_count": 7
  },
  {
   "metadata": {
    "ExecuteTime": {
     "end_time": "2024-11-16T21:37:47.632921Z",
     "start_time": "2024-11-16T21:37:47.629094Z"
    }
   },
   "cell_type": "code",
   "source": [
    "def get_sentence_embedding(\n",
    "        sentence: str,\n",
    "        word_embeddings: GloveEmbeddings,\n",
    "        use_POS: bool = False,\n",
    "        pos_weights: Dict[str, float] = None,\n",
    "):\n",
    "    \"\"\"\n",
    "    Compute the sentence embedding using the word embeddings.\n",
    "\n",
    "    Inputs:\n",
    "    - sentence: The input sentence\n",
    "    - word_embeddings: GloveEmbeddings object\n",
    "    - use_POS: Whether to use POS tagging\n",
    "    - pos_weights: Dictionary containing POS weights\n",
    "\n",
    "    Returns:\n",
    "    torch.Tensor: The sentence embedding\n",
    "    \"\"\"\n",
    "    sentence_embedding = torch.sum(\n",
    "        torch.stack([\n",
    "            (pos_weights[tag] if use_POS else 1) * word_embeddings[word]\n",
    "            for word, tag in nltk.pos_tag(word_tokenize(sentence.lower()))\n",
    "            if word in word_embeddings.embeddings and (pos_weights is None or tag in pos_weights)\n",
    "        ]), dim=0\n",
    "    )\n",
    "    return sentence_embedding"
   ],
   "id": "e5f14a093af5ca88",
   "outputs": [],
   "execution_count": 8
  },
  {
   "metadata": {
    "ExecuteTime": {
     "end_time": "2024-11-16T21:37:50.041148Z",
     "start_time": "2024-11-16T21:37:47.651862Z"
    }
   },
   "cell_type": "code",
   "source": [
    "from sentence_transformers import SentenceTransformer\n",
    "\n",
    "def get_st_embeddings(\n",
    "        sentences: List[str],\n",
    "        st_model: SentenceTransformer,\n",
    "        batch_size: int = 32,\n",
    "        device: str = \"cpu\",\n",
    "):\n",
    "    \"\"\"\n",
    "    Compute the sentence embedding using the Sentence Transformer model.\n",
    "    \n",
    "    Inputs:\n",
    "    - sentence: The input sentence\n",
    "    - st_model: SentenceTransformer model\n",
    "    - batch_size: Encode in batches to avoid memory issues in case multiple sentences are passed\n",
    "    \n",
    "    Returns:\n",
    "    torch.Tensor: The sentence embedding of shape [d,] (when only 1 sentence) or [n, d] where n is the number of sentences and d is the embedding dimension\n",
    "    \"\"\"\n",
    "\n",
    "    st_model.to(device)\n",
    "    sentence_embeddings = None\n",
    "\n",
    "    for i in range(0, len(sentences), batch_size):\n",
    "        batch_sentences = sentences[i: i + batch_size]\n",
    "        batch_embeddings = st_model.encode(batch_sentences, convert_to_tensor=True)\n",
    "        if sentence_embeddings is None:\n",
    "            sentence_embeddings = batch_embeddings\n",
    "        else:\n",
    "            sentence_embeddings = torch.cat(\n",
    "                [sentence_embeddings, batch_embeddings], dim=0\n",
    "            )\n",
    "    return sentence_embeddings.to(\"cpu\")"
   ],
   "id": "d21038aa960d3d0e",
   "outputs": [
    {
     "name": "stderr",
     "output_type": "stream",
     "text": [
      "C:\\Users\\Rohan Mukherjee\\AppData\\Roaming\\Python\\Python312\\site-packages\\sentence_transformers\\cross_encoder\\CrossEncoder.py:13: TqdmExperimentalWarning: Using `tqdm.autonotebook.tqdm` in notebook mode. Use `tqdm.tqdm` instead to force console mode (e.g. in jupyter console)\n",
      "  from tqdm.autonotebook import tqdm, trange\n"
     ]
    }
   ],
   "execution_count": 9
  },
  {
   "metadata": {
    "ExecuteTime": {
     "end_time": "2024-11-16T21:37:50.050536Z",
     "start_time": "2024-11-16T21:37:50.047050Z"
    }
   },
   "cell_type": "code",
   "source": [
    "def load_msr_data(data_dir: str, split: str):\n",
    "    msr_data = pd.read_csv(\n",
    "        f\"{data_dir}/msr_paraphrase_{split}.txt\", sep=\"\\t\", encoding=\"utf-8\", quoting=3\n",
    "    )\n",
    "    data = [\n",
    "        {\n",
    "            \"#1 String\": msr_data[\"#1 String\"].values[i],\n",
    "            \"#2 String\": msr_data[\"#2 String\"].values[i],\n",
    "        }\n",
    "        for i in range(len(msr_data))\n",
    "    ]\n",
    "    labels = msr_data[\"Quality\"].values\n",
    "    return data, labels"
   ],
   "id": "618302b7976ee1de",
   "outputs": [],
   "execution_count": 10
  },
  {
   "metadata": {
    "ExecuteTime": {
     "end_time": "2024-11-16T21:37:50.094806Z",
     "start_time": "2024-11-16T21:37:50.057105Z"
    }
   },
   "cell_type": "code",
   "source": [
    "msr_path = f'{data_dir}/msr'\n",
    "train_data, train_labels = load_msr_data(msr_path, \"train\")\n",
    "test_data, test_labels = load_msr_data(msr_path, \"test\")\n",
    "\n",
    "print(f\"Number of Training Examples: {len(train_data)}\")\n",
    "print(f\"Number of Test Examples: {len(test_data)}\")"
   ],
   "id": "742fc1a127ee8f50",
   "outputs": [
    {
     "name": "stdout",
     "output_type": "stream",
     "text": [
      "Number of Training Examples: 4076\n",
      "Number of Test Examples: 1725\n"
     ]
    }
   ],
   "execution_count": 11
  },
  {
   "metadata": {
    "ExecuteTime": {
     "end_time": "2024-11-16T21:37:50.302672Z",
     "start_time": "2024-11-16T21:37:50.104307Z"
    }
   },
   "cell_type": "code",
   "source": [
    "sns.countplot(x=train_labels)\n",
    "sns.countplot(x=test_labels)"
   ],
   "id": "3a077fafc65d0464",
   "outputs": [
    {
     "data": {
      "text/plain": [
       "<Axes: ylabel='count'>"
      ]
     },
     "execution_count": 12,
     "metadata": {},
     "output_type": "execute_result"
    },
    {
     "data": {
      "text/plain": [
       "<Figure size 640x480 with 1 Axes>"
      ],
      "image/png": "[encoded data removed]"
     },
     "metadata": {},
     "output_type": "display_data"
    }
   ],
   "execution_count": 12
  },
  {
   "metadata": {
    "ExecuteTime": {
     "end_time": "2024-11-16T21:37:50.316474Z",
     "start_time": "2024-11-16T21:37:50.313113Z"
    }
   },
   "cell_type": "code",
   "source": [
    "# View a sample of the dataset\n",
    "print(\"Example from dataset\")\n",
    "pprint(train_data[69], sort_dicts=False, indent=4)\n",
    "print(f\"Label: {train_labels[69]}\")"
   ],
   "id": "ba7c341c36a7545e",
   "outputs": [
    {
     "name": "stdout",
     "output_type": "stream",
     "text": [
      "Example from dataset\n",
      "{   '#1 String': 'The processors were announced in San Jose at the Intel '\n",
      "                 'Developer Forum.',\n",
      "    '#2 String': 'The new processor was unveiled at the Intel Developer Forum '\n",
      "                 '2003 in San Jose, Calif.'}\n",
      "Label: 1\n"
     ]
    }
   ],
   "execution_count": 13
  },
  {
   "metadata": {
    "ExecuteTime": {
     "end_time": "2024-11-16T21:37:50.350719Z",
     "start_time": "2024-11-16T21:37:50.347077Z"
    }
   },
   "cell_type": "code",
   "source": [
    "def st_embed_msr(msr_data: List[Dict[str, str]], st_model: SentenceTransformer, device: str = \"cpu\"):\n",
    "    str1_embedded = get_st_embeddings([example[\"#1 String\"] for example in msr_data], st_model, device=device)\n",
    "    str2_embedded = get_st_embeddings([example[\"#2 String\"] for example in msr_data], st_model, device=device)\n",
    "   \n",
    "    data_embedded = [\n",
    "        {\n",
    "            \"string1\": str1_embedded[i],\n",
    "            \"string2\": str2_embedded[i],\n",
    "        }\n",
    "        for i in range(len(msr_data))\n",
    "    ]\n",
    "    return data_embedded"
   ],
   "id": "8e42a1306f1c14f",
   "outputs": [],
   "execution_count": 14
  },
  {
   "metadata": {
    "ExecuteTime": {
     "end_time": "2024-11-16T23:38:32.254383Z",
     "start_time": "2024-11-16T23:38:22.435706Z"
    }
   },
   "cell_type": "code",
   "source": [
    "X_train_glove = [\n",
    "    {\n",
    "        \"string1\": get_sentence_embedding(msr_train[\"#1 String\"].values[i], glove_embeddings, use_POS=False),\n",
    "        \"string2\": get_sentence_embedding(msr_train[\"#2 String\"].values[i], glove_embeddings, use_POS=False),\n",
    "    }\n",
    "    for i in range(len(msr_train))\n",
    "]\n",
    "X_test_glove = [\n",
    "    {\n",
    "        \"string1\": get_sentence_embedding(msr_test[\"#1 String\"].values[i], glove_embeddings, use_POS=False),\n",
    "        \"string2\": get_sentence_embedding(msr_test[\"#2 String\"].values[i], glove_embeddings, use_POS=False),\n",
    "    }\n",
    "    for i in range(len(msr_test))\n",
    "]\n",
    "\n",
    "y_train = msr_train[\"Quality\"].values.astype(np.float32)\n",
    "y_test = msr_test[\"Quality\"].values.astype(np.float32)\n",
    "\n",
    "st_model = SentenceTransformer(\"all-mpnet-base-v2\")\n",
    "if os.path.exists(f\"{data_dir}/msr/train_data_embedded.pt\") and os.path.exists(f\"{data_dir}/msr/test_data_embedded.pt\"):\n",
    "    X_train_st = torch.load(f\"{data_dir}/msr/train_data_embedded.pt\")\n",
    "    X_test_st = torch.load(f\"{data_dir}/msr/test_data_embedded.pt\")\n",
    "else:\n",
    "    X_train_st = st_embed_msr(msr_train, st_model, device=DEVICE)\n",
    "    X_test_st = st_embed_msr(msr_test, st_model, device=DEVICE)\n",
    "    torch.save(X_train_st, f\"{data_dir}/msr/train_data_embedded.pt\")\n",
    "    torch.save(X_test_st, f\"{data_dir}/msr/test_data_embedded.pt\")"
   ],
   "id": "b1e6c273411a222",
   "outputs": [
    {
     "name": "stderr",
     "output_type": "stream",
     "text": [
      "C:\\Users\\Rohan Mukherjee\\AppData\\Local\\Temp\\ipykernel_788624\\3062651526.py:21: FutureWarning: You are using `torch.load` with `weights_only=False` (the current default value), which uses the default pickle module implicitly. It is possible to construct malicious pickle data which will execute arbitrary code during unpickling (See https://github.com/pytorch/pytorch/blob/main/SECURITY.md#untrusted-models for more details). In a future release, the default value for `weights_only` will be flipped to `True`. This limits the functions that could be executed during unpickling. Arbitrary objects will no longer be allowed to be loaded via this mode unless they are explicitly allowlisted by the user via `torch.serialization.add_safe_globals`. We recommend you start setting `weights_only=True` for any use case where you don't have full control of the loaded file. Please open an issue on GitHub for any issues related to this experimental feature.\n",
      "  X_train_st = torch.load(f\"{data_dir}/msr/train_data_embedded.pt\")\n",
      "C:\\Users\\Rohan Mukherjee\\AppData\\Local\\Temp\\ipykernel_788624\\3062651526.py:22: FutureWarning: You are using `torch.load` with `weights_only=False` (the current default value), which uses the default pickle module implicitly. It is possible to construct malicious pickle data which will execute arbitrary code during unpickling (See https://github.com/pytorch/pytorch/blob/main/SECURITY.md#untrusted-models for more details). In a future release, the default value for `weights_only` will be flipped to `True`. This limits the functions that could be executed during unpickling. Arbitrary objects will no longer be allowed to be loaded via this mode unless they are explicitly allowlisted by the user via `torch.serialization.add_safe_globals`. We recommend you start setting `weights_only=True` for any use case where you don't have full control of the loaded file. Please open an issue on GitHub for any issues related to this experimental feature.\n",
      "  X_test_st = torch.load(f\"{data_dir}/msr/test_data_embedded.pt\")\n"
     ]
    }
   ],
   "execution_count": 126
  },
  {
   "metadata": {
    "ExecuteTime": {
     "end_time": "2024-11-16T21:38:00.785016Z",
     "start_time": "2024-11-16T21:38:00.779914Z"
    }
   },
   "cell_type": "code",
   "source": [
    "class MSREmbeddedDataset(torch.utils.data.Dataset):\n",
    "    def __init__(self, data: List[Dict[str, torch.Tensor]], labels: List[float]):\n",
    "        self.data = data\n",
    "        self.labels = labels\n",
    "\n",
    "    def __len__(self):\n",
    "        return len(self.data)\n",
    "\n",
    "    def __getitem__(self, idx):\n",
    "        return {\n",
    "            \"string1\": self.data[idx][\"string1\"],\n",
    "            \"string2\": self.data[idx][\"string2\"],\n",
    "            \"label\": self.labels[idx]\n",
    "        }\n",
    "\n",
    "def get_msr_dataloader(\n",
    "    embeddings: List[Dict[str, torch.Tensor]],\n",
    "    labels: List[float],\n",
    "    batch_size: int = 32,\n",
    "    shuffle: bool = True,\n",
    "    use_weighted_sampling: bool = False,\n",
    "):\n",
    "    \"\"\"\n",
    "    Creates a DataLoader for the MSR dataset, with optional weighted sampling for imbalanced datasets.\n",
    "\n",
    "    Args:\n",
    "        embeddings (List[Dict[str, torch.Tensor]]): List of embedded data dictionaries.\n",
    "        labels (List[float]): List of labels (binary classification: 0 or 1).\n",
    "        batch_size (int): Size of each batch.\n",
    "        shuffle (bool): Whether to shuffle the dataset (ignored if weighted sampling is enabled).\n",
    "        use_weighted_sampling (bool): Whether to use weighted sampling to balance the classes.\n",
    "\n",
    "    Returns:\n",
    "        DataLoader: A PyTorch DataLoader for the dataset.\n",
    "    \"\"\"\n",
    "    # Create the dataset\n",
    "    dataset = MSREmbeddedDataset(embeddings, labels)\n",
    "\n",
    "    if use_weighted_sampling:\n",
    "        # Compute class counts\n",
    "        class_counts = [sum(1 for label in labels if label == 0), sum(1 for label in labels if label == 1)]\n",
    "        class_weights = 1.0 / torch.tensor(class_counts, dtype=torch.float)\n",
    "\n",
    "        # Assign weights to each sample based on its label\n",
    "        sample_weights = [class_weights[int(label)] for label in labels]\n",
    "\n",
    "        # Create a WeightedRandomSampler\n",
    "        sampler = WeightedRandomSampler(weights=sample_weights, num_samples=len(sample_weights), replacement=True)\n",
    "\n",
    "        # Return DataLoader with sampler\n",
    "        return DataLoader(dataset, batch_size=batch_size, sampler=sampler, shuffle=shuffle)\n",
    "    else:\n",
    "        # Regular DataLoader\n",
    "        return DataLoader(dataset, batch_size=batch_size, shuffle=shuffle)\n",
    "\n",
    "train_loader_glove = get_msr_dataloader(X_train_glove, y_train)\n",
    "test_loader_glove = get_msr_dataloader(X_test_glove, y_test)\n",
    "train_loader_st = get_msr_dataloader(X_train_st, y_train)\n",
    "test_loader_st = get_msr_dataloader(X_test_st, y_test)"
   ],
   "id": "ecc7a535f3fe81bc",
   "outputs": [],
   "execution_count": 16
  },
  {
   "metadata": {
    "ExecuteTime": {
     "end_time": "2024-11-16T21:38:00.801557Z",
     "start_time": "2024-11-16T21:38:00.792678Z"
    }
   },
   "cell_type": "code",
   "source": [
    "for batch in train_loader_glove:\n",
    "    # Get the embeddings for str1, str2\n",
    "    str1_batch = batch[\"string1\"]\n",
    "    str2_batch = batch[\"string2\"]\n",
    "    labels = batch[\"label\"]\n",
    "\n",
    "    print(str1_batch.shape, str2_batch.shape, labels.shape)\n",
    "    break"
   ],
   "id": "1650454163070d87",
   "outputs": [
    {
     "name": "stdout",
     "output_type": "stream",
     "text": [
      "torch.Size([32, 50]) torch.Size([32, 50]) torch.Size([32])\n"
     ]
    }
   ],
   "execution_count": 17
  },
  {
   "metadata": {
    "ExecuteTime": {
     "end_time": "2024-11-16T22:18:25.477467Z",
     "start_time": "2024-11-16T22:18:25.473063Z"
    }
   },
   "cell_type": "code",
   "source": [
    "# Using a Siamese NN architecture\n",
    "class PNN(torch.nn.Module):\n",
    "    def __init__(self, input_dim: int, hidden_dim: int, output_dim: int, hidden_layers: int = 1):\n",
    "        super(PNN, self).__init__()\n",
    "        # Shared layers for both strings\n",
    "        layers = []\n",
    "        for i in range(hidden_layers):\n",
    "            in_features = input_dim if i == 0 else hidden_dim\n",
    "            layers.append(torch.nn.Linear(in_features, hidden_dim))\n",
    "            layers.append(nn.BatchNorm1d(hidden_dim))\n",
    "            layers.append(torch.nn.ReLU())\n",
    "        self.shared_fc = torch.nn.Sequential(*layers)\n",
    "        \n",
    "        # Output layer\n",
    "        self.fc_out = torch.nn.Linear(hidden_dim * 3, output_dim)\n",
    "\n",
    "    def forward(self, x1: torch.Tensor, x2: torch.Tensor):\n",
    "        proj1 = self.shared_fc(x1)\n",
    "        proj2 = self.shared_fc(x2)\n",
    "        # Concatenate the two projected embeddings\n",
    "        x = torch.cat([proj1, proj2, torch.abs(proj1 - proj2)], dim=-1)\n",
    "        \n",
    "        return self.fc_out(x)"
   ],
   "id": "7d858a9d6ab67842",
   "outputs": [],
   "execution_count": 44
  },
  {
   "metadata": {
    "ExecuteTime": {
     "end_time": "2024-11-16T21:38:00.880809Z",
     "start_time": "2024-11-16T21:38:00.877277Z"
    }
   },
   "cell_type": "code",
   "source": [
    "def accuracy(y_pred, y_true):\n",
    "    \"\"\"\n",
    "    Computes the accuracy of the model.\n",
    "    \n",
    "    Args:\n",
    "        y_pred (torch.Tensor): Predictions from the model.\n",
    "        y_true (torch.Tensor): True labels.\n",
    "    \n",
    "    Returns:\n",
    "        float: The accuracy of the model.\n",
    "    \"\"\"\n",
    "    correct = (y_pred == y_true).sum().item()\n",
    "    total = y_true.size(0)\n",
    "    return correct / total\n",
    "\n",
    "def precision(y_pred, y_true, epsilon=1e-8):\n",
    "    \"\"\"\n",
    "    Computes the precision of the model.\n",
    "    \n",
    "    Args:\n",
    "        y_pred (torch.Tensor): Predictions from the model.\n",
    "        y_true (torch.Tensor): True labels.\n",
    "        epsilon (float): Small value to prevent division by zero.\n",
    "    \n",
    "    Returns:\n",
    "        float: The precision of the model.\n",
    "    \"\"\"\n",
    "    true_positives = (y_pred * y_true).sum().item()\n",
    "    predicted_positives = y_pred.sum().item()\n",
    "    return true_positives / (predicted_positives + epsilon)\n",
    "\n",
    "def recall(y_pred, y_true, epsilon=1e-8):\n",
    "    \"\"\"\n",
    "    Computes the recall of the model.\n",
    "    \n",
    "    Args:\n",
    "        y_pred (torch.Tensor): Predictions from the model.\n",
    "        y_true (torch.Tensor): True labels.\n",
    "        epsilon (float): Small value to prevent division by zero.\n",
    "    \n",
    "    Returns:\n",
    "        float: The recall of the model.\n",
    "    \"\"\"\n",
    "    true_positives = (y_pred * y_true).sum().item()\n",
    "    actual_positives = y_true.sum().item()\n",
    "    return true_positives / (actual_positives + epsilon)\n",
    "\n",
    "def f1_score(y_pred, y_true, epsilon=1e-8):\n",
    "    \"\"\"\n",
    "    Computes the F1 score of the model.\n",
    "    \n",
    "    Args:\n",
    "        y_pred (torch.Tensor): Predictions from the model.\n",
    "        y_true (torch.Tensor): True labels.\n",
    "        epsilon (float): Small value to prevent division by zero.\n",
    "    \n",
    "    Returns:\n",
    "        float: The F1 score of the model.\n",
    "    \"\"\"\n",
    "    prec = precision(y_pred, y_true, epsilon)\n",
    "    rec = recall(y_pred, y_true, epsilon)\n",
    "    return 2 * (prec * rec) / (prec + rec + epsilon)"
   ],
   "id": "75bfb12765b649fa",
   "outputs": [],
   "execution_count": 19
  },
  {
   "metadata": {
    "ExecuteTime": {
     "end_time": "2024-11-16T22:47:22.076130Z",
     "start_time": "2024-11-16T22:47:22.068282Z"
    }
   },
   "cell_type": "code",
   "source": [
    "def evaluate_msr(\n",
    "    model: PNN,\n",
    "    dev_data_embedded: List[Dict[str, torch.Tensor]],\n",
    "    dev_labels: List[float],\n",
    "    eval_batch_size: int = 128,\n",
    "    device: str = \"cpu\",\n",
    ") -> Dict[str, float]:\n",
    "    \"\"\"\n",
    "    Evaluates the model on the SocialIQA dataset.\n",
    "\n",
    "    Inputs:\n",
    "    - model: The ParaphraseNN model\n",
    "    - dev_data_embedded: List of dictionaries containing the embedded context, question and answers for the validation data\n",
    "    - dev_labels: List of labels for the validation data\n",
    "    - eval_batch_size: Batch size for evaluation\n",
    "    - device: Device to run the evaluation on\n",
    "    \"\"\"\n",
    "\n",
    "    metrics = {\n",
    "        \"loss\": 0,\n",
    "        \"accuracy\": 0,\n",
    "        \"precision\": 0,\n",
    "        \"recall\": 0,\n",
    "        \"f1\": 0\n",
    "    }\n",
    "    \n",
    "    # true_weight = 1 / (sum(dev_labels) / len(dev_labels))\n",
    "    # loss_fn = nn.BCEWithLogitsLoss(pos_weight=torch.tensor([true_weight]).to(device))\n",
    "    loss_fn = nn.BCEWithLogitsLoss()\n",
    "    msr_dl = get_msr_dataloader(dev_data_embedded, dev_labels, eval_batch_size, shuffle=False)\n",
    "\n",
    "    # YOUR CODE HERE\n",
    "    with torch.no_grad():\n",
    "        for batch in msr_dl:\n",
    "            str1 = batch[\"string1\"].to(device)\n",
    "            str2 = batch[\"string2\"].to(device)\n",
    "            labels = batch[\"label\"].to(device)\n",
    "            \n",
    "            forward = model.forward(str1, str2)\n",
    "            pred = torch.sigmoid(forward) >= 0.5\n",
    "            pred = pred.squeeze()\n",
    "            \n",
    "            metrics[\"loss\"] += loss_fn(forward.squeeze(), labels).item()\n",
    "            metrics[\"accuracy\"] += accuracy(pred, labels)\n",
    "            metrics[\"precision\"] += precision(pred, labels)\n",
    "            metrics[\"recall\"] += recall(pred, labels)\n",
    "            metrics[\"f1\"] += f1_score(pred, labels)\n",
    "    \n",
    "    metrics[\"loss\"] /= len(msr_dl)\n",
    "    metrics[\"accuracy\"] /= len(msr_dl)\n",
    "    metrics[\"precision\"] /= len(msr_dl)\n",
    "    metrics[\"recall\"] /= len(msr_dl)\n",
    "    metrics[\"f1\"] /= len(msr_dl)\n",
    "\n",
    "    return metrics\n",
    "\n",
    "def train_msr(\n",
    "    model: PNN,\n",
    "    train_data_embedded: List[Dict[str, torch.Tensor]],\n",
    "    train_labels: List[float],\n",
    "    dev_data_embedded: List[Dict[str, torch.Tensor]],\n",
    "    dev_labels: List[float],\n",
    "    lr: float = 1e-3,\n",
    "    batch_size: int = 32,\n",
    "    eval_batch_size: int = 128,\n",
    "    n_epochs: int = 10,\n",
    "    device: str = \"cpu\",\n",
    "    verbose: bool = True,\n",
    "):\n",
    "    \"\"\"\n",
    "    Runs the training loop for `n_epochs` epochs on the SocialIQA dataset.\n",
    "\n",
    "    Inputs:\n",
    "    - model: The ParaphaseNN model to be trained\n",
    "    - train_data_embedded: List of dictionaries containing the embedded context, question and answers for the training data\n",
    "    - train_labels: List of labels for the training data\n",
    "    - dev_data_embedded: List of dictionaries containing the embedded context, question and answers for the validation data\n",
    "    - dev_labels: List of labels for the validation data\n",
    "    - lr: Learning rate for the optimizer\n",
    "    - n_epochs: Number of epochs to train the model\n",
    "\n",
    "    Returns:\n",
    "    - train_losses: List of training losses for each epoch\n",
    "    - dev_metrics: List[Dict[str, float]] of validation metrics (loss, accuracy) for each epoch\n",
    "    \"\"\"\n",
    "    # We remove all the training wheels and let you implement the training loop for the SocialIQA dataset\n",
    "    # YOUR CODE HERE\n",
    "    train_dl = get_msr_dataloader(train_data_embedded, train_labels, batch_size, shuffle=True)\n",
    "    \n",
    "    # transfer model to device\n",
    "    model.to(device)\n",
    "    \n",
    "    # define CrossEntropy loss function\n",
    "    # true_weight = 1 / (sum(train_labels) / len(train_labels))\n",
    "    # loss_fn = nn.BCEWithLogitsLoss(pos_weight=torch.tensor([true_weight]).to(device))\n",
    "    loss_fn = nn.BCEWithLogitsLoss()\n",
    "    \n",
    "    # Define adam optimizer\n",
    "    optimizer = Adam(model.parameters(), lr=lr, weight_decay=1e-4)\n",
    "    \n",
    "    train_losses = []\n",
    "    dev_metrics = []\n",
    "    \n",
    "    for epoch in range(n_epochs):\n",
    "        model.train()\n",
    "        train_epoch_loss = 0.0\n",
    "        for batch in train_dl:      \n",
    "            optimizer.zero_grad()\n",
    "            \n",
    "            str1 = batch[\"string1\"].to(device)\n",
    "            str2 = batch[\"string2\"].to(device)\n",
    "            labels = batch[\"label\"].to(device)\n",
    "            \n",
    "            forward = model.forward(str1, str2)\n",
    "            batch_loss = loss_fn(forward.squeeze(), labels)\n",
    "            \n",
    "            # backward pass and update weights\n",
    "            batch_loss.backward()\n",
    "            \n",
    "            # step of optimization\n",
    "            optimizer.step()\n",
    "            \n",
    "            train_epoch_loss += batch_loss.item()\n",
    "        \n",
    "        train_epoch_loss /= len(train_dl)\n",
    "        train_losses.append(train_epoch_loss)\n",
    "        \n",
    "        eval_metrics = evaluate_msr(model, dev_data_embedded, dev_labels, eval_batch_size, device)\n",
    "        dev_metrics.append(eval_metrics)\n",
    "        \n",
    "        if verbose:\n",
    "            print(\"Epoch: %.d, Train Loss: %.4f, Dev Loss: %.4f, Dev Accuracy: %.4f, Dev Precision: %.4f, Dev Recall: %.4f, Dev F1: %.4f\" % (epoch + 1, train_epoch_loss, eval_metrics[\"loss\"], eval_metrics[\"accuracy\"], eval_metrics[\"precision\"], eval_metrics[\"recall\"], eval_metrics[\"f1\"]))\n",
    "\n",
    "    return train_losses, dev_metrics"
   ],
   "id": "151078b4aec80f45",
   "outputs": [],
   "execution_count": 77
  },
  {
   "metadata": {
    "ExecuteTime": {
     "end_time": "2024-11-16T22:18:48.238808Z",
     "start_time": "2024-11-16T22:18:28.360207Z"
    }
   },
   "cell_type": "code",
   "source": [
    "# testing train_msr\n",
    "model = PNN(input_dim=50, hidden_dim=128, output_dim=1)\n",
    "train_msr(\n",
    "    model, X_train_glove, y_train, X_test_glove, y_test,\n",
    "    lr=1e-3, n_epochs=100, batch_size=32, device='cuda', verbose=True\n",
    ")"
   ],
   "id": "dc747b65dad5d343",
   "outputs": [
    {
     "name": "stdout",
     "output_type": "stream",
     "text": [
      "Epoch: 1, Train Loss: 0.5989, Dev Loss: 0.5822, Dev Accuracy: 0.6903, Dev Precision: 0.6951, Dev Recall: 0.9512, Dev F1: 0.8024\n",
      "Epoch: 2, Train Loss: 0.5502, Dev Loss: 0.5641, Dev Accuracy: 0.7228, Dev Precision: 0.7426, Dev Recall: 0.8923, Dev F1: 0.8097\n",
      "Epoch: 3, Train Loss: 0.5236, Dev Loss: 0.5483, Dev Accuracy: 0.7261, Dev Precision: 0.7466, Dev Recall: 0.8904, Dev F1: 0.8113\n",
      "Epoch: 4, Train Loss: 0.5002, Dev Loss: 0.5389, Dev Accuracy: 0.7363, Dev Precision: 0.7630, Dev Recall: 0.8742, Dev F1: 0.8140\n",
      "Epoch: 5, Train Loss: 0.4792, Dev Loss: 0.5401, Dev Accuracy: 0.7351, Dev Precision: 0.7918, Dev Recall: 0.8160, Dev F1: 0.8026\n",
      "Epoch: 6, Train Loss: 0.4543, Dev Loss: 0.5407, Dev Accuracy: 0.7322, Dev Precision: 0.7510, Dev Recall: 0.8942, Dev F1: 0.8155\n",
      "Epoch: 7, Train Loss: 0.4411, Dev Loss: 0.5388, Dev Accuracy: 0.7351, Dev Precision: 0.7521, Dev Recall: 0.8970, Dev F1: 0.8173\n",
      "Epoch: 8, Train Loss: 0.4189, Dev Loss: 0.5338, Dev Accuracy: 0.7300, Dev Precision: 0.7652, Dev Recall: 0.8574, Dev F1: 0.8077\n",
      "Epoch: 9, Train Loss: 0.4065, Dev Loss: 0.5401, Dev Accuracy: 0.7355, Dev Precision: 0.7643, Dev Recall: 0.8695, Dev F1: 0.8129\n",
      "Epoch: 10, Train Loss: 0.3893, Dev Loss: 0.5404, Dev Accuracy: 0.7264, Dev Precision: 0.7657, Dev Recall: 0.8485, Dev F1: 0.8041\n",
      "Epoch: 11, Train Loss: 0.3767, Dev Loss: 0.5504, Dev Accuracy: 0.7256, Dev Precision: 0.7596, Dev Recall: 0.8588, Dev F1: 0.8052\n",
      "Epoch: 12, Train Loss: 0.3625, Dev Loss: 0.5428, Dev Accuracy: 0.7265, Dev Precision: 0.7640, Dev Recall: 0.8511, Dev F1: 0.8043\n",
      "Epoch: 13, Train Loss: 0.3456, Dev Loss: 0.5555, Dev Accuracy: 0.7204, Dev Precision: 0.7634, Dev Recall: 0.8398, Dev F1: 0.7987\n",
      "Epoch: 14, Train Loss: 0.3469, Dev Loss: 0.5509, Dev Accuracy: 0.7242, Dev Precision: 0.7635, Dev Recall: 0.8471, Dev F1: 0.8023\n",
      "Epoch: 15, Train Loss: 0.3297, Dev Loss: 0.5671, Dev Accuracy: 0.7221, Dev Precision: 0.7605, Dev Recall: 0.8486, Dev F1: 0.8012\n",
      "Epoch: 16, Train Loss: 0.3210, Dev Loss: 0.5611, Dev Accuracy: 0.7245, Dev Precision: 0.7671, Dev Recall: 0.8391, Dev F1: 0.8008\n",
      "Epoch: 17, Train Loss: 0.3117, Dev Loss: 0.5665, Dev Accuracy: 0.7279, Dev Precision: 0.7732, Dev Recall: 0.8336, Dev F1: 0.8015\n",
      "Epoch: 18, Train Loss: 0.2904, Dev Loss: 0.5703, Dev Accuracy: 0.7238, Dev Precision: 0.7796, Dev Recall: 0.8136, Dev F1: 0.7954\n",
      "Epoch: 19, Train Loss: 0.2884, Dev Loss: 0.5771, Dev Accuracy: 0.7278, Dev Precision: 0.7697, Dev Recall: 0.8407, Dev F1: 0.8028\n",
      "Epoch: 20, Train Loss: 0.2833, Dev Loss: 0.5884, Dev Accuracy: 0.7255, Dev Precision: 0.7693, Dev Recall: 0.8368, Dev F1: 0.8010\n",
      "Epoch: 21, Train Loss: 0.2735, Dev Loss: 0.5867, Dev Accuracy: 0.7216, Dev Precision: 0.7639, Dev Recall: 0.8397, Dev F1: 0.7992\n",
      "Epoch: 22, Train Loss: 0.2661, Dev Loss: 0.5986, Dev Accuracy: 0.7233, Dev Precision: 0.7658, Dev Recall: 0.8394, Dev F1: 0.8001\n",
      "Epoch: 23, Train Loss: 0.2571, Dev Loss: 0.6070, Dev Accuracy: 0.7255, Dev Precision: 0.7704, Dev Recall: 0.8336, Dev F1: 0.8002\n",
      "Epoch: 24, Train Loss: 0.2429, Dev Loss: 0.6073, Dev Accuracy: 0.7307, Dev Precision: 0.7778, Dev Recall: 0.8329, Dev F1: 0.8034\n",
      "Epoch: 25, Train Loss: 0.2404, Dev Loss: 0.6170, Dev Accuracy: 0.7223, Dev Precision: 0.7731, Dev Recall: 0.8209, Dev F1: 0.7956\n",
      "Epoch: 26, Train Loss: 0.2377, Dev Loss: 0.6286, Dev Accuracy: 0.7200, Dev Precision: 0.7671, Dev Recall: 0.8307, Dev F1: 0.7967\n",
      "Epoch: 27, Train Loss: 0.2241, Dev Loss: 0.6172, Dev Accuracy: 0.7245, Dev Precision: 0.7738, Dev Recall: 0.8268, Dev F1: 0.7983\n",
      "Epoch: 28, Train Loss: 0.2254, Dev Loss: 0.6203, Dev Accuracy: 0.7301, Dev Precision: 0.7750, Dev Recall: 0.8363, Dev F1: 0.8035\n",
      "Epoch: 29, Train Loss: 0.2157, Dev Loss: 0.6459, Dev Accuracy: 0.7246, Dev Precision: 0.7652, Dev Recall: 0.8425, Dev F1: 0.8013\n",
      "Epoch: 30, Train Loss: 0.2095, Dev Loss: 0.6566, Dev Accuracy: 0.7250, Dev Precision: 0.7706, Dev Recall: 0.8325, Dev F1: 0.7994\n",
      "Epoch: 31, Train Loss: 0.2067, Dev Loss: 0.6515, Dev Accuracy: 0.7306, Dev Precision: 0.7748, Dev Recall: 0.8377, Dev F1: 0.8040\n",
      "Epoch: 32, Train Loss: 0.2039, Dev Loss: 0.6425, Dev Accuracy: 0.7295, Dev Precision: 0.7815, Dev Recall: 0.8216, Dev F1: 0.8001\n",
      "Epoch: 33, Train Loss: 0.1928, Dev Loss: 0.6465, Dev Accuracy: 0.7345, Dev Precision: 0.7813, Dev Recall: 0.8329, Dev F1: 0.8054\n",
      "Epoch: 34, Train Loss: 0.1841, Dev Loss: 0.6717, Dev Accuracy: 0.7239, Dev Precision: 0.7693, Dev Recall: 0.8351, Dev F1: 0.7999\n",
      "Epoch: 35, Train Loss: 0.1832, Dev Loss: 0.6701, Dev Accuracy: 0.7227, Dev Precision: 0.7870, Dev Recall: 0.8005, Dev F1: 0.7921\n",
      "Epoch: 36, Train Loss: 0.1760, Dev Loss: 0.6796, Dev Accuracy: 0.7244, Dev Precision: 0.7685, Dev Recall: 0.8386, Dev F1: 0.8009\n",
      "Epoch: 37, Train Loss: 0.1727, Dev Loss: 0.6815, Dev Accuracy: 0.7184, Dev Precision: 0.7674, Dev Recall: 0.8271, Dev F1: 0.7950\n",
      "Epoch: 38, Train Loss: 0.1700, Dev Loss: 0.6855, Dev Accuracy: 0.7272, Dev Precision: 0.7689, Dev Recall: 0.8431, Dev F1: 0.8031\n",
      "Epoch: 39, Train Loss: 0.1743, Dev Loss: 0.7026, Dev Accuracy: 0.7300, Dev Precision: 0.7697, Dev Recall: 0.8460, Dev F1: 0.8052\n",
      "Epoch: 40, Train Loss: 0.1715, Dev Loss: 0.7021, Dev Accuracy: 0.7178, Dev Precision: 0.7668, Dev Recall: 0.8247, Dev F1: 0.7938\n",
      "Epoch: 41, Train Loss: 0.1618, Dev Loss: 0.7192, Dev Accuracy: 0.7189, Dev Precision: 0.7728, Dev Recall: 0.8169, Dev F1: 0.7932\n",
      "Epoch: 42, Train Loss: 0.1520, Dev Loss: 0.7282, Dev Accuracy: 0.7217, Dev Precision: 0.7708, Dev Recall: 0.8278, Dev F1: 0.7971\n",
      "Epoch: 43, Train Loss: 0.1541, Dev Loss: 0.7230, Dev Accuracy: 0.7182, Dev Precision: 0.7726, Dev Recall: 0.8154, Dev F1: 0.7925\n",
      "Epoch: 44, Train Loss: 0.1521, Dev Loss: 0.7362, Dev Accuracy: 0.7266, Dev Precision: 0.7844, Dev Recall: 0.8114, Dev F1: 0.7965\n",
      "Epoch: 45, Train Loss: 0.1443, Dev Loss: 0.7345, Dev Accuracy: 0.7212, Dev Precision: 0.7737, Dev Recall: 0.8200, Dev F1: 0.7949\n",
      "Epoch: 46, Train Loss: 0.1327, Dev Loss: 0.7627, Dev Accuracy: 0.7161, Dev Precision: 0.7684, Dev Recall: 0.8191, Dev F1: 0.7917\n",
      "Epoch: 47, Train Loss: 0.1444, Dev Loss: 0.7665, Dev Accuracy: 0.7183, Dev Precision: 0.7669, Dev Recall: 0.8265, Dev F1: 0.7945\n",
      "Epoch: 48, Train Loss: 0.1362, Dev Loss: 0.7526, Dev Accuracy: 0.7261, Dev Precision: 0.7769, Dev Recall: 0.8241, Dev F1: 0.7989\n",
      "Epoch: 49, Train Loss: 0.1398, Dev Loss: 0.7549, Dev Accuracy: 0.7240, Dev Precision: 0.7824, Dev Recall: 0.8094, Dev F1: 0.7942\n",
      "Epoch: 50, Train Loss: 0.1339, Dev Loss: 0.7694, Dev Accuracy: 0.7183, Dev Precision: 0.7769, Dev Recall: 0.8084, Dev F1: 0.7912\n",
      "Epoch: 51, Train Loss: 0.1307, Dev Loss: 0.7802, Dev Accuracy: 0.7273, Dev Precision: 0.7702, Dev Recall: 0.8415, Dev F1: 0.8030\n",
      "Epoch: 52, Train Loss: 0.1299, Dev Loss: 0.8067, Dev Accuracy: 0.7183, Dev Precision: 0.7597, Dev Recall: 0.8430, Dev F1: 0.7982\n",
      "Epoch: 53, Train Loss: 0.1264, Dev Loss: 0.7878, Dev Accuracy: 0.7175, Dev Precision: 0.7888, Dev Recall: 0.7846, Dev F1: 0.7858\n",
      "Epoch: 54, Train Loss: 0.1248, Dev Loss: 0.8073, Dev Accuracy: 0.7228, Dev Precision: 0.7776, Dev Recall: 0.8179, Dev F1: 0.7958\n",
      "Epoch: 55, Train Loss: 0.1191, Dev Loss: 0.8088, Dev Accuracy: 0.7121, Dev Precision: 0.7743, Dev Recall: 0.8007, Dev F1: 0.7861\n",
      "Epoch: 56, Train Loss: 0.1179, Dev Loss: 0.8358, Dev Accuracy: 0.7307, Dev Precision: 0.7714, Dev Recall: 0.8452, Dev F1: 0.8054\n",
      "Epoch: 57, Train Loss: 0.1199, Dev Loss: 0.8329, Dev Accuracy: 0.7272, Dev Precision: 0.7728, Dev Recall: 0.8349, Dev F1: 0.8016\n",
      "Epoch: 58, Train Loss: 0.1142, Dev Loss: 0.8410, Dev Accuracy: 0.7200, Dev Precision: 0.7636, Dev Recall: 0.8370, Dev F1: 0.7977\n",
      "Epoch: 59, Train Loss: 0.1166, Dev Loss: 0.8274, Dev Accuracy: 0.7155, Dev Precision: 0.7754, Dev Recall: 0.8033, Dev F1: 0.7880\n",
      "Epoch: 60, Train Loss: 0.1185, Dev Loss: 0.8464, Dev Accuracy: 0.7218, Dev Precision: 0.7698, Dev Recall: 0.8271, Dev F1: 0.7964\n",
      "Epoch: 61, Train Loss: 0.1089, Dev Loss: 0.8338, Dev Accuracy: 0.7217, Dev Precision: 0.7803, Dev Recall: 0.8081, Dev F1: 0.7929\n",
      "Epoch: 62, Train Loss: 0.1060, Dev Loss: 0.8343, Dev Accuracy: 0.7211, Dev Precision: 0.7751, Dev Recall: 0.8170, Dev F1: 0.7945\n",
      "Epoch: 63, Train Loss: 0.1112, Dev Loss: 0.8606, Dev Accuracy: 0.7189, Dev Precision: 0.7729, Dev Recall: 0.8165, Dev F1: 0.7929\n",
      "Epoch: 64, Train Loss: 0.0998, Dev Loss: 0.8617, Dev Accuracy: 0.7234, Dev Precision: 0.7736, Dev Recall: 0.8251, Dev F1: 0.7974\n",
      "Epoch: 65, Train Loss: 0.1035, Dev Loss: 0.8571, Dev Accuracy: 0.7261, Dev Precision: 0.7759, Dev Recall: 0.8278, Dev F1: 0.7997\n",
      "Epoch: 66, Train Loss: 0.1054, Dev Loss: 0.8654, Dev Accuracy: 0.7237, Dev Precision: 0.7947, Dev Recall: 0.7872, Dev F1: 0.7900\n",
      "Epoch: 67, Train Loss: 0.1019, Dev Loss: 0.8640, Dev Accuracy: 0.7261, Dev Precision: 0.7776, Dev Recall: 0.8244, Dev F1: 0.7988\n",
      "Epoch: 68, Train Loss: 0.0988, Dev Loss: 0.8828, Dev Accuracy: 0.7289, Dev Precision: 0.7728, Dev Recall: 0.8383, Dev F1: 0.8028\n",
      "Epoch: 69, Train Loss: 0.1046, Dev Loss: 0.8817, Dev Accuracy: 0.7094, Dev Precision: 0.7714, Dev Recall: 0.7985, Dev F1: 0.7833\n",
      "Epoch: 70, Train Loss: 0.1002, Dev Loss: 0.8805, Dev Accuracy: 0.7201, Dev Precision: 0.7842, Dev Recall: 0.7992, Dev F1: 0.7901\n",
      "Epoch: 71, Train Loss: 0.0971, Dev Loss: 0.8886, Dev Accuracy: 0.7245, Dev Precision: 0.7770, Dev Recall: 0.8207, Dev F1: 0.7971\n",
      "Epoch: 72, Train Loss: 0.0971, Dev Loss: 0.9009, Dev Accuracy: 0.7058, Dev Precision: 0.7740, Dev Recall: 0.7880, Dev F1: 0.7796\n",
      "Epoch: 73, Train Loss: 0.0906, Dev Loss: 0.9350, Dev Accuracy: 0.7189, Dev Precision: 0.7587, Dev Recall: 0.8450, Dev F1: 0.7986\n",
      "Epoch: 74, Train Loss: 0.0995, Dev Loss: 0.8974, Dev Accuracy: 0.7137, Dev Precision: 0.7718, Dev Recall: 0.8077, Dev F1: 0.7881\n",
      "Epoch: 75, Train Loss: 0.0958, Dev Loss: 0.9454, Dev Accuracy: 0.7245, Dev Precision: 0.7658, Dev Recall: 0.8428, Dev F1: 0.8012\n",
      "Epoch: 76, Train Loss: 0.0872, Dev Loss: 0.9204, Dev Accuracy: 0.7160, Dev Precision: 0.7652, Dev Recall: 0.8257, Dev F1: 0.7932\n",
      "Epoch: 77, Train Loss: 0.0948, Dev Loss: 0.9117, Dev Accuracy: 0.7170, Dev Precision: 0.7703, Dev Recall: 0.8190, Dev F1: 0.7926\n",
      "Epoch: 78, Train Loss: 0.0977, Dev Loss: 0.9208, Dev Accuracy: 0.7150, Dev Precision: 0.7697, Dev Recall: 0.8160, Dev F1: 0.7907\n",
      "Epoch: 79, Train Loss: 0.0875, Dev Loss: 0.9307, Dev Accuracy: 0.7284, Dev Precision: 0.7684, Dev Recall: 0.8462, Dev F1: 0.8043\n",
      "Epoch: 80, Train Loss: 0.0829, Dev Loss: 0.9233, Dev Accuracy: 0.7217, Dev Precision: 0.7811, Dev Recall: 0.8083, Dev F1: 0.7928\n",
      "Epoch: 81, Train Loss: 0.0925, Dev Loss: 0.9483, Dev Accuracy: 0.7144, Dev Precision: 0.7685, Dev Recall: 0.8146, Dev F1: 0.7898\n",
      "Epoch: 82, Train Loss: 0.0859, Dev Loss: 0.9529, Dev Accuracy: 0.7109, Dev Precision: 0.7647, Dev Recall: 0.8151, Dev F1: 0.7883\n",
      "Epoch: 83, Train Loss: 0.0818, Dev Loss: 0.9599, Dev Accuracy: 0.7170, Dev Precision: 0.7647, Dev Recall: 0.8286, Dev F1: 0.7943\n",
      "Epoch: 84, Train Loss: 0.0846, Dev Loss: 0.9749, Dev Accuracy: 0.7204, Dev Precision: 0.7694, Dev Recall: 0.8269, Dev F1: 0.7959\n",
      "Epoch: 85, Train Loss: 0.0854, Dev Loss: 0.9899, Dev Accuracy: 0.7194, Dev Precision: 0.7637, Dev Recall: 0.8368, Dev F1: 0.7972\n",
      "Epoch: 86, Train Loss: 0.0871, Dev Loss: 0.9700, Dev Accuracy: 0.7199, Dev Precision: 0.7678, Dev Recall: 0.8279, Dev F1: 0.7959\n",
      "Epoch: 87, Train Loss: 0.0814, Dev Loss: 0.9800, Dev Accuracy: 0.7228, Dev Precision: 0.7715, Dev Recall: 0.8261, Dev F1: 0.7970\n",
      "Epoch: 88, Train Loss: 0.0788, Dev Loss: 0.9718, Dev Accuracy: 0.7103, Dev Precision: 0.7774, Dev Recall: 0.7899, Dev F1: 0.7824\n",
      "Epoch: 89, Train Loss: 0.0812, Dev Loss: 0.9980, Dev Accuracy: 0.7182, Dev Precision: 0.7691, Dev Recall: 0.8219, Dev F1: 0.7936\n",
      "Epoch: 90, Train Loss: 0.0819, Dev Loss: 1.0067, Dev Accuracy: 0.7116, Dev Precision: 0.7657, Dev Recall: 0.8147, Dev F1: 0.7880\n",
      "Epoch: 91, Train Loss: 0.0820, Dev Loss: 0.9905, Dev Accuracy: 0.7104, Dev Precision: 0.7671, Dev Recall: 0.8087, Dev F1: 0.7863\n",
      "Epoch: 92, Train Loss: 0.0802, Dev Loss: 0.9903, Dev Accuracy: 0.7076, Dev Precision: 0.7727, Dev Recall: 0.7935, Dev F1: 0.7815\n",
      "Epoch: 93, Train Loss: 0.0813, Dev Loss: 1.0314, Dev Accuracy: 0.7161, Dev Precision: 0.7615, Dev Recall: 0.8337, Dev F1: 0.7947\n",
      "Epoch: 94, Train Loss: 0.0786, Dev Loss: 1.0127, Dev Accuracy: 0.7075, Dev Precision: 0.7674, Dev Recall: 0.8049, Dev F1: 0.7842\n",
      "Epoch: 95, Train Loss: 0.0720, Dev Loss: 1.0418, Dev Accuracy: 0.7183, Dev Precision: 0.7719, Dev Recall: 0.8160, Dev F1: 0.7925\n",
      "Epoch: 96, Train Loss: 0.0779, Dev Loss: 1.0392, Dev Accuracy: 0.7070, Dev Precision: 0.7670, Dev Recall: 0.8041, Dev F1: 0.7838\n",
      "Epoch: 97, Train Loss: 0.0709, Dev Loss: 1.0249, Dev Accuracy: 0.7162, Dev Precision: 0.7680, Dev Recall: 0.8210, Dev F1: 0.7924\n",
      "Epoch: 98, Train Loss: 0.0775, Dev Loss: 1.0270, Dev Accuracy: 0.7162, Dev Precision: 0.7704, Dev Recall: 0.8159, Dev F1: 0.7914\n",
      "Epoch: 99, Train Loss: 0.0855, Dev Loss: 1.0163, Dev Accuracy: 0.7150, Dev Precision: 0.7709, Dev Recall: 0.8124, Dev F1: 0.7900\n",
      "Epoch: 100, Train Loss: 0.0823, Dev Loss: 1.0168, Dev Accuracy: 0.7131, Dev Precision: 0.7736, Dev Recall: 0.8027, Dev F1: 0.7870\n"
     ]
    }
   ],
   "execution_count": 45
  },
  {
   "metadata": {
    "ExecuteTime": {
     "end_time": "2024-11-16T23:00:16.969187Z",
     "start_time": "2024-11-16T23:00:16.964661Z"
    }
   },
   "cell_type": "code",
   "source": [
    "def train_msr_kfold(\n",
    "    train_data: List[Dict[str, torch.Tensor]],\n",
    "    train_labels: List[int],\n",
    "    hidden_dim: int = 128,\n",
    "    num_layers: int = 1,\n",
    "    lr: float = 1e-3,\n",
    "    n_epochs: int = 10,\n",
    "    batch_size: int = 32,\n",
    "    device: str = \"cpu\",\n",
    "    verbose: bool = True,\n",
    "    k: int = 10  # Number of folds\n",
    "):\n",
    "    \"\"\"\n",
    "    Trains the model using K-fold cross-validation.\n",
    "\n",
    "    Inputs:\n",
    "    - train_data: List of dictionaries containing the embedded data for training.\n",
    "    - train_labels: List of labels for the training data.\n",
    "    - hidden_dim: Hidden dimension for the model.\n",
    "    - lr: Learning rate for the optimizer.\n",
    "    - n_epochs: Number of epochs to train the model.\n",
    "    - batch_size: Batch size for training.\n",
    "    - device: Device to run the training on.\n",
    "    - verbose: Whether to print the training progress.\n",
    "    - k: Number of folds for cross-validation.\n",
    "\n",
    "    Returns:\n",
    "    - train_losses: List of training losses for each fold.\n",
    "    - dev_metrics: List of validation metrics (loss, accuracy) for each fold.\n",
    "    \"\"\"\n",
    "    train_data = np.array(train_data)\n",
    "    train_labels = np.array(train_labels)\n",
    "    \n",
    "    train_losses = []\n",
    "    dev_f1s = []\n",
    "\n",
    "    # K-Fold Cross Validation\n",
    "    folds = np.array_split(np.arange(len(train_data), dtype=np.int32), k)\n",
    "\n",
    "    for fold in range(k):\n",
    "        # Create validation set\n",
    "        val_idx = folds[fold]\n",
    "        dev = train_data[val_idx]\n",
    "        dev_labels_fold = train_labels[val_idx]\n",
    "    \n",
    "        # Create training set by excluding validation indices\n",
    "        train_idx = np.concatenate([folds[i] for i in range(k) if i != fold])\n",
    "        train = train_data[train_idx]\n",
    "        train_labels_fold = train_labels[train_idx]\n",
    "\n",
    "        # Initialize model\n",
    "        input_dim = train[0][\"string1\"].shape[0]\n",
    "        model = PNN(input_dim=input_dim, hidden_dim=hidden_dim, output_dim=1, hidden_layers=num_layers)\n",
    "\n",
    "        # Train model\n",
    "        train_loss, dev_metric = train_msr(\n",
    "            model, train, train_labels_fold, dev, dev_labels_fold,\n",
    "            lr=lr, n_epochs=n_epochs, batch_size=batch_size, device=device, verbose=False\n",
    "        )\n",
    "\n",
    "        # Collect metrics\n",
    "        train_losses.append(train_loss)\n",
    "        dev_f1s.append(dev_metric[-1]['f1'])\n",
    "\n",
    "        if verbose:\n",
    "            print(f\"Fold {fold + 1}/{k}: Train Loss = {train_loss[-1]:.4f}, Dev Loss = {dev_metric[-1]['loss']}, Dev F1 = {dev_metric[-1]['f1']}\")\n",
    "\n",
    "    return np.mean(dev_f1s)"
   ],
   "id": "48a7e8bc7bac832d",
   "outputs": [],
   "execution_count": 98
  },
  {
   "metadata": {
    "ExecuteTime": {
     "end_time": "2024-11-16T23:18:00.888604Z",
     "start_time": "2024-11-16T23:15:52.587067Z"
    }
   },
   "cell_type": "code",
   "source": [
    "# effect of depth on the model\n",
    "\n",
    "def get_effect_of_depth_on_model():\n",
    "    hidden_dim = 1024\n",
    "    num_layers = np.arange(1, 20, 2)\n",
    "    f1_scores = []\n",
    "    \n",
    "    for layers in tqdm(num_layers):\n",
    "        model = PNN(input_dim=768, hidden_dim=hidden_dim, output_dim=1, hidden_layers=layers)\n",
    "        train_losses, dev_metrics = train_msr(model, X_train_st, y_train, X_test_st, y_test, n_epochs=15, device=DEVICE, verbose=False)\n",
    "        f1_scores.append(dev_metrics[-1][\"f1\"])\n",
    "        \n",
    "    # plot the results\n",
    "    plt.figure()\n",
    "    plt.plot(num_layers, f1_scores, marker='o')\n",
    "    plt.xlabel(\"Number of Layers\")\n",
    "    plt.ylabel(\"F1 Score\")\n",
    "    plt.title(\"Effect of Depth on Model Performance\")\n",
    "    plt.show()\n",
    "\n",
    "# get_effect_of_depth_on_model()"
   ],
   "id": "5abe1f4b5e686eef",
   "outputs": [
    {
     "name": "stderr",
     "output_type": "stream",
     "text": [
      "100%|██████████| 10/10 [02:08<00:00, 12.82s/it]\n"
     ]
    },
    {
     "data": {
      "text/plain": [
       "<Figure size 640x480 with 1 Axes>"
      ],
      "image/png": "[encoded data removed]"
     },
     "metadata": {},
     "output_type": "display_data"
    }
   ],
   "execution_count": 110
  },
  {
   "metadata": {
    "ExecuteTime": {
     "end_time": "2024-11-16T23:36:09.935358Z",
     "start_time": "2024-11-16T23:27:49.907116Z"
    }
   },
   "cell_type": "code",
   "source": [
    "def tune_hyperparams(input_type: str = \"st\"):\n",
    "    hidden_dims = [128, 256, 512, 1024, 2048]\n",
    "    num_layers = [1, 2, 3, 4]\n",
    "    lrs = np.logspace(-5, -1, 5)\n",
    "    n_epochs = np.arange(5, 20, 5)\n",
    "    batch_sizes = [32, 64, 128]\n",
    "    best_f1 = 0\n",
    "    best_params = None\n",
    "    \n",
    "    if input_type == \"st\":\n",
    "        train_data = X_train_st\n",
    "    else:\n",
    "        train_data = X_train_glove\n",
    "    \n",
    "    # random search for hyperparameter tuning\n",
    "    for _ in tqdm(range(30)):\n",
    "        hidden_dim = np.random.choice(hidden_dims)\n",
    "        layers = int(np.random.choice(num_layers))\n",
    "        lr = np.random.choice(lrs)\n",
    "        n_epoch = int(np.random.choice(n_epochs))\n",
    "        batch_size = int(np.random.choice(batch_sizes))\n",
    "    \n",
    "        f1 = train_msr_kfold(\n",
    "            train_data=train_data,\n",
    "            train_labels=y_train,\n",
    "            hidden_dim=hidden_dim,\n",
    "            num_layers=layers,\n",
    "            lr=lr,\n",
    "            n_epochs=n_epoch,\n",
    "            batch_size=batch_size,\n",
    "            device=DEVICE,\n",
    "            verbose=False\n",
    "        )\n",
    "    \n",
    "        if f1 > best_f1:\n",
    "            best_f1 = f1\n",
    "            best_params = {\n",
    "                \"hidden_dim\": hidden_dim,\n",
    "                \"num_layers\": layers,\n",
    "                \"lr\": lr,\n",
    "                \"n_epochs\": n_epoch,\n",
    "                \"batch_size\": batch_size\n",
    "            }\n",
    "            \n",
    "            print(f\"Best F1: {best_f1}\")\n",
    "            print(f\"Best Hyperparameters: {best_params}\")\n",
    "    \n",
    "    print(f\"Final Best F1: {best_f1}\")\n",
    "    print(f\"Final Best Hyperparameters: {best_params}\")\n",
    "    \n",
    "    return best_params\n",
    "\n",
    "# tune_hyperparams(\"glove\")"
   ],
   "id": "ea5f37feb0732f03",
   "outputs": [
    {
     "name": "stderr",
     "output_type": "stream",
     "text": [
      "  3%|▎         | 1/30 [00:14<07:01, 14.52s/it]"
     ]
    },
    {
     "name": "stdout",
     "output_type": "stream",
     "text": [
      "Best F1: 0.8018251283753838\n",
      "Best Hyperparameters: {'hidden_dim': 1024, 'num_layers': 3, 'lr': 0.01, 'n_epochs': 5, 'batch_size': 32}\n"
     ]
    },
    {
     "name": "stderr",
     "output_type": "stream",
     "text": [
      "  7%|▋         | 2/30 [00:28<06:37, 14.18s/it]"
     ]
    },
    {
     "name": "stdout",
     "output_type": "stream",
     "text": [
      "Best F1: 0.8067737284345797\n",
      "Best Hyperparameters: {'hidden_dim': 128, 'num_layers': 3, 'lr': 0.001, 'n_epochs': 5, 'batch_size': 32}\n"
     ]
    },
    {
     "name": "stderr",
     "output_type": "stream",
     "text": [
      " 13%|█▎        | 4/30 [00:51<05:07, 11.81s/it]"
     ]
    },
    {
     "name": "stdout",
     "output_type": "stream",
     "text": [
      "Best F1: 0.8166205171607516\n",
      "Best Hyperparameters: {'hidden_dim': 512, 'num_layers': 2, 'lr': 0.0001, 'n_epochs': 10, 'batch_size': 128}\n"
     ]
    },
    {
     "name": "stderr",
     "output_type": "stream",
     "text": [
      "100%|██████████| 30/30 [08:20<00:00, 16.67s/it]"
     ]
    },
    {
     "name": "stdout",
     "output_type": "stream",
     "text": [
      "Final Best F1: 0.8166205171607516\n",
      "Final Best Hyperparameters: {'hidden_dim': 512, 'num_layers': 2, 'lr': 0.0001, 'n_epochs': 10, 'batch_size': 128}\n"
     ]
    },
    {
     "name": "stderr",
     "output_type": "stream",
     "text": [
      "\n"
     ]
    },
    {
     "data": {
      "text/plain": [
       "{'hidden_dim': 512,\n",
       " 'num_layers': 2,\n",
       " 'lr': 0.0001,\n",
       " 'n_epochs': 10,\n",
       " 'batch_size': 128}"
      ]
     },
     "execution_count": 121,
     "metadata": {},
     "output_type": "execute_result"
    }
   ],
   "execution_count": 121
  },
  {
   "metadata": {
    "ExecuteTime": {
     "end_time": "2024-11-21T22:09:49.877979Z",
     "start_time": "2024-11-21T22:09:49.498479Z"
    }
   },
   "cell_type": "code",
   "source": [
    "model_with_st = PNN(input_dim=768, hidden_dim=2048, output_dim=1, hidden_layers=1)\n",
    "model_with_glove = PNN(input_dim=50, hidden_dim=512, output_dim=1, hidden_layers=2)\n",
    "_ = train_msr(\n",
    "    model_with_st, X_train_st, y_train, X_test_st, y_test,\n",
    "    lr=0.001, n_epochs=10, batch_size=128, device='cuda', verbose=True\n",
    ")\n",
    "_ = train_msr(\n",
    "    model_with_glove, X_train_glove, y_train, X_test_glove, y_test,\n",
    "    lr=0.0001, n_epochs=10, batch_size=128, device='cuda', verbose=True\n",
    ")"
   ],
   "id": "914070f3366077d9",
   "outputs": [
    {
     "ename": "NameError",
     "evalue": "name 'PNN' is not defined",
     "output_type": "error",
     "traceback": [
      "\u001B[1;31m---------------------------------------------------------------------------\u001B[0m",
      "\u001B[1;31mNameError\u001B[0m                                 Traceback (most recent call last)",
      "Cell \u001B[1;32mIn[1], line 1\u001B[0m\n\u001B[1;32m----> 1\u001B[0m model_with_st \u001B[38;5;241m=\u001B[39m PNN(input_dim\u001B[38;5;241m=\u001B[39m\u001B[38;5;241m768\u001B[39m, hidden_dim\u001B[38;5;241m=\u001B[39m\u001B[38;5;241m2048\u001B[39m, output_dim\u001B[38;5;241m=\u001B[39m\u001B[38;5;241m1\u001B[39m, hidden_layers\u001B[38;5;241m=\u001B[39m\u001B[38;5;241m1\u001B[39m)\n\u001B[0;32m      2\u001B[0m model_with_glove \u001B[38;5;241m=\u001B[39m PNN(input_dim\u001B[38;5;241m=\u001B[39m\u001B[38;5;241m50\u001B[39m, hidden_dim\u001B[38;5;241m=\u001B[39m\u001B[38;5;241m512\u001B[39m, output_dim\u001B[38;5;241m=\u001B[39m\u001B[38;5;241m1\u001B[39m, hidden_layers\u001B[38;5;241m=\u001B[39m\u001B[38;5;241m2\u001B[39m)\n\u001B[0;32m      3\u001B[0m _ \u001B[38;5;241m=\u001B[39m train_msr(\n\u001B[0;32m      4\u001B[0m     model_with_st, X_train_st, y_train, X_test_st, y_test,\n\u001B[0;32m      5\u001B[0m     lr\u001B[38;5;241m=\u001B[39m\u001B[38;5;241m0.001\u001B[39m, n_epochs\u001B[38;5;241m=\u001B[39m\u001B[38;5;241m10\u001B[39m, batch_size\u001B[38;5;241m=\u001B[39m\u001B[38;5;241m128\u001B[39m, device\u001B[38;5;241m=\u001B[39m\u001B[38;5;124m'\u001B[39m\u001B[38;5;124mcuda\u001B[39m\u001B[38;5;124m'\u001B[39m, verbose\u001B[38;5;241m=\u001B[39m\u001B[38;5;28;01mTrue\u001B[39;00m\n\u001B[0;32m      6\u001B[0m )\n",
      "\u001B[1;31mNameError\u001B[0m: name 'PNN' is not defined"
     ]
    }
   ],
   "execution_count": 1
  },
  {
   "metadata": {
    "ExecuteTime": {
     "end_time": "2024-11-16T23:37:40.477096Z",
     "start_time": "2024-11-16T23:37:40.474090Z"
    }
   },
   "cell_type": "code",
   "source": [
    "# predict\n",
    "def predict(\n",
    "    model: PNN,\n",
    "    data: List[Dict[str, str]],\n",
    "    st_model: SentenceTransformer,\n",
    "    device: str = \"cpu\",\n",
    "):\n",
    "    \"\"\"\n",
    "    Predicts the labels for the data.\n",
    "\n",
    "    Inputs:\n",
    "    - model: The ParaphaseNN model\n",
    "    - data_embedded: List of dictionaries containing the embedded context, question and answers for the data\n",
    "\n",
    "    Returns:\n",
    "    - List of predicted labels\n",
    "    \"\"\"\n",
    "    model.to(device)\n",
    "    model.eval()\n",
    "    preds = []\n",
    "    \n",
    "    data_embedded = st_embed_msr(data, st_model, device=device)\n",
    "    \n",
    "    for i in range(len(data_embedded)):\n",
    "        str1 = data_embedded[i][\"string1\"].to(device)\n",
    "        str2 = data_embedded[i][\"string2\"].to(device)\n",
    "        if str1.dim() == 1:\n",
    "            str1 = str1.unsqueeze(0)\n",
    "            str2 = str2.unsqueeze(0)\n",
    "        with torch.no_grad():\n",
    "            forward = model.forward(str1, str2)\n",
    "            pred = torch.sigmoid(forward) >= 0.5\n",
    "            preds.append(pred.item())\n",
    "    return preds"
   ],
   "id": "b75bbca6883848da",
   "outputs": [],
   "execution_count": 124
  },
  {
   "metadata": {
    "ExecuteTime": {
     "end_time": "2024-11-16T23:39:12.669174Z",
     "start_time": "2024-11-16T23:39:12.508816Z"
    }
   },
   "cell_type": "code",
   "source": [
    "str1 = \"I saw meow at the store yesterday\"\n",
    "str2 = \"Then I'll meet Meow who will venture to the market tomorrow\"\n",
    "model.eval()\n",
    "model.to('cpu')\n",
    "\n",
    "print(predict(model_with_st, [{\"#1 String\": str1, \"#2 String\": str2}], st_model, device='cpu'))"
   ],
   "id": "1b30ccc5ad089cea",
   "outputs": [
    {
     "name": "stdout",
     "output_type": "stream",
     "text": [
      "[False]\n"
     ]
    }
   ],
   "execution_count": 128
  },
  {
   "metadata": {
    "ExecuteTime": {
     "end_time": "2024-11-16T23:39:35.744602Z",
     "start_time": "2024-11-16T23:39:35.734578Z"
    }
   },
   "cell_type": "code",
   "source": [
    "# save model in the msr folder\n",
    "torch.save(model_with_st.state_dict(), f\"{data_dir}/msr/model_st.pth\")\n",
    "torch.save(model_with_glove.state_dict(), f\"{data_dir}/msr/model_glove.pth\")"
   ],
   "id": "c1741a986f7f4fa6",
   "outputs": [],
   "execution_count": 129
  },
  {
   "metadata": {
    "ExecuteTime": {
     "end_time": "2024-11-16T23:39:45.663897Z",
     "start_time": "2024-11-16T23:39:45.629889Z"
    }
   },
   "cell_type": "code",
   "source": [
    "# load the model (ST)\n",
    "model = PNN(input_dim=768, hidden_dim=2048, output_dim=1, hidden_layers=1)\n",
    "model.load_state_dict(torch.load(f\"{data_dir}/msr/model.pth\"))\n",
    "model.to(DEVICE)\n",
    "model.eval()\n",
    "\n",
    "# Evaluate the model on the test set\n",
    "test_metrics = evaluate_msr(model, X_test_st, y_test, device=DEVICE)\n",
    "\n",
    "# Display test metrics\n",
    "pprint(test_metrics)"
   ],
   "id": "d6abd0157f74433b",
   "outputs": [
    {
     "name": "stdout",
     "output_type": "stream",
     "text": [
      "{'accuracy': 0.7496798155737705,\n",
      " 'f1': 0.8201168703527429,\n",
      " 'loss': 0.7070094432149615,\n",
      " 'precision': 0.7817812044318408,\n",
      " 'recall': 0.8639975912680173}\n"
     ]
    },
    {
     "name": "stderr",
     "output_type": "stream",
     "text": [
      "C:\\Users\\Rohan Mukherjee\\AppData\\Local\\Temp\\ipykernel_788624\\3395966179.py:3: FutureWarning: You are using `torch.load` with `weights_only=False` (the current default value), which uses the default pickle module implicitly. It is possible to construct malicious pickle data which will execute arbitrary code during unpickling (See https://github.com/pytorch/pytorch/blob/main/SECURITY.md#untrusted-models for more details). In a future release, the default value for `weights_only` will be flipped to `True`. This limits the functions that could be executed during unpickling. Arbitrary objects will no longer be allowed to be loaded via this mode unless they are explicitly allowlisted by the user via `torch.serialization.add_safe_globals`. We recommend you start setting `weights_only=True` for any use case where you don't have full control of the loaded file. Please open an issue on GitHub for any issues related to this experimental feature.\n",
      "  model.load_state_dict(torch.load(f\"{data_dir}/msr/model.pth\"))\n"
     ]
    }
   ],
   "execution_count": 130
  },
  {
   "metadata": {
    "ExecuteTime": {
     "end_time": "2024-11-16T23:40:16.580060Z",
     "start_time": "2024-11-16T23:40:16.545413Z"
    }
   },
   "cell_type": "code",
   "source": [
    "# load the model (Glove)\n",
    "model = PNN(input_dim=50, hidden_dim=512, output_dim=1, hidden_layers=2)\n",
    "model.load_state_dict(torch.load(f\"{data_dir}/msr/model_glove.pth\"))\n",
    "model.to(DEVICE)\n",
    "model.eval()\n",
    "\n",
    "# Evaluate the model on the test set\n",
    "test_metrics = evaluate_msr(model, X_test_glove, y_test, device=DEVICE)\n",
    "\n",
    "# Display test metrics\n",
    "pprint(test_metrics)"
   ],
   "id": "8a3b22e3908c02c3",
   "outputs": [
    {
     "name": "stdout",
     "output_type": "stream",
     "text": [
      "{'accuracy': 0.7153103044496488,\n",
      " 'f1': 0.8073136174754441,\n",
      " 'loss': 0.5555667792047773,\n",
      " 'precision': 0.7316298711272615,\n",
      " 'recall': 0.9029550515510593}\n"
     ]
    },
    {
     "name": "stderr",
     "output_type": "stream",
     "text": [
      "C:\\Users\\Rohan Mukherjee\\AppData\\Local\\Temp\\ipykernel_788624\\2573642455.py:3: FutureWarning: You are using `torch.load` with `weights_only=False` (the current default value), which uses the default pickle module implicitly. It is possible to construct malicious pickle data which will execute arbitrary code during unpickling (See https://github.com/pytorch/pytorch/blob/main/SECURITY.md#untrusted-models for more details). In a future release, the default value for `weights_only` will be flipped to `True`. This limits the functions that could be executed during unpickling. Arbitrary objects will no longer be allowed to be loaded via this mode unless they are explicitly allowlisted by the user via `torch.serialization.add_safe_globals`. We recommend you start setting `weights_only=True` for any use case where you don't have full control of the loaded file. Please open an issue on GitHub for any issues related to this experimental feature.\n",
      "  model.load_state_dict(torch.load(f\"{data_dir}/msr/model_glove.pth\"))\n"
     ]
    }
   ],
   "execution_count": 131
  }
 ],
 "metadata": {
  "kernelspec": {
   "display_name": "Python 3",
   "language": "python",
   "name": "python3"
  },
  "language_info": {
   "codemirror_mode": {
    "name": "ipython",
    "version": 2
   },
   "file_extension": ".py",
   "mimetype": "text/x-python",
   "name": "python",
   "nbconvert_exporter": "python",
   "pygments_lexer": "ipython2",
   "version": "2.7.6"
  }
 },
 "nbformat": 4,
 "nbformat_minor": 5
}
