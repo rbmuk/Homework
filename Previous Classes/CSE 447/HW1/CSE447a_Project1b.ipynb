{
 "cells": [
  {
   "cell_type": "markdown",
   "metadata": {
    "id": "rJf9RfjKejip"
   },
   "source": [
    "# Project 1b: N-Gram Language Models\n",
    "\n",
    "Author: Kabir Ahuja\n",
    "\n",
    "Thanks to Melissa Mitchell and Khushi Khandelwal for feedback and Kavel Rao for designing the autograder.\n",
    "\n",
    "In this project, you will implement and experiment with N-gram language models. N-gram language models are simplest versions of a language model, which make a simplifying assumption that the probability of predicting a word in a sentence only depends on the past $N$ words in the sentence. In this project you will learn:\n",
    "\n",
    "- How to train word-level unigram and N-gram LMs on text data\n",
    "- Evaluating quality of an LM by computing perplexity\n",
    "- Sampling text from an N-gram LM\n",
    "- Implement Laplace Smoothing\n",
    "- Implement Interpolation for N-Gram Language Models\n",
    "\n",
    "We will be working with Shakespear Plays data from Andrej Karpathy's [blog post on Recurrent neural networks](https://karpathy.github.io/2015/05/21/rnn-effectiveness/). We also recommend going through chapter 3 of [Jurafsky and Martin](https://web.stanford.edu/~jurafsky/slp3/3.pdf) on N-Gram models, especially if you are not familiar with them yet."
   ]
  },
  {
   "cell_type": "code",
   "metadata": {
    "id": "LjZeldhSejiq",
    "ExecuteTime": {
     "end_time": "2024-10-31T05:14:06.933150Z",
     "start_time": "2024-10-31T05:14:03.698562Z"
    }
   },
   "source": [
    "# Load necessary packages\n",
    "import os\n",
    "from typing import List, Dict\n",
    "import random\n",
    "import numpy as np\n",
    "import json\n",
    "from tqdm import tqdm\n",
    "\n",
    "# Setup nltk\n",
    "!pip install nltk\n",
    "import nltk\n",
    "nltk.download('punkt')\n",
    "nltk.download('punkt_tab')\n",
    "\n",
    "from nltk.tokenize import word_tokenize, sent_tokenize"
   ],
   "outputs": [
    {
     "name": "stdout",
     "output_type": "stream",
     "text": [
      "Defaulting to user installation because normal site-packages is not writeable\n",
      "Requirement already satisfied: nltk in c:\\programdata\\anaconda3\\lib\\site-packages (3.8.1)\n",
      "Requirement already satisfied: click in c:\\programdata\\anaconda3\\lib\\site-packages (from nltk) (8.1.7)\n",
      "Requirement already satisfied: joblib in c:\\programdata\\anaconda3\\lib\\site-packages (from nltk) (1.4.2)\n",
      "Requirement already satisfied: regex>=2021.8.3 in c:\\programdata\\anaconda3\\lib\\site-packages (from nltk) (2023.10.3)\n",
      "Requirement already satisfied: tqdm in c:\\programdata\\anaconda3\\lib\\site-packages (from nltk) (4.66.4)\n",
      "Requirement already satisfied: colorama in c:\\programdata\\anaconda3\\lib\\site-packages (from click->nltk) (0.4.6)\n"
     ]
    },
    {
     "name": "stderr",
     "output_type": "stream",
     "text": [
      "[nltk_data] Downloading package punkt to C:\\Users\\Rohan\n",
      "[nltk_data]     Mukherjee\\AppData\\Roaming\\nltk_data...\n",
      "[nltk_data]   Package punkt is already up-to-date!\n",
      "[nltk_data] Downloading package punkt_tab to C:\\Users\\Rohan\n",
      "[nltk_data]     Mukherjee\\AppData\\Roaming\\nltk_data...\n",
      "[nltk_data]   Package punkt_tab is already up-to-date!\n"
     ]
    }
   ],
   "execution_count": 1
  },
  {
   "cell_type": "code",
   "source": [
    "# !wget https://homes.cs.washington.edu/~kahuja/cse447/project1/data.zip -O data.zip\n",
    "# !unzip -o data.zip\n",
    "\n",
    "# Set data directory. Important: DO NOT CHANGE THIS. AUTOGRADER WILL FAIL ON YOUR SUBMISSION OTHERWISE\n",
    "parent_dir = os.path.dirname(os.path.abspath(\"__file__\"))\n",
    "data_dir = os.path.join(parent_dir, \"data\")"
   ],
   "metadata": {
    "id": "mKmoJnGnenm4",
    "ExecuteTime": {
     "end_time": "2024-10-31T05:14:06.964449Z",
     "start_time": "2024-10-31T05:14:06.961867Z"
    }
   },
   "outputs": [],
   "execution_count": 2
  },
  {
   "cell_type": "code",
   "metadata": {
    "id": "8Gy2szV-ejir",
    "ExecuteTime": {
     "end_time": "2024-10-31T05:14:07.054114Z",
     "start_time": "2024-10-31T05:14:07.051001Z"
    }
   },
   "source": [
    "# Helper functions for sample test cases\n",
    "\n",
    "def evaluate_test_case(input, output, expected_output, output_str = \"Output\", atol=1e-4) -> Dict:\n",
    "    if input is not None:\n",
    "        print(\"Input:\\n\", input)\n",
    "    print(f\"{output_str}:\\n\", output)\n",
    "    print(f\"Expected {output_str}:\\n\", expected_output)\n",
    "\n",
    "    match = (\n",
    "        output == expected_output\n",
    "        if type(output) == str\n",
    "        else np.allclose(output, expected_output, atol=atol)\n",
    "    )\n",
    "\n",
    "    if match:\n",
    "        print(\"Test case passed! :)\")\n",
    "\n",
    "    else:\n",
    "        print(\"Test case failed! :(\")\n",
    "\n",
    "    print(\"\\n\" + \"=\"*50 + \"\\n\")\n",
    "\n",
    "\n",
    "def evaluate_list_test_case(input: List, output: List, expected_output: List) -> Dict:\n",
    "\n",
    "    print(\"Input:\\n\", input)\n",
    "    print(\"Output:\\n\", output)\n",
    "    print(\"Expected output:\\n\", expected_output)\n",
    "    if output == expected_output:\n",
    "        print(\"Test case passed! :)\")\n",
    "\n",
    "    else:\n",
    "        print(\"Test case failed! :(\")\n",
    "\n",
    "    print(\"\\n\" + \"=\"*50 + \"\\n\")"
   ],
   "outputs": [],
   "execution_count": 3
  },
  {
   "cell_type": "markdown",
   "metadata": {
    "id": "7Aann01eejir"
   },
   "source": [
    "## Part 1: Word-level unigram language models (11 points)\n",
    "\n",
    "We will start by considering word-level language models i.e. language models where the smallest unit (or a unigram) that can be predicted by the model is a word. In part 1, we will implement unigram language models, which constitutes the simplest variant of N-gram models -- simply learn the distribution of each unigram (here a word) in the corpus. Recall from the lectures, that for a text sequence with unigrams $w_1, w_2, \\cdots, w_n$, unigram language models, the probability of the sequence is given as:\n",
    "\n",
    "$$P(w_1, w_2, \\cdots, w_n) =P(w_1)P(w_2)\\cdots P(w_n)$$\n",
    "\n",
    "where $P(w_i)$ is simply the frequency of the word $w_i$ in the training corpus.\n",
    "\n",
    "For this part we will work with the Shakespear dataset. Let's start by loading the datasets"
   ]
  },
  {
   "cell_type": "code",
   "metadata": {
    "id": "hbfkB-f3ejis",
    "ExecuteTime": {
     "end_time": "2024-10-31T05:14:07.063691Z",
     "start_time": "2024-10-31T05:14:07.058644Z"
    }
   },
   "source": [
    "with open(f\"{data_dir}/shakespear_train.txt\") as f:\n",
    "    train_data = f.read().split(\"\\n\")\n",
    "\n",
    "with open(f\"{data_dir}/shakespear_dev.txt\") as f:\n",
    "    dev_data = f.read().split(\"\\n\")"
   ],
   "outputs": [],
   "execution_count": 4
  },
  {
   "cell_type": "markdown",
   "metadata": {
    "id": "V-LtACiiejis"
   },
   "source": [
    "Below we print first 10 sentences from the training data."
   ]
  },
  {
   "cell_type": "code",
   "metadata": {
    "id": "3IVqmDauejis",
    "ExecuteTime": {
     "end_time": "2024-10-31T05:14:07.078946Z",
     "start_time": "2024-10-31T05:14:07.076821Z"
    }
   },
   "source": "print(\"\\n\".join(train_data[:10]))",
   "outputs": [
    {
     "name": "stdout",
     "output_type": "stream",
     "text": [
      "First Citizen : Before we proceed any further , hear me speak .\n",
      "All : Speak , speak .\n",
      "First Citizen : You are all resolved rather to die than to famish ?\n",
      "All : Resolved .\n",
      "resolved .\n",
      "First Citizen : First , you know Caius Marcius is chief enemy to the people .\n",
      "All : We know't , we know't .\n",
      "First Citizen : Let us kill him , and we 'll have corn at our own price .\n",
      "Is't a verdict ?\n",
      "All : No more talking o n't ; let it be done : away , away !\n"
     ]
    }
   ],
   "execution_count": 5
  },
  {
   "cell_type": "markdown",
   "metadata": {
    "id": "IT2nlEC-ejis"
   },
   "source": [
    "### Exercise 1.0 Text Processing\n",
    "\n",
    "Before start training our models, let's perform some basic preprocessing. For this exercise, we only want to put an \\<eos\\> tag at the end of each sentence in the training and dev sets. Implement `add_eos` function below that does that."
   ]
  },
  {
   "cell_type": "code",
   "metadata": {
    "deletable": false,
    "nbgrader": {
     "cell_type": "code",
     "checksum": "567c963b4937319d6cb1aa91140c8315",
     "grade": false,
     "grade_id": "cell-83e8a74c3faf2ec2",
     "locked": false,
     "schema_version": 3,
     "solution": true,
     "task": false
    },
    "id": "ERy9v-Tcejis",
    "ExecuteTime": {
     "end_time": "2024-10-31T05:14:07.160892Z",
     "start_time": "2024-10-31T05:14:07.158106Z"
    }
   },
   "source": [
    "def add_eos(data: List[str]) -> List[str]:\n",
    "    \"\"\"\n",
    "    Adds an <eos> token to the end of each line in the data.\n",
    "\n",
    "    Inputs:\n",
    "    - data: a list of strings where each string is a line of text\n",
    "\n",
    "    Returns:\n",
    "    - a list of strings where each string is a line of text with <eos> token appended\n",
    "    \"\"\"\n",
    "    # YOUR CODE HERE\n",
    "    return [line + \" <eos>\" for line in data]"
   ],
   "outputs": [],
   "execution_count": 6
  },
  {
   "cell_type": "code",
   "metadata": {
    "id": "0AyzsPaXejis",
    "ExecuteTime": {
     "end_time": "2024-10-31T05:14:07.211745Z",
     "start_time": "2024-10-31T05:14:07.208737Z"
    }
   },
   "source": [
    "def test_add_eos():\n",
    "    print(\"Running Sample Test Case 1\")\n",
    "    data = [\"hello!\", \"world!\"]\n",
    "\n",
    "    evaluate_list_test_case(data, add_eos(data), [\"hello! <eos>\", \"world! <eos>\"])\n",
    "\n",
    "    print(\"Running Sample Test Case 2\")\n",
    "    data = [\n",
    "        \"Many years later , as he faced the firing squad , Colonel Aureliano Buendía was to remember that distant afternoon when his father took him to discover ice .\",\n",
    "        \"At that time Macondo was a village of twenty adobe houses, built on the bank of a river of clear water that ran along a bed of polished stones, which were white and enormous, like prehistoric eggs .\",\n",
    "        \"The world was so recent that many things lacked names, and in order to indicate them it was necessary to point .\" ]\n",
    "\n",
    "    expected_output = [\n",
    "        \"Many years later , as he faced the firing squad , Colonel Aureliano Buendía was to remember that distant afternoon when his father took him to discover ice . <eos>\",\n",
    "        \"At that time Macondo was a village of twenty adobe houses, built on the bank of a river of clear water that ran along a bed of polished stones, which were white and enormous, like prehistoric eggs . <eos>\",\n",
    "        \"The world was so recent that many things lacked names, and in order to indicate them it was necessary to point . <eos>\"]\n",
    "    evaluate_list_test_case(data, add_eos(data), expected_output)\n",
    "\n",
    "test_add_eos()"
   ],
   "outputs": [
    {
     "name": "stdout",
     "output_type": "stream",
     "text": [
      "Running Sample Test Case 1\n",
      "Input:\n",
      " ['hello!', 'world!']\n",
      "Output:\n",
      " ['hello! <eos>', 'world! <eos>']\n",
      "Expected output:\n",
      " ['hello! <eos>', 'world! <eos>']\n",
      "Test case passed! :)\n",
      "\n",
      "==================================================\n",
      "\n",
      "Running Sample Test Case 2\n",
      "Input:\n",
      " ['Many years later , as he faced the firing squad , Colonel Aureliano Buendía was to remember that distant afternoon when his father took him to discover ice .', 'At that time Macondo was a village of twenty adobe houses, built on the bank of a river of clear water that ran along a bed of polished stones, which were white and enormous, like prehistoric eggs .', 'The world was so recent that many things lacked names, and in order to indicate them it was necessary to point .']\n",
      "Output:\n",
      " ['Many years later , as he faced the firing squad , Colonel Aureliano Buendía was to remember that distant afternoon when his father took him to discover ice . <eos>', 'At that time Macondo was a village of twenty adobe houses, built on the bank of a river of clear water that ran along a bed of polished stones, which were white and enormous, like prehistoric eggs . <eos>', 'The world was so recent that many things lacked names, and in order to indicate them it was necessary to point . <eos>']\n",
      "Expected output:\n",
      " ['Many years later , as he faced the firing squad , Colonel Aureliano Buendía was to remember that distant afternoon when his father took him to discover ice . <eos>', 'At that time Macondo was a village of twenty adobe houses, built on the bank of a river of clear water that ran along a bed of polished stones, which were white and enormous, like prehistoric eggs . <eos>', 'The world was so recent that many things lacked names, and in order to indicate them it was necessary to point . <eos>']\n",
      "Test case passed! :)\n",
      "\n",
      "==================================================\n",
      "\n"
     ]
    }
   ],
   "execution_count": 7
  },
  {
   "cell_type": "code",
   "metadata": {
    "id": "4azJ73t3ejit",
    "ExecuteTime": {
     "end_time": "2024-10-31T05:14:07.245888Z",
     "start_time": "2024-10-31T05:14:07.242781Z"
    }
   },
   "source": [
    "train_data_processed = add_eos(train_data)\n",
    "dev_data_processed = add_eos(dev_data)"
   ],
   "outputs": [],
   "execution_count": 8
  },
  {
   "cell_type": "markdown",
   "metadata": {
    "id": "jp6eGbpnejit"
   },
   "source": [
    "### Exercise 1.1: Training (word-level) Unigram Language Model (2 Points)\n",
    "\n",
    "Training a unigram model simply corresponds to calculating frequencies of each word in the corpus, i.e.\n",
    "\n",
    "$$p(w_i) = \\frac{C(w_i)}{n}$$\n",
    "\n",
    "where $C(w_i)$ is the count of word $w_i$ in the training data and $n$ is the total number of words in the training dataset.\n",
    "\n",
    "Implement the `train_word_unigram` function below"
   ]
  },
  {
   "cell_type": "code",
   "metadata": {
    "deletable": false,
    "nbgrader": {
     "cell_type": "code",
     "checksum": "77dcf20f8be686508635ed1f65dcd0e7",
     "grade": false,
     "grade_id": "cell-8ae19fe766eed890",
     "locked": false,
     "schema_version": 3,
     "solution": true,
     "task": false
    },
    "id": "jn8D65OMejit",
    "ExecuteTime": {
     "end_time": "2024-10-31T05:14:07.276718Z",
     "start_time": "2024-10-31T05:14:07.273203Z"
    }
   },
   "source": [
    "def train_word_unigram(train_data: List[str]) -> Dict[str, float]:\n",
    "\n",
    "    \"\"\"\n",
    "    Trains a word-level unigram language model.\n",
    "\n",
    "    Inputs:\n",
    "        - train_data: List[str], list of sentences in training data\n",
    "\n",
    "    Outputs:\n",
    "        - Dict[str, float], a dictionary mapping words to their unigram probabilities\n",
    "\n",
    "    \"\"\"\n",
    "\n",
    "    # YOUR CODE HERE\n",
    "    unigram_probs = nltk.FreqDist([word for line in train_data for word in line.split()])\n",
    "    total_words = sum(unigram_probs.values())\n",
    "    for word in unigram_probs:\n",
    "        unigram_probs[word] /= total_words\n",
    "\n",
    "    return unigram_probs"
   ],
   "outputs": [],
   "execution_count": 9
  },
  {
   "cell_type": "code",
   "metadata": {
    "id": "vzx0rzOKejit",
    "ExecuteTime": {
     "end_time": "2024-10-31T05:14:07.347146Z",
     "start_time": "2024-10-31T05:14:07.280919Z"
    }
   },
   "source": [
    "unigram_probs = train_word_unigram(train_data_processed)"
   ],
   "outputs": [],
   "execution_count": 10
  },
  {
   "cell_type": "code",
   "metadata": {
    "deletable": false,
    "editable": false,
    "nbgrader": {
     "cell_type": "code",
     "checksum": "cbe516c204fe52ea1a235010e9d2d316",
     "grade": true,
     "grade_id": "cell-f3e22e1c9dfc5a64",
     "locked": true,
     "points": 0,
     "schema_version": 3,
     "solution": false,
     "task": false
    },
    "id": "5n3qbA7xejiu",
    "ExecuteTime": {
     "end_time": "2024-10-31T05:14:07.364301Z",
     "start_time": "2024-10-31T05:14:07.360754Z"
    }
   },
   "source": [
    "# Sample test cases\n",
    "def test_train_word_unigram(unigram_probs):\n",
    "\n",
    "    print(\"Running Sample Test Case 1: Check if the number of unique words is correct\")\n",
    "    evaluate_test_case(None, len(unigram_probs), 12610, output_str=\"Number of unique words\")\n",
    "\n",
    "    print(\"Running Sample Test Case 2: Check if the probability of word \\\"thou\\\" is correct\")\n",
    "    evaluate_test_case(\"thou\", unigram_probs[\"thou\"], 0.004559649641510829)\n",
    "\n",
    "    print(\"Running Sample Test Case 3: Check if the probability of word \\\"love\\\" is correct\")\n",
    "    evaluate_test_case(\"love\", unigram_probs[\"love\"], 0.0015984182127282134)\n",
    "\n",
    "    print(\"Running Sample Test Case 4: Check if the probability of word \\\"Richard\\\" is correct\")\n",
    "    evaluate_test_case(\"Richard\", unigram_probs[\"Richard\"], 0.0005035479340675586)\n",
    "\n",
    "    print(\"Running Sample Test Case 5: Check if the probability of word \\\"pytorch\\\" is correct\")\n",
    "    evaluate_test_case(\"pytorch\", unigram_probs.get(\"pytorch\", 0), 0)\n",
    "\n",
    "    print(\"Running Sample Test Case 6: Check if the probability of word \\\"richard\\\" is correct\")\n",
    "    evaluate_test_case(\"richard\", unigram_probs.get(\"richard\", 0), 0)\n",
    "\n",
    "\n",
    "test_train_word_unigram(unigram_probs)"
   ],
   "outputs": [
    {
     "name": "stdout",
     "output_type": "stream",
     "text": [
      "Running Sample Test Case 1: Check if the number of unique words is correct\n",
      "Number of unique words:\n",
      " 12610\n",
      "Expected Number of unique words:\n",
      " 12610\n",
      "Test case passed! :)\n",
      "\n",
      "==================================================\n",
      "\n",
      "Running Sample Test Case 2: Check if the probability of word \"thou\" is correct\n",
      "Input:\n",
      " thou\n",
      "Output:\n",
      " 0.004559649641510829\n",
      "Expected Output:\n",
      " 0.004559649641510829\n",
      "Test case passed! :)\n",
      "\n",
      "==================================================\n",
      "\n",
      "Running Sample Test Case 3: Check if the probability of word \"love\" is correct\n",
      "Input:\n",
      " love\n",
      "Output:\n",
      " 0.0015984182127282134\n",
      "Expected Output:\n",
      " 0.0015984182127282134\n",
      "Test case passed! :)\n",
      "\n",
      "==================================================\n",
      "\n",
      "Running Sample Test Case 4: Check if the probability of word \"Richard\" is correct\n",
      "Input:\n",
      " Richard\n",
      "Output:\n",
      " 0.0005035479340675586\n",
      "Expected Output:\n",
      " 0.0005035479340675586\n",
      "Test case passed! :)\n",
      "\n",
      "==================================================\n",
      "\n",
      "Running Sample Test Case 5: Check if the probability of word \"pytorch\" is correct\n",
      "Input:\n",
      " pytorch\n",
      "Output:\n",
      " 0\n",
      "Expected Output:\n",
      " 0\n",
      "Test case passed! :)\n",
      "\n",
      "==================================================\n",
      "\n",
      "Running Sample Test Case 6: Check if the probability of word \"richard\" is correct\n",
      "Input:\n",
      " richard\n",
      "Output:\n",
      " 0\n",
      "Expected Output:\n",
      " 0\n",
      "Test case passed! :)\n",
      "\n",
      "==================================================\n",
      "\n"
     ]
    }
   ],
   "execution_count": 11
  },
  {
   "cell_type": "markdown",
   "metadata": {
    "id": "q4WePCJhejiu"
   },
   "source": [
    "### Exercise 1.2: Evaluating (word-level) Unigram Language Models using Perplexity (2 Points)\n",
    "\n",
    "Now that we have trained our first (albeit very basic) language model, our next job is to evaluate how good of a job it does in modeling the training text as well as generalizing on the unseen text. The most commonly used metric for evaluating the quality of a language model is Perplexity. Recall from the lecture, perplexity of a language model on a test dataset measures the (inverse) probability assigned by the language model to the test dataset normalized by the number of words (or tokens). Lower the perplexity the higher probability the model assigns to the text in the test dataset and hence better quality.\n",
    "\n",
    "$$\\text{perplexity}(W) = P(w_1w_2\\cdots w_n)^{\\frac{-1}{n}} = \\sqrt[n]{\\frac{1}{P(w_1w_2\\cdots w_n)}}$$\n",
    "\n",
    "where $W$ is a test set with $n$ words $w_1w_2\\cdots w_n$\n",
    "\n",
    "It is useful to do perplexity calculation in log space to avoid numerical issues\n",
    "\n",
    "$$\\text{perplexity}(W) = \\exp\\bigl(-\\frac{\\log{P(w_1w_2\\cdots w_n)}}{n}\\bigr)$$\n",
    "\n",
    "When we have multiple sentences in the corpus and we assume sentences to be independent, we can write:\n",
    "\n",
    "$$\\text{perplexity}(W) = \\exp\\bigl(-\\frac{ \\sum_{S \\in W}  \\log{P(s_1s_2\\cdots s_{n_s})}}{n}\\bigr)$$\n",
    "\n",
    "where $S$ is a sentence in the corpus $W$ with words $s_1 s_2 \\cdots s_{n_s}$ and $n_s$ is the number of words in $S$.\n",
    "\n",
    "Note that assuming sentences to be independent is something that is not actually true in practice. However, since N-gram language models are already limited in their context, it is not the greatest loss to remove dependencies between sentences. In the future homeworks we will be dropping this assumption as we build more powerful models.\n"
   ]
  },
  {
   "cell_type": "code",
   "metadata": {
    "deletable": false,
    "nbgrader": {
     "cell_type": "code",
     "checksum": "7fb1e8b5c673c0ef7f7ec715b8d284a6",
     "grade": false,
     "grade_id": "cell-669e5cc008545af9",
     "locked": false,
     "schema_version": 3,
     "solution": true,
     "task": false
    },
    "id": "xBq6Spkyejiu",
    "ExecuteTime": {
     "end_time": "2024-10-31T05:14:07.413115Z",
     "start_time": "2024-10-31T05:14:07.410295Z"
    }
   },
   "source": [
    "def eval_ppl_word_unigram(eval_data: List[str], unigram_probs: Dict[str, float]) -> float:\n",
    "\n",
    "    \"\"\"\n",
    "    Evaluates the perplexity of a word-level unigram language model on the dev set.\n",
    "\n",
    "    Inputs:\n",
    "        - dev_data: List[str], list of sentences in the evaluation data\n",
    "        - unigram_probs: Dict[str, float], a dictionary mapping words to their unigram probabilities\n",
    "\n",
    "    Outputs:\n",
    "        - float, the perplexity of the unigram language model on the evaluation set\n",
    "\n",
    "    Note 1: It is useful to do the calculations in log space and convert the final answer to original space to\n",
    "    avoid numerical issues .\n",
    "    Note 2: Assign 0 probability to words that are not in the unigram_probs dictionary, since those words were not seen during training.\n",
    "    \"\"\"\n",
    "\n",
    "    perplexity = 0\n",
    "\n",
    "    # YOUR CODE HERE\n",
    "    for line in eval_data:\n",
    "        for word in line.split():\n",
    "            perplexity += np.log(unigram_probs.get(word, 0))\n",
    "    \n",
    "    return np.exp(-perplexity / sum(len(line.split()) for line in eval_data))"
   ],
   "outputs": [],
   "execution_count": 12
  },
  {
   "cell_type": "markdown",
   "metadata": {
    "id": "vuzxPRaXejiu"
   },
   "source": [
    "First let's compute the perplexity of training data"
   ]
  },
  {
   "cell_type": "code",
   "metadata": {
    "id": "FEeLsluGejiu",
    "ExecuteTime": {
     "end_time": "2024-10-31T05:14:07.585361Z",
     "start_time": "2024-10-31T05:14:07.446054Z"
    }
   },
   "source": [
    "train_ppl = eval_ppl_word_unigram(train_data_processed, unigram_probs)\n",
    "print(train_ppl)"
   ],
   "outputs": [
    {
     "name": "stdout",
     "output_type": "stream",
     "text": [
      "575.1110328373742\n"
     ]
    }
   ],
   "execution_count": 13
  },
  {
   "cell_type": "markdown",
   "metadata": {
    "id": "LmZwKVP-ejiu"
   },
   "source": [
    "You should expect a perplexity around 575 on the training data. Now let's evaluate on dev data."
   ]
  },
  {
   "cell_type": "code",
   "metadata": {
    "id": "TrceEF7Zejiu",
    "ExecuteTime": {
     "end_time": "2024-10-31T05:14:07.629258Z",
     "start_time": "2024-10-31T05:14:07.607834Z"
    }
   },
   "source": [
    "dev_ppl = eval_ppl_word_unigram(dev_data_processed, unigram_probs)\n",
    "print(dev_ppl)"
   ],
   "outputs": [
    {
     "name": "stdout",
     "output_type": "stream",
     "text": [
      "inf\n"
     ]
    },
    {
     "name": "stderr",
     "output_type": "stream",
     "text": [
      "C:\\Users\\Rohan Mukherjee\\AppData\\Local\\Temp\\ipykernel_485528\\1573223851.py:23: RuntimeWarning: divide by zero encountered in log\n",
      "  perplexity += np.log(unigram_probs.get(word, 0))\n"
     ]
    }
   ],
   "execution_count": 14
  },
  {
   "cell_type": "markdown",
   "metadata": {
    "id": "gqfR-3Kkejiu"
   },
   "source": [
    "You should see a RuntimeWarning: divide by zero and a perplexity of infinity in this case. Why did this happen? Because we have some words in the dev dataset, which were never seen during training. The unigram model assigns a zero probability to those, which result in an infinite perplexity (inverse probability)."
   ]
  },
  {
   "cell_type": "markdown",
   "metadata": {
    "id": "qZmPFCGVejiu"
   },
   "source": [
    "### Exercise 1.3: Handling Unknown Words (2 Points)\n",
    "\n",
    "How do we deal with such situations? An easy solution is to introduce an unknown word token, e.g. \\<unk\\>. Before training, we replace the words which occur less than a threshold number of times with an \\<unk\\> token. E.g., if a word occurs less than 3 times in the dataset, we replace it with the \\<unk\\> token. At test time, when evaluating the perplexity if we see a word, which was unseen during training i.e. has a unigram frequency of 0, we assign that word the probability of \\<unk\\> token.\n",
    "\n",
    "Implement the `replace_rare_words_wth_unks` function below which replaces words which occur less than `unk_thresh` number of times by \\<unk\\> token. Also reimplement `eval_ppl_word_unigram` to handle unseen words. You might find the [`Counter` class from the `collections` module useful](https://docs.python.org/3/library/collections.html#counter-objects)."
   ]
  },
  {
   "cell_type": "code",
   "metadata": {
    "deletable": false,
    "nbgrader": {
     "cell_type": "code",
     "checksum": "5fab38469df7969a85c849c6aecb21cf",
     "grade": false,
     "grade_id": "cell-7335b83debed50b1",
     "locked": false,
     "schema_version": 3,
     "solution": true,
     "task": false
    },
    "id": "jfozoQBaejiu",
    "ExecuteTime": {
     "end_time": "2024-10-31T05:14:07.682733Z",
     "start_time": "2024-10-31T05:14:07.678815Z"
    }
   },
   "source": [
    "def replace_rare_words_wth_unks(train_data: List[str], unk_thresh: int) -> List[str]:\n",
    "    \"\"\"\n",
    "    Replaces words that occur less than unk_thresh times in the training data with \"<unk>\" token.\n",
    "\n",
    "    Inputs:\n",
    "        - train_data: List[str], list of sentences in the training data\n",
    "        - unk_thresh: int, the threshold on the number of occurrences of a word to be considered known (less than considered <unk>)\n",
    "\n",
    "    Outputs:\n",
    "        - List[str], the training text with rare words replaced by \"<unk>\" token\n",
    "    \"\"\"\n",
    "\n",
    "    word_freq = nltk.FreqDist([word for line in train_data for word in line.split()])\n",
    "    \n",
    "    train_data_unked = [\" \".join(\"<unk>\" if word_freq[word] < unk_thresh else word for word in line.split()) for line in train_data]\n",
    "\n",
    "    return train_data_unked"
   ],
   "outputs": [],
   "execution_count": 15
  },
  {
   "cell_type": "code",
   "metadata": {
    "id": "mRRc44Prejiv",
    "ExecuteTime": {
     "end_time": "2024-10-31T05:14:08.048535Z",
     "start_time": "2024-10-31T05:14:07.721921Z"
    }
   },
   "source": [
    "# Sample test cases\n",
    "def test_train_word_unigram_wth_unks():\n",
    "\n",
    "    print(\"# Testing for Threshold 3\\n\\n\")\n",
    "    train_data_wth_unks = replace_rare_words_wth_unks(train_data_processed, 3)\n",
    "    unigram_probs_wth_unks = train_word_unigram(train_data_wth_unks)\n",
    "    print(\"Sample Test Case 1: Check if the number of unique words is correct\")\n",
    "    evaluate_test_case(None, len(unigram_probs_wth_unks), 4620, output_str=\"Number of unique words\")\n",
    "\n",
    "    print(\"Sample Test Case 2: Check if the probability of word \\\"<unk>\\\" is correct\")\n",
    "    evaluate_test_case(\"<unk>\", unigram_probs_wth_unks[\"<unk>\"], 0.045185342597383396)\n",
    "\n",
    "    print(\"# Testing for threshold 5\\n\\n\")\n",
    "    train_data_wth_unks = replace_rare_words_wth_unks(train_data_processed, 5)\n",
    "    unigram_probs_wth_unks = train_word_unigram(train_data_wth_unks)\n",
    "    print(\"Sample Test Case 3: Check if the number of unique words is correct\")\n",
    "    evaluate_test_case(None, len(unigram_probs_wth_unks), 3088, output_str=\"Number of unique words\")\n",
    "\n",
    "    print(\"Sample Test Case 4: Check if the probability of word \\\"<unk>\\\" is correct\")\n",
    "    evaluate_test_case(\"<unk>\", unigram_probs_wth_unks[\"<unk>\"], 0.06910155961268387)\n",
    "\n",
    "test_train_word_unigram_wth_unks()"
   ],
   "outputs": [
    {
     "name": "stdout",
     "output_type": "stream",
     "text": [
      "# Testing for Threshold 3\n",
      "\n",
      "\n",
      "Sample Test Case 1: Check if the number of unique words is correct\n",
      "Number of unique words:\n",
      " 4620\n",
      "Expected Number of unique words:\n",
      " 4620\n",
      "Test case passed! :)\n",
      "\n",
      "==================================================\n",
      "\n",
      "Sample Test Case 2: Check if the probability of word \"<unk>\" is correct\n",
      "Input:\n",
      " <unk>\n",
      "Output:\n",
      " 0.045185342597383396\n",
      "Expected Output:\n",
      " 0.045185342597383396\n",
      "Test case passed! :)\n",
      "\n",
      "==================================================\n",
      "\n",
      "# Testing for threshold 5\n",
      "\n",
      "\n",
      "Sample Test Case 3: Check if the number of unique words is correct\n",
      "Number of unique words:\n",
      " 3088\n",
      "Expected Number of unique words:\n",
      " 3088\n",
      "Test case passed! :)\n",
      "\n",
      "==================================================\n",
      "\n",
      "Sample Test Case 4: Check if the probability of word \"<unk>\" is correct\n",
      "Input:\n",
      " <unk>\n",
      "Output:\n",
      " 0.06910155961268387\n",
      "Expected Output:\n",
      " 0.06910155961268387\n",
      "Test case passed! :)\n",
      "\n",
      "==================================================\n",
      "\n"
     ]
    }
   ],
   "execution_count": 16
  },
  {
   "cell_type": "code",
   "metadata": {
    "id": "2Ullwfehejiv",
    "ExecuteTime": {
     "end_time": "2024-10-31T05:14:08.209990Z",
     "start_time": "2024-10-31T05:14:08.055983Z"
    }
   },
   "source": [
    "# We will remove words that occur less than 3 times\n",
    "train_data_wth_unks = replace_rare_words_wth_unks(train_data_processed, 10)\n",
    "unigram_probs_wth_unks = train_word_unigram(train_data_wth_unks)"
   ],
   "outputs": [],
   "execution_count": 17
  },
  {
   "cell_type": "markdown",
   "metadata": {
    "id": "wFcq_WbWejiv"
   },
   "source": [
    "We recommend you to check the unigram probabilities before and after replacing rare words with \\<unk\\> token to verify your implementation."
   ]
  },
  {
   "cell_type": "code",
   "metadata": {
    "deletable": false,
    "nbgrader": {
     "cell_type": "code",
     "checksum": "d77bde66108370572d9eea31ee499752",
     "grade": false,
     "grade_id": "cell-7c1a766eb312e9ff",
     "locked": false,
     "schema_version": 3,
     "solution": true,
     "task": false
    },
    "id": "SmgnSOXdejiv",
    "ExecuteTime": {
     "end_time": "2024-10-31T05:14:08.218804Z",
     "start_time": "2024-10-31T05:14:08.215672Z"
    }
   },
   "source": [
    "def eval_ppl_word_unigram_wth_unks(eval_data: List[str], unigram_probs_wth_unks: Dict[str, float]) -> float:\n",
    "\n",
    "    \"\"\"\n",
    "    Evaluates the perplexity of a word-level unigram language model on the dev set. For unseen words, uses the <unk> token probability.\n",
    "\n",
    "    Inputs:\n",
    "        - eval_data: string, List of sentences in eval data\n",
    "        - unigram_probs_wth_unks: Dict[str, float], a dictionary mapping words to their unigram probabilities, including <unk> token\n",
    "\n",
    "    Outputs:\n",
    "        - float, the perplexity of the unigram language model on the evaluation set\n",
    "\n",
    "    \"\"\"\n",
    "\n",
    "    perplexity = 0\n",
    "\n",
    "    # YOUR CODE HERE\n",
    "    for line in eval_data:\n",
    "        for word in line.split():\n",
    "            perplexity += np.log(unigram_probs_wth_unks.get(word, unigram_probs_wth_unks[\"<unk>\"]))\n",
    "\n",
    "    return np.exp(-perplexity / sum(len(line.split()) for line in eval_data))"
   ],
   "outputs": [],
   "execution_count": 18
  },
  {
   "cell_type": "markdown",
   "metadata": {
    "id": "PcLm7vWbejiv"
   },
   "source": [
    "Let's compute the train and dev perplexity now"
   ]
  },
  {
   "cell_type": "code",
   "metadata": {
    "id": "mwsbrEKNejiv",
    "ExecuteTime": {
     "end_time": "2024-10-31T05:14:08.399783Z",
     "start_time": "2024-10-31T05:14:08.228702Z"
    }
   },
   "source": [
    "train_ppl = eval_ppl_word_unigram_wth_unks(train_data_wth_unks, unigram_probs_wth_unks)\n",
    "print(f\"Train Perplexity: {train_ppl}\")\n",
    "dev_ppl = eval_ppl_word_unigram_wth_unks(dev_data_processed, unigram_probs_wth_unks)\n",
    "print(f\"Dev Perplexity: {dev_ppl}\")"
   ],
   "outputs": [
    {
     "name": "stdout",
     "output_type": "stream",
     "text": [
      "Train Perplexity: 216.08200416605456\n",
      "Dev Perplexity: 167.3194142699338\n"
     ]
    }
   ],
   "execution_count": 19
  },
  {
   "cell_type": "markdown",
   "metadata": {
    "id": "mibA-NRsejiv"
   },
   "source": [
    "You should observe a train perplexity around 384 and dev perplexity around 282."
   ]
  },
  {
   "cell_type": "markdown",
   "metadata": {
    "id": "766OWdu4ejiv"
   },
   "source": [
    "### Exercise 1.4: Sampling from Unigram Language Model (2 Points)\n",
    "\n",
    "Now that we have trained and evaluated our unigram LM, we are ready to generate some text from it. To sample text from an N-gram language model given prefix words $w_1, w_2, \\cdots, w_n$, we sequentially sample next tokens from the N-gram probability distribution given the previous words, i.e.,\n",
    "\n",
    "$$w_{n+1} \\sim P(w_{n+1} | w_{1}, \\cdots, w_{n} )$$\n",
    "\n",
    "For a unigram language model, since $P(w_1, \\dots, w_n) = P(w_1)\\cdots P(w_n)$ i.e. all words all distributed independently and the next token is sampled independent of previous tokens, the above equation simplifies to:\n",
    "\n",
    "$$w_{n+1} \\sim P(w_{n+1})$$\n",
    "\n",
    "You will now implement the function `sample_from_word_unigram` below. You might find the [Numpy's random module (np.random)](https://numpy.org/doc/stable/reference/random/index.html) useful."
   ]
  },
  {
   "cell_type": "code",
   "metadata": {
    "deletable": false,
    "nbgrader": {
     "cell_type": "code",
     "checksum": "3df1ccda6ea9c610f2b4ea609f7222e9",
     "grade": false,
     "grade_id": "cell-08f4a7dd328533c1",
     "locked": false,
     "schema_version": 3,
     "solution": true,
     "task": false
    },
    "id": "aYecrpWfejiv",
    "ExecuteTime": {
     "end_time": "2024-10-31T05:14:08.430948Z",
     "start_time": "2024-10-31T05:14:08.427584Z"
    }
   },
   "source": [
    "def sample_from_word_unigram(unigram_probs: Dict[str, float], max_words: int, prefix: str = \"\") -> str:\n",
    "\n",
    "    \"\"\"\n",
    "    Samples sequence of words from a unigram language model.\n",
    "    Terminate sampling when either max_words is reached or when <eos> token is sampled.\n",
    "\n",
    "    Inputs:\n",
    "        - unigram_probs: Dict[str, float], a dictionary mapping words to their unigram probabilities\n",
    "        - n_words: int, the number of words to sample\n",
    "        - prefix: str, a prefix to start the sampling from. Can have multiple words separated by spaces.\n",
    "\n",
    "    Outputs:\n",
    "        - str: sampled text i.e. string of sampled words separated by spaces along with the prefix\n",
    "\n",
    "    # Note: Please use np.random.choice to sample from the unigram_probs dictionary.\n",
    "    \"\"\"\n",
    "    sampled_string = \"\"\n",
    "    # YOUR CODE HERE\n",
    "    for _ in range(max_words):\n",
    "        sample = np.random.choice(list(unigram_probs.keys()), p=list(unigram_probs.values()), replace=False)\n",
    "        sampled_string += sample + \" \"\n",
    "        if sample == '<eos>':\n",
    "            break\n",
    "\n",
    "    return prefix + \" \" + sampled_string"
   ],
   "outputs": [],
   "execution_count": 20
  },
  {
   "cell_type": "code",
   "metadata": {
    "id": "6vce5Flaejiv",
    "ExecuteTime": {
     "end_time": "2024-10-31T05:14:08.697414Z",
     "start_time": "2024-10-31T05:14:08.454878Z"
    }
   },
   "source": [
    "# Sample test cases\n",
    "def test_sample_from_word_unigram():\n",
    "\n",
    "    np.random.seed(0)\n",
    "    sampled_string = sample_from_word_unigram(unigram_probs_wth_unks, 10, \"The king\")\n",
    "    print(\"Running Test Case 1: Check if the sampled string starts with the prefix\")\n",
    "    evaluate_test_case(None, sampled_string.startswith(\"The king\"), True, output_str=\"Sampled string starts with the prefix\")\n",
    "\n",
    "    print(\"Running Test Case 2: Check if the sampled string has either 10 generated words or ends with <eos> token\")\n",
    "    print(f\"Generated string: {sampled_string}\")\n",
    "    print(f\"Number of generated words: {len(sampled_string.split()) - 2}\")\n",
    "    print(f\"Does the generated string end with <eos> token: {'<eos>' in sampled_string}\")\n",
    "    if len(sampled_string.split()) - 2 == 10 or (\n",
    "        len(sampled_string.split()) - 2 < 10 and \"<eos>\" in sampled_string\n",
    "    ):\n",
    "        print(\"Test passed! :)\")\n",
    "    else:\n",
    "        print(\"Test failed! :(\")\n",
    "    print(\"\\n\" + \"=\"*50 + \"\\n\")\n",
    "\n",
    "    print(\"Running Test Case 3: Check if the probability of generating <unk> token is correct\")\n",
    "\n",
    "    sampled_strings = [\n",
    "        sample_from_word_unigram(unigram_probs_wth_unks, 1, \"\")\n",
    "        for _ in range(1000)\n",
    "    ]\n",
    "    sampled_string = \" \".join(sampled_strings)\n",
    "    num_unks = sampled_string.count(\"<unk>\")\n",
    "    unk_gen_prob = num_unks / len(sampled_string.split())\n",
    "    evaluate_test_case(None, unk_gen_prob, unigram_probs_wth_unks[\"<unk>\"], output_str=\"Probability of generating <unk> token\", atol=1e-2)\n",
    "\n",
    "test_sample_from_word_unigram()"
   ],
   "outputs": [
    {
     "name": "stdout",
     "output_type": "stream",
     "text": [
      "Running Test Case 1: Check if the sampled string starts with the prefix\n",
      "Sampled string starts with the prefix:\n",
      " True\n",
      "Expected Sampled string starts with the prefix:\n",
      " True\n",
      "Test case passed! :)\n",
      "\n",
      "==================================================\n",
      "\n",
      "Running Test Case 2: Check if the sampled string has either 10 generated words or ends with <eos> token\n",
      "Generated string: The king I That was I a go ; brother deposed us \n",
      "Number of generated words: 10\n",
      "Does the generated string end with <eos> token: False\n",
      "Test passed! :)\n",
      "\n",
      "==================================================\n",
      "\n",
      "Running Test Case 3: Check if the probability of generating <unk> token is correct\n",
      "Probability of generating <unk> token:\n",
      " 0.121\n",
      "Expected Probability of generating <unk> token:\n",
      " 0.10872477640623845\n",
      "Test case failed! :(\n",
      "\n",
      "==================================================\n",
      "\n"
     ]
    }
   ],
   "execution_count": 21
  },
  {
   "cell_type": "markdown",
   "metadata": {
    "id": "YDH2cPmxejiv"
   },
   "source": [
    "Note that due to the randomness in sampling, it is difficult to automatically test this function. However, you can use the technique we use in sample test case 3 by repeatedly sampling from the unigram model and checking the frequency of different words in the generated text and checking if they are close to the unigram probabilities."
   ]
  },
  {
   "cell_type": "markdown",
   "metadata": {
    "id": "mQzlYLLTejiv"
   },
   "source": [
    "Let's sample some text from the unigram model"
   ]
  },
  {
   "cell_type": "code",
   "metadata": {
    "id": "-k1p_c8Oejiv",
    "ExecuteTime": {
     "end_time": "2024-10-31T05:14:08.738637Z",
     "start_time": "2024-10-31T05:14:08.715724Z"
    }
   },
   "source": [
    "for _ in range(5):\n",
    "    sampled_string = sample_from_word_unigram(unigram_probs_wth_unks, 20)\n",
    "    print(sampled_string)"
   ],
   "outputs": [
    {
     "name": "stdout",
     "output_type": "stream",
     "text": [
      " what , <unk> ! : at that <unk> his once <unk> stay my Clarence makes child that <eos> \n",
      " Hermione . on , slain dream see you <unk> <unk> . with . to one answer : ; do part \n",
      " if KING <unk> : might <unk> meet <unk> <unk> greater That in off a : : an , , CATESBY \n",
      " farewell . First queen <unk> <eos> \n",
      " there , <unk> PRINCE my this and thee . KING Within ' , To precious with is me out note \n"
     ]
    }
   ],
   "execution_count": 22
  },
  {
   "cell_type": "markdown",
   "metadata": {
    "id": "43Lxt3h9ejiw"
   },
   "source": [
    "You should see that the generated that doesn't make a whole lot of sense, which is natural since we are using a unigram model that doesn't account for the context at all, and essentially samples the most common tokens in its generations. We will now move to build language models that do not have this problem, i.e., they take into account the context (albeit to different degrees) for modeling the distribution of words (or tokens) in the text."
   ]
  },
  {
   "cell_type": "markdown",
   "metadata": {
    "id": "A1-uZfAqejiw"
   },
   "source": [
    "## Part 2: N(>1)-Gram Word-Level Language Models (12 Points)\n",
    "\n",
    "We will now implement much more sophisticated language models, which make use of the surrounding text to model the distribution of text. Recall from the lectures for an $N$-gram language model with $n > 1$, the distribution of a sequence of tokens $w_1, w_2, \\cdots, w_n$ is given as:\n",
    "\n",
    "$$P(w_1, w_2, \\cdots, w_n) = \\prod_{k=1}^{n}P(w_k \\mid w_{k-N-1}, \\cdots, w_{k-1})$$\n",
    "\n",
    "E.g., for a bigram model i.e. $N = 2$, the expression becomes:\n",
    "\n",
    "$$P(w_1, w_2, \\cdots, w_n) = \\prod_{k=1}^{n}P(w_k \\mid w_{k-1})$$\n",
    "\n",
    "i.e. the distribution of a token depends solely on the past $N-1$ tokens in the sequence."
   ]
  },
  {
   "cell_type": "code",
   "metadata": {
    "id": "gcMLJ8x-ejiw",
    "ExecuteTime": {
     "end_time": "2024-10-31T05:14:08.794089Z",
     "start_time": "2024-10-31T05:14:08.792103Z"
    }
   },
   "source": [
    "# Before we start, lets set training data to be the one with <unk> tokens and dev data to be the one with <eos> tokens in the end\n",
    "\n",
    "train_data = train_data_wth_unks\n",
    "dev_data = dev_data_processed"
   ],
   "outputs": [],
   "execution_count": 23
  },
  {
   "cell_type": "markdown",
   "metadata": {
    "id": "Bop8Iu1Dejiw"
   },
   "source": [
    "### Exercise 2.1: Text Processing\n",
    "\n",
    "A careful reader must have noted that the above expression: $P(w_1, w_2, \\cdots, w_n) = \\prod_{k=1}^{n}P(w_k \\mid w_{k-1})$ has a problem. On the right hand side, when $k = 1$, this will result in the term $P(w_1 | w_0)$, but there is no $w_0$ in the sequence. Similarly, for a trigram language model we will have terms, $P(w_1 | w_{-1}, w_{0})$ and $P(w_2 | w_0, w_1)$ with conditionals on words that are not part of the sequence. To handle this issue, we add $N-1$ start of sequence tokens, e.g. \\<sos\\> to the beginning of the sequence.\n",
    "\n",
    "Implement `process_text_for_Ngram` function below that adds $N-1$ \\<sos\\> tokens to beginning of each sentence in the dataset."
   ]
  },
  {
   "cell_type": "code",
   "metadata": {
    "deletable": false,
    "nbgrader": {
     "cell_type": "code",
     "checksum": "ff450790d0053d8d5f1bdc110dddece4",
     "grade": false,
     "grade_id": "cell-2228a409c358fa6e",
     "locked": false,
     "schema_version": 3,
     "solution": true,
     "task": false
    },
    "id": "7Z01HXa5ejiw",
    "ExecuteTime": {
     "end_time": "2024-10-31T05:14:08.803688Z",
     "start_time": "2024-10-31T05:14:08.800801Z"
    }
   },
   "source": [
    "def process_text_for_Ngram(sents: List[str], N: int = 2) -> List[str]:\n",
    "\n",
    "    \"\"\"\n",
    "    Adds N-1 <sos> tokens to the start of every sentence in the text.\n",
    "\n",
    "    Inputs:\n",
    "        - sents: List[str], List of sentences\n",
    "        - N: int, the N in N-gram\n",
    "\n",
    "    Outputs:\n",
    "        - List[str], the processed text\n",
    "    \"\"\"\n",
    "    processed_sents = [\"<sos> \" * (N-1) + line for line in sents]\n",
    "\n",
    "    return processed_sents"
   ],
   "outputs": [],
   "execution_count": 24
  },
  {
   "cell_type": "code",
   "metadata": {
    "id": "gJACPGMzejiw",
    "ExecuteTime": {
     "end_time": "2024-10-31T05:14:08.829044Z",
     "start_time": "2024-10-31T05:14:08.825011Z"
    }
   },
   "source": [
    "# Sample test cases\n",
    "\n",
    "def test_process_text_for_Ngram():\n",
    "\n",
    "    sents = [\"Many years later , as he faced the firing squad , Colonel Aureliano Buendía was to remember that distant afternoon when his father took him to discover ice .\",\n",
    "    \"At that time Macondo was a village of twenty adobe houses, built on the bank of a river of clear water that ran along a bed of polished stones, which were white and enormous, like prehistoric eggs .\",\n",
    "    \"The world was so recent that many things lacked names, and in order to indicate them it was necessary to point .\" ]\n",
    "\n",
    "    print(\"Running Sample Test Case 1 with N=1\")\n",
    "    unigram_processed_text = process_text_for_Ngram(sents, 1)\n",
    "    excepted_output = [\n",
    "        \"Many years later , as he faced the firing squad , Colonel Aureliano Buendía was to remember that distant afternoon when his father took him to discover ice .\",\n",
    "        \"At that time Macondo was a village of twenty adobe houses, built on the bank of a river of clear water that ran along a bed of polished stones, which were white and enormous, like prehistoric eggs .\",\n",
    "        \"The world was so recent that many things lacked names, and in order to indicate them it was necessary to point .\"\n",
    "    ]\n",
    "    evaluate_list_test_case(sents, unigram_processed_text, excepted_output)\n",
    "\n",
    "    print(\"Running Sample Test Case 2 with N=2\")\n",
    "    bigram_processed_text = process_text_for_Ngram(sents, 2)\n",
    "    excepted_output = [\n",
    "        \"<sos> Many years later , as he faced the firing squad , Colonel Aureliano Buendía was to remember that distant afternoon when his father took him to discover ice .\",\n",
    "        \"<sos> At that time Macondo was a village of twenty adobe houses, built on the bank of a river of clear water that ran along a bed of polished stones, which were white and enormous, like prehistoric eggs .\",\n",
    "        \"<sos> The world was so recent that many things lacked names, and in order to indicate them it was necessary to point .\"\n",
    "    ]\n",
    "    evaluate_list_test_case(sents, bigram_processed_text, excepted_output)\n",
    "\n",
    "    print(\"Running Sample Test Case 3 with N=3\")\n",
    "    trigram_processed_text = process_text_for_Ngram(sents, 3)\n",
    "    excepted_output = [\n",
    "        \"<sos> <sos> Many years later , as he faced the firing squad , Colonel Aureliano Buendía was to remember that distant afternoon when his father took him to discover ice .\",\n",
    "        \"<sos> <sos> At that time Macondo was a village of twenty adobe houses, built on the bank of a river of clear water that ran along a bed of polished stones, which were white and enormous, like prehistoric eggs .\",\n",
    "        \"<sos> <sos> The world was so recent that many things lacked names, and in order to indicate them it was necessary to point .\"\n",
    "    ]\n",
    "    evaluate_list_test_case(sents, trigram_processed_text, excepted_output)\n",
    "\n",
    "    print(\"Running Sample Test Case 4 with N=4\")\n",
    "    fourgram_processed_text = process_text_for_Ngram(sents, 4)\n",
    "    excepted_output = [\n",
    "        \"<sos> <sos> <sos> Many years later , as he faced the firing squad , Colonel Aureliano Buendía was to remember that distant afternoon when his father took him to discover ice .\",\n",
    "        \"<sos> <sos> <sos> At that time Macondo was a village of twenty adobe houses, built on the bank of a river of clear water that ran along a bed of polished stones, which were white and enormous, like prehistoric eggs .\",\n",
    "        \"<sos> <sos> <sos> The world was so recent that many things lacked names, and in order to indicate them it was necessary to point .\"\n",
    "    ]\n",
    "    evaluate_list_test_case(sents, fourgram_processed_text, excepted_output)\n",
    "\n",
    "test_process_text_for_Ngram()"
   ],
   "outputs": [
    {
     "name": "stdout",
     "output_type": "stream",
     "text": [
      "Running Sample Test Case 1 with N=1\n",
      "Input:\n",
      " ['Many years later , as he faced the firing squad , Colonel Aureliano Buendía was to remember that distant afternoon when his father took him to discover ice .', 'At that time Macondo was a village of twenty adobe houses, built on the bank of a river of clear water that ran along a bed of polished stones, which were white and enormous, like prehistoric eggs .', 'The world was so recent that many things lacked names, and in order to indicate them it was necessary to point .']\n",
      "Output:\n",
      " ['Many years later , as he faced the firing squad , Colonel Aureliano Buendía was to remember that distant afternoon when his father took him to discover ice .', 'At that time Macondo was a village of twenty adobe houses, built on the bank of a river of clear water that ran along a bed of polished stones, which were white and enormous, like prehistoric eggs .', 'The world was so recent that many things lacked names, and in order to indicate them it was necessary to point .']\n",
      "Expected output:\n",
      " ['Many years later , as he faced the firing squad , Colonel Aureliano Buendía was to remember that distant afternoon when his father took him to discover ice .', 'At that time Macondo was a village of twenty adobe houses, built on the bank of a river of clear water that ran along a bed of polished stones, which were white and enormous, like prehistoric eggs .', 'The world was so recent that many things lacked names, and in order to indicate them it was necessary to point .']\n",
      "Test case passed! :)\n",
      "\n",
      "==================================================\n",
      "\n",
      "Running Sample Test Case 2 with N=2\n",
      "Input:\n",
      " ['Many years later , as he faced the firing squad , Colonel Aureliano Buendía was to remember that distant afternoon when his father took him to discover ice .', 'At that time Macondo was a village of twenty adobe houses, built on the bank of a river of clear water that ran along a bed of polished stones, which were white and enormous, like prehistoric eggs .', 'The world was so recent that many things lacked names, and in order to indicate them it was necessary to point .']\n",
      "Output:\n",
      " ['<sos> Many years later , as he faced the firing squad , Colonel Aureliano Buendía was to remember that distant afternoon when his father took him to discover ice .', '<sos> At that time Macondo was a village of twenty adobe houses, built on the bank of a river of clear water that ran along a bed of polished stones, which were white and enormous, like prehistoric eggs .', '<sos> The world was so recent that many things lacked names, and in order to indicate them it was necessary to point .']\n",
      "Expected output:\n",
      " ['<sos> Many years later , as he faced the firing squad , Colonel Aureliano Buendía was to remember that distant afternoon when his father took him to discover ice .', '<sos> At that time Macondo was a village of twenty adobe houses, built on the bank of a river of clear water that ran along a bed of polished stones, which were white and enormous, like prehistoric eggs .', '<sos> The world was so recent that many things lacked names, and in order to indicate them it was necessary to point .']\n",
      "Test case passed! :)\n",
      "\n",
      "==================================================\n",
      "\n",
      "Running Sample Test Case 3 with N=3\n",
      "Input:\n",
      " ['Many years later , as he faced the firing squad , Colonel Aureliano Buendía was to remember that distant afternoon when his father took him to discover ice .', 'At that time Macondo was a village of twenty adobe houses, built on the bank of a river of clear water that ran along a bed of polished stones, which were white and enormous, like prehistoric eggs .', 'The world was so recent that many things lacked names, and in order to indicate them it was necessary to point .']\n",
      "Output:\n",
      " ['<sos> <sos> Many years later , as he faced the firing squad , Colonel Aureliano Buendía was to remember that distant afternoon when his father took him to discover ice .', '<sos> <sos> At that time Macondo was a village of twenty adobe houses, built on the bank of a river of clear water that ran along a bed of polished stones, which were white and enormous, like prehistoric eggs .', '<sos> <sos> The world was so recent that many things lacked names, and in order to indicate them it was necessary to point .']\n",
      "Expected output:\n",
      " ['<sos> <sos> Many years later , as he faced the firing squad , Colonel Aureliano Buendía was to remember that distant afternoon when his father took him to discover ice .', '<sos> <sos> At that time Macondo was a village of twenty adobe houses, built on the bank of a river of clear water that ran along a bed of polished stones, which were white and enormous, like prehistoric eggs .', '<sos> <sos> The world was so recent that many things lacked names, and in order to indicate them it was necessary to point .']\n",
      "Test case passed! :)\n",
      "\n",
      "==================================================\n",
      "\n",
      "Running Sample Test Case 4 with N=4\n",
      "Input:\n",
      " ['Many years later , as he faced the firing squad , Colonel Aureliano Buendía was to remember that distant afternoon when his father took him to discover ice .', 'At that time Macondo was a village of twenty adobe houses, built on the bank of a river of clear water that ran along a bed of polished stones, which were white and enormous, like prehistoric eggs .', 'The world was so recent that many things lacked names, and in order to indicate them it was necessary to point .']\n",
      "Output:\n",
      " ['<sos> <sos> <sos> Many years later , as he faced the firing squad , Colonel Aureliano Buendía was to remember that distant afternoon when his father took him to discover ice .', '<sos> <sos> <sos> At that time Macondo was a village of twenty adobe houses, built on the bank of a river of clear water that ran along a bed of polished stones, which were white and enormous, like prehistoric eggs .', '<sos> <sos> <sos> The world was so recent that many things lacked names, and in order to indicate them it was necessary to point .']\n",
      "Expected output:\n",
      " ['<sos> <sos> <sos> Many years later , as he faced the firing squad , Colonel Aureliano Buendía was to remember that distant afternoon when his father took him to discover ice .', '<sos> <sos> <sos> At that time Macondo was a village of twenty adobe houses, built on the bank of a river of clear water that ran along a bed of polished stones, which were white and enormous, like prehistoric eggs .', '<sos> <sos> <sos> The world was so recent that many things lacked names, and in order to indicate them it was necessary to point .']\n",
      "Test case passed! :)\n",
      "\n",
      "==================================================\n",
      "\n"
     ]
    }
   ],
   "execution_count": 25
  },
  {
   "cell_type": "markdown",
   "metadata": {
    "id": "3M1Y7RDSejiw"
   },
   "source": [
    "### Exercise 2.2: Implementing N-gram language models (10 Points)\n",
    "\n",
    "The heart of implementing an N-gram language model is to estimate the conditional distributions $P(w_n \\mid w_{n-N-1}, \\cdots, w_{n-1})$. Recall from the lectures that the conditional distributions can be estimated as:\n",
    "\n",
    "$$P(w_n \\mid w_{n-N-1}, \\cdots, w_{n-1}) = \\frac{C(w_{n-N-1} \\cdots w_{n-1} w_{n})}{\\sum_{w \\in W}{C(w_{n-N-1} \\cdots w_{n-1} w)}} = \\frac{C(w_{n-N-1} \\cdots w_{n-1} w_{n})}{{C(w_{n-N-1} \\cdots w_{n-1})}}$$\n",
    "\n",
    "where $C(w_{n-N-1} \\cdots w_{n-1} w)$ is the number of times the token sequence $w_{n-N-1} \\cdots w_{n-1} w$ appears in the corpus, and $W$ is the vocabulary of the N-gram model.\n",
    "\n",
    "You will now implement an N-gram language model from scratch. Note that a full implementation involves a `fit` function, which computes the N-gram counts $C(w_{n-N-1} \\cdots w_{n-1} w)$ needed to compute the conditional distributions; `eval_perplexity` function, which evaluates the perplexity of the language model on a test set; and a `sample_text` function which generates the text from the LM. Implement the class `WordNGramLM` below with these functions.This time we leave all the implementation details for you to decide. We just provide a boiler plate code, with the expected input output for the three functions in the class. You might need to implement additional functions for your implementation of the three functions.\n",
    "\n",
    "**Note 1**: If implementing a general NGram Model from scratch seems too daunting, we recommend starting implementing just the Bigram LM and checking if you are able to pass BigramLM Test cases. From there you can work on generalizing your solution.\n",
    "\n",
    "**Note 2**: Efficiency of your code will be important here, especially for `eval_perplexity` and `sample_text` functions. A naive implementation of these functions will result in a time complexity of $O(nV)$ for `eval_perplexity` and $O(TV)$ for `sample_text`, where $n$ is the number of words in evaluation dataset, T is the length of sampled text, and $V$ is the size of vocabulary. By caching certain quantities during training, you should be able to write implementations with time complexities $O(n + V)$ and $O(T + V)$ for the two functions. We will give only half credit for the naive implementation.\n",
    "\n",
    "**Note 3**: We will provide sample test cases only to test `eval_perplexity` and `sample_text` functions and not for the `fit` function. Both of the former functions rely on the latter to be implemented correctly, hence use correctness of `eval_perplexity` and `sample_text` to check the correctness of your `fit` function."
   ]
  },
  {
   "cell_type": "code",
   "metadata": {
    "deletable": false,
    "nbgrader": {
     "cell_type": "code",
     "checksum": "c4b5b6f4bddbd16281f830d528d1d00e",
     "grade": false,
     "grade_id": "cell-cf47ebd6c0f86836",
     "locked": false,
     "schema_version": 3,
     "solution": true,
     "task": false
    },
    "id": "G9fZxEQlejiw",
    "ExecuteTime": {
     "end_time": "2024-10-31T05:14:08.879219Z",
     "start_time": "2024-10-31T05:14:08.872918Z"
    }
   },
   "source": [
    "class WordNGramLM:\n",
    "\n",
    "    def __init__(self, N: int):\n",
    "        self.N = N\n",
    "        self.ngram_probs = {}\n",
    "        self.vocabulary = set()\n",
    "        self.prefix_dict = {}\n",
    "\n",
    "    def fit(self, train_data: List[str]):\n",
    "\n",
    "        \"\"\"\n",
    "        Trains an N-gram language model.\n",
    "\n",
    "        Inputs:\n",
    "            - train_data: str, sentences in the training data\n",
    "\n",
    "        \"\"\"\n",
    "\n",
    "        # YOUR CODE HERE\n",
    "        train_data = process_text_for_Ngram(train_data, self.N)\n",
    "        ngrams = self.get_ngrams(train_data)\n",
    "        \n",
    "        self.vocabulary = {word for line in train_data for word in line.split()}\n",
    "        \n",
    "        ngrams_minus_1 = [\" \".join(ngram.split()[:-1]) for ngram in ngrams]\n",
    "        \n",
    "        self.prefix_dict = {}\n",
    "        for ngram in ngrams:\n",
    "            ngram_minus_1 = \" \".join(ngram.split()[:-1])\n",
    "            if ngram_minus_1 not in self.prefix_dict:\n",
    "                self.prefix_dict[ngram_minus_1] = [ngram]\n",
    "            else:\n",
    "                self.prefix_dict[ngram_minus_1].append(ngram)\n",
    "        for prefix in self.prefix_dict:\n",
    "            self.prefix_dict[prefix] = list(set(self.prefix_dict[prefix]))\n",
    "        \n",
    "        ngram_probs_minus_1 = nltk.FreqDist(ngrams_minus_1)\n",
    "        self.ngram_probs = nltk.FreqDist(ngrams)\n",
    "        \n",
    "        self.ngram_probs = {\n",
    "            ngram: self.ngram_probs[ngram] / ngram_probs_minus_1.get(\" \".join(ngram.split()[0:self.N-1]))\n",
    "            for ngram in self.ngram_probs\n",
    "        }\n",
    "\n",
    "    def eval_perplexity(self, eval_data: List[str]) -> float:\n",
    "\n",
    "        \"\"\"\n",
    "        Evaluates the perplexity of the N-gram language model on the eval set.\n",
    "\n",
    "        Input:\n",
    "            - eval_data: List[str], the evaluation text\n",
    "\n",
    "        Output:\n",
    "            - float, the perplexity of the model on the evaluation set\n",
    "\n",
    "        Note : For words that are not in the vocabulary, replace them with the <unk> token.\n",
    "\n",
    "        \"\"\"\n",
    "        \n",
    "        # YOUR CODE HERE\n",
    "        eval_data = process_text_for_Ngram(self.replace_unknown_words_with_unk(eval_data), self.N)\n",
    "        perplexity = 0\n",
    "        for line in eval_data:\n",
    "            words = line.split()\n",
    "            for i in range(len(words) - self.N + 1):\n",
    "                ngram = ' '.join(words[i:i+self.N])\n",
    "                perplexity += np.log(self.ngram_probs.get(ngram, 0))\n",
    "                \n",
    "        num_words = sum(len(line.split()) for line in eval_data)\n",
    "        return np.exp(-perplexity / num_words)\n",
    "\n",
    "    def sample_text(self, prefix: str = \"<sos>\", max_words: int = 100) -> str:\n",
    "\n",
    "        \"\"\"\n",
    "        Samples text from the N-gram language model.\n",
    "        Terminate sampling when either max_words is reached or when <eos> token is sampled.\n",
    "        Inputs:\n",
    "            - prefix: str, the prefix to start the sampling from. Can also be multiple words separated by spaces.\n",
    "            - max_words: int, the maximum number of words to sample\n",
    "\n",
    "        Outputs:\n",
    "            - str, the sampled text\n",
    "\n",
    "        Note: Please use np.random.choice for sampling next words\n",
    "        \"\"\"\n",
    "\n",
    "        # YOUR CODE HERE\n",
    "        sampled_string = prefix\n",
    "        for _ in range(max_words):\n",
    "            prefix = \" \".join(sampled_string.split()[-(self.N-1):])\n",
    "            # ngrams with right prefix\n",
    "            ngrams = self.prefix_dict.get(prefix, [])\n",
    "            # if no ngrams with the right prefix, can't generate any more text\n",
    "            if len(ngrams) == 0:\n",
    "                break\n",
    "            p = np.asarray([self.ngram_probs.get(ngram, 0) for ngram in ngrams], dtype=np.float64)\n",
    "            next_word = np.random.choice([ngram for ngram in ngrams], p=p).split()[-1]\n",
    "            sampled_string += f\" {next_word}\"\n",
    "            if next_word == \"<eos>\":\n",
    "                break\n",
    "            \n",
    "        return sampled_string\n",
    "\n",
    "    # Extra utility functions that you think will be useful can go below\n",
    "    def get_ngrams(self, train_data: List[str]) -> List[str]:\n",
    "        return [\n",
    "            ' '.join(line.split()[i:i+self.N]) \n",
    "            for line in train_data \n",
    "            for i in range(len(line.split()) - self.N + 1)\n",
    "        ]\n",
    "    \n",
    "    def replace_unknown_words_with_unk(self, eval_data: List[str]):\n",
    "        \"\"\"\n",
    "        Replace unknown words in the evaluation data with <unk> token\n",
    "        \"\"\"\n",
    "        return [\" \".join([word if word in self.vocabulary else \"<unk>\" for word in line.split()]) for line in eval_data]"
   ],
   "outputs": [],
   "execution_count": 26
  },
  {
   "cell_type": "markdown",
   "metadata": {
    "id": "RwPYecTVejix"
   },
   "source": [
    "As a sanity check, check if your code returns same perplexities when N=1 as your earlier unigram model perplexities"
   ]
  },
  {
   "cell_type": "code",
   "metadata": {
    "id": "Zq2QPfQvejix",
    "ExecuteTime": {
     "end_time": "2024-10-31T05:14:09.623339Z",
     "start_time": "2024-10-31T05:14:08.909781Z"
    }
   },
   "source": [
    "unigram_lm = WordNGramLM(1)\n",
    "unigram_lm.fit(train_data)\n",
    "\n",
    "train_ppl = unigram_lm.eval_perplexity(train_data)\n",
    "dev_ppl = unigram_lm.eval_perplexity(dev_data)\n",
    "print(f\"Train Perplexity for Unigram model (Class Implementation): {train_ppl}\")\n",
    "print(f\"Dev Perplexity for Unigram model (Class Implementation): {dev_ppl}\")\n",
    "\n",
    "train_ppl_old = eval_ppl_word_unigram_wth_unks(train_data_wth_unks, unigram_probs_wth_unks)\n",
    "dev_ppl_old = eval_ppl_word_unigram_wth_unks(dev_data_processed, unigram_probs_wth_unks)\n",
    "\n",
    "print(f\"Train Perplexity for Unigram model (Original Implementation): {train_ppl_old}\")\n",
    "print(f\"Dev Perplexity for Unigram model (Original Implementation): {dev_ppl_old}\")\n",
    "\n",
    "if np.allclose(train_ppl, train_ppl_old, atol = 1e-4) and np.allclose(dev_ppl, dev_ppl_old, atol = 1e-4):\n",
    "    print(\"Unigram model perplexities match! :)\")\n",
    "\n",
    "else:\n",
    "    print(\"Unigram model perplexities do not match! :(\")"
   ],
   "outputs": [
    {
     "name": "stdout",
     "output_type": "stream",
     "text": [
      "Train Perplexity for Unigram model (Class Implementation): 216.08200416605456\n",
      "Dev Perplexity for Unigram model (Class Implementation): 167.3194142699338\n",
      "Train Perplexity for Unigram model (Original Implementation): 216.08200416605456\n",
      "Dev Perplexity for Unigram model (Original Implementation): 167.3194142699338\n",
      "Unigram model perplexities match! :)\n"
     ]
    }
   ],
   "execution_count": 27
  },
  {
   "cell_type": "markdown",
   "metadata": {
    "id": "6Yf1PLxMejix"
   },
   "source": [
    "Test implementation of `eval_perplexity` for bigram model"
   ]
  },
  {
   "cell_type": "code",
   "metadata": {
    "id": "_97Zx-H1ejix",
    "ExecuteTime": {
     "end_time": "2024-10-31T05:14:10.325220Z",
     "start_time": "2024-10-31T05:14:09.657224Z"
    }
   },
   "source": [
    "# Test implementation of `eval_perplexity` for bigram model\n",
    "bigram_lm = WordNGramLM(2)\n",
    "bigram_lm.fit(train_data)\n",
    "train_ppl = bigram_lm.eval_perplexity(train_data)\n",
    "print(f\"Train Perplexity: {train_ppl}\")\n",
    "dev_ppl = bigram_lm.eval_perplexity(dev_data)\n",
    "print(f\"Dev Perplexity: {dev_ppl}\")"
   ],
   "outputs": [
    {
     "name": "stdout",
     "output_type": "stream",
     "text": [
      "Train Perplexity: 31.947377531986337\n",
      "Dev Perplexity: inf\n"
     ]
    },
    {
     "name": "stderr",
     "output_type": "stream",
     "text": [
      "C:\\Users\\Rohan Mukherjee\\AppData\\Local\\Temp\\ipykernel_485528\\3861553864.py:67: RuntimeWarning: divide by zero encountered in log\n",
      "  perplexity += np.log(self.ngram_probs.get(ngram, 0))\n"
     ]
    }
   ],
   "execution_count": 28
  },
  {
   "cell_type": "markdown",
   "metadata": {
    "id": "2P4a8hOKejix"
   },
   "source": [
    "You should see a train perplexity of roughly 35 and dev perplexity infinite, we will soon see how to deal with that."
   ]
  },
  {
   "cell_type": "markdown",
   "metadata": {
    "id": "hSg5Ucukejix"
   },
   "source": [
    "Test implementation of `sample_text` for bigram model"
   ]
  },
  {
   "cell_type": "code",
   "metadata": {
    "id": "TcmWqa3Vejix",
    "ExecuteTime": {
     "end_time": "2024-10-31T05:14:10.962778Z",
     "start_time": "2024-10-31T05:14:10.396241Z"
    }
   },
   "source": [
    "def test_sample_text_bigram_model():\n",
    "    bigram_lm = WordNGramLM(2)\n",
    "    bigram_lm.fit(train_data)\n",
    "\n",
    "    random.seed(42)\n",
    "    np.random.seed(42)\n",
    "    sampled_text = bigram_lm.sample_text(\"<sos>\", max_words=50)\n",
    "\n",
    "    print(\"Test Case 1: Check if the sampled text starts with <sos>\")\n",
    "    evaluate_test_case(None, sampled_text.startswith(\"<sos>\"), True, output_str=\"Sampled text starts with <sos>\")\n",
    "\n",
    "    print(\"Test Case 2: Check if the number of generated words is either 50 or less than 50 and ends with <eos>\")\n",
    "    print(f\"Generated text: {sampled_text}\")\n",
    "    print(f\"Number of generated words: {len(sampled_text.split()) - 1}\")\n",
    "    print(f\"Does the generated text end with <eos>: {'<eos>' in sampled_text}\")\n",
    "    if len(sampled_text.split()) - 1 == 50 or (\n",
    "        len(sampled_text.split()) < 50 and \"<eos>\" in sampled_text\n",
    "    ):\n",
    "        print(\"Test passed! :)\")\n",
    "    else:\n",
    "        print(\"Test failed! :(\")\n",
    "\n",
    "    print(\"\\n\" + \"=\"*50 + \"\\n\")\n",
    "\n",
    "    print(\"Test Case 3: Check if the probability of generating II is less than III when prefix is RICHARD\")\n",
    "    sampled_texts = [\n",
    "        bigram_lm.sample_text(\"RICHARD\", max_words=1) for _ in range(10000)\n",
    "    ]\n",
    "    sampled_text = \" \".join(sampled_texts)\n",
    "    num_richard_2s = [\n",
    "        text.split(\"RICHARD\")[1].strip() == \"II\" for text in sampled_texts\n",
    "    ].count(True)\n",
    "    num_richard_3s = [\n",
    "        text.split(\"RICHARD\")[1].strip() == \"III\" for text in sampled_texts\n",
    "    ].count(True)\n",
    "    gen_prob_richard_2 = num_richard_2s / len(sampled_texts)\n",
    "    gen_prob_richard_3 = num_richard_3s / len(sampled_texts)\n",
    "\n",
    "    print(f\"Probability of generating Richard II: {gen_prob_richard_2}\")\n",
    "    print(f\"Probability of generating Richard III: {gen_prob_richard_3}\")\n",
    "    if gen_prob_richard_2 < gen_prob_richard_3:\n",
    "        print(\"Test passed! :)\")\n",
    "    else:\n",
    "        print(\"Test failed! :(\")\n",
    "\n",
    "    print(\"\\n\" + \"=\"*50 + \"\\n\")\n",
    "\n",
    "    print(\n",
    "        \"Test Case 4: Check if the probability of generating II given RICHARD  are close to the expected values\"\n",
    "    )\n",
    "    evaluate_test_case(\"Richard II\", gen_prob_richard_2, 0.35251798561151076, output_str=\"Probability of generating Richard II\", atol=1e-2)\n",
    "\n",
    "    print(\n",
    "        \"Test Case 5: Check if the probability of generating III given RICHARD are close to the expected values\"\n",
    "    )\n",
    "    evaluate_test_case(\"Richard III\", gen_prob_richard_3, 0.49640287769784175, output_str=\"Probability of generating Richard III\", atol=1e-2)\n",
    "\n",
    "test_sample_text_bigram_model()"
   ],
   "outputs": [
    {
     "name": "stdout",
     "output_type": "stream",
     "text": [
      "Test Case 1: Check if the sampled text starts with <sos>\n",
      "Sampled text starts with <sos>:\n",
      " True\n",
      "Expected Sampled text starts with <sos>:\n",
      " True\n",
      "Test case passed! :)\n",
      "\n",
      "==================================================\n",
      "\n",
      "Test Case 2: Check if the number of generated words is either 50 or less than 50 and ends with <eos>\n",
      "Generated text: <sos> All seeing thou <unk> , Warwick <unk> their <unk> more , good lord , and teach , Here sits on him , to <unk> of love it seems a hundred , which else <unk> it ! <eos>\n",
      "Number of generated words: 37\n",
      "Does the generated text end with <eos>: True\n",
      "Test passed! :)\n",
      "\n",
      "==================================================\n",
      "\n",
      "Test Case 3: Check if the probability of generating II is less than III when prefix is RICHARD\n",
      "Probability of generating Richard II: 0.3498\n",
      "Probability of generating Richard III: 0.504\n",
      "Test passed! :)\n",
      "\n",
      "==================================================\n",
      "\n",
      "Test Case 4: Check if the probability of generating II given RICHARD  are close to the expected values\n",
      "Input:\n",
      " Richard II\n",
      "Probability of generating Richard II:\n",
      " 0.3498\n",
      "Expected Probability of generating Richard II:\n",
      " 0.35251798561151076\n",
      "Test case passed! :)\n",
      "\n",
      "==================================================\n",
      "\n",
      "Test Case 5: Check if the probability of generating III given RICHARD are close to the expected values\n",
      "Input:\n",
      " Richard III\n",
      "Probability of generating Richard III:\n",
      " 0.504\n",
      "Expected Probability of generating Richard III:\n",
      " 0.49640287769784175\n",
      "Test case passed! :)\n",
      "\n",
      "==================================================\n",
      "\n"
     ]
    }
   ],
   "execution_count": 29
  },
  {
   "cell_type": "code",
   "metadata": {
    "id": "vyJaTQXSejix",
    "ExecuteTime": {
     "end_time": "2024-10-31T05:14:11.025401Z",
     "start_time": "2024-10-31T05:14:10.997096Z"
    }
   },
   "source": [
    "for _ in range(20):\n",
    "    sampled_text = bigram_lm.sample_text(\"<sos> KING\", max_words=50)\n",
    "    print(sampled_text)"
   ],
   "outputs": [
    {
     "name": "stdout",
     "output_type": "stream",
     "text": [
      "<sos> KING RICHARD II : 'T is right : I have <unk> for a match The <unk> this one <unk> and made ; And , if you . <eos>\n",
      "<sos> KING HENRY VI : I and in one : but is a time of majesty . <eos>\n",
      "<sos> KING RICHARD II : If you will <unk> show our mercy we <unk> . <eos>\n",
      "<sos> KING EDWARD IV : How ! <eos>\n",
      "<sos> KING LEWIS XI : <unk> out The ground Till Bolingbroke : <unk> ; I would all the butcher to wear a dying men 's have him good . <eos>\n",
      "<sos> KING RICHARD II : Is it By what hour , thou <unk> in this is there 's <unk> life , so <unk> soon out , he let her with all . <eos>\n",
      "<sos> KING EDWARD IV : My father , Sir Paris ; until it is Hastings , The mighty <unk> that <unk> <unk> with <unk> and marriage . <eos>\n",
      "<sos> KING RICHARD : O <unk> , sir ; or else I still , <unk> , and you be <unk> to my soul . <eos>\n",
      "<sos> KING HENRY VI : <unk> , the <unk> them . <eos>\n",
      "<sos> KING RICHARD III : How long . <eos>\n",
      "<sos> KING RICHARD II : God ! <eos>\n",
      "<sos> KING RICHARD : My thoughts , <unk> . <eos>\n",
      "<sos> KING RICHARD II : My child ! <eos>\n",
      "<sos> KING HENRY VI QUEEN ELIZABETH : <unk> ; They laugh 'd on it not an <unk> Of thy due <unk> words Till holy <unk> of yours . <eos>\n",
      "<sos> KING HENRY VI : Nay , Most mighty , And now ! <eos>\n",
      "<sos> KING HENRY BOLINGBROKE : Our army of thee dead . <eos>\n",
      "<sos> KING LEWIS XI : Sir , not king 's most dear my blest am light , amen ? <eos>\n",
      "<sos> KING HENRY VI : Your followers do not this hour since that kingly woe for my life . <eos>\n",
      "<sos> KING RICHARD III : He hath but this way and yours ! <eos>\n",
      "<sos> KING RICHARD : Still <unk> 'd , you . <eos>\n"
     ]
    }
   ],
   "execution_count": 30
  },
  {
   "cell_type": "markdown",
   "metadata": {
    "id": "fFX6ssWAejix"
   },
   "source": [
    "The generations should look much better now, way more coherent compared to the unigram model! At least on the surface level it seems to capture the style of Shakespeare's writing."
   ]
  },
  {
   "cell_type": "markdown",
   "metadata": {
    "id": "1slC0pWcejix"
   },
   "source": [
    "Test implementation of `eval_perplexity` for trigram, 4-gram, and 5-gram models"
   ]
  },
  {
   "metadata": {
    "ExecuteTime": {
     "end_time": "2024-10-31T05:14:14.197552Z",
     "start_time": "2024-10-31T05:14:11.060823Z"
    }
   },
   "cell_type": "code",
   "source": [
    "trigram_lm = WordNGramLM(3)\n",
    "trigram_lm.fit(train_data)\n",
    "\n",
    "train_ppl = trigram_lm.eval_perplexity(train_data)\n",
    "dev_ppl = trigram_lm.eval_perplexity(dev_data)\n",
    "print(f\"Train Perplexity for Trigram model: {train_ppl}\")\n",
    "print(f\"Dev Perplexity for Trigram model: {dev_ppl}\")\n",
    "\n",
    "print(\"\\n\\n\")\n",
    "\n",
    "fourgram_lm = WordNGramLM(4)\n",
    "fourgram_lm.fit(train_data)\n",
    "train_ppl = fourgram_lm.eval_perplexity(train_data)\n",
    "dev_ppl = fourgram_lm.eval_perplexity(dev_data)\n",
    "print(f\"Train Perplexity for 4-gram model: {train_ppl}\")\n",
    "print(f\"Dev Perplexity for 4-gram model: {dev_ppl}\")\n",
    "\n",
    "print(\"\\n\\n\")\n",
    "\n",
    "fivegram_lm = WordNGramLM(5)\n",
    "fivegram_lm.fit(train_data)\n",
    "train_ppl = fivegram_lm.eval_perplexity(train_data)\n",
    "dev_ppl = fivegram_lm.eval_perplexity(dev_data)\n",
    "print(f\"Train Perplexity for 5-gram model: {train_ppl}\")\n",
    "print(f\"Dev Perplexity for 5-gram model: {dev_ppl}\")"
   ],
   "outputs": [
    {
     "name": "stderr",
     "output_type": "stream",
     "text": [
      "C:\\Users\\Rohan Mukherjee\\AppData\\Local\\Temp\\ipykernel_485528\\3861553864.py:67: RuntimeWarning: divide by zero encountered in log\n",
      "  perplexity += np.log(self.ngram_probs.get(ngram, 0))\n"
     ]
    },
    {
     "name": "stdout",
     "output_type": "stream",
     "text": [
      "Train Perplexity for Trigram model: 6.644587894643117\n",
      "Dev Perplexity for Trigram model: inf\n",
      "\n",
      "\n",
      "\n",
      "Train Perplexity for 4-gram model: 2.313972420053016\n",
      "Dev Perplexity for 4-gram model: inf\n",
      "\n",
      "\n",
      "\n",
      "Train Perplexity for 5-gram model: 1.5704938250509233\n",
      "Dev Perplexity for 5-gram model: inf\n"
     ]
    }
   ],
   "execution_count": 31
  },
  {
   "cell_type": "markdown",
   "metadata": {
    "id": "__RsR9bWejix"
   },
   "source": [
    "You should see train perplexities approximately 5.11, 1.89, and 1.48 for trigram, 4-gram, and 5-gram LMs. For dev data the dev perplexity should be infinity for all the three."
   ]
  },
  {
   "cell_type": "markdown",
   "metadata": {
    "id": "j_qaxHduejix"
   },
   "source": [
    "Test implementation of `sample_text` for trigram and 4-gram LMs."
   ]
  },
  {
   "cell_type": "code",
   "metadata": {
    "id": "OS8SzXqGejix",
    "ExecuteTime": {
     "end_time": "2024-10-31T05:14:15.914042Z",
     "start_time": "2024-10-31T05:14:14.208281Z"
    }
   },
   "source": [
    "def test_sample_text_ngram():\n",
    "\n",
    "    print(\"Testing for Trigram model\")\n",
    "\n",
    "    random.seed(42)\n",
    "    np.random.seed(42)\n",
    "    trigram_lm = WordNGramLM(3)\n",
    "    trigram_lm.fit(train_data)\n",
    "    sampled_text = trigram_lm.sample_text(\"<sos> <sos>\", max_words=50)\n",
    "\n",
    "    print(\"Test Case 1: Check if the sampled text starts with <sos> <sos>\")\n",
    "    evaluate_test_case(None, sampled_text.startswith(\"<sos> <sos>\"), True, output_str=\"Sampled text starts with <sos> <sos>\")\n",
    "\n",
    "    print(\"Test Case 2: Check if the number of generated words is either 50 or less than 50 and ends with <eos>\")\n",
    "    print(f\"Generated text: {sampled_text}\")\n",
    "    print(f\"Number of generated words: {len(sampled_text.split()) - 2}\")\n",
    "    print(f\"Does the generated text end with <eos>: {'<eos>' in sampled_text}\")\n",
    "    if len(sampled_text.split()) - 2 == 50 or (\n",
    "        len(sampled_text.split()) - 2 < 50 and \"<eos>\" in sampled_text\n",
    "    ):\n",
    "        print(\"Test passed! :)\")\n",
    "    else:\n",
    "        print(\"Test failed! :(\")\n",
    "\n",
    "    print(\"\\n\" + \"=\"*50 + \"\\n\")\n",
    "\n",
    "    print(\"Test Case 3: Check if the probability of generating II is greater than III when prefix is KING RICHARD\")\n",
    "    sampled_texts = [\n",
    "        trigram_lm.sample_text(\"KING RICHARD\", max_words=1) for _ in range(10000)\n",
    "    ]\n",
    "    sampled_text = \" \".join(sampled_texts)\n",
    "    num_richard_2s = [\n",
    "        text.split(\"KING RICHARD\")[1].strip() == \"II\" for text in sampled_texts\n",
    "    ].count(True)\n",
    "    num_richard_3s = [\n",
    "        text.split(\"KING RICHARD\")[1].strip() == \"III\" for text in sampled_texts\n",
    "    ].count(True)\n",
    "\n",
    "    gen_prob_richard_2 = num_richard_2s / len(sampled_texts)\n",
    "    gen_prob_richard_3 = num_richard_3s / len(sampled_texts)\n",
    "\n",
    "    print(f\"Probability of generating Richard II: {gen_prob_richard_2}\")\n",
    "    print(f\"Probability of generating Richard III: {gen_prob_richard_3}\")\n",
    "    if gen_prob_richard_2 < gen_prob_richard_3:\n",
    "        print(\"Test passed! :)\")\n",
    "    else:\n",
    "        print(\"Test failed! :(\")\n",
    "\n",
    "    print(\"\\n\" + \"=\"*50 + \"\\n\")\n",
    "\n",
    "    print(\"Test Case 4: Check if the probability of generating II given KING RICHARD are close to the expected values\")\n",
    "    evaluate_test_case(\"King Richard II\", gen_prob_richard_2, 0.4229, output_str=\"Probability of generating Richard II\", atol=1e-2)\n",
    "\n",
    "    print(\"Test Case 5: Check if the probability of generating III given KING RICHARD are close to the expected values\")\n",
    "    evaluate_test_case(\"King Richard III\", gen_prob_richard_3, 0.5771, output_str=\"Probability of generating Richard III\", atol=1e-2)\n",
    "\n",
    "    print(\"Testing for 4-gram model\")\n",
    "    random.seed(42)\n",
    "    np.random.seed(42)\n",
    "    fourgram_lm = WordNGramLM(4)\n",
    "    fourgram_lm.fit(train_data)\n",
    "\n",
    "    sampled_text = fourgram_lm.sample_text(\"<sos> <sos> <sos>\", max_words=50)\n",
    "\n",
    "    print(\"Test Case 6: Check if the sampled text starts with <sos> <sos> <sos>\")\n",
    "    evaluate_test_case(None, sampled_text.startswith(\"<sos> <sos> <sos>\"), True, output_str=\"Sampled text starts with <sos> <sos> <sos>\")\n",
    "\n",
    "    print(\"Test Case 7: Check if the number of generated words is either 50 or less than 50 and ends with <eos>\")\n",
    "    print(f\"Generated text: {sampled_text}\")\n",
    "    print(f\"Number of generated words: {len(sampled_text.split()) - 3}\")\n",
    "    print(f\"Does the generated text end with <eos>: {'<eos>' in sampled_text}\")\n",
    "    if len(sampled_text.split()) - 3 == 50 or (\n",
    "        len(sampled_text.split()) - 3 < 50 and \"<eos>\" in sampled_text\n",
    "    ):\n",
    "        print(\"Test passed! :)\")\n",
    "\n",
    "    else:\n",
    "        print(\"Test failed! :(\")\n",
    "\n",
    "    print(\"\\n\" + \"=\"*50 + \"\\n\")\n",
    "\n",
    "    print(\"Test Case 8: Check if the probability of generating II is greater than III when prefix is <sos> KING RICHARD\")\n",
    "    sampled_texts = [\n",
    "        fourgram_lm.sample_text(\"<sos> <sos> KING RICHARD\", max_words=1) for _ in range(10000)\n",
    "    ]\n",
    "    sampled_text = \" \".join(sampled_texts)\n",
    "    num_richard_2s = [\n",
    "        text.split(\"<sos> <sos> KING RICHARD\")[1].strip() == \"II\" for text in sampled_texts\n",
    "    ].count(True)\n",
    "\n",
    "    num_richard_3s = [\n",
    "        text.split(\"<sos> <sos> KING RICHARD\")[1].strip() == \"III\" for text in sampled_texts\n",
    "    ].count(True)\n",
    "\n",
    "    gen_prob_rich2 = num_richard_2s / len(sampled_texts)\n",
    "    gen_prob_rich3 = num_richard_3s / len(sampled_texts)\n",
    "\n",
    "    print(f\"Probability of generating Richard II: {gen_prob_rich2}\")\n",
    "    print(f\"Probability of generating Richard III: {gen_prob_rich3}\")\n",
    "    if gen_prob_rich2 < gen_prob_rich3:\n",
    "        print(\"Test passed! :)\")\n",
    "    else:\n",
    "        print(\"Test failed! :(\")\n",
    "\n",
    "    print(\"\\n\" + \"=\"*50 + \"\\n\")\n",
    "\n",
    "    print(\"Test Case 9: Check if the probability of generating II given <sos> KING RICHARD are close to the expected values\")\n",
    "    evaluate_test_case(\"<sos> King Richard II\", gen_prob_rich2, 0.4229, output_str=\"Probability of generating Richard II\", atol=1e-2)\n",
    "\n",
    "    print(\"Test Case 10: Check if the probability of generating III given <sos> KING RICHARD are close to the expected values\")\n",
    "    evaluate_test_case(\"<sos> King Richard III\", gen_prob_rich3, 0.5771, output_str=\"Probability of generating Richard III\", atol=1e-2)\n",
    "\n",
    "test_sample_text_ngram()"
   ],
   "outputs": [
    {
     "name": "stdout",
     "output_type": "stream",
     "text": [
      "Testing for Trigram model\n",
      "Test Case 1: Check if the sampled text starts with <sos> <sos>\n",
      "Sampled text starts with <sos> <sos>:\n",
      " True\n",
      "Expected Sampled text starts with <sos> <sos>:\n",
      " True\n",
      "Test case passed! :)\n",
      "\n",
      "==================================================\n",
      "\n",
      "Test Case 2: Check if the number of generated words is either 50 or less than 50 and ends with <eos>\n",
      "Generated text: <sos> <sos> JULIET : O , she shall not be <unk> , well , she knew well Thy love did read by <unk> on the <unk> of sleep , and see : it is but to my good lord . <eos>\n",
      "Number of generated words: 39\n",
      "Does the generated text end with <eos>: True\n",
      "Test passed! :)\n",
      "\n",
      "==================================================\n",
      "\n",
      "Test Case 3: Check if the probability of generating II is greater than III when prefix is KING RICHARD\n",
      "Probability of generating Richard II: 0.4227\n",
      "Probability of generating Richard III: 0.5773\n",
      "Test passed! :)\n",
      "\n",
      "==================================================\n",
      "\n",
      "Test Case 4: Check if the probability of generating II given KING RICHARD are close to the expected values\n",
      "Input:\n",
      " King Richard II\n",
      "Probability of generating Richard II:\n",
      " 0.4227\n",
      "Expected Probability of generating Richard II:\n",
      " 0.4229\n",
      "Test case passed! :)\n",
      "\n",
      "==================================================\n",
      "\n",
      "Test Case 5: Check if the probability of generating III given KING RICHARD are close to the expected values\n",
      "Input:\n",
      " King Richard III\n",
      "Probability of generating Richard III:\n",
      " 0.5773\n",
      "Expected Probability of generating Richard III:\n",
      " 0.5771\n",
      "Test case passed! :)\n",
      "\n",
      "==================================================\n",
      "\n",
      "Testing for 4-gram model\n",
      "Test Case 6: Check if the sampled text starts with <sos> <sos> <sos>\n",
      "Sampled text starts with <sos> <sos> <sos>:\n",
      " True\n",
      "Expected Sampled text starts with <sos> <sos> <sos>:\n",
      " True\n",
      "Test case passed! :)\n",
      "\n",
      "==================================================\n",
      "\n",
      "Test Case 7: Check if the number of generated words is either 50 or less than 50 and ends with <eos>\n",
      "Generated text: <sos> <sos> <sos> MARCIUS : Thy friend no less Than what he stood for , so his ; As theirs , so far my son -- This lady 's husband , Sir Richard Grey , was slain , Your princely father and my loving lord ! <eos>\n",
      "Number of generated words: 44\n",
      "Does the generated text end with <eos>: True\n",
      "Test passed! :)\n",
      "\n",
      "==================================================\n",
      "\n",
      "Test Case 8: Check if the probability of generating II is greater than III when prefix is <sos> KING RICHARD\n",
      "Probability of generating Richard II: 0.4224\n",
      "Probability of generating Richard III: 0.5776\n",
      "Test passed! :)\n",
      "\n",
      "==================================================\n",
      "\n",
      "Test Case 9: Check if the probability of generating II given <sos> KING RICHARD are close to the expected values\n",
      "Input:\n",
      " <sos> King Richard II\n",
      "Probability of generating Richard II:\n",
      " 0.4224\n",
      "Expected Probability of generating Richard II:\n",
      " 0.4229\n",
      "Test case passed! :)\n",
      "\n",
      "==================================================\n",
      "\n",
      "Test Case 10: Check if the probability of generating III given <sos> KING RICHARD are close to the expected values\n",
      "Input:\n",
      " <sos> King Richard III\n",
      "Probability of generating Richard III:\n",
      " 0.5776\n",
      "Expected Probability of generating Richard III:\n",
      " 0.5771\n",
      "Test case passed! :)\n",
      "\n",
      "==================================================\n",
      "\n"
     ]
    }
   ],
   "execution_count": 32
  },
  {
   "cell_type": "code",
   "metadata": {
    "id": "Rf9qLTNYejiy",
    "ExecuteTime": {
     "end_time": "2024-10-31T05:14:15.940894Z",
     "start_time": "2024-10-31T05:14:15.924650Z"
    }
   },
   "source": [
    "np.random.seed(42)\n",
    "print(\"Generations from Trigram model\")\n",
    "for _ in range(20):\n",
    "    sampled_text = trigram_lm.sample_text(\"<sos> <sos> KING\", max_words=50)\n",
    "    print(sampled_text)"
   ],
   "outputs": [
    {
     "name": "stdout",
     "output_type": "stream",
     "text": [
      "Generations from Trigram model\n",
      "<sos> <sos> KING EDWARD IV : We must both give and take him down , You can not name the time of day unto your majesty Than all thy happy days on earth to know me : let him not fear . <eos>\n",
      "<sos> <sos> KING HENRY VI GLOUCESTER : Welcome , my son . <eos>\n",
      "<sos> <sos> KING RICHARD III : Well , sir ; but grace , despite of all the <unk> of , a friend , I never look 'd on me , But keep our course ; The contrary doth make good against thee , dear God , I pray you , lords , take\n",
      "<sos> <sos> KING HENRY VI : The gods begin to <unk> ; O , she : Why , brother Gloucester ; For I myself have many <unk> <unk> of our souls And plague <unk> with the eyes Of pity , not <unk> with me . <eos>\n",
      "<sos> <sos> KING EDWARD IV : See , they are , With all her double <unk> , good fellow . <eos>\n",
      "<sos> <sos> KING RICHARD III : Tut , I would wish me only he . <eos>\n",
      "<sos> <sos> KING RICHARD II : Why should she do here <unk> off the rock , the <unk> , The lamb will never more To enter in , and , sir ? <eos>\n",
      "<sos> <sos> KING RICHARD II : Then have you done ? <eos>\n",
      "<sos> <sos> KING EDWARD IV : <unk> me brother ; And vice <unk> by him . <eos>\n",
      "<sos> <sos> KING EDWARD IV : An offer , uncle , let us <unk> , though they be senators : and farewell , and be his <unk> , is <unk> with your daughter . <eos>\n",
      "<sos> <sos> KING HENRY VI QUEEN MARGARET : <unk> me , And thou , and <unk> a more <unk> here ! <eos>\n",
      "<sos> <sos> KING RICHARD III : Why , then you hope of action : therefore , fellow , I doubt not that Henry means to kill a friend . <eos>\n",
      "<sos> <sos> KING RICHARD III : You are the words : I tell thee , my gracious lord , <unk> our subjects ' <unk> , And yet we free thee From <unk> 'd their <unk> , A damned <unk> , cousin , I say , and not I . <eos>\n",
      "<sos> <sos> KING RICHARD II : Northumberland , thou canst not pass to Mantua : Therefore be patient till the watch be set , For one that hath more terror to the death . <eos>\n",
      "<sos> <sos> KING RICHARD III : Lo , citizens : <unk> our <unk> , show themselves , as the father and mother . <eos>\n",
      "<sos> <sos> KING RICHARD II : And shall I be not <unk> <unk> are <unk> Upon the wounds of slaughter 'd by my troth , it is I That , in the castle And there an end . <eos>\n",
      "<sos> <sos> KING RICHARD II : Marshal , demand of yonder dog ! <eos>\n",
      "<sos> <sos> KING EDWARD IV : Take thou that holy <unk> , true to you , sir . <eos>\n",
      "<sos> <sos> KING EDWARD IV : But say , I already know thy grief ; It were a <unk> , and my blest order , I say . <eos>\n",
      "<sos> <sos> KING RICHARD II : Tell me not -- to give thee mine before thou wert away . <eos>\n"
     ]
    }
   ],
   "execution_count": 33
  },
  {
   "cell_type": "code",
   "metadata": {
    "id": "YUCuDdQNejiy",
    "ExecuteTime": {
     "end_time": "2024-10-31T05:14:15.982756Z",
     "start_time": "2024-10-31T05:14:15.972844Z"
    }
   },
   "source": [
    "np.random.seed(42)\n",
    "random.seed(42)\n",
    "print(\"Generations from 4-gram model\")\n",
    "for _ in range(20):\n",
    "    sampled_text = fourgram_lm.sample_text(\"<sos> <sos> <sos> KING\", max_words=50)\n",
    "    print(sampled_text)"
   ],
   "outputs": [
    {
     "name": "stdout",
     "output_type": "stream",
     "text": [
      "Generations from 4-gram model\n",
      "<sos> <sos> <sos> KING HENRY VI : Art thou so <unk> , That horse that I so <unk> have <unk> our <unk> , which she yet <unk> her eyes on me , <unk> . <eos>\n",
      "<sos> <sos> <sos> KING EDWARD IV : Now , <unk> God , I have here alive , That I might touch that cheek ! <eos>\n",
      "<sos> <sos> <sos> KING RICHARD III : O Ratcliff , I have lost myself ; I give this heavy <unk> from off my head with my brother 's daughter , And , <unk> <unk> , Then reason <unk> with you . <eos>\n",
      "<sos> <sos> <sos> KING EDWARD IV : But , more of thy news ? <eos>\n",
      "<sos> <sos> <sos> KING RICHARD II : How high a <unk> , Or I with grief and sorrow , to the king my brother ; there my father 's grave Did <unk> forth a voice . <eos>\n",
      "<sos> <sos> <sos> KING RICHARD II : The devil take Henry of Lancaster , resign thy crown . <eos>\n",
      "<sos> <sos> <sos> KING HENRY VI EDWARD : I thank your good worship . <eos>\n",
      "<sos> <sos> <sos> KING HENRY VI : O Clifford , but <unk> <unk> and <unk> sins , The <unk> he that <unk> them , the two brave bears , Warwick and Montague , Speak freely what you think . <eos>\n",
      "<sos> <sos> <sos> KING RICHARD III : Lo , at their <unk> good stars were <unk> . <eos>\n",
      "<sos> <sos> <sos> KING RICHARD III : Stand all <unk> , By you <unk> and <unk> Myself <unk> and myself Have in our <unk> And know how we proceed . <eos>\n",
      "<sos> <sos> <sos> KING EDWARD IV : Now am I <unk> to name , Or else you would not so , For nothing had <unk> my something grief ; Or something hath the nothing that I grieve : 'T is done by me , forget to think . <eos>\n",
      "<sos> <sos> <sos> KING HENRY VI : So would you be , as those <unk> <unk> you home . <eos>\n",
      "<sos> <sos> <sos> KING RICHARD II : <unk> , my loving lord . <eos>\n",
      "<sos> <sos> <sos> KING RICHARD II : We were , fair queen , whence <unk> this deep despair ? <eos>\n",
      "<sos> <sos> <sos> KING RICHARD III : Ha ! <eos>\n",
      "<sos> <sos> <sos> KING HENRY VI CLIFFORD : Here <unk> Thomas Mowbray , do I love her , that she is well , and teach yourselves that duty ! <eos>\n",
      "<sos> <sos> <sos> KING EDWARD IV : But you , my young princes ! <eos>\n",
      "<sos> <sos> <sos> KING RICHARD II : We were as <unk> 'd <unk> that did <unk> the same <unk> wherein You wish 'd us <unk> , <unk> : The valiant heart is not <unk> , but that he <unk> not ; The <unk> and envy of the people is as bad as those That\n",
      "<sos> <sos> <sos> KING HENRY VI : Stay , you that here are under our <unk> , they would desire to live on <unk> till he had both <unk> and words ; which so <unk> the rest , as I told you , -- <unk> <unk> n't ! <eos>\n",
      "<sos> <sos> <sos> KING RICHARD III : Give me my <unk> , Yet not so <unk> as to <unk> a life In base <unk> . <eos>\n"
     ]
    }
   ],
   "execution_count": 34
  },
  {
   "cell_type": "code",
   "metadata": {
    "id": "Z-iQh8P0ejiy",
    "ExecuteTime": {
     "end_time": "2024-10-31T05:14:16.024428Z",
     "start_time": "2024-10-31T05:14:16.016095Z"
    }
   },
   "source": [
    "np.random.seed(42)\n",
    "random.seed(42)\n",
    "print(\"Generations from 5-gram model\")\n",
    "for _ in range(20):\n",
    "    sampled_text = fivegram_lm.sample_text(\"<sos> <sos> <sos> <sos> KING\", max_words=50)\n",
    "    print(sampled_text)"
   ],
   "outputs": [
    {
     "name": "stdout",
     "output_type": "stream",
     "text": [
      "Generations from 5-gram model\n",
      "<sos> <sos> <sos> <sos> KING RICHARD III : <unk> thou not , <unk> ? ' <eos>\n",
      "<sos> <sos> <sos> <sos> KING EDWARD IV : Take that , and that : if all this will not do , I 'll drown you in the <unk> within . <eos>\n",
      "<sos> <sos> <sos> <sos> KING RICHARD III : Give me another horse : <unk> up my wounds . <eos>\n",
      "<sos> <sos> <sos> <sos> KING EDWARD IV : An easy <unk> ; 't is but to love a king . <eos>\n",
      "<sos> <sos> <sos> <sos> KING EDWARD IV : Clarence and Gloucester , love my <unk> queen ; And kiss your princely <unk> , brothers both . <eos>\n",
      "<sos> <sos> <sos> <sos> KING RICHARD II : <unk> cousin ! <eos>\n",
      "<sos> <sos> <sos> <sos> KING RICHARD III : There let him <unk> , and be <unk> : and farewell , good fellow . <eos>\n",
      "<sos> <sos> <sos> <sos> KING EDWARD IV : Now , <unk> God , I am so <unk> , that <unk> with thine eyes at once see good and evil , <unk> to them both : were my wife 's <unk> , her womb 's <unk> , And make <unk> a bark of <unk> kind By\n",
      "<sos> <sos> <sos> <sos> KING EDWARD IV : <unk> , good comfort ! <eos>\n",
      "<sos> <sos> <sos> <sos> KING HENRY VI : And long live thou and these thy forward sons ! <eos>\n",
      "<sos> <sos> <sos> <sos> KING RICHARD II : O God , O God ! <eos>\n",
      "<sos> <sos> <sos> <sos> KING EDWARD IV : <unk> followers , yonder stands the <unk> <unk> , would I <unk> my <unk> . <eos>\n",
      "<sos> <sos> <sos> <sos> KING LEWIS XI : Why , say , fair queen , Two <unk> that thought there was no more behind But such a day to-morrow as to-day , And to be boy <unk> . <eos>\n",
      "<sos> <sos> <sos> <sos> KING RICHARD III : I cry thee mercy : There is my <unk> to cure that blow of thine . <eos>\n",
      "<sos> <sos> <sos> <sos> KING EDWARD IV : My love , <unk> to <unk> , He 's mine , or I am dead . <eos>\n",
      "<sos> <sos> <sos> <sos> KING RICHARD III : Tut , <unk> ! <eos>\n",
      "<sos> <sos> <sos> <sos> KING RICHARD II : Thou hast said enough . <eos>\n",
      "<sos> <sos> <sos> <sos> KING EDWARD IV : <unk> your <unk> and your <unk> aside , Tell me some reason why the Lady Grey Should not become my wife and England 's queen . <eos>\n",
      "<sos> <sos> <sos> <sos> KING RICHARD II : So proud that Bolingbroke was on his back ! <eos>\n",
      "<sos> <sos> <sos> <sos> KING EDWARD IV : <unk> , you can not -- the great danger Which this man 's life did owe you , you 'll <unk> That he is bound to ? <eos>\n"
     ]
    }
   ],
   "execution_count": 35
  },
  {
   "cell_type": "markdown",
   "metadata": {
    "id": "RLI6po64ejiy"
   },
   "source": [
    "You should see that the generation quality is now so much better. However, if you look closely (this is specially true for 4-gram and 5-gram models) that some of the sentences are directly lifted from the training data. Which makes sense, as we will increase the order of the N-gram LM, so does we increase its capacity and hence more the ability to memorize its training data."
   ]
  },
  {
   "metadata": {},
   "cell_type": "markdown",
   "source": [
    "## Part 3: Smoothing and Interpolation (27 Points)\n",
    "\n",
    "The issue with using N-gram language models is that any finite training corpus is bound to miss some N-grams that appear in the test set. The models hence assign zero probability to such N-grams, leading to probability of the entire test set to be zero and hence infinite perplexity values that we observed in the previous exercise.\n",
    "\n",
    "The standard way to deal with zero-probability N-gram tokens is to use smoothing algorithms. Smoothing algorithms shave off a bit of probability mass from some more frequent events and give it to unseen events. Smoothing algorithms for N-gram language models is a well studied area of research with numerous algorithms. For this project we will focus on Laplace Smoothing and Interpolation."
   ]
  },
  {
   "cell_type": "markdown",
   "metadata": {
    "id": "Y96s1gkzejiy"
   },
   "source": [
    "### Exercise 3.1 Laplace and Add-k Smoothing (10 Points)\n",
    "\n",
    "Perhaps the simplest smoothing algorithm that exists is Laplace smoothing. It merely adds one to count of each N-gram, so that there is no zero-probability N-gram in the test data. For a bigram model, the expression for Laplace-smoothened distribution is given by:\n",
    "\n",
    "$$P_{\\text{Laplace}}(w_n \\mid w_{n-1}) = \\frac{C(w_{n-1}w_{n}) + 1}{\\sum_{w \\in W} (C(w_n w) + 1) } = \\frac{C(w_{n-1}w_{n}) + 1}{ C(w_{n-1}) + V }$$\n",
    "\n",
    "We can similarly write expressions for other N-gram models.\n",
    "\n",
    "Laplace smoothing is also called \"Add-one\" smoothing. A generalization of Laplace Smoothing is \"Add-k\" smoothing with  with $k < 1$, where we move a bit less of the probability mass from seen to unseen N-grams. The expression for Add-k smoothened distribution for bigram LM is given by:\n",
    "\n",
    "$$P_{\\text{Add-k}}(w_n \\mid w_{n -1}) = \\frac{C(w_{n-1}w_{n}) + k}{\\sum_{w \\in W} (C(w_n w) + k) } = \\frac{C(w_{n-1}w_{n}) + 1}{ C(w_{n-1}) + kV }$$\n",
    "\n",
    "For this exercise, we ask you to implement `WordNGramLMWithAddKSmoothing` class. You need to follow the same code structure as `WordNGramLM` class, with only difference being in calculation of the conditional distributions.\n",
    "\n",
    "Note: It is no longer possible to implement an $O(T + V)$ time complexity solution for `sample_text` function, hence we will accept $O(TV)$ implementations here. Your `eval_perplexity` should still be as efficient as in the `WordNGramLM`\n"
   ]
  },
  {
   "cell_type": "code",
   "metadata": {
    "deletable": false,
    "nbgrader": {
     "cell_type": "code",
     "checksum": "d20683a77d1e8c175fdb1161e4a975b2",
     "grade": false,
     "grade_id": "cell-34000a508fd844f8",
     "locked": false,
     "schema_version": 3,
     "solution": true,
     "task": false
    },
    "id": "xK2-tq5mejiy",
    "ExecuteTime": {
     "end_time": "2024-10-31T05:14:16.056081Z",
     "start_time": "2024-10-31T05:14:16.049849Z"
    }
   },
   "source": [
    "class WordNGramLMWithAddKSmoothing(WordNGramLM):\n",
    "\n",
    "    def __init__(self, N: int, k: float = 1):\n",
    "        super().__init__(N)\n",
    "        self.k = k\n",
    "        self.prefix_counts = {}\n",
    "\n",
    "    def fit(self, train_data: List[str]):\n",
    "        \"\"\"\n",
    "        Trains an N-gram language model with Add-k smoothing.\n",
    "\n",
    "        Inputs:\n",
    "            - train_data: str, sentences in the training data\n",
    "\n",
    "        \"\"\"\n",
    "\n",
    "        # YOUR CODE HERE\n",
    "        train_data = process_text_for_Ngram(train_data, self.N)\n",
    "        \n",
    "        ngrams = self.get_ngrams(train_data)\n",
    "        self.vocabulary = {word for line in train_data for word in line.split()}\n",
    "        self.ngram_probs = nltk.FreqDist(ngrams)\n",
    "        self.prefix_counts = nltk.FreqDist([\" \".join(ngram.split()[:-1]) for ngram in ngrams])\n",
    "            \n",
    "        for ngram in self.ngram_probs:\n",
    "            prefix = ' '.join(ngram.split()[:-1])\n",
    "            self.ngram_probs[ngram] = (\n",
    "                    (self.ngram_probs[ngram] + self.k) \n",
    "                                        / \n",
    "                    (self.prefix_counts[prefix] + self.k * len(self.vocabulary))\n",
    "            )\n",
    "\n",
    "    def eval_perplexity(self, eval_data: List[str]) -> float:\n",
    "        \"\"\"\n",
    "        Evaluates the perplexity of the N-gram language model with Add-k smoothing on the eval set.\n",
    "\n",
    "        Input:\n",
    "            - eval_data: List[str], the evaluation text\n",
    "\n",
    "        Output:\n",
    "            - float, the perplexity of the model on the evaluation set\n",
    "\n",
    "        Note : For tokens that are not in the vocabulary, replace them with the <unk> token.\n",
    "\n",
    "        \"\"\"\n",
    "        \n",
    "        # YOUR CODE HERE\n",
    "        eval_data = process_text_for_Ngram(self.replace_unknown_words_with_unk(eval_data), self.N)\n",
    "        perplexity = 0\n",
    "        for line in eval_data:\n",
    "            words = line.split()\n",
    "            for i in range(len(words) - self.N + 1):\n",
    "                ngram = ' '.join(words[i:i+self.N])\n",
    "                prefix = ' '.join(words[i:i+self.N-1])\n",
    "                default = self.k / (self.prefix_counts.get(prefix, 0) + self.k * len(self.vocabulary))\n",
    "                perplexity += np.log(self.ngram_probs.get(ngram, default))\n",
    "        num_words = sum(len(line.split()) for line in eval_data)\n",
    "        perplexity = np.exp(-perplexity/num_words)\n",
    "        return perplexity\n",
    "\n",
    "    def sample_text(\n",
    "        self, prefix: str = \"<sos>\", max_words: int = 100,\n",
    "    ) -> str:\n",
    "        \"\"\"\n",
    "        Samples text from the N-gram language model.\n",
    "\n",
    "        Inputs:\n",
    "            - prefix: str, the prefix to start the sampling from. Can also be multiple words separated by spaces.\n",
    "            - max_words: int, the maximum number of words to sample\n",
    "\n",
    "        Outputs:\n",
    "            - str, the sampled text\n",
    "\n",
    "        Note: Please use np.random.choice for sampling next words\n",
    "        \"\"\"\n",
    "\n",
    "        # YOUR CODE HERE\n",
    "        sample = prefix\n",
    "        for _ in range(max_words):\n",
    "            prefix_words = sample.split()[-self.N+1:]\n",
    "            prefix = ' '.join(prefix_words)\n",
    "            # ngrams with right prefix\n",
    "            ngrams = [prefix + f' {word}' for word in self.vocabulary]\n",
    "            default = self.k / (self.prefix_counts.get(prefix, 0) + self.k * len(self.vocabulary))\n",
    "            p = np.asarray([self.ngram_probs.get(ngram, default) for ngram in ngrams], dtype=np.float64)\n",
    "            # numerical instability--0.9999999992 doesn't count as 1\n",
    "            p /= np.sum(p)\n",
    "            next_word = np.random.choice(ngrams, p=p).split()[-1]\n",
    "            sample += f' {next_word}'\n",
    "            if next_word == \"<eos>\":\n",
    "                break\n",
    "        return sample\n",
    "\n",
    "    # Extra utility functions that you think will be useful can go below\n",
    "    # YOUR CODE HERE\n",
    "    def get_ngrams_with_n(self, train_data: List[str], n: int):\n",
    "        return [\n",
    "            ' '.join(line.split()[i:i+n]) \n",
    "            for line in train_data \n",
    "            for i in range(len(line.split()) -  n + 1)\n",
    "        ]"
   ],
   "outputs": [],
   "execution_count": 36
  },
  {
   "cell_type": "markdown",
   "metadata": {
    "id": "BB2yVktdejiy"
   },
   "source": [
    "Test implementation of `eval_perplexity` for bigram model with Laplace smoothing"
   ]
  },
  {
   "cell_type": "code",
   "metadata": {
    "id": "uV8GIN1Uejiy",
    "ExecuteTime": {
     "end_time": "2024-10-31T05:14:16.812786Z",
     "start_time": "2024-10-31T05:14:16.093808Z"
    }
   },
   "source": [
    "# Test implementation of `eval_perplexity` for bigram model with Laplace smoothing\n",
    "bigram_lm = WordNGramLMWithAddKSmoothing(2, k = 1)\n",
    "bigram_lm.fit(train_data)\n",
    "train_ppl = bigram_lm.eval_perplexity(train_data)\n",
    "print(f\"Train Perplexity: {train_ppl}\")\n",
    "dev_ppl = bigram_lm.eval_perplexity(dev_data)\n",
    "print(f\"Dev Perplexity: {dev_ppl}\")"
   ],
   "outputs": [
    {
     "name": "stdout",
     "output_type": "stream",
     "text": [
      "Train Perplexity: 110.82226577600021\n",
      "Dev Perplexity: 103.6725038252657\n"
     ]
    }
   ],
   "execution_count": 37
  },
  {
   "cell_type": "markdown",
   "metadata": {
    "id": "1nqhL8lfejiy"
   },
   "source": [
    "You should get a train perplexity around 310 and dev perplexity around 294. Notice how the dev perplexity is not $\\infty$ anymore! Though it comes at the cost of an increase in perplexity on training data, which is natural since the model now cut offs some probability mass from training N-grams and distribute it to the unseen ones."
   ]
  },
  {
   "cell_type": "markdown",
   "metadata": {
    "id": "yVBSZPzKejiy"
   },
   "source": [
    "Test implementation of `eval_perplexity` for bigram model with Add-k smoothing (k = 0.01)"
   ]
  },
  {
   "cell_type": "code",
   "metadata": {
    "id": "lxS4BdwHejiy",
    "ExecuteTime": {
     "end_time": "2024-10-31T05:14:17.564253Z",
     "start_time": "2024-10-31T05:14:16.846847Z"
    }
   },
   "source": [
    "# Test implementation of `eval_perplexity` for bigram model with Add-k smoothing\n",
    "bigram_lm = WordNGramLMWithAddKSmoothing(2, k=0.01)\n",
    "bigram_lm.fit(train_data)\n",
    "train_ppl = bigram_lm.eval_perplexity(train_data)\n",
    "print(f\"Train Perplexity: {train_ppl}\")\n",
    "dev_ppl = bigram_lm.eval_perplexity(dev_data)\n",
    "print(f\"Dev Perplexity: {dev_ppl}\")"
   ],
   "outputs": [
    {
     "name": "stdout",
     "output_type": "stream",
     "text": [
      "Train Perplexity: 35.36882821633253\n",
      "Dev Perplexity: 58.42884264436245\n"
     ]
    }
   ],
   "execution_count": 38
  },
  {
   "cell_type": "markdown",
   "metadata": {
    "id": "-ud-xoQRejiy"
   },
   "source": [
    "You should get a train perplexity around 50 and a dev perplexity of roughly 116. Notice how we do much better on train perplexity when k is smaller, since now we re-distribute much less of the mass from the training N-grams. Luckily, in this case it turns out it improves the dev perplexity too."
   ]
  },
  {
   "metadata": {
    "ExecuteTime": {
     "end_time": "2024-10-31T05:15:26.363396Z",
     "start_time": "2024-10-31T05:14:51.778826Z"
    }
   },
   "cell_type": "code",
   "source": [
    "import matplotlib.pyplot as plt\n",
    "\n",
    "ks = np.logspace(-8, 0, 9)\n",
    "dev_ppl_dict = {N: [] for N in range(2,6)}\n",
    "train_ppl_dict = {N: [] for N in range(2,6)}\n",
    "for N in range(2, 6):\n",
    "    for k in ks:\n",
    "        lm = WordNGramLMWithAddKSmoothing(N, k=k)\n",
    "        lm.fit(train_data)\n",
    "        dev_ppl = lm.eval_perplexity(dev_data)\n",
    "        train_ppl = lm.eval_perplexity(train_data)\n",
    "        train_ppl_dict[N].append(train_ppl)\n",
    "        dev_ppl_dict[N].append(dev_ppl)\n",
    "        print(f\"Dev Perplexity for {N}-gram model, k = {k}: {dev_ppl}\")\n",
    "\n",
    "# Plotting\n",
    "plt.figure(figsize=(10, 6))\n",
    "for N in range(2, 6):\n",
    "    plt.plot(ks, dev_ppl_dict[N], marker='o', linestyle='-', label=f'{N}-gram LM dev ppl')\n",
    "    plt.plot(ks, train_ppl_dict[N], marker='o', linestyle='-', label=f'{N}-gram LM train ppl')\n",
    "\n",
    "\n",
    "plt.xscale('log')\n",
    "plt.xlabel('k (log scale)')\n",
    "plt.ylabel('Dev Perplexity')\n",
    "plt.title('Dev Perplexity vs k for Different N-gram LMs')\n",
    "plt.legend()\n",
    "plt.grid(True, which=\"both\", ls=\"--\")\n",
    "plt.show()"
   ],
   "outputs": [
    {
     "name": "stdout",
     "output_type": "stream",
     "text": [
      "Dev Perplexity for 2-gram model, k = 1e-08: 240.35384723333948\n",
      "Dev Perplexity for 2-gram model, k = 1e-07: 187.14889255595693\n",
      "Dev Perplexity for 2-gram model, k = 1e-06: 145.72277584120175\n",
      "Dev Perplexity for 2-gram model, k = 1e-05: 113.47690880288064\n",
      "Dev Perplexity for 2-gram model, k = 0.0001: 88.44733973090366\n",
      "Dev Perplexity for 2-gram model, k = 0.001: 69.54721649156888\n",
      "Dev Perplexity for 2-gram model, k = 0.01: 58.42884264436245\n",
      "Dev Perplexity for 2-gram model, k = 0.1: 62.92589464237486\n",
      "Dev Perplexity for 2-gram model, k = 1.0: 103.6725038252657\n",
      "Dev Perplexity for 3-gram model, k = 1e-08: 3848.6407558293004\n",
      "Dev Perplexity for 3-gram model, k = 1e-07: 1941.397959401587\n",
      "Dev Perplexity for 3-gram model, k = 1e-06: 979.4673080773732\n",
      "Dev Perplexity for 3-gram model, k = 1e-05: 494.92920864778705\n",
      "Dev Perplexity for 3-gram model, k = 0.0001: 253.80766680998696\n",
      "Dev Perplexity for 3-gram model, k = 0.001: 144.11883456396177\n",
      "Dev Perplexity for 3-gram model, k = 0.01: 113.74890370049853\n",
      "Dev Perplexity for 3-gram model, k = 0.1: 147.71838147127266\n",
      "Dev Perplexity for 3-gram model, k = 1.0: 279.197089408115\n",
      "Dev Perplexity for 4-gram model, k = 1e-08: 3643.430878144617\n",
      "Dev Perplexity for 4-gram model, k = 1e-07: 2087.0738239546654\n",
      "Dev Perplexity for 4-gram model, k = 1e-06: 1195.7801733319425\n",
      "Dev Perplexity for 4-gram model, k = 1e-05: 686.469716329235\n",
      "Dev Perplexity for 4-gram model, k = 0.0001: 401.42399579840736\n",
      "Dev Perplexity for 4-gram model, k = 0.001: 264.24757126656993\n",
      "Dev Perplexity for 4-gram model, k = 0.01: 235.42878003993846\n",
      "Dev Perplexity for 4-gram model, k = 0.1: 287.24982391767094\n",
      "Dev Perplexity for 4-gram model, k = 1.0: 405.1027678921989\n",
      "Dev Perplexity for 5-gram model, k = 1e-08: 996.0805573226653\n",
      "Dev Perplexity for 5-gram model, k = 1e-07: 764.8860333364499\n",
      "Dev Perplexity for 5-gram model, k = 1e-06: 587.4201841960963\n",
      "Dev Perplexity for 5-gram model, k = 1e-05: 451.6436405814082\n",
      "Dev Perplexity for 5-gram model, k = 0.0001: 350.9552317993941\n",
      "Dev Perplexity for 5-gram model, k = 0.001: 291.33431914676925\n",
      "Dev Perplexity for 5-gram model, k = 0.01: 281.7159502630152\n",
      "Dev Perplexity for 5-gram model, k = 0.1: 312.9696095938659\n",
      "Dev Perplexity for 5-gram model, k = 1.0: 370.7680566039535\n"
     ]
    },
    {
     "data": {
      "text/plain": [
       "<Figure size 1000x600 with 1 Axes>"
      ],
      "image/png": "[encoded data removed]"
     },
     "metadata": {},
     "output_type": "display_data"
    }
   ],
   "execution_count": 39
  },
  {
   "cell_type": "markdown",
   "metadata": {
    "id": "CtYs-TDDejiy"
   },
   "source": [
    "Test implementation of `sample_text` for bigram model with Laplace Smoothing"
   ]
  },
  {
   "cell_type": "code",
   "metadata": {
    "id": "dGrvAKaVejiy",
    "ExecuteTime": {
     "end_time": "2024-10-29T05:56:55.530403Z",
     "start_time": "2024-10-29T05:56:53.349548Z"
    }
   },
   "source": [
    "def test_sample_text_bigram_laplace_model():\n",
    "    bigram_lm = WordNGramLMWithAddKSmoothing(2, k = 1)\n",
    "    bigram_lm.fit(train_data_wth_unks)\n",
    "\n",
    "    # random.seed(42)\n",
    "    np.random.seed(42)\n",
    "    sampled_text = bigram_lm.sample_text(\"<sos>\", max_words=50)\n",
    "\n",
    "    print(\"Test Case 1: Check if the sampled text starts with <sos>\")\n",
    "    evaluate_test_case(\n",
    "        None,\n",
    "        sampled_text.startswith(\"<sos>\"),\n",
    "        True,\n",
    "        output_str=\"Sampled text starts with <sos>\",\n",
    "    )\n",
    "\n",
    "    print(\n",
    "        \"Test Case 2: Check if the number of generated words is either 50 or less than 50 and ends with <eos>\"\n",
    "    )\n",
    "    print(f\"Generated text: {sampled_text}\")\n",
    "    print(f\"Number of generated words: {len(sampled_text.split()) - 1}\")\n",
    "    print(f\"Does the generated text end with <eos>: {'<eos>' in sampled_text}\")\n",
    "    if len(sampled_text.split()) - 1 == 50 or (\n",
    "        len(sampled_text.split()) < 50 and \"<eos>\" in sampled_text\n",
    "    ):\n",
    "        print(\"Test passed! :)\")\n",
    "    else:\n",
    "        print(\"Test failed! :(\")\n",
    "\n",
    "    print(\"\\n\" + \"=\" * 50 + \"\\n\")\n",
    "\n",
    "    print(\n",
    "        \"Test Case 3: Check if the probability of generating II is greater than III when prefix is RICHARD\"\n",
    "    )\n",
    "    sampled_texts = [\n",
    "        bigram_lm.sample_text(\"RICHARD\", max_words=1) for _ in range(1000)\n",
    "    ]\n",
    "    sampled_text = \" \".join(sampled_texts)\n",
    "    num_richard_2s = [\n",
    "        text.split(\"RICHARD\")[1].strip() == \"II\" for text in sampled_texts\n",
    "    ].count(True)\n",
    "    num_richard_3s = [\n",
    "        text.split(\"RICHARD\")[1].strip() == \"III\" for text in sampled_texts\n",
    "    ].count(True)\n",
    "    gen_prob_richard_2 = num_richard_2s / len(sampled_texts)\n",
    "    gen_prob_richard_3 = num_richard_3s / len(sampled_texts)\n",
    "\n",
    "    print(f\"Probability of generating Richard II: {gen_prob_richard_2}\")\n",
    "    print(f\"Probability of generating Richard III: {gen_prob_richard_3}\")\n",
    "    if gen_prob_richard_2 < gen_prob_richard_3:\n",
    "        print(\"Test passed! :)\")\n",
    "    else:\n",
    "        print(\"Test failed! :(\")\n",
    "\n",
    "    print(\"\\n\" + \"=\" * 50 + \"\\n\")\n",
    "\n",
    "    print(\n",
    "        \"Test Case 4: Check if the probability of generating II given RICHARD  are close to the expected values\"\n",
    "    )\n",
    "    evaluate_test_case(\n",
    "        \"Richard II\",\n",
    "        gen_prob_richard_2,\n",
    "        0.023,\n",
    "        output_str=\"Probability of generating Richard II\",\n",
    "        atol=1e-3,\n",
    "    )\n",
    "\n",
    "    print(\n",
    "        \"Test Case 5: Check if the probability of generating III given RICHARD are close to the expected values\"\n",
    "    )\n",
    "    evaluate_test_case(\n",
    "        \"Richard III\",\n",
    "        gen_prob_richard_3,\n",
    "        0.034,\n",
    "        output_str=\"Probability of generating Richard III\",\n",
    "        atol=1e-3,\n",
    "    )\n",
    "\n",
    "test_sample_text_bigram_laplace_model()"
   ],
   "outputs": [
    {
     "name": "stdout",
     "output_type": "stream",
     "text": [
      "Test Case 1: Check if the sampled text starts with <sos>\n",
      "Sampled text starts with <sos>:\n",
      " True\n",
      "Expected Sampled text starts with <sos>:\n",
      " True\n",
      "Test case passed! :)\n",
      "\n",
      "==================================================\n",
      "\n",
      "Test Case 2: Check if the number of generated words is either 50 or less than 50 and ends with <eos>\n",
      "Generated text: <sos> record punishment ah according an MARGARET apothecary PRINCE refuse moveables visage hardy speech drew whispering Draw scatter rests crutch after requires that sings gates disease voice besides lent rising prettiest hide teeming winged Catesby nightingale evil flow God above world until thousand where walls green And red Montagues places struck\n",
      "Number of generated words: 50\n",
      "Does the generated text end with <eos>: False\n",
      "Test passed! :)\n",
      "\n",
      "==================================================\n",
      "\n",
      "Test Case 3: Check if the probability of generating II is greater than III when prefix is RICHARD\n",
      "Probability of generating Richard II: 0.029\n",
      "Probability of generating Richard III: 0.021\n",
      "Test failed! :(\n",
      "\n",
      "==================================================\n",
      "\n",
      "Test Case 4: Check if the probability of generating II given RICHARD  are close to the expected values\n",
      "Input:\n",
      " Richard II\n",
      "Probability of generating Richard II:\n",
      " 0.029\n",
      "Expected Probability of generating Richard II:\n",
      " 0.023\n",
      "Test case failed! :(\n",
      "\n",
      "==================================================\n",
      "\n",
      "Test Case 5: Check if the probability of generating III given RICHARD are close to the expected values\n",
      "Input:\n",
      " Richard III\n",
      "Probability of generating Richard III:\n",
      " 0.021\n",
      "Expected Probability of generating Richard III:\n",
      " 0.034\n",
      "Test case failed! :(\n",
      "\n",
      "==================================================\n",
      "\n"
     ]
    }
   ],
   "execution_count": 53
  },
  {
   "cell_type": "code",
   "metadata": {
    "id": "cOI2wuAgejiz",
    "ExecuteTime": {
     "end_time": "2024-10-29T05:56:57.538342Z",
     "start_time": "2024-10-29T05:56:55.532917Z"
    }
   },
   "source": [
    "random.seed(42)\n",
    "np.random.seed(42)\n",
    "bigram_lm = WordNGramLMWithAddKSmoothing(2, k = 1)\n",
    "bigram_lm.fit(train_data)\n",
    "for _ in range(20):\n",
    "    sampled_text = bigram_lm.sample_text(\"<sos> KING\", max_words=50)\n",
    "    print(sampled_text)"
   ],
   "outputs": [
    {
     "name": "stdout",
     "output_type": "stream",
     "text": [
      "<sos> KING humour set'st Of tomorrow sickly an holp lusty follow Hallowmas visage hardy speech drew whispering Draw scatter rests crutch after requires that sings gates disease voice besides lent rising prettiest hide teeming winged Catesby nightingale evil flow God above world until thousand where walls green And red Montagues places struck\n",
      "<sos> KING temper Soft Kind scars parlous foolish forget caparison violence heavily sire hearts sap therefore mother know that exile appetite well lies overthrow public speaks 'longs Be fancy PERDITA crept Six be't innocents herbs correction Beseech Nature pierce jealous simple leader divines confirm even discourse To-morrow Into words read aught understanding\n",
      "<sos> KING ceremonious plants windows faction chaste physician seven flatter Isabella prison naught cousins belike marvel Saw jealousies His save mine flesh marvel food crows do boar Hast farewell PRINCE injury bosoms Tush long Has flower CLIFFORD heavily names vessel villain pines pieces chop shroud host brethren gulf hurl joy riches are\n",
      "<sos> KING devil ruled JULIET joy to't Methought purge plucked Gentlemen Be cheap Bound might ignorance Mowbray press crack beheld kind exclaims wandering victory Titus remember state five victorious nest push mistrust worship cost shine wait Old ' worldly sick Besides among profits shepherd has butcher shadow vexation Break takest simple wants\n",
      "<sos> KING Coventry officers liberal dry lewd London innocence almost ignorant Within back heaviness shamed beshrew built hours done Thine am quit Or recover prize poor younger think melancholy abused other brief Show Away comfortable supply must break Direct fill OF into punish closed highest waking 'll trim too clock sons offenders\n",
      "<sos> KING Bolingbroke Canst suitor agony look'st weak saying EXTON persuade forthwith solemnity Proud worthy revengeful wait betray cheerly queen avoided thy soul bachelor Noble brother strive oracle Dispatch O opposite apprehend Play flower Thinking prize grave cry bowels light afford deeper woman Most majesty presume poisonous doing tired Roman Seal play\n",
      "<sos> KING seldom plebeians modesty Exeter goddess Hercules term continue naked horror extreme lineal up pieces held bite eat future subtle thereto dreams decree Mantua velvet best chamber birds requires Accursed loud giddy strew east imposition unlawful kind VIRGILIA our First forgive Before shed future nigh breaths miseries mourning violence sort staff\n",
      "<sos> KING lance flowers ' CLAUDIO sleeps statutes powers feel homely didst sire shot crush renown stays Canst highness side worst Ye relation beloved appointed necessary birth reputation nothing branch import spiders milk cheerly glorious mounting CAPULET advantage contempt Coriolanus vault ours borrow Marry choler commonwealth reverend tunes gown Long necessities captain\n",
      "<sos> KING promise bell chance proclaim fees Amongst redress gallant II purpose heartily joint punishment Believe bows fiend Both Answer purge Ill hear achieved prime prompt God-den upright YORK fiends imprison surely Church plucked expedition meddle officers Lieutenant pleaseth devilish Myself Camillo Fall thief reproof yon for . <eos>\n",
      "<sos> KING rancour Thanks Smile household Until writ chaste sell honesty budge grief seldom Thou Has Romans o'er against Another rumour ourself accident deaths dearest 'Twill hardy Pale move bade trick drooping condemn Call fool BOLINGBROKE 'Fore nuns Clifford torment has violence order issued Play crew steal Perchance Takes Troy Up flatterers\n",
      "<sos> KING Fall Breathe fliers prince loss I. Shore Had Brother , fortune issued fighting bleed toe sport despair violence apart Thinking Jerusalem grant wipe stirs wide hardy hundred salute grief help price niece grandam lands complaint How Might natural two Kent given warm process earthly virgin commit vows complete comforts prayers\n",
      "<sos> KING govern king ! nourish cat summers and have cheerfully faces tree bird Cleomenes enters duke mildness deposed Chertsey wanting Servingman Clarence IV therefore All-Souls Brave out whiles <sos> perjured childish mile Honest hills letters alter roaring me cleft look ashes lovest higher vengeance rob merciful forswear profane shepherd caused Phaethon\n",
      "<sos> KING greatness & kind Death royally confession add noted got determine bound telling cur rheum Dispatch MENENIUS BISHOP loath dare lamentations Perchance privy accusations struck believed clothes Forthwith Marcius notes fights wear gulf beating territories bind ESCALUS satisfaction Caius fiend head tatter varlet Keep busy stop shines strong divines fearful aid\n",
      "<sos> KING spit levy flame charters tooth rue Gaoler match nine amen Showing devotion persuade giddy blush motion gotten hie you issue liberal fouler rude births takest counsellor your like whilst ripe step DUKE entrance open boast teeming ballads 'The whole beauty together Masters beats feed Trust marshal chamberlain fair note give't\n",
      "<sos> KING afeard face dances ever riches covert uncle election Proud pleasing torch lieutenant Stop right Bad trusty fondly shown dreamt neat knightly Ireland lowly : The fares below over 't fine approved gold alone Lartius Far safely fool crept mounting Lest yonder Fetch Thanks Think lists accusations telling bridal count ghost\n",
      "<sos> KING dreams stale incensed senseless lambs MENENIUS sleeping Standing silly partake Hie white suffering vengeance Acquaint damned weeping goodly pardons coat wenches defence Jesu sides 'scaped sparkling sum monarch forty LORDS bitter rich husband nobility meant chop born behalf split beads Vienna imprisonment pour 'shall jewel knees soldiers beloved Jack Englishman\n",
      "<sos> KING act wrangling put chosen you in fiery guilt pupil receipt low reconciled MERCUTIO keep'st amorous perpetual Huntsman Ghost Hear durst bide thrown Best dram DUCHESS shadow cries diadem lightness EDWARD Make disgrace whose remember nobleness greeting prisoners ominous melted highest edge know'st Bound aim bliss guiltless rod better Tush fickle\n",
      "<sos> KING How springs seen steep garden Things doit hungry elsewhere i thinking grandfather What accursed does narrow counted Vienna fetch Alban forswear Signior MOWBRAY reproof horror whisper bastards up sun briefly Enforce charity long ebb we 'll sheep-shearing soundly sword required depart effect re False Nor crown heaven false half wishes\n",
      "<sos> KING RICHARD minded Fall threes powers whispering beads understand saints open Pembroke scratch complexion durst wears incensed soonest female never Groom gratis contented gave tempted restraint dispatch Dispatch Trust siege wing cherish Saw consorted that terms mere Am bar burst command herein thorns to-night thinks interchange sound boys word depose Dian\n",
      "<sos> KING employ robbers torn offer safely cook kiss darkness send yet Stafford delay worser fowl bend detestable Verona wreck giddy mouse lo Back helm almost Full off intents realm Else ELIZABETH lean castle possible Run burning dreadful threats Servant society human instruction sister troublous dares Sometime dear intelligence mutiny lustful Westminster\n"
     ]
    }
   ],
   "execution_count": 54
  },
  {
   "cell_type": "markdown",
   "metadata": {
    "id": "6Z7KW4Eyejiz"
   },
   "source": [
    "You should see generations which are much less like training data! <sos> KING is now followed by words other than name of king names like before. Though the generations are much less clean now."
   ]
  },
  {
   "cell_type": "code",
   "metadata": {
    "id": "-Fz5f5YTejiz",
    "ExecuteTime": {
     "end_time": "2024-10-29T05:56:59.101853Z",
     "start_time": "2024-10-29T05:56:57.552663Z"
    }
   },
   "source": [
    "random.seed(42)\n",
    "np.random.seed(42)\n",
    "bigram_lm = WordNGramLMWithAddKSmoothing(2, k=0.01)\n",
    "bigram_lm.fit(train_data)\n",
    "for _ in range(20):\n",
    "    sampled_text = bigram_lm.sample_text(\"<sos> KING\", max_words=50)\n",
    "    print(sampled_text)"
   ],
   "outputs": [
    {
     "name": "stdout",
     "output_type": "stream",
     "text": [
      "<sos> KING HENRY Anon Greece brought you must PAGE : Poor queen hath made between a new struck Old springs bitterly Bushy shelter wounds ? <eos>\n",
      "<sos> KING LEWIS ship to wash lineaments solace mildly was't QUEEN : 'Twere deserve nose pronounced pays himself nights musty willingly meat drum battles hereafter stronger slaves to lose , which side CAPULET : If you deny become charge thy soul nobleness impose fall wholesome 'fore triumphant Worthy Him needy gage ,\n",
      "<sos> KING RICHARD II : Sir <unk> is heirs ' minds ashes bishop 's sake speaks , <unk> bear state , and mind Still <unk> <unk> such removed pay servants Pembroke cherish Westminster Lay hands , cheer boots swifter Weep weeps affect With wisdom ghostly gilt , and welcome 'The needs odd\n",
      "<sos> KING EDWARD IV : His banish 'd ; But that name thee too <unk> of no further . <eos>\n",
      "<sos> KING know underneath her at liberty follow profits relish William obey you know his country woful Peter daughters physic native AUFIDIUS : A man , That goes way I am she yet sea flatter urging rend Like hers Alban 's face . <eos>\n",
      "<sos> KING HENRY BOLINGBROKE : Ay , there is , let him plainly plead for , for our throne cares you : Have aught likeness persons public Gaunt force knew painted deed of a sacred Greece churchyard senate please page hie pawn stroke green strumpet swears , my hand off these <unk>\n",
      "<sos> KING EDWARD : But ere I tell . <eos>\n",
      "<sos> KING RICHARD III lamentations destroy parents timeless witchcraft dwell captive out , That without array My gracious prince is not well you not , I am I strong pleasing rewards speaks , Claudio shall forbid wolves raw root Bring tempted zeal Verona imposition grieve deserts roof corn vex seal Citizens lean\n",
      "<sos> KING RICHARD III Whate'er Dear for to <unk> account Ye dared Wales rend princess consent roaring disgraced provided sands HENRY PERCY serve it , And once to them no <unk> of my sins 'Twere opposite female LUCIO Nor mother by force on the way lend robbers GEORGE stronger landed utterance camest\n",
      "<sos> KING EDWARD IV : Not having articles harmony softly lent wisdom I do mistrust mildly knighthood and thee -- That I should <unk> . <eos>\n",
      "<sos> KING RICHARD : The man you on the field boisterous Berkeley , taking Warwick temple money exile Bound foul treason nor merrily leap shrewd stead Proud wisely Like Romans choice . <eos>\n",
      "<sos> KING HENRY BOLINGBROKE : the foe Post : Well , When herd , To parting pursued ministers babes usurp 'd some hole songs ROMEO : thou shalt Besides bottom proceed sue IV : Why dost suspect ballads lords mayst thou shalt hear our request sheep-shearing dash out <unk> , make his\n",
      "<sos> KING RICHARD III conclude surname BAGOT censure sink oppression <unk> on by the sun midst taste mortal girl earthly curbs Art France ? <eos>\n",
      "<sos> KING dismal gaunt Corioli , and his full of his <unk> ! <eos>\n",
      "<sos> KING LEWIS XI innocent : What 's corse Full yours , thy heart <unk> 'd in the clock keep'st fled ; whom pernicious cleft wounds perjured Henry gratis mad forest companion fail extremes kinsman sails Vienna 'scaped blush you brook Brandon ministers curtain tried treasons profess bait forces ink Show complaint\n",
      "<sos> KING hap enough , sirs , this business is it were lesson false and daughter to fall upon our <unk> , and <unk> , rough Crosby woman , Marcius , but that end ; Poor Clarence and , be <unk> , people flock discover gentry sun . <eos>\n",
      "<sos> KING HENRY VI CLIFFORD meaning consequence saved feeding pestilence secure circumstance Weep graced miseries den waters , <unk> open elsewhere to fawn blame Art behold conjure block ; there 's <unk> of man , my money , nor bad ? <eos>\n",
      "<sos> KING RICHARD III serpent born Ah , Came decay confines caught noon Lead mould utterance LUCIO cloud roof bones are they say 'Ay beg wing Run sparkling dwell upon my misfortune aged deceived Back stirs prays story you answer to-day Leontes Poor choice storms asleep heat fair word harmony arrived from\n",
      "<sos> KING HENRY VI : she turn help it is about his hand then ? <eos>\n",
      "<sos> KING RICHARD : Ay , no ! <eos>\n"
     ]
    }
   ],
   "execution_count": 55
  },
  {
   "cell_type": "markdown",
   "metadata": {
    "id": "elWw7pNjejiz"
   },
   "source": [
    "Notice how with a smaller value of $k$, the generated sentences now start to resemble more with the training data"
   ]
  },
  {
   "cell_type": "markdown",
   "metadata": {
    "id": "_2mlzDWlejiz"
   },
   "source": [
    "Test implementation of `eval_perplexity` for trigram, 4-gram, and 5-gram LMs with Laplace smoothing"
   ]
  },
  {
   "cell_type": "code",
   "metadata": {
    "id": "LKtE0eWOejiz",
    "ExecuteTime": {
     "end_time": "2024-10-29T05:57:02.264129Z",
     "start_time": "2024-10-29T05:56:59.111799Z"
    }
   },
   "source": [
    "trigram_lm = WordNGramLMWithAddKSmoothing(3, k =1)\n",
    "trigram_lm.fit(train_data_wth_unks)\n",
    "\n",
    "train_ppl = trigram_lm.eval_perplexity(train_data_wth_unks)\n",
    "dev_ppl = trigram_lm.eval_perplexity(dev_data)\n",
    "print(f\"Train Perplexity for Trigram model: {train_ppl}\")\n",
    "print(f\"Dev Perplexity for Trigram model: {dev_ppl}\")\n",
    "\n",
    "print(\"\\n\\n\")\n",
    "\n",
    "fourgram_lm = WordNGramLMWithAddKSmoothing(4, k =1)\n",
    "fourgram_lm.fit(train_data_wth_unks)\n",
    "train_ppl = fourgram_lm.eval_perplexity(train_data_wth_unks)\n",
    "dev_ppl = fourgram_lm.eval_perplexity(dev_data)\n",
    "print(f\"Train Perplexity for 4-gram model: {train_ppl}\")\n",
    "print(f\"Dev Perplexity for 4-gram model: {dev_ppl}\")\n",
    "\n",
    "print(\"\\n\\n\")\n",
    "\n",
    "fivegram_lm = WordNGramLMWithAddKSmoothing(5, k =1)\n",
    "fivegram_lm.fit(train_data_wth_unks)\n",
    "train_ppl = fivegram_lm.eval_perplexity(train_data_wth_unks)\n",
    "dev_ppl = fivegram_lm.eval_perplexity(dev_data)\n",
    "print(f\"Train Perplexity for 5-gram model: {train_ppl}\")\n",
    "print(f\"Dev Perplexity for 5-gram model: {dev_ppl}\")"
   ],
   "outputs": [
    {
     "name": "stdout",
     "output_type": "stream",
     "text": [
      "Train Perplexity for Trigram model: 701.9762158904289\n",
      "Dev Perplexity for Trigram model: 931.0303442648889\n",
      "\n",
      "\n",
      "\n",
      "Train Perplexity for 4-gram model: 697.7793845964452\n",
      "Dev Perplexity for 4-gram model: 1080.1678891720715\n",
      "\n",
      "\n",
      "\n",
      "Train Perplexity for 5-gram model: 564.4994161169815\n",
      "Dev Perplexity for 5-gram model: 875.319250249223\n"
     ]
    }
   ],
   "execution_count": 56
  },
  {
   "cell_type": "markdown",
   "metadata": {
    "id": "CDLxqy5Qejiz"
   },
   "source": [
    "You should roughly observe the following perplexities:\n",
    "\n",
    "|N-gram LM | Train Perplexity | Dev Perplexity|\n",
    "|----------|------------------|---------------|\n",
    "| Trigram   | 701              | 931           |\n",
    "| 4-gram  | 685              | 1080         |\n",
    "| 5-gram | 586 | 875 |\n"
   ]
  },
  {
   "cell_type": "markdown",
   "metadata": {
    "id": "s1euKvzDejiz"
   },
   "source": [
    "Test implementation of `sample_text` for trigram and 4-gram LMs with Laplace Smoothing"
   ]
  },
  {
   "cell_type": "code",
   "metadata": {
    "id": "82CCqvnIejiz",
    "ExecuteTime": {
     "end_time": "2024-10-29T05:57:19.257960Z",
     "start_time": "2024-10-29T05:57:02.274291Z"
    }
   },
   "source": [
    "def test_sample_text_ngram_laplace():\n",
    "    print(\"Testing for Trigram model\")\n",
    "\n",
    "    random.seed(42)\n",
    "    np.random.seed(42)\n",
    "    trigram_lm = WordNGramLMWithAddKSmoothing(3)\n",
    "    trigram_lm.fit(train_data)\n",
    "    sampled_text = trigram_lm.sample_text(\"<sos> <sos>\", max_words=50)\n",
    "\n",
    "    print(\"Test Case 1: Check if the sampled text starts with <sos> <sos>\")\n",
    "    evaluate_test_case(\n",
    "        None,\n",
    "        sampled_text.startswith(\"<sos> <sos>\"),\n",
    "        True,\n",
    "        output_str=\"Sampled text starts with <sos> <sos>\",\n",
    "    )\n",
    "\n",
    "    print(\n",
    "        \"Test Case 2: Check if the number of generated words is either 50 or less than 50 and ends with <eos>\"\n",
    "    )\n",
    "    print(f\"Generated text: {sampled_text}\")\n",
    "    print(f\"Number of generated words: {len(sampled_text.split()) - 2}\")\n",
    "    print(f\"Does the generated text end with <eos>: {'<eos>' in sampled_text}\")\n",
    "    if len(sampled_text.split()) - 2 == 50 or (\n",
    "        len(sampled_text.split()) - 2 < 50 and \"<eos>\" in sampled_text\n",
    "    ):\n",
    "        print(\"Test passed! :)\")\n",
    "    else:\n",
    "        print(\"Test failed! :(\")\n",
    "\n",
    "    print(\"\\n\" + \"=\" * 50 + \"\\n\")\n",
    "\n",
    "    print(\n",
    "        \"Test Case 3: Check if the probability of generating II is less than III when prefix is KING RICHARD\"\n",
    "    )\n",
    "    sampled_texts = [\n",
    "        trigram_lm.sample_text(\"KING RICHARD\", max_words=1) for _ in range(10000)\n",
    "    ]\n",
    "    sampled_text = \" \".join(sampled_texts)\n",
    "    num_richard_2s = [\n",
    "        text.split(\"KING RICHARD\")[1].strip() == \"II\" for text in sampled_texts\n",
    "    ].count(True)\n",
    "    num_richard_3s = [\n",
    "        text.split(\"KING RICHARD\")[1].strip() == \"III\" for text in sampled_texts\n",
    "    ].count(True)\n",
    "\n",
    "    gen_prob_richard_2 = num_richard_2s / len(sampled_texts)\n",
    "    gen_prob_richard_3 = num_richard_3s / len(sampled_texts)\n",
    "\n",
    "    print(f\"Probability of generating Richard II: {gen_prob_richard_2}\")\n",
    "    print(f\"Probability of generating Richard III: {gen_prob_richard_3}\")\n",
    "    if gen_prob_richard_2 < gen_prob_richard_3:\n",
    "        print(\"Test passed! :)\")\n",
    "    else:\n",
    "        print(\"Test failed! :(\")\n",
    "\n",
    "    print(\"\\n\" + \"=\" * 50 + \"\\n\")\n",
    "\n",
    "    print(\n",
    "        \"Test Case 4: Check if the probability of generating II given KING RICHARD are close to the expected values\"\n",
    "    )\n",
    "    evaluate_test_case(\n",
    "        \"King Richard II\",\n",
    "        gen_prob_richard_2,\n",
    "        0.0201,\n",
    "        output_str=\"Probability of generating Richard II\",\n",
    "        atol=1e-2,\n",
    "    )\n",
    "\n",
    "    print(\n",
    "        \"Test Case 5: Check if the probability of generating III given KING RICHARD are close to the expected values\"\n",
    "    )\n",
    "    evaluate_test_case(\n",
    "        \"King Richard III\",\n",
    "        gen_prob_richard_3,\n",
    "        0.0306,\n",
    "        output_str=\"Probability of generating Richard III\",\n",
    "        atol=1e-2,\n",
    "    )\n",
    "\n",
    "    print(\"Testing for 4-gram model\")\n",
    "    fourgram_lm = WordNGramLMWithAddKSmoothing(4)\n",
    "    fourgram_lm.fit(train_data)\n",
    "    sampled_text = fourgram_lm.sample_text(\"<sos> <sos> <sos>\", max_words=50)\n",
    "\n",
    "    print(\"Test Case 6: Check if the sampled text starts with <sos> <sos> <sos>\")\n",
    "    evaluate_test_case(\n",
    "        None,\n",
    "        sampled_text.startswith(\"<sos> <sos> <sos>\"),\n",
    "        True,\n",
    "        output_str=\"Sampled text starts with <sos> <sos> <sos>\",\n",
    "    )\n",
    "\n",
    "    print(\n",
    "        \"Test Case 7: Check if the number of generated words is either 50 or less than 50 and ends with <eos>\"\n",
    "    )\n",
    "    print(f\"Generated text: {sampled_text}\")\n",
    "    print(f\"Number of generated words: {len(sampled_text.split()) - 3}\")\n",
    "    print(f\"Does the generated text end with <eos>: {'<eos>' in sampled_text}\")\n",
    "    if len(sampled_text.split()) - 3 == 50 or (\n",
    "        len(sampled_text.split()) - 3 < 50 and \"<eos>\" in sampled_text\n",
    "    ):\n",
    "        print(\"Test passed! :)\")\n",
    "\n",
    "    else:\n",
    "        print(\"Test failed! :(\")\n",
    "\n",
    "    print(\"\\n\" + \"=\" * 50 + \"\\n\")\n",
    "\n",
    "    print(\n",
    "        \"Test Case 8: Check if the probability of generating II is less than III when prefix is <sos> KING RICHARD\"\n",
    "    )\n",
    "    sampled_texts = [\n",
    "        fourgram_lm.sample_text(\"<sos> <sos> KING RICHARD\", max_words=1)\n",
    "        for _ in range(1000)\n",
    "    ]\n",
    "    sampled_text = \" \".join(sampled_texts)\n",
    "    num_richard_2s = [\n",
    "        text.split(\"<sos> <sos> KING RICHARD\")[1].strip() == \"II\"\n",
    "        for text in sampled_texts\n",
    "    ].count(True)\n",
    "\n",
    "    num_richard_3s = [\n",
    "        text.split(\"<sos> <sos> KING RICHARD\")[1].strip() == \"III\"\n",
    "        for text in sampled_texts\n",
    "    ].count(True)\n",
    "\n",
    "    gen_prob_rich2 = num_richard_2s / len(sampled_texts)\n",
    "    gen_prob_rich3 = num_richard_3s / len(sampled_texts)\n",
    "\n",
    "    print(f\"Probability of generating Richard II: {gen_prob_rich2}\")\n",
    "    print(f\"Probability of generating Richard III: {gen_prob_rich3}\")\n",
    "    if gen_prob_rich2 < gen_prob_rich3:\n",
    "        print(\"Test passed! :)\")\n",
    "    else:\n",
    "        print(\"Test failed! :(\")\n",
    "\n",
    "    print(\"\\n\" + \"=\" * 50 + \"\\n\")\n",
    "\n",
    "    print(\n",
    "        \"Test Case 9: Check if the probability of generating II given <sos> KING RICHARD are close to the expected values\"\n",
    "    )\n",
    "    evaluate_test_case(\n",
    "        \"<sos> King Richard II\",\n",
    "        gen_prob_rich2,\n",
    "        0.0174,\n",
    "        output_str=\"Probability of generating Richard II\",\n",
    "        atol=1e-2,\n",
    "    )\n",
    "\n",
    "    print(\n",
    "        \"Test Case 10: Check if the probability of generating III given <sos> KING RICHARD are close to the expected values\"\n",
    "    )\n",
    "    evaluate_test_case(\n",
    "        \"<sos> King Richard III\",\n",
    "        gen_prob_rich3,\n",
    "        0.0295,\n",
    "        output_str=\"Probability of generating Richard III\",\n",
    "        atol=1e-2,\n",
    "    )\n",
    "test_sample_text_ngram_laplace()"
   ],
   "outputs": [
    {
     "name": "stdout",
     "output_type": "stream",
     "text": [
      "Testing for Trigram model\n",
      "Test Case 1: Check if the sampled text starts with <sos> <sos>\n",
      "Sampled text starts with <sos> <sos>:\n",
      " True\n",
      "Expected Sampled text starts with <sos> <sos>:\n",
      " True\n",
      "Test case passed! :)\n",
      "\n",
      "==================================================\n",
      "\n",
      "Test Case 2: Check if the number of generated words is either 50 or less than 50 and ends with <eos>\n",
      "Generated text: <sos> <sos> record set'st No For sickly sickly commends pursue follow moveables visage hardy injustice yes subjects Draw mock narrow ceremony afflict Florizel that father dinner Appear voice Scotland neck exclaims prettiest wine boldness winged Catesby themselves sepulchre Grey God turns world bring pause where IV land And Master king wanton lead\n",
      "Number of generated words: 50\n",
      "Does the generated text end with <eos>: False\n",
      "Test passed! :)\n",
      "\n",
      "==================================================\n",
      "\n",
      "Test Case 3: Check if the probability of generating II is less than III when prefix is KING RICHARD\n",
      "Probability of generating Richard II: 0.0197\n",
      "Probability of generating Richard III: 0.0296\n",
      "Test passed! :)\n",
      "\n",
      "==================================================\n",
      "\n",
      "Test Case 4: Check if the probability of generating II given KING RICHARD are close to the expected values\n",
      "Input:\n",
      " King Richard II\n",
      "Probability of generating Richard II:\n",
      " 0.0197\n",
      "Expected Probability of generating Richard II:\n",
      " 0.0201\n",
      "Test case passed! :)\n",
      "\n",
      "==================================================\n",
      "\n",
      "Test Case 5: Check if the probability of generating III given KING RICHARD are close to the expected values\n",
      "Input:\n",
      " King Richard III\n",
      "Probability of generating Richard III:\n",
      " 0.0296\n",
      "Expected Probability of generating Richard III:\n",
      " 0.0306\n",
      "Test case passed! :)\n",
      "\n",
      "==================================================\n",
      "\n",
      "Testing for 4-gram model\n",
      "Test Case 6: Check if the sampled text starts with <sos> <sos> <sos>\n",
      "Sampled text starts with <sos> <sos> <sos>:\n",
      " True\n",
      "Expected Sampled text starts with <sos> <sos> <sos>:\n",
      " True\n",
      "Test case passed! :)\n",
      "\n",
      "==================================================\n",
      "\n",
      "Test Case 7: Check if the number of generated words is either 50 or less than 50 and ends with <eos>\n",
      "Generated text: <sos> <sos> <sos> slander male affliction flattering piled beholding bitterly 'pardon disorder agony Old Most rages Renowned occasion adulteress amiss summon Know drop fruits These MAMILLIUS answer heels bethink gilt weight seldom honour LAURENCE weak required natures graves Welshmen songs help tend do't ports cousins notes compassion rewards enter county ISABELLA skulls idly\n",
      "Number of generated words: 50\n",
      "Does the generated text end with <eos>: False\n",
      "Test passed! :)\n",
      "\n",
      "==================================================\n",
      "\n",
      "Test Case 8: Check if the probability of generating II is less than III when prefix is <sos> KING RICHARD\n",
      "Probability of generating Richard II: 0.025\n",
      "Probability of generating Richard III: 0.026\n",
      "Test passed! :)\n",
      "\n",
      "==================================================\n",
      "\n",
      "Test Case 9: Check if the probability of generating II given <sos> KING RICHARD are close to the expected values\n",
      "Input:\n",
      " <sos> King Richard II\n",
      "Probability of generating Richard II:\n",
      " 0.025\n",
      "Expected Probability of generating Richard II:\n",
      " 0.0174\n",
      "Test case passed! :)\n",
      "\n",
      "==================================================\n",
      "\n",
      "Test Case 10: Check if the probability of generating III given <sos> KING RICHARD are close to the expected values\n",
      "Input:\n",
      " <sos> King Richard III\n",
      "Probability of generating Richard III:\n",
      " 0.026\n",
      "Expected Probability of generating Richard III:\n",
      " 0.0295\n",
      "Test case passed! :)\n",
      "\n",
      "==================================================\n",
      "\n"
     ]
    }
   ],
   "execution_count": 57
  },
  {
   "cell_type": "code",
   "metadata": {
    "id": "k7_JIZ_Pejiz",
    "ExecuteTime": {
     "end_time": "2024-10-29T05:57:21.357016Z",
     "start_time": "2024-10-29T05:57:19.266825Z"
    }
   },
   "source": [
    "np.random.seed(42)\n",
    "random.seed(42)\n",
    "print(\"Generations from Trigram model\")\n",
    "trigram_lm = WordNGramLMWithAddKSmoothing(3, k = 0.01)\n",
    "trigram_lm.fit(train_data)\n",
    "for _ in range(20):\n",
    "    sampled_text = trigram_lm.sample_text(\"<sos> <sos> KING\", max_words=50)\n",
    "    print(sampled_text)\n"
   ],
   "outputs": [
    {
     "name": "stdout",
     "output_type": "stream",
     "text": [
      "Generations from Trigram model\n",
      "<sos> <sos> KING HENRY fault No For sickly sickly commends pursue follow moveables visage hardy injustice yes subjects Draw mock narrow ceremony afflict Florizel that father dinner Appear voice Scotland neck exclaims prettiest wine boldness winged Catesby themselves sepulchre Grey God turns world bring pause where IV land And Master king wanton lead\n",
      "<sos> <sos> KING RICHARD II : despair possible foolish get Patrician breathing confusion sire present terms ado obey meant greeting loving ashes well shrewd COMINIUS public shores purged Be tall PERDITA dine Six be't innocents theirs correction Beseech done point jealous quench reasons befall LEONTES even discourse pretty cheeks grew thanks up asked\n",
      "<sos> <sos> KING visitation Her reign lance chaste prevent wise flatter tenderly boots Francis cousins belike Blunt might either His fouler fray loss inferior driven crows meeting plain swears darest rush injury bosoms SOMERSET unknown divines dastard Repair Well names pleased villain summer pieces wherefore shroud vouch hung gulf asking joy serious are\n",
      "<sos> <sos> KING RICHARD III window beasts Grandam solely false stain Gentlemen tender poor whiles Saw stronger slow health Aufidius All kind CAMILLO desperate victory perjury caitiff OF barren Help nest kneel Prince reverend promise Sixth mounting there ' chase shape pace watery purpose shepherd theme smoking shadow beg you'ld takest quench Prithee\n",
      "<sos> <sos> KING RICHARD III starts dry chivalry London If bliss ignorant Within dreams dagger sound particular built hours confusion woes am absence sweetest free cares poor favours think acquaint falls other bows Hold joy to-night supply must inconstant tire fill houses lover breasts earthly highest venture 'll wall too temper sons misfortune\n",
      "<sos> <sos> KING HENRY VI : That is speedy Green nobility recover forthwith secrets spite worthy thousands mounting below EXTON queen cordial thy spices torch Towards then forbid oracle iron Romans degrees weep employ flower forsake how comfortable cry looking-glass meant doom CAMILLO catch willingly troublous Make poisonous doing straw lesson smiling fickle\n",
      "<sos> <sos> KING EDWARD IV : Antium Break Hercules Apollo continue approved arise extreme miles up unruly muse nobility adieu likes subtle thereto unfit remedies Mantua ? best disgrace interchange note darkness ne'er giddy strew east greetings unlawful kind Nor Yonder whereupon hill Before charges likes nigh breaths grieve say'st violence rumour west\n",
      "<sos> <sos> KING RICHARD II : Thy meddle vile powers feel servant didst plead shot eleven making friends throat highness to-morrow done't QUEEN relation beloved Again shield sleeps brotherhood practise falsehood abhor drum milk cheerly glorious mounting trade all spiders bear sirrah Pursuivant granted steeds just commonwealth pale thereby fasting warlike manners leisure\n",
      "<sos> <sos> KING EDWARD IV : CLEOMENES reputation Amongst Verona gallant to-morrow prime trust issued punishment blind BOLINGBROKE nightly At cords eagle nought ! flight prime injured express upright YORK frank or torture mangled abide Marcius meddle chains showers pleaseth falling keeper constable strengthen thief reproof treaty Can ones fallen laid Leave lurking\n",
      "<sos> <sos> KING RICHARD tyranny guilt Bear Unto ta'en budge butterfly niece Thou Whiles famous Gaoler beads Another sort Bushy tempted gentle Lucio 'Twill hardy Pale Should general trick drooping rabble DUKE utterance sometime robes nuns Lords array diest intend obey joint tents once resolve Through Lies Troy belly flatterers delivery Breathe fliers\n",
      "<sos> <sos> KING RICHARD Dion about none downright trumpets was Jesu verge fighting rushes nursed sport pursue breathing apart Thanks Jerusalem grant hare carried record hardy hundred troth butterfly ice Didst niece grandam Name complaint How pilot After two Kent given plainly lovest earthly virgin commit haply Marcius comforts promise haply Montagues shrewd\n",
      "<sos> <sos> KING RICHARD II : Then , Off faces tree captain steal doubt eternal Tewksbury deposed Chertsey ride commanding Farewell due delights lent geld cheerfully drift <sos> oft suffer mile revolt boast homicide alter ta'en me might look thine Cold nine vengeance keeping merciful subjects born forward queens chide wrinkled bootless kind\n",
      "<sos> <sos> KING EDWARD IV Bad moves Teach reach nineteen prick HASTINGS early rheum pernicious breed she promised watch sense prunes CARLISLE accusations share live waking pattern Marcius forlorn fights o'er i meet territories shorten folly Tut Caius threefold ever among varlet harmony busy stop shines strong divines weep'st rightly Since suffering ominous\n",
      "<sos> <sos> KING EDWARD IV : forsooth crutch sparkling reasonable grow state persuade stirring blush RATCLIFF hours hie repetition Cominius Never fouler brethren future hears Commend your wise ransom governor step DUKE written lately there teeming ballads 'The French whistle ? Wilt stern feed profess shunn among wot Valeria wretch speedy face lack\n",
      "<sos> <sos> KING RICHARD III : Why terror Proud stand prays Truly Stop right ELIZABETH league dust services ask Welcome knightly metal dew bastardy urging hoar jot Prove Earl constant approved soon Blush Doricles import instruct utterance pitch wait Lest provost Fetch Withal poverty o'clock o'er telling bridal count function April Bear incensed\n",
      "<sos> <sos> KING EDWARD IV : We will for Nothing Hie troubled except wounds Master envious woful disdain dumb VOLUMNIA bush bending chaff finger Bring sparkling blown defy abuse LORDS False doubted fish groans meant wherefore born Wherefore sigh beads Vienna posterity ones 'shall awake entreaty Arise tale estate Englishman gust cheerly put\n",
      "<sos> <sos> KING RICHARD III : Ay , small receipt aside living MERCUTIO keep'st toad perpetual disinherit March names compare toward thrown patient ill. DUCHESS swifter stream lamentable solicit EDWARD Because Anon contrary beshrew sets Paulina prisoners son melted highest retired care whiles aim bliss permit highness As choice fickle Look pursuit Nothing\n",
      "<sos> <sos> KING EDWARD IV On doit half discords knife countrymen grandfather What ordering does your stout grievous fetch Alban subjects entrance MOWBRAY merry arise trumpet bastards up an Behold peril charity Are welcomes we late forerun Dispatch sword With minute degree Methought False evident sap blown events half At ink aim Fall\n",
      "<sos> <sos> KING EDWARD provide whispering rages understand proclamation open rein green lion afeard take incensed named Post master suns gratis straight worthy tempted restraint rescue Dispatch torches siege tyrannous Still Saw there Standing prisoner mere wood Weep mean beloved ground thorns calf bethink condemn study broils nineteen gallant Dian redemption remove torn\n",
      "<sos> <sos> KING RICHARD II places kiss melted stock names became delay ships fowl immediately courteous Verona mow midnight mouse dried ourselves reply bliss push Sent leave realm tied find serious thousand days Run pretty wake dream persons faith goods instruction sister slay pernicious heaviness court afeard presume lustful Westminster Dian joint HENRY\n"
     ]
    }
   ],
   "execution_count": 58
  },
  {
   "cell_type": "code",
   "metadata": {
    "id": "X2dZqXj5ejiz",
    "ExecuteTime": {
     "end_time": "2024-10-29T05:57:23.546186Z",
     "start_time": "2024-10-29T05:57:21.366286Z"
    }
   },
   "source": [
    "np.random.seed(42)\n",
    "random.seed(42)\n",
    "print(\"Generations from 4-gram model with Add-k smoothing\")\n",
    "fourgram_lm = WordNGramLMWithAddKSmoothing(4, k=0.01)\n",
    "fourgram_lm.fit(train_data)\n",
    "for _ in range(20):\n",
    "    sampled_text = fourgram_lm.sample_text(\"<sos> <sos> <sos> KING\", max_words=50)\n",
    "    print(sampled_text)"
   ],
   "outputs": [
    {
     "name": "stdout",
     "output_type": "stream",
     "text": [
      "Generations from 4-gram model with Add-k smoothing\n",
      "<sos> <sos> <sos> KING HENRY wait No For sickly sickly commends pursue follow moveables visage hardy injustice yes subjects Draw mock narrow ceremony afflict Florizel that father dinner Appear voice Scotland neck exclaims prettiest wine boldness winged Catesby themselves sepulchre Grey God turns world bring pause where IV land And Master king wanton lead\n",
      "<sos> <sos> <sos> KING RICHARD II : despair possible foolish get Patrician breathing confusion sire present terms ado obey meant greeting loving ashes well shrewd COMINIUS public shores purged Be tall PERDITA dine Six be't innocents theirs correction Beseech done point jealous quench reasons befall LEONTES even discourse pretty cheeks grew thanks up asked\n",
      "<sos> <sos> <sos> KING visitation Her reign lance chaste prevent wise flatter tenderly boots Francis cousins belike Blunt might either His fouler fray loss inferior driven crows meeting plain swears darest rush injury bosoms SOMERSET unknown divines dastard Repair Well names pleased villain summer pieces wherefore shroud vouch hung gulf asking joy serious are\n",
      "<sos> <sos> <sos> KING RICHARD III window beasts Grandam solely false stain Gentlemen tender poor whiles Saw stronger slow health Aufidius All kind CAMILLO desperate victory perjury caitiff OF barren Help nest kneel Prince reverend promise Sixth mounting there ' chase shape pace watery purpose shepherd theme smoking shadow beg you'ld takest quench Prithee\n",
      "<sos> <sos> <sos> KING RICHARD III starts dry chivalry London If bliss ignorant Within dreams dagger sound particular built hours confusion woes am absence sweetest free cares poor favours think acquaint falls other bows Hold joy to-night supply must inconstant tire fill houses lover breasts earthly highest venture 'll wall too temper sons misfortune\n",
      "<sos> <sos> <sos> KING HENRY VI : That likes French Green nobility recover forthwith secrets spite worthy thousands mounting below EXTON queen cordial thy spices torch Towards then forbid oracle iron Romans degrees weep employ flower forsake how comfortable cry looking-glass meant doom CAMILLO catch willingly troublous Make poisonous doing straw lesson smiling fickle\n",
      "<sos> <sos> <sos> KING EDWARD IV : Antium Break Hercules Apollo continue approved arise extreme miles up unruly muse nobility adieu likes subtle thereto unfit remedies Mantua ? best disgrace interchange note darkness ne'er giddy strew east greetings unlawful kind Nor Yonder whereupon hill Before charges likes nigh breaths grieve say'st violence rumour west\n",
      "<sos> <sos> <sos> KING RICHARD II : Thy pray vile powers feel servant didst plead shot eleven making friends throat highness to-morrow done't QUEEN relation beloved Again shield sleeps brotherhood practise falsehood abhor drum milk cheerly glorious mounting trade all spiders bear sirrah Pursuivant granted steeds just commonwealth pale thereby fasting warlike manners leisure\n",
      "<sos> <sos> <sos> KING EDWARD IV : CLEOMENES reputation Amongst Verona gallant to-morrow prime trust issued punishment blind BOLINGBROKE nightly At cords eagle nought ! flight prime injured express upright YORK frank or torture mangled abide Marcius meddle chains showers pleaseth falling keeper constable strengthen thief reproof treaty Can ones fallen laid Leave lurking\n",
      "<sos> <sos> <sos> KING RICHARD decrees guilt Bear Unto ta'en budge butterfly niece Thou Whiles famous Gaoler beads Another sort Bushy tempted gentle Lucio 'Twill hardy Pale Should general trick drooping rabble DUKE utterance sometime robes nuns Lords array diest intend obey joint tents once resolve Through Lies Troy belly flatterers delivery Breathe fliers\n",
      "<sos> <sos> <sos> KING RICHARD integrity about none downright trumpets was Jesu verge fighting rushes nursed sport pursue breathing apart Thanks Jerusalem grant hare carried record hardy hundred troth butterfly ice Didst niece grandam Name complaint How pilot After two Kent given plainly lovest earthly virgin commit haply Marcius comforts promise haply Montagues shrewd\n",
      "<sos> <sos> <sos> KING RICHARD II : Then blood seated faces tree captain steal doubt eternal Tewksbury deposed Chertsey ride commanding Farewell due delights lent geld cheerfully drift <sos> oft suffer mile revolt boast homicide alter ta'en me might look thine Cold nine vengeance keeping merciful subjects born forward queens chide wrinkled bootless kind\n",
      "<sos> <sos> <sos> KING EDWARD unrest faintly moves Teach reach nineteen prick HASTINGS early rheum pernicious breed she promised disinherit sense prunes CARLISLE accusations share live waking pattern Marcius forlorn fights o'er i meet territories shorten folly Tut Caius threefold ever among varlet harmony busy stop shines strong divines weep'st rightly Since suffering ominous\n",
      "<sos> <sos> <sos> KING EDWARD IV : forsooth crutch sparkling reasonable grow state persuade stirring blush RATCLIFF hours hie repetition Cominius Never fouler brethren future hears Commend your wise ransom governor step DUKE written lately there teeming ballads 'The French whistle ? Wilt stern feed profess shunn among wot Valeria wretch speedy face lack\n",
      "<sos> <sos> <sos> KING RICHARD III : Why shapes Proud stand prays Truly Stop right ELIZABETH league dust services ask Welcome knightly metal dew bastardy urging hoar jot Prove Earl constant approved soon Blush Doricles import instruct utterance pitch wait Lest provost Fetch Withal poverty o'clock o'er telling bridal count function April Bear incensed\n",
      "<sos> <sos> <sos> KING EDWARD IV : We coronation silly resolve Hie troubled except wounds Master envious woful disdain dumb VOLUMNIA bush bending chaff finger Bring sparkling blown defy abuse LORDS False doubted fish groans meant wherefore born Wherefore sigh beads Vienna posterity ones 'shall awake entreaty Arise tale estate Englishman gust cheerly put\n",
      "<sos> <sos> <sos> KING RICHARD III : Ay Hath woe receipt aside living MERCUTIO keep'st toad perpetual disinherit March names compare toward thrown patient ill. DUCHESS swifter stream lamentable solicit EDWARD Because Anon contrary beshrew sets Paulina prisoners son melted highest retired care whiles aim bliss permit highness As choice fickle Look pursuit Nothing\n",
      "<sos> <sos> <sos> KING EDWARD IV On doit half discords knife countrymen grandfather What ordering does your Brakenbury grievous fetch Alban subjects entrance MOWBRAY merry arise trumpet bastards up an Behold peril charity Are welcomes we late western Dispatch sword With minute degree Methought False evident sap blown events half At ink aim Fall\n",
      "<sos> <sos> <sos> KING EDWARD gifts whispering rages understand proclamation open rein green lion afeard take incensed named Post master suns gratis straight worthy tempted restraint rescue Dispatch torches siege tyrannous Still Saw there Standing prisoner mere wood Weep mean beloved ground thorns calf bethink condemn study broils nineteen gallant Dian redemption remove torn\n",
      "<sos> <sos> <sos> KING RICHARD II places kiss melted stock names became delay ships fowl immediately courteous Verona mow midnight mouse dried ourselves reply bliss push Sent leave realm tied find serious thousand days Run pretty wake dream persons faith goods instruction sister slay pernicious heaviness court afeard presume lustful Westminster Dian joint HENRY\n"
     ]
    }
   ],
   "execution_count": 59
  },
  {
   "cell_type": "code",
   "metadata": {
    "id": "kk5nLDTKejiz",
    "ExecuteTime": {
     "end_time": "2024-10-29T05:57:25.714576Z",
     "start_time": "2024-10-29T05:57:23.555347Z"
    }
   },
   "source": [
    "np.random.seed(42)\n",
    "random.seed(42)\n",
    "print(\"Generations from 5-gram model with Add-k smoothing\")\n",
    "fivegram_lm = WordNGramLMWithAddKSmoothing(5, k=0.01)\n",
    "fivegram_lm.fit(train_data)\n",
    "for _ in range(20):\n",
    "    sampled_text = fivegram_lm.sample_text(\"<sos> <sos> <sos> <sos> KING\", max_words=50)\n",
    "    print(sampled_text)"
   ],
   "outputs": [
    {
     "name": "stdout",
     "output_type": "stream",
     "text": [
      "Generations from 5-gram model with Add-k smoothing\n",
      "<sos> <sos> <sos> <sos> KING HENRY wait No For sickly sickly commends pursue follow moveables visage hardy injustice yes subjects Draw mock narrow ceremony afflict Florizel that father dinner Appear voice Scotland neck exclaims prettiest wine boldness winged Catesby themselves sepulchre Grey God turns world bring pause where IV land And Master king wanton lead\n",
      "<sos> <sos> <sos> <sos> KING RICHARD II : despair possible foolish get Patrician breathing confusion sire present terms ado obey meant greeting loving ashes well shrewd COMINIUS public shores purged Be tall PERDITA dine Six be't innocents theirs correction Beseech done point jealous quench reasons befall LEONTES even discourse pretty cheeks grew thanks up asked\n",
      "<sos> <sos> <sos> <sos> KING visitation Her reign lance chaste prevent wise flatter tenderly boots Francis cousins belike Blunt might either His fouler fray loss inferior driven crows meeting plain swears darest rush injury bosoms SOMERSET unknown divines dastard Repair Well names pleased villain summer pieces wherefore shroud vouch hung gulf asking joy serious are\n",
      "<sos> <sos> <sos> <sos> KING RICHARD III gust beasts Grandam solely false stain Gentlemen tender poor whiles Saw stronger slow health Aufidius All kind CAMILLO desperate victory perjury caitiff OF barren Help nest kneel Prince reverend promise Sixth mounting there ' chase shape pace watery purpose shepherd theme smoking shadow beg you'ld takest quench Prithee\n",
      "<sos> <sos> <sos> <sos> KING RICHARD III wildly dry chivalry London If bliss ignorant Within dreams dagger sound particular built hours confusion woes am absence sweetest free cares poor favours think acquaint falls other bows Hold joy to-night supply must inconstant tire fill houses lover breasts earthly highest venture 'll wall too temper sons misfortune\n",
      "<sos> <sos> <sos> <sos> KING HENRY VI : That likes French Green nobility recover forthwith secrets spite worthy thousands mounting below EXTON queen cordial thy spices torch Towards then forbid oracle iron Romans degrees weep employ flower forsake how comfortable cry looking-glass meant doom CAMILLO catch willingly troublous Make poisonous doing straw lesson smiling fickle\n",
      "<sos> <sos> <sos> <sos> KING EDWARD IV : Antium Break Hercules Apollo continue approved arise extreme miles up unruly muse nobility adieu likes subtle thereto unfit remedies Mantua ? best disgrace interchange note darkness ne'er giddy strew east greetings unlawful kind Nor Yonder whereupon hill Before charges likes nigh breaths grieve say'st violence rumour west\n",
      "<sos> <sos> <sos> <sos> KING RICHARD II : Thy pray vile powers feel servant didst plead shot eleven making friends throat highness to-morrow done't QUEEN relation beloved Again shield sleeps brotherhood practise falsehood abhor drum milk cheerly glorious mounting trade all spiders bear sirrah Pursuivant granted steeds just commonwealth pale thereby fasting warlike manners leisure\n",
      "<sos> <sos> <sos> <sos> KING EDWARD IV : CLEOMENES reputation Amongst Verona gallant to-morrow prime trust issued punishment blind BOLINGBROKE nightly At cords eagle nought ! flight prime injured express upright YORK frank or torture mangled abide Marcius meddle chains showers pleaseth falling keeper constable strengthen thief reproof treaty Can ones fallen laid Leave lurking\n",
      "<sos> <sos> <sos> <sos> KING RICHARD decrees guilt Bear Unto ta'en budge butterfly niece Thou Whiles famous Gaoler beads Another sort Bushy tempted gentle Lucio 'Twill hardy Pale Should general trick drooping rabble DUKE utterance sometime robes nuns Lords array diest intend obey joint tents once resolve Through Lies Troy belly flatterers delivery Breathe fliers\n",
      "<sos> <sos> <sos> <sos> KING RICHARD integrity about none downright trumpets was Jesu verge fighting rushes nursed sport pursue breathing apart Thanks Jerusalem grant hare carried record hardy hundred troth butterfly ice Didst niece grandam Name complaint How pilot After two Kent given plainly lovest earthly virgin commit haply Marcius comforts promise haply Montagues shrewd\n",
      "<sos> <sos> <sos> <sos> KING RICHARD II : Then blood seated faces tree captain steal doubt eternal Tewksbury deposed Chertsey ride commanding Farewell due delights lent geld cheerfully drift <sos> oft suffer mile revolt boast homicide alter ta'en me might look thine Cold nine vengeance keeping merciful subjects born forward queens chide wrinkled bootless kind\n",
      "<sos> <sos> <sos> <sos> KING EDWARD unrest faintly moves Teach reach nineteen prick HASTINGS early rheum pernicious breed she promised disinherit sense prunes CARLISLE accusations share live waking pattern Marcius forlorn fights o'er i meet territories shorten folly Tut Caius threefold ever among varlet harmony busy stop shines strong divines weep'st rightly Since suffering ominous\n",
      "<sos> <sos> <sos> <sos> KING EDWARD IV : forsooth crutch sparkling reasonable grow state persuade stirring blush RATCLIFF hours hie repetition Cominius Never fouler brethren future hears Commend your wise ransom governor step DUKE written lately there teeming ballads 'The French whistle ? Wilt stern feed profess shunn among wot Valeria wretch speedy face lack\n",
      "<sos> <sos> <sos> <sos> KING RICHARD III : Why shapes Proud stand prays Truly Stop right ELIZABETH league dust services ask Welcome knightly metal dew bastardy urging hoar jot Prove Earl constant approved soon Blush Doricles import instruct utterance pitch wait Lest provost Fetch Withal poverty o'clock o'er telling bridal count function April Bear incensed\n",
      "<sos> <sos> <sos> <sos> KING EDWARD IV : We coronation silly resolve Hie troubled except wounds Master envious woful disdain dumb VOLUMNIA bush bending chaff finger Bring sparkling blown defy abuse LORDS False doubted fish groans meant wherefore born Wherefore sigh beads Vienna posterity ones 'shall awake entreaty Arise tale estate Englishman gust cheerly put\n",
      "<sos> <sos> <sos> <sos> KING RICHARD III : Ay Hath woe receipt aside living MERCUTIO keep'st toad perpetual disinherit March names compare toward thrown patient ill. DUCHESS swifter stream lamentable solicit EDWARD Because Anon contrary beshrew sets Paulina prisoners son melted highest retired care whiles aim bliss permit highness As choice fickle Look pursuit Nothing\n",
      "<sos> <sos> <sos> <sos> KING EDWARD IV butcher doit half discords knife countrymen grandfather What ordering does your Brakenbury grievous fetch Alban subjects entrance MOWBRAY merry arise trumpet bastards up an Behold peril charity Are welcomes we late western Dispatch sword With minute degree Methought False evident sap blown events half At ink aim Fall\n",
      "<sos> <sos> <sos> <sos> KING EDWARD gifts whispering rages understand proclamation open rein green lion afeard take incensed named Post master suns gratis straight worthy tempted restraint rescue Dispatch torches siege tyrannous Still Saw there Standing prisoner mere wood Weep mean beloved ground thorns calf bethink condemn study broils nineteen gallant Dian redemption remove torn\n",
      "<sos> <sos> <sos> <sos> KING RICHARD II spoken kiss melted stock names became delay ships fowl immediately courteous Verona mow midnight mouse dried ourselves reply bliss push Sent leave realm tied find serious thousand days Run pretty wake dream persons faith goods instruction sister slay pernicious heaviness court afeard presume lustful Westminster Dian joint HENRY\n"
     ]
    }
   ],
   "execution_count": 60
  },
  {
   "cell_type": "markdown",
   "metadata": {
    "id": "AInArpKoeji0"
   },
   "source": [
    "### Exercise 3.3 Language Model Interpolation (10 Points)\n",
    "\n",
    "An alternate to smoothing that often works well in practice is interpolating between different language models. Let's say we are trying to compute $P(w_n \\mid w_{n-2} w_{n-1})$, but we have no examples of the particular trigram $w_{n-2}, w_{n-1} w_n$ in the training corpus, we can instead estimate its probability by using the bigram probability $P(w_n \\mid w_{n-1})$. If there are no examples of the bigram $w_{n-1} w_n$ in the training data either, we use the unigram probability $P(w_n)$. Formally, the trigram probability by mixing the three distributions is given by:\n",
    "\n",
    "$$\\hat{P}(w_n \\mid w_{n-2} w_{n-1}) = \\lambda_1 P(w_n) + \\lambda_2 P(w_n \\mid w_{n-1}) + \\lambda_3 P(w_n \\mid w_{n-1} w_{n-2})$$\n",
    "\n",
    "where $\\lambda_1 + \\lambda_2 + \\lambda_3 = 1$ (and each $\\lambda$ is non-negative), making the above equation a form of weighted averaging. We can similarly write expressions for other N-gram LMs.\n",
    "\n",
    "But how do we choose the values of different $\\lambda_i$? We choose these values by tuning them on a held out data i.e. the dev set, very similar to tuning hyperparameters for a machine learning model.\n",
    "\n",
    "In this exercise, you will implement the class `WordNGramLMWithInterpolation` similar to `WordNGramLM` and `WordNGramLMWithAddKSmoothing` that you did in the previous exercises but this time to support interpolation between different LMs."
   ]
  },
  {
   "cell_type": "code",
   "metadata": {
    "deletable": false,
    "nbgrader": {
     "cell_type": "code",
     "checksum": "ea07d034114bb8623bd3d17d7108170e",
     "grade": false,
     "grade_id": "cell-2bfd0cbf822202bb",
     "locked": false,
     "schema_version": 3,
     "solution": true,
     "task": false
    },
    "id": "laxqpkl_eji0",
    "ExecuteTime": {
     "end_time": "2024-10-29T05:57:25.732805Z",
     "start_time": "2024-10-29T05:57:25.722033Z"
    }
   },
   "source": [
    "class WordNGramLMWithInterpolation(WordNGramLM):\n",
    "\n",
    "    def __init__(self, N: int, lambdas: List[float]):\n",
    "\n",
    "        \"\"\"\n",
    "        Constructor for WordNGramLMWithInterpolation class.\n",
    "        Inputs:\n",
    "            - N: int, the N in N-gram\n",
    "            - lambdas: List[float], the list of lambdas for interpolation between 1-gram, 2-gram, 3-gram, ..., N-gram models\n",
    "                Note: The length of lambdas should be N. The sum of lambdas should be 1. lambdas[0] corresponds to 1-gram model, lambdas[1] corresponds to 2-gram model and so on.\n",
    "        \"\"\"\n",
    "\n",
    "        # YOUR CODE HERE\n",
    "        super().__init__(N)\n",
    "        self.lambdas = lambdas\n",
    "        self.ngram_probs = {}\n",
    "        self.prefixes = set()\n",
    "\n",
    "    def fit(self, train_data: List[str]):\n",
    "\n",
    "        \"\"\"\n",
    "        Trains an N-gram language model with interpolation.\n",
    "\n",
    "        Inputs:\n",
    "            - train_data: str, sentences in the training data\n",
    "\n",
    "        \"\"\"\n",
    "\n",
    "        # YOUR CODE HERE\n",
    "        self.vocabulary = {word for line in train_data for word in line.split()}\n",
    "        \n",
    "        for i in range(1, self.N + 1):\n",
    "            train_data_i = process_text_for_Ngram(train_data, i)\n",
    "            ngrams = self.get_ngrams_for_n(train_data_i, i)\n",
    "            ngrams_minus_1 = [\" \".join(ngram.split()[:-1]) for ngram in ngrams]\n",
    "            \n",
    "            self.prefixes.update([\" \".join(ngram.split()[:-1]) for ngram in ngrams])\n",
    "            \n",
    "            ngram_probs_minus_1 = nltk.FreqDist(ngrams_minus_1)\n",
    "            ngram_counts = nltk.FreqDist(ngrams)\n",
    "            \n",
    "            for ngram in ngrams:\n",
    "                prefix = ' '.join(ngram.split()[:-1])\n",
    "                self.ngram_probs[ngram] = ngram_counts[ngram] / ngram_probs_minus_1[prefix]\n",
    "\n",
    "    def eval_perplexity(self, eval_data: List[str]) -> float:\n",
    "        \"\"\"\n",
    "        Evaluates the perplexity of the N-gram language model with interpolation on the eval set.\n",
    "\n",
    "        Input:\n",
    "            - eval_data: List[str], the evaluation text\n",
    "\n",
    "        Output:\n",
    "            - float, the perplexity of the model on the evaluation set\n",
    "\n",
    "        Note : For tokens that are not in the vocabulary, replace them with the <unk> token.\n",
    "\n",
    "        \"\"\"\n",
    "        eval_data = self.replace_unknown_words_with_unk(process_text_for_Ngram(eval_data, self.N))\n",
    "        perplexity = 0\n",
    "        for line in eval_data:\n",
    "            words = line.split()\n",
    "            for i in range(len(words) - self.N + 1):\n",
    "                ngram = ' '.join(words[i:i+self.N])\n",
    "                perplexity += np.log(self.get_probability(ngram))\n",
    "                \n",
    "        return np.exp(-perplexity / sum(len(line.split()) for line in eval_data))\n",
    "\n",
    "    def sample_text(self, prefix: str = \"<sos>\", max_words: int = 100) -> str:\n",
    "\n",
    "        \"\"\"\n",
    "        Samples text from the N-gram language model with interpolation.\n",
    "\n",
    "        Inputs:\n",
    "            - prefix: str, the prefix to start the sampling from. Can also be multiple words separated by spaces.\n",
    "            - max_words: int, the maximum number of words to sample\n",
    "\n",
    "        Outputs:\n",
    "            - str, the sampled text\n",
    "\n",
    "        Note: Please use np.random.choice for sampling next words\n",
    "        \"\"\"\n",
    "\n",
    "        # YOUR CODE HERE\n",
    "        sample = prefix\n",
    "        for _ in range(max_words):\n",
    "            prefix = ' '.join(sample.split()[-self.N+1:])\n",
    "            ngrams = [prefix + f' {word}' for word in self.vocabulary]\n",
    "            p = np.asarray([self.get_probability(ngram) for ngram in ngrams], dtype=np.float64)\n",
    "            # the prefix could be associated with NO N-grams, in which case the N-gram \n",
    "            # model will have probability summing to 0 (it has never seen the element). \n",
    "            # In this case, can continue sampling by normalizing the probability distribution.\n",
    "            p /= sum(p)\n",
    "            next_word = np.random.choice([ngram.split()[-1] for ngram in ngrams], p=p, replace=True)\n",
    "            sample += f' {next_word}'\n",
    "            if next_word == \"<eos>\":\n",
    "                break\n",
    "        return sample\n",
    "\n",
    "    # Extra utility functions that you think will be useful can go below\n",
    "    # YOUR CODE HERE\n",
    "    def get_ngrams_for_n(self, train_data: List[str], n: int) -> List[str]:\n",
    "        \"\"\"\n",
    "        Gets the ngrams with n words from the training data.\n",
    "        :param train_data: the training data\n",
    "        :param n: the length of the n-grams\n",
    "        :return: list of all the n-grams\n",
    "        \"\"\"\n",
    "        return [\n",
    "            ' '.join(line.split()[i:i+n]) \n",
    "            for line in train_data \n",
    "            for i in range(len(line.split()) -  n + 1)\n",
    "        ]\n",
    "    \n",
    "    def get_probability(self, ngram):\n",
    "        return sum(\n",
    "            self.lambdas[j] * self.ngram_probs.get(\" \".join(ngram.split()[-j-1:]),0) \n",
    "            for j in range(self.N)\n",
    "        )"
   ],
   "outputs": [],
   "execution_count": 61
  },
  {
   "cell_type": "markdown",
   "metadata": {
    "id": "bA4ZAoIIeji0"
   },
   "source": [
    "Test implementation of `eval_perplexity` for trigram model with Interpolation"
   ]
  },
  {
   "cell_type": "code",
   "metadata": {
    "id": "DB7iDqzneji0",
    "ExecuteTime": {
     "end_time": "2024-10-29T05:57:27.758701Z",
     "start_time": "2024-10-29T05:57:25.741034Z"
    }
   },
   "source": [
    "trigram_lm = WordNGramLMWithInterpolation(3, [0.3, 0.3, 0.4])\n",
    "trigram_lm.fit(train_data_wth_unks)\n",
    "\n",
    "train_ppl = trigram_lm.eval_perplexity(train_data_wth_unks)\n",
    "dev_ppl = trigram_lm.eval_perplexity(dev_data)\n",
    "print(f\"Train Perplexity for Trigram model with Interpolation: {train_ppl}\")\n",
    "print(f\"Dev Perplexity for Trigram model with Interpolation: {dev_ppl}\")"
   ],
   "outputs": [
    {
     "name": "stdout",
     "output_type": "stream",
     "text": [
      "Train Perplexity for Trigram model with Interpolation: 10.852751488938974\n",
      "Dev Perplexity for Trigram model with Interpolation: 89.27361231164326\n"
     ]
    }
   ],
   "execution_count": 62
  },
  {
   "cell_type": "markdown",
   "metadata": {
    "id": "Avc9zQP3eji0"
   },
   "source": [
    "You should see a train perplexity of around 10 and dev perplexity of 89. This should also be the best performing model based on dev perplexity that we have seen so far."
   ]
  },
  {
   "cell_type": "markdown",
   "metadata": {
    "id": "W0AyANU4eji0"
   },
   "source": [
    "Test implementation of `eval_perplexity` for 4-gram model with Interpolation"
   ]
  },
  {
   "cell_type": "code",
   "metadata": {
    "id": "8B6K9hqeeji0",
    "ExecuteTime": {
     "end_time": "2024-10-29T05:57:30.616317Z",
     "start_time": "2024-10-29T05:57:27.787688Z"
    }
   },
   "source": [
    "fourgram_lm = WordNGramLMWithInterpolation(4, [0.2, 0.1, 0.1, 0.6])\n",
    "fourgram_lm.fit(train_data_wth_unks)\n",
    "\n",
    "train_ppl = fourgram_lm.eval_perplexity(train_data_wth_unks)\n",
    "dev_ppl = fourgram_lm.eval_perplexity(dev_data)\n",
    "print(f\"Train Perplexity for Trigram model with Interpolation: {train_ppl}\")\n",
    "print(f\"Dev Perplexity for Trigram model with Interpolation: {dev_ppl}\")"
   ],
   "outputs": [
    {
     "name": "stdout",
     "output_type": "stream",
     "text": [
      "Train Perplexity for Trigram model with Interpolation: 3.582739587812277\n",
      "Dev Perplexity for Trigram model with Interpolation: 135.24725706720983\n"
     ]
    }
   ],
   "execution_count": 63
  },
  {
   "cell_type": "markdown",
   "metadata": {
    "id": "AktfCRPceji0"
   },
   "source": [
    "Here you should get a train perplexity of roughly 6 and dev perplexity around 75."
   ]
  },
  {
   "metadata": {},
   "cell_type": "markdown",
   "source": "Play around with different values of $\\lambda_i$ and see how it effects the train and dev perplexities."
  },
  {
   "cell_type": "code",
   "metadata": {
    "id": "lBdODZTOeji0",
    "ExecuteTime": {
     "end_time": "2024-10-29T05:57:35.802907Z",
     "start_time": "2024-10-29T05:57:30.647019Z"
    }
   },
   "source": [
    "np.random.seed(42)\n",
    "random.seed(42)\n",
    "\n",
    "print(\"Generations from Trigram model with Interpolation\")\n",
    "trigram_lm = WordNGramLMWithInterpolation(3, [0.3, 0.3, 0.4])\n",
    "# trigram_lm = WordNGramLMWithInterpolation(3, [0., 1., 0])\n",
    "trigram_lm.fit(train_data)\n",
    "for _ in range(20):\n",
    "    sampled_text = trigram_lm.sample_text(\"<sos> <sos> KING\", max_words=50)\n",
    "    print(sampled_text)"
   ],
   "outputs": [
    {
     "name": "stdout",
     "output_type": "stream",
     "text": [
      "Generations from Trigram model with Interpolation\n",
      "<sos> <sos> KING HENRY , courage then pleasure to the gracious utterance , at owe BENVOLIO Tower if you be <unk> <unk> with one that 's nest ; then a <unk> goddess to seen to the thee honour , or fear . <eos>\n",
      "<sos> <sos> KING EDWARD IV you . , eyes almost out in the city , far : O , the Lady Paulina 's steward , good lets go by the provost hath <eos>\n",
      "<sos> <sos> KING RICHARD III merit , I physic lies nine 's face . <eos>\n",
      "<sos> <sos> KING HENRY PERCY : Because thou in banishment Than so upon my invention , shall not only the child that royal liege , , ? , he is the thy gold : I am , Can no , not for : That face ; and , , By head <unk> 'd\n",
      "<sos> <sos> KING EDWARD IV : We 'd for no quite lost myself ; and about the corn ! Mariner BOLINGBROKE : Angelo 's to <eos>\n",
      "<sos> <sos> KING EDWARD IV : they he be not rule were KING RICHARD III good What I have fill <unk> full of gotten Montague <unk> . <unk> him to it . then he speaks not like to do . <eos>\n",
      "<sos> <sos> KING RICHARD III : I was , he not the worst : With received lords , more known . <eos>\n",
      "<sos> <sos> KING RICHARD III : this word ! <eos>\n",
      "<sos> <sos> KING RICHARD II : the people scope by <eos>\n",
      "<sos> <sos> KING HENRY LADY CAPULET : <unk> I <unk> a small <unk> met , disgraced his punishment . <eos>\n",
      "<sos> <sos> KING If . Any it it draws something wildly free royal sword your : So I will not <eos>\n",
      "<sos> <sos> KING EDWARD IV : So many miseries ! <eos>\n",
      "<sos> <sos> KING RICHARD II : My comfort is : and he single . any longer stay : What <unk> another 's gain that hath men piteous to be found ? <eos>\n",
      "<sos> <sos> KING theirs that Romeo Come state , it still unto ' but by the cause . <eos>\n",
      "<sos> <sos> KING RICHARD III And to death , I am no . <eos>\n",
      "<sos> <sos> KING RICHARD II : ? crown , Richard gone an heel : and <unk> that <unk> <unk> leanness , leanness is all the crew ; And , now melt the city Corioli ; then haply she does praise me . <eos>\n",
      "<sos> <sos> KING : My father them that way to my get her Henry the Sixth after that <unk> our blood , let 's blessed youth of his ; That common chances , , king , King Richard , and France right . <eos>\n",
      "<sos> <sos> KING fares : By this : : my now <unk> with mean lamp , And let them <unk> that A lie , That you behold did I do that can do employ king As here <eos>\n",
      "<sos> <sos> KING HENRY VI : Therefore <eos>\n",
      "<sos> <sos> KING RICHARD III me , and twenty , that shall Say yea to to them of in ourselves . <eos>\n"
     ]
    }
   ],
   "execution_count": 64
  },
  {
   "cell_type": "code",
   "metadata": {
    "id": "ybD-NU2Peji0",
    "ExecuteTime": {
     "end_time": "2024-10-29T05:57:42.202571Z",
     "start_time": "2024-10-29T05:57:35.813072Z"
    }
   },
   "source": [
    "np.random.seed(42)\n",
    "random.seed(42)\n",
    "\n",
    "print(\"Generations from 4-gram model with Interpolation\")\n",
    "fourgram_lm = WordNGramLMWithInterpolation(4, [0.25965562, 0.68725012, 0.02382144, 0.02927282])\n",
    "fourgram_lm.fit(train_data)\n",
    "for _ in range(20):\n",
    "    sampled_text = fourgram_lm.sample_text(\"<sos> <sos> <sos> KING\", max_words=50)\n",
    "    print(sampled_text)"
   ],
   "outputs": [
    {
     "name": "stdout",
     "output_type": "stream",
     "text": [
      "Generations from 4-gram model with Interpolation\n",
      "<sos> <sos> <sos> KING HENRY , I claim the to the other not need Is it , but to you much Clifford vows We hate to keep no ; Would half my tongue Which we will bring it fain , That you for what The <unk> at thee answer RICHARD III : Ay sound\n",
      "<sos> <sos> <sos> KING : Though far far livery . with an hath done ; We have done doth <unk> to set up his Warwick 's tale : I can law will beauties ; She shall be the Make pale for my lord , that did hear <unk> , <unk> when <unk> Is that\n",
      "<sos> <sos> <sos> KING you can give him . . <eos>\n",
      "<sos> <sos> <sos> KING RICHARD III say amen ? <eos>\n",
      "<sos> <sos> <sos> KING RICHARD II : It is then we have put to the price of may , By thinking stay ? <unk> grief . <eos>\n",
      "<sos> <sos> <sos> KING I did once it . . <eos>\n",
      "<sos> <sos> <sos> KING HENRY VI To <unk> and the bishop , Upon the <unk> <eos>\n",
      "<sos> <sos> <sos> KING EDWARD IV : Yes , holy oath I shall part , or high deserts , And beat your lips , must I humbly kiss to me to : of a BUCKINGHAM : Must I to the , , alas ! <eos>\n",
      "<sos> <sos> <sos> KING RICHARD : before , state is an of For on the tongue deliver The <unk> wenches ' the market-place ; never did I have my free As ornaments to death . <eos>\n",
      "<sos> <sos> <sos> KING RICHARD II : tidings of your mother , no more he is as it . <eos>\n",
      "<sos> <sos> <sos> KING the : Away : it then much ; Yet extreme sweet Exeter : I beseech you can <eos>\n",
      "<sos> <sos> <sos> KING EDWARD IV : So many can <unk> with for us ones . <eos>\n",
      "<sos> <sos> <sos> KING motion through my Though he make Thursday Wiltshire hath <unk> at Pomfret , 'Twixt my forces hence , Confess who Have I The not slain The <unk> having now , destruction ! <eos>\n",
      "<sos> <sos> <sos> KING RICHARD III : God bless thee , Turks and to 'banished ' and thou Must Edward . <eos>\n",
      "<sos> <sos> <sos> KING of miseries enough ? <eos>\n",
      "<sos> <sos> <sos> KING RICHARD the face the way : I speak to attain <unk> a 'd 'd And we 'll be not ; let <unk> a man ! that might . <eos>\n",
      "<sos> <sos> <sos> KING HENRY BOLINGBROKE : Romeo . <eos>\n",
      "<sos> <sos> <sos> KING rest . us fear you busy day , the grace : strike , if you for kings Catesby , ho ! I carry coals <eos>\n",
      "<sos> <sos> <sos> KING HENRY VI : Make haste . <eos>\n",
      "<sos> <sos> <sos> KING RICHARD II ; was <unk> , or , with up Lancaster leave take it . <eos>\n"
     ]
    }
   ],
   "execution_count": 65
  },
  {
   "metadata": {
    "ExecuteTime": {
     "end_time": "2024-10-29T05:59:14.652320Z",
     "start_time": "2024-10-29T05:58:52.701067Z"
    }
   },
   "cell_type": "code",
   "source": [
    "# np.random.seed(42)\n",
    "# \n",
    "# for N in range(2, 5):\n",
    "#     best_model = None\n",
    "#     best_dev_ppl = float('inf')\n",
    "#     all_lambdas = []\n",
    "#     for _ in tqdm(range(5)):\n",
    "#         lambdas = np.random.dirichlet([1]*N)\n",
    "#         all_lambdas.append(lambdas)\n",
    "#         lm = WordNGramLMWithInterpolation(N, lambdas)\n",
    "#         lm.fit(train_data)\n",
    "#         dev_ppl = lm.eval_perplexity(dev_data)\n",
    "#         if dev_ppl < best_dev_ppl:\n",
    "#             best_dev_ppl = dev_ppl\n",
    "#             best_model = fourgram_lm\n",
    "#     print(f\"Best Dev Perplexity for {N}-gram interpolation: {best_dev_ppl}\")\n",
    "#     print(f\"Best Lambdas for {N}-gram interpolation: {best_model.lambdas}\")\n",
    "#     print(f\"lambdas tried: {all_lambdas}\")"
   ],
   "outputs": [
    {
     "name": "stderr",
     "output_type": "stream",
     "text": [
      "100%|██████████| 5/5 [00:04<00:00,  1.10it/s]\n"
     ]
    },
    {
     "name": "stdout",
     "output_type": "stream",
     "text": [
      "Best Dev Perplexity for 2-gram interpolation: 99.41795153627571\n",
      "Best Lambdas for 2-gram interpolation: [0.25965562, 0.68725012, 0.02382144, 0.02927282]\n",
      "lambdas tried: [array([0.13487081, 0.86512919]), array([0.59055148, 0.40944852]), array([0.50004212, 0.49995788]), array([0.02889269, 0.97110731]), array([0.42741403, 0.57258597])]\n"
     ]
    },
    {
     "name": "stderr",
     "output_type": "stream",
     "text": [
      "100%|██████████| 5/5 [00:07<00:00,  1.45s/it]\n"
     ]
    },
    {
     "name": "stdout",
     "output_type": "stream",
     "text": [
      "Best Dev Perplexity for 3-gram interpolation: 79.79845216032913\n",
      "Best Lambdas for 3-gram interpolation: [0.25965562, 0.68725012, 0.02382144, 0.02927282]\n",
      "lambdas tried: [array([0.00391643, 0.65970598, 0.3363776 ]), array([0.3718003 , 0.31259479, 0.31560491]), array([0.21692961, 0.44487474, 0.33819565]), array([0.23890631, 0.65682414, 0.10426955]), array([0.24492011, 0.323434  , 0.43164589])]\n"
     ]
    },
    {
     "name": "stderr",
     "output_type": "stream",
     "text": [
      "100%|██████████| 5/5 [00:10<00:00,  2.03s/it]"
     ]
    },
    {
     "name": "stdout",
     "output_type": "stream",
     "text": [
      "Best Dev Perplexity for 4-gram interpolation: 68.77213876857131\n",
      "Best Lambdas for 4-gram interpolation: [0.25965562, 0.68725012, 0.02382144, 0.02927282]\n",
      "lambdas tried: [array([0.45498296, 0.06589417, 0.21360509, 0.26551778]), array([0.03844718, 0.75605557, 0.15112596, 0.0543713 ]), array([0.35570694, 0.40318846, 0.19764879, 0.04345581]), array([0.05228346, 0.58641148, 0.29509582, 0.06620925]), array([0.1999599 , 0.01023681, 0.70220212, 0.08760118])]\n"
     ]
    },
    {
     "name": "stderr",
     "output_type": "stream",
     "text": [
      "\n"
     ]
    }
   ],
   "execution_count": 67
  }
 ],
 "metadata": {
  "kernelspec": {
   "display_name": "Python 3 (ipykernel)",
   "language": "python",
   "name": "python3"
  },
  "language_info": {
   "codemirror_mode": {
    "name": "ipython",
    "version": 3
   },
   "file_extension": ".py",
   "mimetype": "text/x-python",
   "name": "python",
   "nbconvert_exporter": "python",
   "pygments_lexer": "ipython3",
   "version": "3.10.14"
  },
  "colab": {
   "provenance": []
  }
 },
 "nbformat": 4,
 "nbformat_minor": 0
}
