{
 "cells": [
  {
   "cell_type": "markdown",
   "metadata": {},
   "source": [
    "# Project 3b: Natural Language Generation\n",
    "\n",
    "In this part of the homework, you will implement decoding algorithms covered in class -- greedy decoding, random sampling, temperature sampling, top-k sampling, and top-p (nucleus) sampling. You will also learn how to use knowledge distillation to use strong teacher models to improve performance of weaker student models. The knowledge distillation exercise is only mandatory for CSE 547M students\n",
    "\n",
    "*The section on Decoding algorithms is adapted from the code by Jiacheng Liu.*"
   ]
  },
  {
   "cell_type": "markdown",
   "metadata": {},
   "source": [
    "## Section 0: Setup"
   ]
  },
  {
   "cell_type": "code",
   "metadata": {
    "ExecuteTime": {
     "end_time": "2024-12-06T06:40:01.947682Z",
     "start_time": "2024-12-06T06:39:59.369566Z"
    }
   },
   "source": [
    "\"\"\"set device and random seeds\"\"\"\n",
    "\n",
    "######################################################\n",
    "#  The following helper functions are given to you.\n",
    "######################################################\n",
    "import os\n",
    "from tqdm.notebook import tqdm\n",
    "import torch\n",
    "import torch.nn.functional as F\n",
    "\n",
    "device = \"cuda\" if torch.cuda.is_available() else \"cpu\"\n",
    "DEVICE = device\n",
    "print(f\"device: {device}\")\n",
    "\n",
    "\n",
    "def set_seed(seed=19260817):\n",
    "    torch.manual_seed(seed)\n",
    "    torch.cuda.manual_seed_all(seed)\n",
    "    torch.backends.cudnn.deterministic = True\n",
    "    torch.backends.cudnn.benchmark = False\n",
    "\n",
    "\n",
    "set_seed()"
   ],
   "outputs": [
    {
     "name": "stdout",
     "output_type": "stream",
     "text": [
      "device: cuda\n"
     ]
    }
   ],
   "execution_count": 1
  },
  {
   "cell_type": "markdown",
   "metadata": {},
   "source": [
    "### 0.1 Dataset"
   ]
  },
  {
   "cell_type": "code",
   "metadata": {
    "ExecuteTime": {
     "end_time": "2024-12-06T06:40:06.778757Z",
     "start_time": "2024-12-06T06:40:01.978424Z"
    }
   },
   "source": [
    "\"\"\"load datasets\"\"\"\n",
    "\n",
    "######################################################\n",
    "#  The following helper code is given to you.\n",
    "######################################################\n",
    "\n",
    "from datasets import load_dataset\n",
    "\n",
    "dataset = load_dataset(\"Ximing/ROCStories\")\n",
    "train_data, dev_data, test_data = (\n",
    "    dataset[\"train\"],\n",
    "    dataset[\"validation\"],\n",
    "    dataset[\"test\"],\n",
    ")\n",
    "\n",
    "print(train_data[0])"
   ],
   "outputs": [
    {
     "name": "stdout",
     "output_type": "stream",
     "text": [
      "{'story_id': '080198fc-d0e7-42b3-8e63-b2144e59d816', 'prompt': 'On my way to work I stopped to get some coffee.', 'continuation': 'I went through the drive through and placed my order. I paid the cashier and patiently waited for my drink. When she handed me the drink, the lid came off and spilled on me. The coffee hurt and I had to go home and change clothes.', 'constraint_words': ['drive', 'order', 'drink', 'lid', 'coffee', 'hurt', 'home', 'change', 'clothes']}\n"
     ]
    }
   ],
   "execution_count": 2
  },
  {
   "cell_type": "markdown",
   "metadata": {},
   "source": [
    "### 0.2 Evaluation Metrics"
   ]
  },
  {
   "cell_type": "code",
   "metadata": {
    "ExecuteTime": {
     "end_time": "2024-12-06T06:40:11.049675Z",
     "start_time": "2024-12-06T06:40:06.834935Z"
    }
   },
   "source": [
    "\"\"\"prepare evaluation\"\"\"\n",
    "\n",
    "######################################################\n",
    "#  The following helper code is given to you.\n",
    "######################################################\n",
    "\n",
    "from evaluate import load\n",
    "from transformers import RobertaForSequenceClassification, RobertaTokenizer\n",
    "\n",
    "perplexity_scorer = load(\"perplexity\", module_type=\"metric\")\n",
    "cola_model_name = \"textattack/roberta-base-CoLA\"\n",
    "cola_tokenizer = RobertaTokenizer.from_pretrained(cola_model_name)\n",
    "cola_model = RobertaForSequenceClassification.from_pretrained(cola_model_name).to(\n",
    "    device\n",
    ")\n",
    "\n",
    "\n",
    "def batchify(data, batch_size):\n",
    "    assert batch_size > 0\n",
    "\n",
    "    batch = []\n",
    "    for item in data:\n",
    "        # Yield next batch\n",
    "        if len(batch) == batch_size:\n",
    "            yield batch\n",
    "            batch = []\n",
    "\n",
    "        batch.append(item)\n",
    "\n",
    "    # Yield last un-filled batch\n",
    "    if len(batch) != 0:\n",
    "        yield batch"
   ],
   "outputs": [
    {
     "name": "stderr",
     "output_type": "stream",
     "text": [
      "Some weights of the model checkpoint at textattack/roberta-base-CoLA were not used when initializing RobertaForSequenceClassification: ['roberta.pooler.dense.bias', 'roberta.pooler.dense.weight']\n",
      "- This IS expected if you are initializing RobertaForSequenceClassification from the checkpoint of a model trained on another task or with another architecture (e.g. initializing a BertForSequenceClassification model from a BertForPreTraining model).\n",
      "- This IS NOT expected if you are initializing RobertaForSequenceClassification from the checkpoint of a model that you expect to be exactly identical (initializing a BertForSequenceClassification model from a BertForSequenceClassification model).\n"
     ]
    }
   ],
   "execution_count": 3
  },
  {
   "cell_type": "code",
   "metadata": {
    "ExecuteTime": {
     "end_time": "2024-12-06T06:40:11.789451Z",
     "start_time": "2024-12-06T06:40:11.064134Z"
    }
   },
   "source": [
    "\"\"\"set up evaluation metric\"\"\"\n",
    "\n",
    "######################################################\n",
    "#  The following helper code is given to you.\n",
    "######################################################\n",
    "\n",
    "\n",
    "def compute_perplexity(texts, model=\"gpt2\", batch_size=8):\n",
    "    score = perplexity_scorer.compute(\n",
    "        predictions=texts, add_start_token=True, batch_size=batch_size, model_id=model\n",
    "    )\n",
    "    return score[\"mean_perplexity\"]\n",
    "\n",
    "\n",
    "def compute_fluency(texts, batch_size=8):\n",
    "    scores = []\n",
    "    for b_texts in batchify(texts, batch_size):\n",
    "        inputs = cola_tokenizer(\n",
    "            texts, padding=True, truncation=True, return_tensors=\"pt\"\n",
    "        ).to(device)\n",
    "        with torch.no_grad():\n",
    "            logits = cola_model(**inputs).logits\n",
    "            probs = logits.softmax(dim=-1)\n",
    "            scores.extend(probs[:, 1].tolist())\n",
    "    return sum(scores) / len(scores)\n",
    "\n",
    "\n",
    "def compute_diversity(texts):\n",
    "    unigrams, bigrams, trigrams = [], [], []\n",
    "    total_words = 0\n",
    "    for gen in texts:\n",
    "        o = gen.split(\" \")\n",
    "        total_words += len(o)\n",
    "        for i in range(len(o)):\n",
    "            unigrams.append(o[i])\n",
    "        for i in range(len(o) - 1):\n",
    "            bigrams.append(o[i] + \"_\" + o[i + 1])\n",
    "        for i in range(len(o) - 2):\n",
    "            trigrams.append(o[i] + \"_\" + o[i + 1] + \"_\" + o[i + 2])\n",
    "    return (\n",
    "        len(set(unigrams)) / len(unigrams),\n",
    "        len(set(bigrams)) / len(bigrams),\n",
    "        len(set(trigrams)) / len(trigrams),\n",
    "    )\n",
    "\n",
    "\n",
    "def evaluate(generations, experiment):\n",
    "    generations = [_ for _ in generations if _ != \"\"]\n",
    "    perplexity = compute_perplexity(generations)\n",
    "    fluency = compute_fluency(generations)\n",
    "    diversity = compute_diversity(generations)\n",
    "    print(experiment)\n",
    "    print(f\"perplexity = {perplexity:.2f}\")\n",
    "    print(f\"fluency = {fluency:.2f}\")\n",
    "    print(f\"diversity = {diversity[0]:.2f}, {diversity[1]:.2f}, {diversity[2]:.2f}\")\n",
    "    print()\n",
    "\n",
    "\n",
    "debug_sents = [\n",
    "    \"This restaurant is awesome\",\n",
    "    \"My dog is cute and I love it.\",\n",
    "    \"Today is sunny.\",\n",
    "]\n",
    "evaluate(debug_sents, \"debugging run\")"
   ],
   "outputs": [
    {
     "data": {
      "text/plain": [
       "  0%|          | 0/1 [00:00<?, ?it/s]"
      ],
      "application/vnd.jupyter.widget-view+json": {
       "version_major": 2,
       "version_minor": 0,
       "model_id": "697a8e50957b4281a065cf1833ea1f16"
      }
     },
     "metadata": {},
     "output_type": "display_data"
    },
    {
     "name": "stdout",
     "output_type": "stream",
     "text": [
      "debugging run\n",
      "perplexity = 178.64\n",
      "fluency = 0.98\n",
      "diversity = 0.87, 1.00, 1.00\n",
      "\n"
     ]
    }
   ],
   "execution_count": 4
  },
  {
   "cell_type": "markdown",
   "metadata": {},
   "source": [
    "### 0.3: Load Model"
   ]
  },
  {
   "cell_type": "code",
   "metadata": {
    "ExecuteTime": {
     "end_time": "2024-12-06T06:40:12.504530Z",
     "start_time": "2024-12-06T06:40:11.826177Z"
    }
   },
   "source": [
    "\"\"\"load model and tokenizer\"\"\"\n",
    "\n",
    "######################################################\n",
    "#  The following helper code is given to you.\n",
    "######################################################\n",
    "\n",
    "from transformers import GPT2LMHeadModel, GPT2Tokenizer\n",
    "\n",
    "model_name = \"gpt2\"\n",
    "tokenizer = GPT2Tokenizer.from_pretrained(model_name, pad_token=\"<|endoftext|>\")\n",
    "model = GPT2LMHeadModel.from_pretrained(model_name).to(device)\n",
    "model.eval()"
   ],
   "outputs": [
    {
     "data": {
      "text/plain": [
       "GPT2LMHeadModel(\n",
       "  (transformer): GPT2Model(\n",
       "    (wte): Embedding(50257, 768)\n",
       "    (wpe): Embedding(1024, 768)\n",
       "    (drop): Dropout(p=0.1, inplace=False)\n",
       "    (h): ModuleList(\n",
       "      (0-11): 12 x GPT2Block(\n",
       "        (ln_1): LayerNorm((768,), eps=1e-05, elementwise_affine=True)\n",
       "        (attn): GPT2SdpaAttention(\n",
       "          (c_attn): Conv1D(nf=2304, nx=768)\n",
       "          (c_proj): Conv1D(nf=768, nx=768)\n",
       "          (attn_dropout): Dropout(p=0.1, inplace=False)\n",
       "          (resid_dropout): Dropout(p=0.1, inplace=False)\n",
       "        )\n",
       "        (ln_2): LayerNorm((768,), eps=1e-05, elementwise_affine=True)\n",
       "        (mlp): GPT2MLP(\n",
       "          (c_fc): Conv1D(nf=3072, nx=768)\n",
       "          (c_proj): Conv1D(nf=768, nx=3072)\n",
       "          (act): NewGELUActivation()\n",
       "          (dropout): Dropout(p=0.1, inplace=False)\n",
       "        )\n",
       "      )\n",
       "    )\n",
       "    (ln_f): LayerNorm((768,), eps=1e-05, elementwise_affine=True)\n",
       "  )\n",
       "  (lm_head): Linear(in_features=768, out_features=50257, bias=False)\n",
       ")"
      ]
     },
     "execution_count": 5,
     "metadata": {},
     "output_type": "execute_result"
    }
   ],
   "execution_count": 5
  },
  {
   "cell_type": "markdown",
   "metadata": {},
   "source": [
    "## **Section 1: Decoding Algorithms**\n",
    "\n",
    "In this section, you will implement a few basic decoding algorithms:\n",
    "1. Greedy decoding\n",
    "2. Vanilla sampling\n",
    "3. Temperature sampling\n",
    "4. Top-k sampling\n",
    "5. Top-p sampling \n",
    "\n",
    "We have provided a wrapper function `decode()` that takes care of batching, controlling max length, and handling the EOS token.\n",
    "You will be asked to implement the core function of each method: *given the pre-softmax logits of the next token, decide what the next token is.*\n",
    "\n",
    "**The wrapper calls the core function of each decoding algorithm, which you will implement in the subsections below.**"
   ]
  },
  {
   "cell_type": "code",
   "metadata": {
    "ExecuteTime": {
     "end_time": "2024-12-06T06:40:12.524277Z",
     "start_time": "2024-12-06T06:40:12.517497Z"
    }
   },
   "source": [
    "\"\"\"decode main wrapper function\"\"\"\n",
    "\n",
    "######################################################\n",
    "#  The following helper code is given to you.\n",
    "######################################################\n",
    "\n",
    "def _update_model_kwargs_for_generation(\n",
    "    outputs, model_kwargs, is_encoder_decoder: bool = False\n",
    "):\n",
    "    # update past\n",
    "    if \"past_key_values\" in outputs:\n",
    "        model_kwargs[\"past_key_values\"] = outputs.past_key_values\n",
    "    elif \"mems\" in outputs:\n",
    "        model_kwargs[\"past_key_values\"] = outputs.mems\n",
    "    elif \"past_buckets_states\" in outputs:\n",
    "        model_kwargs[\"past_key_values\"] = outputs.past_buckets_states\n",
    "    else:\n",
    "        model_kwargs[\"past_key_values\"] = None\n",
    "\n",
    "    # update token_type_ids with last value\n",
    "    if \"token_type_ids\" in model_kwargs:\n",
    "        token_type_ids = model_kwargs[\"token_type_ids\"]\n",
    "        model_kwargs[\"token_type_ids\"] = torch.cat([token_type_ids, token_type_ids[:, -1].unsqueeze(-1)], dim=-1)\n",
    "\n",
    "    # update attention mask\n",
    "    if not is_encoder_decoder:\n",
    "        if \"attention_mask\" in model_kwargs:\n",
    "            attention_mask = model_kwargs[\"attention_mask\"]\n",
    "            model_kwargs[\"attention_mask\"] = torch.cat(\n",
    "                [attention_mask, attention_mask.new_ones((attention_mask.shape[0], 1))], dim=-1\n",
    "            )\n",
    "\n",
    "    return model_kwargs\n",
    "\n",
    "def decode(prompts, max_len, method, **kwargs):\n",
    "    encodings_dict = tokenizer(prompts, return_tensors=\"pt\", padding=True)\n",
    "    input_ids = encodings_dict[\"input_ids\"].to(device)\n",
    "    attention_mask = encodings_dict[\"attention_mask\"].to(device)\n",
    "\n",
    "    model_kwargs = {\"attention_mask\": attention_mask}\n",
    "    batch_size, input_seq_len = input_ids.shape\n",
    "\n",
    "    unfinished_sequences = torch.ones(batch_size, dtype=torch.long, device=device)\n",
    "\n",
    "    for step in range(max_len):\n",
    "        model_inputs = model.prepare_inputs_for_generation(input_ids, **model_kwargs)\n",
    "        with torch.no_grad():\n",
    "            outputs = model(\n",
    "                **model_inputs,\n",
    "                return_dict=True,\n",
    "                output_attentions=False,\n",
    "                output_hidden_states=False,\n",
    "            )\n",
    "\n",
    "        if step == 0:\n",
    "            last_non_masked_idx = torch.sum(attention_mask, dim=1) - 1\n",
    "            next_token_logits = outputs.logits[\n",
    "                range(batch_size), last_non_masked_idx, :\n",
    "            ]\n",
    "        else:\n",
    "            next_token_logits = outputs.logits[:, -1, :]\n",
    "\n",
    "        log_prob = F.log_softmax(next_token_logits, dim=-1)\n",
    "\n",
    "        if method == \"greedy\":\n",
    "            next_tokens = greedy(next_token_logits)\n",
    "        elif method == \"sample\":\n",
    "            next_tokens = sample(next_token_logits)\n",
    "        elif method == \"temperature\":\n",
    "            next_tokens = temperature(next_token_logits, temperature=kwargs.get(\"temperature\", 0.8))\n",
    "        elif method == \"topk\":\n",
    "            next_tokens = topk(\n",
    "                next_token_logits,\n",
    "                k=kwargs.get(\"k\", 20),\n",
    "                temperature=kwargs.get(\"temperature\", 1.0),\n",
    "            )\n",
    "        elif method == \"topp\":\n",
    "            next_tokens = topp(\n",
    "                next_token_logits,\n",
    "                p=kwargs.get(\"p\", 0.7),\n",
    "                temperature=kwargs.get(\"temperature\", 1.0),\n",
    "            )\n",
    "\n",
    "        # finished sentences should have their next token be a padding token\n",
    "        next_tokens = next_tokens * unfinished_sequences + tokenizer.pad_token_id * (\n",
    "            1 - unfinished_sequences\n",
    "        )\n",
    "\n",
    "        input_ids = torch.cat([input_ids, next_tokens[:, None]], dim=-1)\n",
    "        # model_kwargs[\"attention_mask\"] = torch.cat(\n",
    "        #     [attention_mask, torch.ones_like(next_tokens[:, None])], dim=-1\n",
    "        # )\n",
    "        model_kwargs = _update_model_kwargs_for_generation(\n",
    "            outputs, model_kwargs, is_encoder_decoder=model.config.is_encoder_decoder\n",
    "        )\n",
    "\n",
    "        # model_kwargs = model._update_model_kwargs_for_generation(\n",
    "        #     outputs,\n",
    "        #     model_kwargs,\n",
    "        #     is_encoder_decoder=model.config.is_encoder_decoder,\n",
    "        # )\n",
    "\n",
    "        # if eos_token was found in one sentence, set sentence to finished\n",
    "        unfinished_sequences = unfinished_sequences.mul(\n",
    "            (next_tokens != tokenizer.eos_token_id).long()\n",
    "        )\n",
    "\n",
    "        if unfinished_sequences.max() == 0:\n",
    "            break\n",
    "\n",
    "    response_ids = input_ids[:, input_seq_len:]\n",
    "    response_text = [\n",
    "        tokenizer.decode(\n",
    "            output, skip_special_tokens=True, clean_up_tokenization_spaces=True\n",
    "        )\n",
    "        for output in response_ids\n",
    "    ]\n",
    "\n",
    "    return response_text"
   ],
   "outputs": [],
   "execution_count": 6
  },
  {
   "cell_type": "code",
   "metadata": {
    "ExecuteTime": {
     "end_time": "2024-12-06T06:40:12.561498Z",
     "start_time": "2024-12-06T06:40:12.557996Z"
    }
   },
   "source": [
    "\"\"\"debug helper code\"\"\"\n",
    "\n",
    "######################################################\n",
    "#  The following helper code is given to you.\n",
    "######################################################\n",
    "\n",
    "# For debugging, we duplicate a single prompt 10 times so that we obtain 10 generations for the same prompt\n",
    "dev_prompts = [dev_data[0][\"prompt\"]] * 10\n",
    "\n",
    "\n",
    "def print_generations(prompts, generations):\n",
    "    for prompt, generation in zip(prompts, generations):\n",
    "        print(f\"{[prompt]} ==> {[generation]}\")"
   ],
   "outputs": [],
   "execution_count": 7
  },
  {
   "cell_type": "markdown",
   "metadata": {},
   "source": [
    "### 1.1: Greedy Decoding"
   ]
  },
  {
   "cell_type": "code",
   "metadata": {
    "deletable": false,
    "nbgrader": {
     "cell_type": "code",
     "checksum": "67fa5b2e58c40210fe7eb3f97faae38c",
     "grade": false,
     "grade_id": "cell-105debff5fe08d80",
     "locked": false,
     "schema_version": 3,
     "solution": true,
     "task": false
    },
    "ExecuteTime": {
     "end_time": "2024-12-06T06:40:12.569786Z",
     "start_time": "2024-12-06T06:40:12.567787Z"
    }
   },
   "source": [
    "def greedy(next_token_logits):\n",
    "    \"\"\"\n",
    "    Applies greedy decoding to get the next token.\n",
    "    inputs:\n",
    "    - next_token_logits: Tensor(size = (B, V), dtype = float)\n",
    "    outputs:\n",
    "    - next_tokens: Tensor(size = (B), dtype = long)\n",
    "\n",
    "    \"\"\"\n",
    "    \n",
    "    # YOUR CODE HERE\n",
    "    next_tokens = F.softmax(next_token_logits, dim=-1).argmax(dim=-1)\n",
    "    return next_tokens"
   ],
   "outputs": [],
   "execution_count": 8
  },
  {
   "cell_type": "code",
   "metadata": {
    "ExecuteTime": {
     "end_time": "2024-12-06T06:40:12.736347Z",
     "start_time": "2024-12-06T06:40:12.583024Z"
    }
   },
   "source": [
    "generations = decode(dev_prompts, max_len=20, method=\"greedy\")\n",
    "print_generations(dev_prompts, generations)"
   ],
   "outputs": [
    {
     "name": "stdout",
     "output_type": "stream",
     "text": [
      "['Ryan was called by his friend to skip work one day.'] ==> ['\\n\\n\"I was like, \\'I\\'m going to go to work tomorrow,\\'\" he said.']\n",
      "['Ryan was called by his friend to skip work one day.'] ==> ['\\n\\n\"I was like, \\'I\\'m going to go to work tomorrow,\\'\" he said.']\n",
      "['Ryan was called by his friend to skip work one day.'] ==> ['\\n\\n\"I was like, \\'I\\'m going to go to work tomorrow,\\'\" he said.']\n",
      "['Ryan was called by his friend to skip work one day.'] ==> ['\\n\\n\"I was like, \\'I\\'m going to go to work tomorrow,\\'\" he said.']\n",
      "['Ryan was called by his friend to skip work one day.'] ==> ['\\n\\n\"I was like, \\'I\\'m going to go to work tomorrow,\\'\" he said.']\n",
      "['Ryan was called by his friend to skip work one day.'] ==> ['\\n\\n\"I was like, \\'I\\'m going to go to work tomorrow,\\'\" he said.']\n",
      "['Ryan was called by his friend to skip work one day.'] ==> ['\\n\\n\"I was like, \\'I\\'m going to go to work tomorrow,\\'\" he said.']\n",
      "['Ryan was called by his friend to skip work one day.'] ==> ['\\n\\n\"I was like, \\'I\\'m going to go to work tomorrow,\\'\" he said.']\n",
      "['Ryan was called by his friend to skip work one day.'] ==> ['\\n\\n\"I was like, \\'I\\'m going to go to work tomorrow,\\'\" he said.']\n",
      "['Ryan was called by his friend to skip work one day.'] ==> ['\\n\\n\"I was like, \\'I\\'m going to go to work tomorrow,\\'\" he said.']\n"
     ]
    }
   ],
   "execution_count": 9
  },
  {
   "cell_type": "markdown",
   "metadata": {},
   "source": [
    "### 1.2: Vanilla Sampling and Temperature Sampling"
   ]
  },
  {
   "cell_type": "code",
   "metadata": {
    "deletable": false,
    "nbgrader": {
     "cell_type": "code",
     "checksum": "3bf0eb9b1bd75f68f4deb188543ab1f6",
     "grade": false,
     "grade_id": "cell-e7bd215427887e78",
     "locked": false,
     "schema_version": 3,
     "solution": true,
     "task": false
    },
    "ExecuteTime": {
     "end_time": "2024-12-06T06:40:12.766674Z",
     "start_time": "2024-12-06T06:40:12.763951Z"
    }
   },
   "source": [
    "def sample(next_token_logits):\n",
    "\n",
    "    \"\"\"\n",
    "    inputs:\n",
    "    - next_token_logits: Tensor(size = (B, V), dtype = float)\n",
    "    outputs:\n",
    "    - next_tokens: Tensor(size = (B), dtype = long)\n",
    "\n",
    "    Hint: use torch.multinomial()\n",
    "    \"\"\"\n",
    "\n",
    "    # YOUR CODE HERE\n",
    "    next_tokens = F.softmax(next_token_logits, dim=-1)\n",
    "    next_tokens = torch.multinomial(next_tokens, 1).squeeze(-1)\n",
    "    return next_tokens"
   ],
   "outputs": [],
   "execution_count": 10
  },
  {
   "cell_type": "code",
   "metadata": {
    "ExecuteTime": {
     "end_time": "2024-12-06T06:40:12.937011Z",
     "start_time": "2024-12-06T06:40:12.790755Z"
    }
   },
   "source": [
    "set_seed()\n",
    "generations = decode(dev_prompts, max_len=20, method=\"sample\")\n",
    "print_generations(dev_prompts, generations)"
   ],
   "outputs": [
    {
     "name": "stdout",
     "output_type": "stream",
     "text": [
      "['Ryan was called by his friend to skip work one day.'] ==> ['\\n\\n\"Let\\'s walk through the window,\" the banner states (it didn\\'t say that at']\n",
      "['Ryan was called by his friend to skip work one day.'] ==> [' Tucked inside a basement window, he found a packed pack of cigarettes on a tin counter in the']\n",
      "['Ryan was called by his friend to skip work one day.'] ==> [' He said he wanted to enroll in school next Thursday.\\n\\nPolice said a woman and her child']\n",
      "['Ryan was called by his friend to skip work one day.'] ==> [' The person had taken him on a hike.\\n\\nWas filming normal? Yep, except that the']\n",
      "['Ryan was called by his friend to skip work one day.'] ==> [' Employees of Target were telling him that Garrett wanted to take action on the education rights of low-income']\n",
      "['Ryan was called by his friend to skip work one day.'] ==> [' He heard his friend was in trouble and put on a so-called militia, intending to die,']\n",
      "['Ryan was called by his friend to skip work one day.'] ==> [' In a bit of an odd coincidence, he was engaged to workers at Franz Schoffel, who']\n",
      "['Ryan was called by his friend to skip work one day.'] ==> [' The next morning, he wrote a letter to his employer requesting that he lay off 15 hours of work']\n",
      "['Ryan was called by his friend to skip work one day.'] ==> [' His second time around broke him. The last he went out by himself was in 1991, when he']\n",
      "['Ryan was called by his friend to skip work one day.'] ==> [\" The two met at McDonald's kitchen. They walked into a small restaurant for lunch there. When a\"]\n"
     ]
    }
   ],
   "execution_count": 11
  },
  {
   "cell_type": "code",
   "metadata": {
    "deletable": false,
    "nbgrader": {
     "cell_type": "code",
     "checksum": "03d44ae38fa4e19ee941b97cff6be030",
     "grade": false,
     "grade_id": "cell-9c65b70fb33ce73e",
     "locked": false,
     "schema_version": 3,
     "solution": true,
     "task": false
    },
    "ExecuteTime": {
     "end_time": "2024-12-06T06:40:12.966825Z",
     "start_time": "2024-12-06T06:40:12.963827Z"
    }
   },
   "source": [
    "def temperature(next_token_logits, temperature):\n",
    "    \"\"\"\n",
    "    inputs:\n",
    "    - next_token_logits: Tensor(size = (B, V), dtype = float)\n",
    "    - temperature: Temperature parameter float\n",
    "    outputs:\n",
    "    - next_tokens: Tensor(size = (B), dtype = long)\n",
    "    \"\"\"\n",
    "    # YOUR CODE HERE\n",
    "    return sample(next_token_logits / temperature)"
   ],
   "outputs": [],
   "execution_count": 12
  },
  {
   "cell_type": "code",
   "metadata": {
    "ExecuteTime": {
     "end_time": "2024-12-06T06:40:13.131894Z",
     "start_time": "2024-12-06T06:40:12.996776Z"
    }
   },
   "source": [
    "set_seed()\n",
    "generations = decode(dev_prompts, max_len=20, method=\"temperature\", temperature=0.8)\n",
    "print_generations(dev_prompts, generations)"
   ],
   "outputs": [
    {
     "name": "stdout",
     "output_type": "stream",
     "text": [
      "['Ryan was called by his friend to skip work one day.'] ==> ['\\n\\n\"I told him if I listened to the job, (it would pay him) $']\n",
      "['Ryan was called by his friend to skip work one day.'] ==> [' The hunger strike was held in a tunnel deep beneath Northeast Cleveland, which was hosting a public hearing.']\n",
      "['Ryan was called by his friend to skip work one day.'] ==> [' He said he wanted to enroll in school.\\n\\n\"I didn\\'t feel safe and didn\\'t']\n",
      "['Ryan was called by his friend to skip work one day.'] ==> [' The person had taken him on a hike.\\n\\nWas filming normal?\\n\\nAnyone who saw']\n",
      "['Ryan was called by his friend to skip work one day.'] ==> ['\\n\\n\"I said, \\'Well, how about you head to the cafeteria?\\'\" Williams said.']\n",
      "['Ryan was called by his friend to skip work one day.'] ==> [' He heard his friend was in trouble and was on a business trip.\\n\\nWhen Bremming']\n",
      "['Ryan was called by his friend to skip work one day.'] ==> [' In a conversation with his girlfriend, the former bluesman said that it was \"off the cuff\"']\n",
      "['Ryan was called by his friend to skip work one day.'] ==> [' The next morning, he wrote a letter to his employer requesting that he stay home, according to Yahoo']\n",
      "['Ryan was called by his friend to skip work one day.'] ==> [' His second time around was on a sports team he was playing against and never was able to get a']\n",
      "['Ryan was called by his friend to skip work one day.'] ==> [\" The two met at McDonald's, where he said he was forced to give up work to buy a\"]\n"
     ]
    }
   ],
   "execution_count": 13
  },
  {
   "cell_type": "markdown",
   "metadata": {},
   "source": [
    "### 1.3: Top-k Sampling\n",
    "\n",
    "Useful tips:\n",
    "- Recall that in Top-k sampling, we only sample from the top-k tokens with the highest probabilities. To ensure that we set the logits other than the top-k to be -inf. You can use `float(\"-inf\")` to represent infinity in python.\n",
    "- You will find `torch.topk()` useful for getting the top-k logits and indices. Check out the [documentation](https://pytorch.org/docs/stable/generated/torch.topk.html) for the function for more details.\n",
    "- Do not forget to divide the logits by the temperature before applying softmax."
   ]
  },
  {
   "cell_type": "code",
   "metadata": {
    "deletable": false,
    "nbgrader": {
     "cell_type": "code",
     "checksum": "611732370e1db2672140fc432e6070ef",
     "grade": false,
     "grade_id": "cell-79739f6214d80a0e",
     "locked": false,
     "schema_version": 3,
     "solution": true,
     "task": false
    },
    "ExecuteTime": {
     "end_time": "2024-12-06T06:40:13.163940Z",
     "start_time": "2024-12-06T06:40:13.160392Z"
    }
   },
   "source": [
    "def topk(next_token_logits, k, temperature = 1):\n",
    "\n",
    "    \"\"\"\n",
    "    Applies the top-k sampling decoding algorithm to get the next token.\n",
    "    inputs:\n",
    "    - next_token_logits: Tensor(size = (B, V), dtype = float)\n",
    "    - k: int, the number of top tokens to consider\n",
    "    - temperature: Temperature parameter float\n",
    "    outputs:\n",
    "    - next_tokens: Tensor(size = (B), dtype = long)\n",
    "    \"\"\"\n",
    "    # YOUR CODE HERE\n",
    "    _, sorted_indices = torch.topk(next_token_logits / temperature, k, dim=-1)\n",
    "    mask = torch.zeros_like(next_token_logits).scatter_(1, sorted_indices, 1)\n",
    "    next_token_logits = torch.where(mask == 1, next_token_logits, float('-inf'))\n",
    "    return sample(next_token_logits)"
   ],
   "outputs": [],
   "execution_count": 14
  },
  {
   "cell_type": "code",
   "metadata": {
    "ExecuteTime": {
     "end_time": "2024-12-06T06:40:13.349949Z",
     "start_time": "2024-12-06T06:40:13.188082Z"
    }
   },
   "source": [
    "set_seed()\n",
    "generations = decode(dev_prompts, max_len=20, method=\"topk\", k=20)\n",
    "print_generations(dev_prompts, generations)"
   ],
   "outputs": [
    {
     "name": "stdout",
     "output_type": "stream",
     "text": [
      "['Ryan was called by his friend to skip work one day.'] ==> ['\\n\\n\"I told him if I got to the job, he\\'d tell me to skip lunch']\n",
      "['Ryan was called by his friend to skip work one day.'] ==> [\" The second time, however, he didn't make it because he'd lost interest in his job.\"]\n",
      "['Ryan was called by his friend to skip work one day.'] ==> [' He said he wanted to come home as soon as possible to have coffee, a meal and to do']\n",
      "['Ryan was called by his friend to skip work one day.'] ==> [' The police had taken him on a search warrant that had to be approved as part of the search for']\n",
      "['Ryan was called by his friend to skip work one day.'] ==> ['\\n\\n\"I said, \\'Well, how about you get a job,\\' \" he said,']\n",
      "['Ryan was called by his friend to skip work one day.'] ==> [\" He didn't. But, at night, on a Saturday morning, he would stay awake at a\"]\n",
      "['Ryan was called by his friend to skip work one day.'] ==> [' In a conversation that led to his dismissal, they became good friends. In September 2008, the three']\n",
      "['Ryan was called by his friend to skip work one day.'] ==> [' The next morning, he was arrested and charged with DUI after being charged with driving under the influence.']\n",
      "['Ryan was called by his friend to skip work one day.'] ==> [' His job title was \"Chief Financial Officer.\" He went out into the woods in the spring of 1989']\n",
      "['Ryan was called by his friend to skip work one day.'] ==> [\" The two met at McDonald's, but he said he didn't even notice the waitress. When he\"]\n"
     ]
    }
   ],
   "execution_count": 15
  },
  {
   "cell_type": "markdown",
   "metadata": {},
   "source": [
    "### 1.4: Top-p Sampling"
   ]
  },
  {
   "cell_type": "code",
   "metadata": {
    "deletable": false,
    "nbgrader": {
     "cell_type": "code",
     "checksum": "5ab20a9d9cb6e6c50e109fed344c0b97",
     "grade": false,
     "grade_id": "cell-906fc971403533de",
     "locked": false,
     "schema_version": 3,
     "solution": true,
     "task": false
    },
    "ExecuteTime": {
     "end_time": "2024-12-06T06:40:13.383161Z",
     "start_time": "2024-12-06T06:40:13.378592Z"
    }
   },
   "source": [
    "def topp(next_token_logits, p, temperature = 1):\n",
    "    \"\"\"\n",
    "    Applies the top-p sampling or nucleus sampling decoding algorithm to get the next token.\n",
    "    inputs:\n",
    "    - next_token_logits: Tensor(size = (B, V), dtype = float)\n",
    "    - p: float, the cutoff probability for the top-p sampling\n",
    "    - temperature: Temperature parameter float\n",
    "    outputs:\n",
    "    - next_tokens: Tensor(size = (B), dtype = long)\n",
    "    \"\"\"\n",
    "    \n",
    "    # TODO: Sort the logits in descending order, and compute\n",
    "    # the cumulative probabilities `cum_probs` on the sorted logits\n",
    "    sorted_logits, sorted_indices = torch.sort(next_token_logits / temperature, descending=True, dim=-1)\n",
    "    sorted_probs = F.softmax(sorted_logits, dim=-1)\n",
    "    cum_probs = torch.cumsum(sorted_probs, dim=-1)\n",
    "\n",
    "    # Create a mask to zero out all logits not in top-p\n",
    "    sorted_indices_to_remove = cum_probs > p\n",
    "    sorted_indices_to_remove[:, 1:] = sorted_indices_to_remove[:, :-1].clone()\n",
    "    sorted_indices_to_remove[:, 0] = 0\n",
    "    # Restore mask to original indices\n",
    "    indices_to_remove = sorted_indices_to_remove.scatter(dim=1, index=sorted_indices, src=sorted_indices_to_remove)\n",
    "\n",
    "    # Mask the logits\n",
    "    next_token_logits[indices_to_remove] = float('-inf')\n",
    "\n",
    "    # TODO: Sample from the masked logits\n",
    "    return sample(next_token_logits)"
   ],
   "outputs": [],
   "execution_count": 16
  },
  {
   "cell_type": "code",
   "metadata": {
    "ExecuteTime": {
     "end_time": "2024-12-06T06:40:13.595338Z",
     "start_time": "2024-12-06T06:40:13.407913Z"
    }
   },
   "source": [
    "set_seed()\n",
    "generations = decode(dev_prompts, max_len=20, method=\"topp\", p=0.7)\n",
    "print_generations(dev_prompts, generations)"
   ],
   "outputs": [
    {
     "name": "stdout",
     "output_type": "stream",
     "text": [
      "['Ryan was called by his friend to skip work one day.'] ==> ['\\n\\n\"I told him I had a game plan for my game day and I told him,']\n",
      "['Ryan was called by his friend to skip work one day.'] ==> [' The owner said, \"This is the guy who shot us, who didn\\'t want to do this']\n",
      "['Ryan was called by his friend to skip work one day.'] ==> [\" He said he wanted to skip school one day. He said he didn't want to waste time,\"]\n",
      "['Ryan was called by his friend to skip work one day.'] ==> [' The person had taken him to the hospital.\\n\\nZimmerman said the couple had planned to']\n",
      "['Ryan was called by his friend to skip work one day.'] ==> ['\\n\\n\"I said, \\'Well, how about you get a job,\\' \" Williams said.']\n",
      "['Ryan was called by his friend to skip work one day.'] ==> [\" He didn't follow through with his contract because he wasn't going to get the money, but instead\"]\n",
      "['Ryan was called by his friend to skip work one day.'] ==> [' In a bit of an odd coincidence, he was having a car accident when, in the back seat']\n",
      "['Ryan was called by his friend to skip work one day.'] ==> [' The next morning, he wrote a letter to his employer demanding that he show up at the end of']\n",
      "['Ryan was called by his friend to skip work one day.'] ==> [\" His second time around, he couldn't finish her on time, and she was still too tired to\"]\n",
      "['Ryan was called by his friend to skip work one day.'] ==> [\" The two met at McDonald's, but he said he didn't even notice the waitress. When he\"]\n"
     ]
    }
   ],
   "execution_count": 17
  },
  {
   "cell_type": "markdown",
   "metadata": {},
   "source": [
    "### 1.5: Evaluate!\n",
    "\n",
    "Run the following cell to obtain the evaluation results, which you should include in your writeup.\n",
    "Also don't forget to answer the questions."
   ]
  },
  {
   "cell_type": "code",
   "metadata": {
    "ExecuteTime": {
     "end_time": "2024-12-06T06:40:59.497951Z",
     "start_time": "2024-12-06T06:40:13.629943Z"
    }
   },
   "source": [
    "prompts = [item[\"prompt\"] for item in test_data][:10]\n",
    "GENERATIONS_PER_PROMPT = 10\n",
    "MAX_LEN = 100\n",
    "\n",
    "for experiment in [\"greedy\", \"sample\", \"temperature\", \"topk\", \"topp\"]:\n",
    "    generations = []\n",
    "    for prompt in tqdm(prompts):\n",
    "        generations += decode(\n",
    "            [prompt] * GENERATIONS_PER_PROMPT, max_len=MAX_LEN, method=experiment\n",
    "        )\n",
    "    evaluate(generations, experiment)"
   ],
   "outputs": [
    {
     "data": {
      "text/plain": [
       "  0%|          | 0/10 [00:00<?, ?it/s]"
      ],
      "application/vnd.jupyter.widget-view+json": {
       "version_major": 2,
       "version_minor": 0,
       "model_id": "72f8d48a335944a1b8dbbfb5a1fbb7fb"
      }
     },
     "metadata": {},
     "output_type": "display_data"
    },
    {
     "data": {
      "text/plain": [
       "  0%|          | 0/13 [00:00<?, ?it/s]"
      ],
      "application/vnd.jupyter.widget-view+json": {
       "version_major": 2,
       "version_minor": 0,
       "model_id": "bd4e7dc93e904de9a4decbbf0f61d45b"
      }
     },
     "metadata": {},
     "output_type": "display_data"
    },
    {
     "name": "stdout",
     "output_type": "stream",
     "text": [
      "greedy\n",
      "perplexity = 2.08\n",
      "fluency = 0.78\n",
      "diversity = 0.01, 0.02, 0.03\n",
      "\n"
     ]
    },
    {
     "data": {
      "text/plain": [
       "  0%|          | 0/10 [00:00<?, ?it/s]"
      ],
      "application/vnd.jupyter.widget-view+json": {
       "version_major": 2,
       "version_minor": 0,
       "model_id": "de5283252a86430b8a481334085ab015"
      }
     },
     "metadata": {},
     "output_type": "display_data"
    },
    {
     "data": {
      "text/plain": [
       "  0%|          | 0/13 [00:00<?, ?it/s]"
      ],
      "application/vnd.jupyter.widget-view+json": {
       "version_major": 2,
       "version_minor": 0,
       "model_id": "9e4bd5d866a74626953d8573299de22d"
      }
     },
     "metadata": {},
     "output_type": "display_data"
    },
    {
     "name": "stdout",
     "output_type": "stream",
     "text": [
      "sample\n",
      "perplexity = 68.17\n",
      "fluency = 0.39\n",
      "diversity = 0.44, 0.90, 0.99\n",
      "\n"
     ]
    },
    {
     "data": {
      "text/plain": [
       "  0%|          | 0/10 [00:00<?, ?it/s]"
      ],
      "application/vnd.jupyter.widget-view+json": {
       "version_major": 2,
       "version_minor": 0,
       "model_id": "26d64ae1a5ee4247950331e769c8b215"
      }
     },
     "metadata": {},
     "output_type": "display_data"
    },
    {
     "data": {
      "text/plain": [
       "  0%|          | 0/13 [00:00<?, ?it/s]"
      ],
      "application/vnd.jupyter.widget-view+json": {
       "version_major": 2,
       "version_minor": 0,
       "model_id": "0f669b17f6914ef59a1761ddb247d5e3"
      }
     },
     "metadata": {},
     "output_type": "display_data"
    },
    {
     "name": "stdout",
     "output_type": "stream",
     "text": [
      "temperature\n",
      "perplexity = 15.91\n",
      "fluency = 0.65\n",
      "diversity = 0.31, 0.77, 0.95\n",
      "\n"
     ]
    },
    {
     "data": {
      "text/plain": [
       "  0%|          | 0/10 [00:00<?, ?it/s]"
      ],
      "application/vnd.jupyter.widget-view+json": {
       "version_major": 2,
       "version_minor": 0,
       "model_id": "b7e94e573a3d4354a546c0f4ef87b946"
      }
     },
     "metadata": {},
     "output_type": "display_data"
    },
    {
     "data": {
      "text/plain": [
       "  0%|          | 0/13 [00:00<?, ?it/s]"
      ],
      "application/vnd.jupyter.widget-view+json": {
       "version_major": 2,
       "version_minor": 0,
       "model_id": "f71538445dd5439f85a13149f8ade11e"
      }
     },
     "metadata": {},
     "output_type": "display_data"
    },
    {
     "name": "stdout",
     "output_type": "stream",
     "text": [
      "topk\n",
      "perplexity = 11.86\n",
      "fluency = 0.73\n",
      "diversity = 0.27, 0.74, 0.96\n",
      "\n"
     ]
    },
    {
     "data": {
      "text/plain": [
       "  0%|          | 0/10 [00:00<?, ?it/s]"
      ],
      "application/vnd.jupyter.widget-view+json": {
       "version_major": 2,
       "version_minor": 0,
       "model_id": "5c3f98ac77304a2fb82817f4b3fe2800"
      }
     },
     "metadata": {},
     "output_type": "display_data"
    },
    {
     "data": {
      "text/plain": [
       "  0%|          | 0/13 [00:00<?, ?it/s]"
      ],
      "application/vnd.jupyter.widget-view+json": {
       "version_major": 2,
       "version_minor": 0,
       "model_id": "81e53849009448009e13d9b43b15e69d"
      }
     },
     "metadata": {},
     "output_type": "display_data"
    },
    {
     "name": "stdout",
     "output_type": "stream",
     "text": [
      "topp\n",
      "perplexity = 12.24\n",
      "fluency = 0.71\n",
      "diversity = 0.29, 0.77, 0.95\n",
      "\n"
     ]
    }
   ],
   "execution_count": 18
  },
  {
   "cell_type": "markdown",
   "metadata": {},
   "source": [
    "You should see the following values:\n",
    "\n",
    "- For greedy:\n",
    "perplexity = 2.08\n",
    "fluency = 0.78\n",
    "diversity = 0.01, 0.02, 0.03\n",
    "\n",
    "- For sample:\n",
    "perplexity = 61.54\n",
    "fluency = 0.37\n",
    "diversity = 0.42, 0.89, 0.99\n",
    "\n",
    "- For temperature:\n",
    "perplexity = 16.15\n",
    "fluency = 0.66\n",
    "diversity = 0.31, 0.77, 0.96\n",
    "\n",
    "- For topk:\n",
    "perplexity = 27.46\n",
    "fluency = 0.70\n",
    "diversity = 0.26, 0.74, 0.96\n",
    "\n",
    "- For topp:\n",
    "perplexity = 12.03\n",
    "fluency = 0.72\n",
    "diversity = 0.29, 0.76, 0.95"
   ]
  },
  {
   "cell_type": "markdown",
   "metadata": {},
   "source": [
    "### *Do I always need to use all this code to generate text from a language model?*\n",
    "\n",
    "The exercises above were to help you understand the underlying mechanisms of different decoding methods. In practice, you don't need to implement all these decoding methods from scratch. You can use the `generate()` method in the 🤗 Transformers library to generate text from a language model. Below we provide an example of how to use the `generate()` method to generate text from a language model. Please pay close attention to this especially if you are going to be attempting the optional section (mandatory for masters students) on Knowledge Distillation."
   ]
  },
  {
   "cell_type": "code",
   "metadata": {
    "ExecuteTime": {
     "end_time": "2024-12-06T06:41:00.766025Z",
     "start_time": "2024-12-06T06:40:59.516407Z"
    }
   },
   "source": [
    "from transformers import AutoModelForCausalLM, AutoTokenizer\n",
    "\n",
    "# Step 0: Load a pre-trained language model, and it's the corresponding tokenizer from the Hugging Face model hub\n",
    "model = AutoModelForCausalLM.from_pretrained(\"gpt2\")\n",
    "tokenizer = AutoTokenizer.from_pretrained(\"gpt2\", padding_side=\"left\") # Setting padding_side=left is important when using these models for open ended text generation \n",
    "\n",
    "# Move the model to the device\n",
    "model = model.to(device)\n",
    "\n",
    "example_prompt = \"Once upon a time\"\n",
    "\n",
    "# Step 1: Tokenize the input prompt\n",
    "tokenized_input = tokenizer(example_prompt, return_tensors=\"pt\").to(device)\n",
    "print(\"Tokenizer output:\")\n",
    "print(tokenized_input)\n",
    "print(\"*******************\")\n",
    "\n",
    "# Step 2: Generate text from the model\n",
    "output = model.generate(**tokenized_input, max_new_tokens=100, do_sample=True, top_p=0.9, temperature=1.0,)\n",
    "print(\"Model Generate output:\")\n",
    "print(output)\n",
    "print(\"*******************\")\n",
    "\n",
    "# Step 3: Convert the output ids to text\n",
    "output_text = tokenizer.decode(output[0], skip_special_tokens=True)\n",
    "print(\"Text output:\")\n",
    "print(output_text)\n",
    "print(\"*******************\")\n",
    "# Step 3 (Optional): .generate() returns the model inputs as well. We can ignore that by slicing the output\n",
    "output_text = tokenizer.decode(output[0][len(tokenized_input.input_ids[0]):], skip_special_tokens=True)\n",
    "print(\"Text output (ignoring model inputs):\")\n",
    "print(output_text)\n",
    "print(\"*******************\")"
   ],
   "outputs": [
    {
     "name": "stderr",
     "output_type": "stream",
     "text": [
      "Setting `pad_token_id` to `eos_token_id`:None for open-end generation.\n"
     ]
    },
    {
     "name": "stdout",
     "output_type": "stream",
     "text": [
      "Tokenizer output:\n",
      "{'input_ids': tensor([[7454, 2402,  257,  640]], device='cuda:0'), 'attention_mask': tensor([[1, 1, 1, 1]], device='cuda:0')}\n",
      "*******************\n",
      "Model Generate output:\n",
      "tensor([[ 7454,  2402,   257,   640,    11,   345,   481,   307,   287,   257,\n",
      "           995,   543,   345,   481,   691,   766,   530,   393,   517,   286,\n",
      "            13,   887,   611,   345,   765,   284,  3802,   340,   757,    11,\n",
      "           345,   481,   691,   307,  1498,   284,   766,  1115,   393,  1440,\n",
      "           287,   262,  2003,   526,   357,    36,   527, 10424,    11,   279,\n",
      "            13,  2681,  2014,   198,   198,  1722,   281,  1981,   356,   836,\n",
      "           470,   761,   284,   766,   284,  3802,   656,   257,   995,   286,\n",
      "           477,  1115,   286,   262,  7683, 16055,    11,   475,   644,   338,\n",
      "           517,  1593,   621,   257,  1598,  2000,   318,   257,   880,    12,\n",
      "         24071,  2858,   287,   543,   356,   460,   651,   284,   760,   290,\n",
      "          1254,   530,  1194,   290]], device='cuda:0')\n",
      "*******************\n",
      "Text output:\n",
      "Once upon a time, you will be in a world which you will only see one or more of. But if you want to enter it again, you will only be able to see three or four in the future.\" (Eberhard, p. 27.)\n",
      "\n",
      "As an individual we don't need to see to enter into a world of all three of the Three Brothers, but what's more important than a clear mind is a well-ordered environment in which we can get to know and feel one another and\n",
      "*******************\n",
      "Text output (ignoring model inputs):\n",
      ", you will be in a world which you will only see one or more of. But if you want to enter it again, you will only be able to see three or four in the future.\" (Eberhard, p. 27.)\n",
      "\n",
      "As an individual we don't need to see to enter into a world of all three of the Three Brothers, but what's more important than a clear mind is a well-ordered environment in which we can get to know and feel one another and\n",
      "*******************\n"
     ]
    }
   ],
   "execution_count": 19
  },
  {
   "cell_type": "markdown",
   "metadata": {},
   "source": [
    "Let's go over each of these one by one:\n",
    "\n",
    "- **Step 1:** The `tokenizer()` function takes the input prompt and converts it into a format that the model can understand. This is essentially converting the input prompt into a sequence of tokens. Note that the tokenizer returns a dictionary with the tokenized input ids and attention mask. The `input_ids` are the token ids that the model will use as input. `\"attention_mask`\" is a mask vector that indicates if a particular token corresponds to padding. Padding is extremely important when we are dealing with variable length sequences. Through padding, we can ensure that all the sequences in a batch are of the same size. When feeding sequences with padding to a transformer based model, we need to make sure that the model doesn't attend to the padding tokens. The `attention_mask` is used the tokens that are to be ignored in the attention operation. Note that here since we only used a single input sequence, there was no need of padding and that's why all the attention mask values are 1, i.e. none of the tokens in the sequences should be ignored by attention blocks.\n",
    "\n",
    "- **Step 2:** The `generate()` function takes the tokenized input and generates a sequence of tokens as output. The function takes in a number of arguments, the most important of which are `max_new_tokens` and `do_sample`. The `max_new_tokens` argument specifies the maximum number of new tokens to be generated. The `do_sample` argument is used to turn on sampling, if false, greedy decoding is used. If `do_sample` is set to `True`, then the `top_p` and `temperature` arguments are used to control the sampling process. The `top_p` argument is the value of $p$ parameter for top-p or nucleus sampling and the `temperature` argument is used to control the temperature sampling. Notice that the `generate()` function returns as output a sequence of token ids.\n",
    "\n",
    "- **Step 3:** The `tokenizer.decode` method converts the token ids into text. The `skip_special_tokens=True` argument is used to ignore the special tokens (e.g. start of sequence, end of sequence, padding etc.) that are added by the tokenizer.\n",
    "\n",
    "- **Step 3 (Optional):** The `generate()` function returns the model inputs as well. We can ignore that by slicing the output."
   ]
  },
  {
   "cell_type": "markdown",
   "metadata": {},
   "source": [
    "## [Optional for CSE 447]  **Section 2: Knowledge Distillation**\n",
    "\n",
    "In this part of the homework, we will learn how we can use knowledge distillation from a larger teacher model to a smaller student model. Particularly, we will be focusing on the task of text summarization and using the CNN/Daily Mail dataset. We will use Qwen2.5-1.5B-Instruct as our teacher model, which is a 1.5B parameter decoder-only mode pre-trained on 18T tokens of data and then further fine-tuned to follow instructions to perform different tasks (similar to something like ChatGPT). You can read more about Qwen2.5 models [here](https://qwenlm.github.io/blog/qwen2.5/). For the student model, we will be using the default GPT-2 model, which is a 124M parameter model. \n",
    "\n",
    "Since Qwen2.5-1.5B-Instruct is a much bigger model and trained on a lot of data, it is more capable of generating better summaries as compared to the default GPT-2 model which is a smaller model and has seen less data. Knowledge distillation is a technique to transfer the knowledge of a larger teacher model to a smaller student model. In this way, we can leverage the large amount of data and compute resources used to train the teacher model to improve the performance of the student model.\n",
    "\n",
    "This assignment will also make heavy use of the [🤗 Transformers Library](https://huggingface.co/docs/transformers/index). Don't worry if you are not familiar with the library, we will discuss its usage in detail."
   ]
  },
  {
   "cell_type": "code",
   "metadata": {
    "ExecuteTime": {
     "end_time": "2024-12-06T06:41:00.780261Z",
     "start_time": "2024-12-06T06:41:00.777238Z"
    }
   },
   "source": [
    "# Load packages for this section\n",
    "import os\n",
    "from pprint import pprint\n",
    "from datasets import load_from_disk, Dataset, DatasetDict\n",
    "from transformers import AutoTokenizer, AutoModelForCausalLM\n",
    "from tqdm import tqdm\n"
   ],
   "outputs": [],
   "execution_count": 20
  },
  {
   "cell_type": "markdown",
   "metadata": {},
   "source": [
    "As always, we will start by loading the dataset."
   ]
  },
  {
   "metadata": {
    "ExecuteTime": {
     "end_time": "2024-12-06T06:41:00.793792Z",
     "start_time": "2024-12-06T06:41:00.791284Z"
    }
   },
   "cell_type": "code",
   "source": [
    "# import os\n",
    "# import requests\n",
    "# from zipfile import ZipFile\n",
    "# \n",
    "# # Create the data directory if it doesn't exist\n",
    "# os.makedirs(\"data\", exist_ok=True)\n",
    "# \n",
    "# # Function to download a file\n",
    "# def download_file(url, output_path):\n",
    "#     print(f\"Downloading {url} to {output_path}\")\n",
    "#     response = requests.get(url, stream=True)\n",
    "#     response.raise_for_status()  # Raise an error if the download fails\n",
    "#     with open(output_path, \"wb\") as file:\n",
    "#         for chunk in response.iter_content(chunk_size=8192):\n",
    "#             file.write(chunk)\n",
    "# \n",
    "# # Function to unzip a file\n",
    "# def unzip_file(zip_path, extract_to):\n",
    "#     print(f\"Unzipping {zip_path} into {extract_to}\")\n",
    "#     with ZipFile(zip_path, \"r\") as zip_ref:\n",
    "#         zip_ref.extractall(extract_to)\n",
    "# \n",
    "# # Define the dataset URLs and file paths\n",
    "# datasets = [\n",
    "#     (\"https://homes.cs.washington.edu/~kahuja/cse447/project3/data/cnn_dm_cse447_dataset.hf.zip\", \n",
    "#      \"data/cnn_dm_cse447_dataset.hf.zip\"),\n",
    "#     (\"https://homes.cs.washington.edu/~kahuja/cse447/project3/data/kd_dataset.hf.zip\", \n",
    "#      \"data/kd_dataset.hf.zip\")\n",
    "# ]\n",
    "# \n",
    "# # Download and unzip the datasets\n",
    "# for url, file_path in datasets:\n",
    "#     download_file(url, file_path)\n",
    "#     unzip_file(file_path, \"data/\")"
   ],
   "outputs": [],
   "execution_count": 21
  },
  {
   "cell_type": "code",
   "metadata": {
    "ExecuteTime": {
     "end_time": "2024-12-06T06:41:00.825967Z",
     "start_time": "2024-12-06T06:41:00.804324Z"
    }
   },
   "source": [
    "######################################################\n",
    "#  The following code is given to you. DO NOT MODIFY.\n",
    "######################################################\n",
    "parent_dir = os.path.dirname(os.path.abspath(\"__file__\"))\n",
    "data_dir = os.path.join(parent_dir, \"data\")\n",
    "cnn_dm_cse447_dataset = load_from_disk(os.path.join(data_dir, \"cnn_dm_cse447_dataset.hf\"))\n",
    "cnn_dm_cse447_dataset"
   ],
   "outputs": [
    {
     "data": {
      "text/plain": [
       "DatasetDict({\n",
       "    train: Dataset({\n",
       "        features: ['article', 'summary'],\n",
       "        num_rows: 10000\n",
       "    })\n",
       "    val: Dataset({\n",
       "        features: ['article', 'summary'],\n",
       "        num_rows: 1000\n",
       "    })\n",
       "    test: Dataset({\n",
       "        features: ['article', 'summary'],\n",
       "        num_rows: 1000\n",
       "    })\n",
       "})"
      ]
     },
     "execution_count": 22,
     "metadata": {},
     "output_type": "execute_result"
    }
   ],
   "execution_count": 22
  },
  {
   "cell_type": "code",
   "metadata": {
    "ExecuteTime": {
     "end_time": "2024-12-06T06:41:00.863281Z",
     "start_time": "2024-12-06T06:41:00.859259Z"
    }
   },
   "source": [
    "# Preview the dataset\n",
    "print(\"Full article:\")\n",
    "pprint(cnn_dm_cse447_dataset[\"val\"][0][\"article\"])\n",
    "print(\"\\n\\n\")\n",
    "print(\"Gold summary:\")\n",
    "pprint(cnn_dm_cse447_dataset[\"val\"][0][\"summary\"])"
   ],
   "outputs": [
    {
     "name": "stdout",
     "output_type": "stream",
     "text": [
      "Full article:\n",
      "('(CNN)French striker Bafetimbi Gomis, who has a history of fainting, said he '\n",
      " 'is now \"feeling well\" after collapsing during Swansea\\'s 3-2 loss at '\n",
      " 'Tottenham in the Premier League on Wednesday. The worrying incident occurred '\n",
      " 'in the first half at White Hart Lane -- after Tottenham scored in the '\n",
      " 'seventh minute -- but the 29-year-old left the pitch conscious following '\n",
      " 'about five minutes of treatment. The Guardian added that he was wearing an '\n",
      " 'oxygen mask. Play was temporarily stopped before resuming. As the match '\n",
      " 'progressed, Swansea tweeted that Gomis was \"fine,\" with manager Garry Monk '\n",
      " \"using the same word to describe Gomis' condition. Gomis spent the night in \"\n",
      " 'hospital as a precaution, Swansea said on its website. \"I wanted to reassure '\n",
      " 'you concerning my health,\" Gomis told the website. \"It actually looks much '\n",
      " 'scarier than it is physically dangerous, and I am feeling well now. \"I have '\n",
      " \"been under a great deal of stress and fatigue due to my father's health, \"\n",
      " 'which requires me to go back and forth from France. \"I was disappointed that '\n",
      " \"I couldn't help my team tonight, but now everything is back in order. I also \"\n",
      " 'want to thank everyone for their support and get well messages.\" Gomis had '\n",
      " 'similar fainting spells in France, which prompted the president of his '\n",
      " 'former club, Jean-Michel Aulas of Lyon, to tell French television in 2009: '\n",
      " '\"We can\\'t not be worried, it scares you each time.\" Swansea ran tests on '\n",
      " 'Gomis, said Monk, prior to signing him on a free transfer last July. \"He '\n",
      " 'just has a little bit of low blood pressure which causes you a little bit of '\n",
      " 'problems,\" Monk said in a televised interview on Sky. \"It\\'s been part of '\n",
      " \"his life. We were well aware of that when we signed him. He's done all the \"\n",
      " \"hospital checks and all the medical checks you can possibly do and it's just \"\n",
      " 'part of his life. \"It\\'s no problems whatsoever. It\\'s not as serious as it '\n",
      " 'looks.\" Gomis has scored two league goals for Swansea this season, mostly in '\n",
      " \"a backup role. He became the Welsh side's top striker when Wilfried Bony \"\n",
      " 'signed with Manchester City in January. Almost exactly three years ago at '\n",
      " 'White Hart Lane, then Bolton midfielder Fabrice Muamba collapsed after '\n",
      " 'suffering a cardiac arrest. He was near death,  according to Bolton, but '\n",
      " 'survived after being treated at the London Chest Hospital. He subsequently '\n",
      " 'retired. Other footballers, including Cameroon international Marc-Vivien Foe '\n",
      " \"in 2003 and Spanish international Antonio Puerta in 2007, didn't survive \"\n",
      " 'after collapsing on the pitch.')\n",
      "\n",
      "\n",
      "\n",
      "Gold summary:\n",
      "('Bafetimbi Gomis collapses within 10 minutes of kickoff at Tottenham .\\n'\n",
      " 'But he reportedly left the pitch conscious and wearing an oxygen mask .\\n'\n",
      " 'Gomis later said that he was \"feeling well\"\\n'\n",
      " 'The incident came three years after Fabrice Muamba collapsed at White Hart '\n",
      " 'Lane .')\n"
     ]
    }
   ],
   "execution_count": 23
  },
  {
   "cell_type": "markdown",
   "metadata": {},
   "source": [
    "### 2.1: Student Model\n",
    "\n",
    "In this exercise we will try to understand how well the student model i.e. GPT-2 does on the summarizaion task out of box. In later exercises we will try to improve the performance of the student model using knowledge distillation."
   ]
  },
  {
   "cell_type": "markdown",
   "metadata": {},
   "source": [
    "We start by loading the student model and tokenizer."
   ]
  },
  {
   "cell_type": "code",
   "metadata": {
    "ExecuteTime": {
     "end_time": "2024-12-06T06:41:01.539157Z",
     "start_time": "2024-12-06T06:41:00.908002Z"
    }
   },
   "source": [
    "######################################################\n",
    "#  The following code is given to you. DO NOT MODIFY.\n",
    "######################################################\n",
    "from transformers import AutoModelForCausalLM, AutoTokenizer\n",
    "\n",
    "student_model = AutoModelForCausalLM.from_pretrained(\"gpt2\")\n",
    "student_tokenizer = AutoTokenizer.from_pretrained(\"gpt2\", padding_side=\"left\")\n",
    "\n",
    "student_model = student_model.to(device)\n",
    "student_tokenizer.pad_token_id = student_tokenizer.eos_token_id\n",
    "student_model"
   ],
   "outputs": [
    {
     "data": {
      "text/plain": [
       "GPT2LMHeadModel(\n",
       "  (transformer): GPT2Model(\n",
       "    (wte): Embedding(50257, 768)\n",
       "    (wpe): Embedding(1024, 768)\n",
       "    (drop): Dropout(p=0.1, inplace=False)\n",
       "    (h): ModuleList(\n",
       "      (0-11): 12 x GPT2Block(\n",
       "        (ln_1): LayerNorm((768,), eps=1e-05, elementwise_affine=True)\n",
       "        (attn): GPT2SdpaAttention(\n",
       "          (c_attn): Conv1D(nf=2304, nx=768)\n",
       "          (c_proj): Conv1D(nf=768, nx=768)\n",
       "          (attn_dropout): Dropout(p=0.1, inplace=False)\n",
       "          (resid_dropout): Dropout(p=0.1, inplace=False)\n",
       "        )\n",
       "        (ln_2): LayerNorm((768,), eps=1e-05, elementwise_affine=True)\n",
       "        (mlp): GPT2MLP(\n",
       "          (c_fc): Conv1D(nf=3072, nx=768)\n",
       "          (c_proj): Conv1D(nf=768, nx=3072)\n",
       "          (act): NewGELUActivation()\n",
       "          (dropout): Dropout(p=0.1, inplace=False)\n",
       "        )\n",
       "      )\n",
       "    )\n",
       "    (ln_f): LayerNorm((768,), eps=1e-05, elementwise_affine=True)\n",
       "  )\n",
       "  (lm_head): Linear(in_features=768, out_features=50257, bias=False)\n",
       ")"
      ]
     },
     "execution_count": 24,
     "metadata": {},
     "output_type": "execute_result"
    }
   ],
   "execution_count": 24
  },
  {
   "cell_type": "markdown",
   "metadata": {},
   "source": [
    "Notice GPT-2 is a decoder-only model and has 12 layers. This is the smallest model in the GPT-2 family i.e. with only 124M parameters."
   ]
  },
  {
   "cell_type": "markdown",
   "metadata": {},
   "source": [
    "### 2.1.1 Preparing Data for Student Model\n",
    "\n",
    "Our student model is a language model and inherently a language model's job is to predict continuations of a sequence by predicting one token at a time. To perform specific tasks like summarization using language models, we need to prepare the data in such a format such that the possible continuation of the sequence is the output we want i.e. in this case the summary of the article.\n",
    "\n",
    "The GPT-2 paper found adding the TL;DR to the end of the article helps the model in generating better summaries. Implement the `prepare_articles` function that adds the string `\"\\nTL;DR:\"` to the end of each input articles and then tokenizes the articles.\n",
    "\n",
    "Useful tips:\n",
    "- While tokenizing the articles, by calling `tokenizer()` make sure to set `padding=\"max_length\"`, `truncation=True`, and `max_length=max_len`  so that the articles are padded to the same length and truncated if they are longer than the maximum length. Also, make sure to set `return_tensors=\"pt\"` so that the output is a PyTorch tensor."
   ]
  },
  {
   "cell_type": "code",
   "metadata": {
    "deletable": false,
    "nbgrader": {
     "cell_type": "code",
     "checksum": "2b5a322ee8328a5a2d0bc97cf93cd0dd",
     "grade": false,
     "grade_id": "cell-0f3b37e5baff721d",
     "locked": false,
     "schema_version": 3,
     "solution": true,
     "task": false
    },
    "ExecuteTime": {
     "end_time": "2024-12-06T06:41:01.570846Z",
     "start_time": "2024-12-06T06:41:01.567343Z"
    }
   },
   "source": [
    "def prepare_articles_for_student_model(articles, student_tokenizer, max_len=1024):\n",
    "\n",
    "    \"\"\"\n",
    "    Processes and tokenizes articles into a format that can be used for summarization by the student model\n",
    "    and then tokenizes the articles using the student tokenizer.\n",
    "    \n",
    "    Inputs:\n",
    "    - articles: A list of articles to be summarized.\n",
    "    - student_tokenizer: The tokenizer to use for tokenizing the articles.\n",
    "    - max_len: The maximum length of the articles.\n",
    "    \n",
    "    Returns:\n",
    "    - tokenized_articles: A dictionary containing the input ids and attention mask of the tokenized articles.\n",
    "    \"\"\"\n",
    "    tokenized_articles = [article + \"\\nTL;DR:\" for article in articles]\n",
    "    tokenized_articles = student_tokenizer(\n",
    "        tokenized_articles,\n",
    "        padding=\"max_length\",\n",
    "        truncation=True,\n",
    "        max_length=max_len,\n",
    "        return_tensors=\"pt\",\n",
    "    )\n",
    "    return tokenized_articles"
   ],
   "outputs": [],
   "execution_count": 25
  },
  {
   "cell_type": "code",
   "metadata": {
    "ExecuteTime": {
     "end_time": "2024-12-06T06:41:01.811124Z",
     "start_time": "2024-12-06T06:41:01.592500Z"
    }
   },
   "source": [
    "######################################################\n",
    "#  The following code is given to you. DO NOT MODIFY.\n",
    "######################################################\n",
    "\n",
    "\n",
    "def test_prepare_articles_for_student_model():\n",
    "    # Setup\n",
    "    student_tokenizer = AutoTokenizer.from_pretrained(\"gpt2\", padding_side=\"left\")\n",
    "    student_tokenizer.pad_token_id = student_tokenizer.eos_token_id\n",
    "\n",
    "    # Test 1: Basic functionality\n",
    "    articles = [\"This is a test article.\"]\n",
    "    output = prepare_articles_for_student_model(articles, student_tokenizer)\n",
    "    print(output[:10])\n",
    "    assert \"input_ids\" in output, \"Output should contain input_ids\"\n",
    "    assert \"attention_mask\" in output, \"Output should contain attention_mask\"\n",
    "    assert torch.is_tensor(output[\"input_ids\"]), \"input_ids should be a tensor\"\n",
    "    assert torch.is_tensor(\n",
    "        output[\"attention_mask\"]\n",
    "    ), \"attention_mask should be a tensor\"\n",
    "\n",
    "    # Test 2: Multiple articles\n",
    "    articles = [\"First article.\", \"Second article.\", \"Third article.\"]\n",
    "    output = prepare_articles_for_student_model(articles, student_tokenizer)\n",
    "    print(output)\n",
    "    assert (\n",
    "        output[\"input_ids\"].shape[0] == 3\n",
    "    ), \"Batch size should match number of articles\"\n",
    "    assert (\n",
    "        output[\"attention_mask\"].shape[0] == 3\n",
    "    ), \"Batch size should match number of articles\"\n",
    "\n",
    "    # Test 3: TL;DR addition\n",
    "    articles = [\"Test article.\"]\n",
    "    output = prepare_articles_for_student_model(articles, student_tokenizer)\n",
    "    decoded = student_tokenizer.decode(output[\"input_ids\"][0], skip_special_tokens=True)\n",
    "    assert \"TL;DR:\" in decoded, \"TL;DR: should be added to the article\"\n",
    "    assert decoded == \"Test article.\\nTL;DR:\", \"Article format should be correct\"\n",
    "\n",
    "    # Test 4: Padding and truncation\n",
    "    long_article = \"This is a very \" * 1000  # Create a very long article\n",
    "    short_article = \"Short.\"\n",
    "    articles = [long_article, short_article]\n",
    "    output = prepare_articles_for_student_model(articles, student_tokenizer)\n",
    "    assert (\n",
    "        output[\"input_ids\"].shape[1] == 1024\n",
    "    ), \"Should be padded/truncated to max length\"\n",
    "    assert (output[\"attention_mask\"][1] == 0).any(), \"Short article should have padding\"\n",
    "    print(\"All tests passed!\")\n",
    "\n",
    "test_prepare_articles_for_student_model()\n",
    "######################################################"
   ],
   "outputs": [
    {
     "name": "stdout",
     "output_type": "stream",
     "text": [
      "[Encoding(num_tokens=1024, attributes=[ids, type_ids, tokens, offsets, attention_mask, special_tokens_mask, overflowing])]\n",
      "{'input_ids': tensor([[50256, 50256, 50256,  ...,    26,  7707,    25],\n",
      "        [50256, 50256, 50256,  ...,    26,  7707,    25],\n",
      "        [50256, 50256, 50256,  ...,    26,  7707,    25]]), 'attention_mask': tensor([[0, 0, 0,  ..., 1, 1, 1],\n",
      "        [0, 0, 0,  ..., 1, 1, 1],\n",
      "        [0, 0, 0,  ..., 1, 1, 1]])}\n",
      "All tests passed!\n"
     ]
    }
   ],
   "execution_count": 26
  },
  {
   "cell_type": "markdown",
   "metadata": {},
   "source": [
    "### 2.1.2 Summarizing with Student Model\n",
    "\n",
    "Use the `generate()` method to generate summaries from the student model. Refer to the end of the Section 1 of the notebook for an example of how to use the `generate()` method. You can also learn more about the `generate()` method [here](https://huggingface.co/docs/transformers/en/main_classes/text_generation#transformers.GenerationMixin.generate).\n",
    "\n",
    "Helpful tips:\n",
    "- Instead of generating summaries one by one, we recommend generating summaries in batches to speed up the process."
   ]
  },
  {
   "cell_type": "code",
   "metadata": {
    "deletable": false,
    "nbgrader": {
     "cell_type": "code",
     "checksum": "6f8ae69bf3416a6f4160e68259fbaafc",
     "grade": false,
     "grade_id": "cell-d987ea61d6ff75c8",
     "locked": false,
     "schema_version": 3,
     "solution": true,
     "task": false
    },
    "ExecuteTime": {
     "end_time": "2024-12-06T06:41:01.841735Z",
     "start_time": "2024-12-06T06:41:01.837481Z"
    }
   },
   "source": [
    "def summarize_wth_student_model(\n",
    "    articles,\n",
    "    student_model,\n",
    "    student_tokenizer,\n",
    "    batch_size=8,\n",
    "    max_new_tokens=100,\n",
    "    do_sample=True,\n",
    "    p=0.9,\n",
    "    temperature=1.0,\n",
    "    device=\"cuda\",\n",
    "):\n",
    "\n",
    "    \"\"\"\n",
    "    Generates a list of summaries for a list of articles using the student model.\n",
    "    \n",
    "    Inputs:\n",
    "    - articles: A list of articles to be summarized.\n",
    "    - student_model: The student model to use for summarization.\n",
    "    - student_tokenizer: The tokenizer corresponding to the student model.\n",
    "    - batch_size: The batch size to use for summarization.\n",
    "    - max_new_tokens: The maximum number of new tokens to generate.\n",
    "    - do_sample: Whether to use sampling or greedy decoding.\n",
    "    - p: The p parameter for top-p sampling.\n",
    "    - temperature: The temperature for sampling.\n",
    "    \n",
    "    Returns:\n",
    "    - summaries: A list of summaries for the articles.\n",
    "    \"\"\"\n",
    "\n",
    "    student_model.eval()\n",
    "    summaries = []\n",
    "    with torch.no_grad():\n",
    "        for i in tqdm(range(0, len(articles), batch_size)):\n",
    "            # TODO: Tokenize the batch of articles\n",
    "            tokenized_articles = prepare_articles_for_student_model(articles[i:i+batch_size], student_tokenizer)\n",
    "\n",
    "            # Move the data to the device\n",
    "            tokenized_articles = {\n",
    "                key: value.to(device) for key, value in tokenized_articles.items()\n",
    "            }\n",
    "\n",
    "            # TODO: Generate summaries from the model using the .generate method\n",
    "            generated_summaries = student_model.generate(\n",
    "                tokenized_articles[\"input_ids\"],\n",
    "                attention_mask=tokenized_articles[\"attention_mask\"],\n",
    "                max_new_tokens=max_new_tokens,\n",
    "                do_sample=do_sample,\n",
    "                top_p=p,\n",
    "                temperature=temperature,\n",
    "                pad_token_id=student_tokenizer.pad_token_id,\n",
    "                eos_token_id=student_tokenizer.eos_token_id\n",
    "            )\n",
    "            generated_summaries = generated_summaries[:, tokenized_articles[\"input_ids\"].shape[1]:]\n",
    "\n",
    "            # TODO: Convert the generated summaries to text. Hint: Use the `batch_decode` method of the tokenizer.\n",
    "            # Make sure to only decode the generated tokens, i.e., ignore the input tokens.\n",
    "            # Also, make sure to set `skip_special_tokens=True` to ignore the special tokens.\n",
    "            decoded_summaries = student_tokenizer.batch_decode(generated_summaries, skip_special_tokens=True)\n",
    "           \n",
    "            # Add the decoded summaries to the list\n",
    "            summaries.extend(decoded_summaries)\n",
    "\n",
    "    return summaries"
   ],
   "outputs": [],
   "execution_count": 27
  },
  {
   "cell_type": "code",
   "metadata": {
    "ExecuteTime": {
     "end_time": "2024-12-06T06:41:07.691580Z",
     "start_time": "2024-12-06T06:41:01.860460Z"
    }
   },
   "source": [
    "def test_summarize_wth_student_model():\n",
    "    # Test 1: Basic functionality\n",
    "    articles = [\"This is a test article about AI.\"]\n",
    "    summaries = summarize_wth_student_model(\n",
    "        articles, student_model, student_tokenizer, device=device\n",
    "    )\n",
    "    assert isinstance(summaries, list), \"Output should be a list\"\n",
    "    assert len(summaries) == len(articles), \"Should generate one summary per article\"\n",
    "    assert isinstance(summaries[0], str), \"Each summary should be a string\"\n",
    "    assert len(summaries[0]) > 0, \"Summaries should not be empty\"\n",
    "\n",
    "    # Test 2: Batch processing\n",
    "    articles = [\n",
    "        \"First article.\",\n",
    "        \"Second article.\",\n",
    "        \"Third article.\",\n",
    "    ] * 4  # 12 articles\n",
    "    batch_size = 4\n",
    "    summaries = summarize_wth_student_model(\n",
    "        articles, student_model, student_tokenizer, batch_size=batch_size, device=device\n",
    "    )\n",
    "    assert len(summaries) == len(articles), \"Should generate summary for each article\"\n",
    "\n",
    "    # Test 3: Generation parameters\n",
    "    articles = [\n",
    "        \"Test article for parameter checking.\",\n",
    "        \"Test article for parameter checking.\",\n",
    "    ]\n",
    "    # Test with different generation parameters\n",
    "    summaries_greedy = summarize_wth_student_model(\n",
    "        articles, student_model, student_tokenizer, do_sample=False, device=device\n",
    "    )\n",
    "    summaries_sampling = summarize_wth_student_model(\n",
    "        articles,\n",
    "        student_model,\n",
    "        student_tokenizer,\n",
    "        do_sample=True,\n",
    "        p=0.9,\n",
    "        temperature=0.7,\n",
    "        device=device,\n",
    "    )\n",
    "\n",
    "    assert summaries_greedy[0] == summaries_greedy[1], \"Greedy decoding should give the same result\"\n",
    "    assert (\n",
    "        summaries_sampling[0] != summaries_sampling[1]\n",
    "    ), \"Sampling should give different results\"\n",
    "\n",
    "    # Test 4: Check only generated tokens are in summary\n",
    "    article = \"This is a test article about artificial intelligence. It contains specific phrases that should not appear in the summary unless generated.\"\n",
    "    summaries = summarize_wth_student_model(\n",
    "        [article], student_model, student_tokenizer, device=device\n",
    "    )\n",
    "    # Verify the input article text isn't in the summary\n",
    "    assert article not in summaries[0], \"Summary should not contain the input article\"\n",
    "\n",
    "    # Test 5: Check for special tokens in output\n",
    "    articles = [\"Test article for special token checking.\"]\n",
    "    summaries = summarize_wth_student_model(\n",
    "        articles, student_model, student_tokenizer, device=device\n",
    "    )\n",
    "\n",
    "    # Check if any special tokens exist in the summary\n",
    "    for special_token in student_tokenizer.all_special_tokens:\n",
    "        assert (\n",
    "            special_token not in summaries[0]\n",
    "        ), f\"Summary contains special token: {special_token}\"\n",
    "    print(\"All tests passed!\")\n",
    "\n",
    "test_summarize_wth_student_model()"
   ],
   "outputs": [
    {
     "name": "stderr",
     "output_type": "stream",
     "text": [
      "  0%|          | 0/1 [00:00<?, ?it/s]This is a friendly reminder - the current text generation call will exceed the model's predefined maximum length (1024). Depending on the model, you may observe exceptions, performance degradation, or nothing at all.\n",
      "100%|██████████| 1/1 [00:00<00:00,  1.41it/s]\n",
      "100%|██████████| 3/3 [00:02<00:00,  1.29it/s]\n",
      "  0%|          | 0/1 [00:00<?, ?it/s]C:\\Users\\Rohan Mukherjee\\AppData\\Roaming\\Python\\Python312\\site-packages\\transformers\\generation\\configuration_utils.py:595: UserWarning: `do_sample` is set to `False`. However, `top_p` is set to `0.9` -- this flag is only used in sample-based generation modes. You should set `do_sample=True` or unset `top_p`.\n",
      "  warnings.warn(\n",
      "100%|██████████| 1/1 [00:00<00:00,  1.48it/s]\n",
      "100%|██████████| 1/1 [00:00<00:00,  1.43it/s]\n",
      "100%|██████████| 1/1 [00:00<00:00,  1.44it/s]\n",
      "100%|██████████| 1/1 [00:00<00:00,  1.40it/s]"
     ]
    },
    {
     "name": "stdout",
     "output_type": "stream",
     "text": [
      "All tests passed!\n"
     ]
    },
    {
     "name": "stderr",
     "output_type": "stream",
     "text": [
      "\n"
     ]
    }
   ],
   "execution_count": 28
  },
  {
   "cell_type": "markdown",
   "metadata": {},
   "source": [
    "Let's generate summaries for the validation set using the student model."
   ]
  },
  {
   "metadata": {
    "ExecuteTime": {
     "end_time": "2024-12-06T06:42:47.525923Z",
     "start_time": "2024-12-06T06:41:07.734996Z"
    }
   },
   "cell_type": "code",
   "source": [
    "set_seed()\n",
    "pred_summaries = summarize_wth_student_model(\n",
    "    cnn_dm_cse447_dataset[\"val\"][\"article\"],\n",
    "    student_model,\n",
    "    student_tokenizer,\n",
    "    p=0.9,\n",
    "    temperature=1.0,\n",
    "    device=\"cuda\"\n",
    ")"
   ],
   "outputs": [
    {
     "name": "stderr",
     "output_type": "stream",
     "text": [
      "100%|██████████| 125/125 [01:39<00:00,  1.25it/s]\n"
     ]
    }
   ],
   "execution_count": 29
  },
  {
   "cell_type": "code",
   "metadata": {
    "ExecuteTime": {
     "end_time": "2024-12-06T06:42:47.545203Z",
     "start_time": "2024-12-06T06:42:47.541743Z"
    }
   },
   "source": [
    "# Inspect the summaries\n",
    "print(\"Article:\")\n",
    "pprint(cnn_dm_cse447_dataset[\"val\"][0][\"article\"])\n",
    "print(\"***********************\\n\\n\")\n",
    "print(\"Generated summary:\")\n",
    "pprint(pred_summaries[0])\n",
    "print(\"***********************\\n\\n\")\n",
    "print(\"Gold summary:\")\n",
    "pprint(cnn_dm_cse447_dataset[\"val\"][0][\"summary\"])\n"
   ],
   "outputs": [
    {
     "name": "stdout",
     "output_type": "stream",
     "text": [
      "Article:\n",
      "('(CNN)French striker Bafetimbi Gomis, who has a history of fainting, said he '\n",
      " 'is now \"feeling well\" after collapsing during Swansea\\'s 3-2 loss at '\n",
      " 'Tottenham in the Premier League on Wednesday. The worrying incident occurred '\n",
      " 'in the first half at White Hart Lane -- after Tottenham scored in the '\n",
      " 'seventh minute -- but the 29-year-old left the pitch conscious following '\n",
      " 'about five minutes of treatment. The Guardian added that he was wearing an '\n",
      " 'oxygen mask. Play was temporarily stopped before resuming. As the match '\n",
      " 'progressed, Swansea tweeted that Gomis was \"fine,\" with manager Garry Monk '\n",
      " \"using the same word to describe Gomis' condition. Gomis spent the night in \"\n",
      " 'hospital as a precaution, Swansea said on its website. \"I wanted to reassure '\n",
      " 'you concerning my health,\" Gomis told the website. \"It actually looks much '\n",
      " 'scarier than it is physically dangerous, and I am feeling well now. \"I have '\n",
      " \"been under a great deal of stress and fatigue due to my father's health, \"\n",
      " 'which requires me to go back and forth from France. \"I was disappointed that '\n",
      " \"I couldn't help my team tonight, but now everything is back in order. I also \"\n",
      " 'want to thank everyone for their support and get well messages.\" Gomis had '\n",
      " 'similar fainting spells in France, which prompted the president of his '\n",
      " 'former club, Jean-Michel Aulas of Lyon, to tell French television in 2009: '\n",
      " '\"We can\\'t not be worried, it scares you each time.\" Swansea ran tests on '\n",
      " 'Gomis, said Monk, prior to signing him on a free transfer last July. \"He '\n",
      " 'just has a little bit of low blood pressure which causes you a little bit of '\n",
      " 'problems,\" Monk said in a televised interview on Sky. \"It\\'s been part of '\n",
      " \"his life. We were well aware of that when we signed him. He's done all the \"\n",
      " \"hospital checks and all the medical checks you can possibly do and it's just \"\n",
      " 'part of his life. \"It\\'s no problems whatsoever. It\\'s not as serious as it '\n",
      " 'looks.\" Gomis has scored two league goals for Swansea this season, mostly in '\n",
      " \"a backup role. He became the Welsh side's top striker when Wilfried Bony \"\n",
      " 'signed with Manchester City in January. Almost exactly three years ago at '\n",
      " 'White Hart Lane, then Bolton midfielder Fabrice Muamba collapsed after '\n",
      " 'suffering a cardiac arrest. He was near death,  according to Bolton, but '\n",
      " 'survived after being treated at the London Chest Hospital. He subsequently '\n",
      " 'retired. Other footballers, including Cameroon international Marc-Vivien Foe '\n",
      " \"in 2003 and Spanish international Antonio Puerta in 2007, didn't survive \"\n",
      " 'after collapsing on the pitch.')\n",
      "***********************\n",
      "\n",
      "\n",
      "Generated summary:\n",
      "(' Gomis fainted.\\n'\n",
      " '\"I have no idea what happened to him. We don\\'t know why he\\'s now feeling '\n",
      " 'well,\" Monk said. \"We don\\'t know why his head is spinning and that he is in '\n",
      " 'some sort of pain. We have spoken to several people and we have no idea how '\n",
      " 'this happened. That is a matter for the medical team.\" The first report of '\n",
      " 'the problem, however, came late Monday. A spokesman for the club confirmed '\n",
      " 'the problem was not a \"')\n",
      "***********************\n",
      "\n",
      "\n",
      "Gold summary:\n",
      "('Bafetimbi Gomis collapses within 10 minutes of kickoff at Tottenham .\\n'\n",
      " 'But he reportedly left the pitch conscious and wearing an oxygen mask .\\n'\n",
      " 'Gomis later said that he was \"feeling well\"\\n'\n",
      " 'The incident came three years after Fabrice Muamba collapsed at White Hart '\n",
      " 'Lane .')\n"
     ]
    }
   ],
   "execution_count": 30
  },
  {
   "cell_type": "markdown",
   "metadata": {},
   "source": [
    "As you can see, the generated summary is not very good, with a lot of completely irrelevant text. Let's try to quantify this by evaluating the summaries using the ROUGE score."
   ]
  },
  {
   "cell_type": "markdown",
   "metadata": {},
   "source": [
    "### Evaluating Student Model\n",
    "\n",
    "We will use the ROUGE score to evaluate the summaries generated by the student model. ROUGE measures how similar a generated summary is to a reference (human-written) summary by comparing overlapping words and phrases. Think of it like a sophisticated \"spot the differences\" between texts.\n",
    "\n",
    "Example:\n",
    "- **Reference**: \"The cat sat on the mat\"\n",
    "- **Generated**: \"The cat lay on the mat\"\n",
    "\n",
    "ROUGE has three main variants:\n",
    "1. **ROUGE-1**: Matches single words (In example: 5/6 words match)\n",
    "2. **ROUGE-2**: Matches word pairs (In example: \"the cat\", \"on the\", \"the mat\" match)\n",
    "3. **ROUGE-L**: Finds longest matching sequences in order\n",
    "\n",
    "Scores range from 0 to 1, with higher being better. While widely used in summarization evaluation, ROUGE isn't perfect - it focuses on matching words rather than meaning.\n",
    "\n",
    "Reference: Lin, C. Y. (2004). ROUGE: A package for automatic evaluation of summaries."
   ]
  },
  {
   "cell_type": "code",
   "metadata": {
    "ExecuteTime": {
     "end_time": "2024-12-06T06:42:51.063826Z",
     "start_time": "2024-12-06T06:42:47.661894Z"
    }
   },
   "source": [
    "# Evaluate the summaries\n",
    "import evaluate\n",
    "rouge = evaluate.load(\"rouge\")\n",
    "scores = rouge.compute(predictions=pred_summaries, references=cnn_dm_cse447_dataset[\"val\"][\"summary\"], use_stemmer=True)\n",
    "scores"
   ],
   "outputs": [
    {
     "data": {
      "text/plain": [
       "{'rouge1': 0.1889532160203738,\n",
       " 'rouge2': 0.030835822727504077,\n",
       " 'rougeL': 0.12198681628431995,\n",
       " 'rougeLsum': 0.16021233885997313}"
      ]
     },
     "execution_count": 31,
     "metadata": {},
     "output_type": "execute_result"
    }
   ],
   "execution_count": 31
  },
  {
   "cell_type": "markdown",
   "metadata": {},
   "source": [
    "You should see the following scores:\n",
    "- rouge1: 0.19\n",
    "- rouge2: 0.03\n",
    "- rougeL: 0.12\n",
    "- rougeLsum: 0.16\n",
    "\n",
    "Differences of +/- 0.02 in ROUGE scores are acceptable.\n"
   ]
  },
  {
   "cell_type": "markdown",
   "metadata": {},
   "source": [
    "The model performs relatively poorly on the dataset, especially considering the ROUGE-2 and ROUGE-L scores, which are very low. Let's see if we can improve this by using a teacher model."
   ]
  },
  {
   "cell_type": "markdown",
   "metadata": {},
   "source": [
    "### 2.2 Generate Data from a Teacher Model\n",
    "\n",
    "We will now start with step 1 of knowledge distillation i.e. generating data from a teacher model. As we mentioned earlier, we will use the Qwen2.5-1.5B-Instruct model as our teacher model. Note that Qwen2.5-1.5B-Instruct is an instruction tuned model, which is different from a base language model like GPT-2. Instruction tuned models are obtained from base language models by fine-tuning them on a diverse set of instructions and their desired outputs. This enables the model to become better at following instructions and is the magic recipe for the success of recent large language models."
   ]
  },
  {
   "cell_type": "code",
   "metadata": {
    "ExecuteTime": {
     "end_time": "2024-12-06T06:42:53.994346Z",
     "start_time": "2024-12-06T06:42:51.144019Z"
    }
   },
   "source": [
    "# Load a teacher model.\n",
    "from transformers import AutoModelForCausalLM, AutoTokenizer\n",
    "teacher_model = AutoModelForCausalLM.from_pretrained(\n",
    "    \"Qwen/Qwen2.5-1.5B-Instruct\"\n",
    ")\n",
    "teacher_tokenizer = AutoTokenizer.from_pretrained(\n",
    "    \"Qwen/Qwen2.5-1.5B-Instruct\", padding_side=\"left\"\n",
    ")\n",
    "teacher_model = teacher_model.to(device)\n",
    "teacher_model"
   ],
   "outputs": [
    {
     "data": {
      "text/plain": [
       "Qwen2ForCausalLM(\n",
       "  (model): Qwen2Model(\n",
       "    (embed_tokens): Embedding(151936, 1536)\n",
       "    (layers): ModuleList(\n",
       "      (0-27): 28 x Qwen2DecoderLayer(\n",
       "        (self_attn): Qwen2SdpaAttention(\n",
       "          (q_proj): Linear(in_features=1536, out_features=1536, bias=True)\n",
       "          (k_proj): Linear(in_features=1536, out_features=256, bias=True)\n",
       "          (v_proj): Linear(in_features=1536, out_features=256, bias=True)\n",
       "          (o_proj): Linear(in_features=1536, out_features=1536, bias=False)\n",
       "          (rotary_emb): Qwen2RotaryEmbedding()\n",
       "        )\n",
       "        (mlp): Qwen2MLP(\n",
       "          (gate_proj): Linear(in_features=1536, out_features=8960, bias=False)\n",
       "          (up_proj): Linear(in_features=1536, out_features=8960, bias=False)\n",
       "          (down_proj): Linear(in_features=8960, out_features=1536, bias=False)\n",
       "          (act_fn): SiLU()\n",
       "        )\n",
       "        (input_layernorm): Qwen2RMSNorm((1536,), eps=1e-06)\n",
       "        (post_attention_layernorm): Qwen2RMSNorm((1536,), eps=1e-06)\n",
       "      )\n",
       "    )\n",
       "    (norm): Qwen2RMSNorm((1536,), eps=1e-06)\n",
       "    (rotary_emb): Qwen2RotaryEmbedding()\n",
       "  )\n",
       "  (lm_head): Linear(in_features=1536, out_features=151936, bias=False)\n",
       ")"
      ]
     },
     "execution_count": 32,
     "metadata": {},
     "output_type": "execute_result"
    }
   ],
   "execution_count": 32
  },
  {
   "cell_type": "markdown",
   "metadata": {},
   "source": [
    "### 2.2.1 Preparing Data for Teacher Model\n",
    "\n",
    "We need to prepare the data for the teacher model in a specific format. Since the teacher model is an instruction-tuned model, it has been adapted to follow instructions. Hence, instead of formatting the text according to a completion problem, we need to format it according to an instruction following the problem. We will do this by adding an instruction to the beginning of each article, i.e., \"Summarize the following article.\" Further, we will also instruct the model to output the summary in a specific format by appending a suffix to the end of each article, i.e., \"Start your summary with 'TL;DR:. '\" In short, the articles should be formatted as follows:\n",
    "\n",
    "`\"Summarize the following article:\\n\\n<article>\\n\\nStart your summary with 'TL;DR:'\"`"
   ]
  },
  {
   "cell_type": "code",
   "metadata": {
    "deletable": false,
    "nbgrader": {
     "cell_type": "code",
     "checksum": "7723288824b6f27589989376bbd5a284",
     "grade": false,
     "grade_id": "cell-68a3da94807a2ea3",
     "locked": false,
     "schema_version": 3,
     "solution": true,
     "task": false
    },
    "ExecuteTime": {
     "end_time": "2024-12-06T06:42:54.028108Z",
     "start_time": "2024-12-06T06:42:54.023947Z"
    }
   },
   "source": [
    "def prepare_articles_teacher(articles, teacher_tokenizer, max_len=1024):\n",
    "\n",
    "    \"\"\"\n",
    "    Prepares the articles for the teacher model and performs tokenization.\n",
    "\n",
    "    Inputs\n",
    "    - articles: The articles to prepare and tokenize\n",
    "    - teacher_tokenizer: The tokenizer for the teacher model\n",
    "    - max_len: The max length to use for tokenizing\n",
    "\n",
    "    Returns:\n",
    "    - tokenized_articles: The tokenized articles in the format of a dictionary with keys `input_ids` and `attention_mask`\n",
    "    \"\"\"\n",
    "\n",
    "    # ToDo: Add the instructions as specified above to each article\n",
    "    articles_with_instructions = [f\"Summarize the following article:\\n\\n{article}\\n\\nStart your summary with 'TL;DR:'\" for article in articles]\n",
    "\n",
    "    # The instruction-tuned models to be in chat format. Read more here: https://huggingface.co/docs/transformers/main/en/chat_templating\n",
    "    articles_chat = [[\n",
    "        {\"role\": \"system\", \"content\": \"You are a helpful assistant and an expert at summarizing articles.\"},\n",
    "        {\"role\": \"user\", \"content\": article}\n",
    "    ] for article in articles_with_instructions]\n",
    "    # Apply chat template to the articles\n",
    "    articles_chat = teacher_tokenizer.apply_chat_template(articles_chat, tokenize=False, add_generation_prompt=True)\n",
    "\n",
    "    # ToDo: Tokenize the articles. Hint: Set `add_special_tokens=False` since special tokens are already added in the chat template.\n",
    "    tokenized_articles = teacher_tokenizer(articles_chat, padding=\"max_length\", truncation=True, max_length=max_len, return_tensors=\"pt\", add_special_tokens=False)\n",
    "\n",
    "    return tokenized_articles"
   ],
   "outputs": [],
   "execution_count": 33
  },
  {
   "cell_type": "code",
   "metadata": {
    "ExecuteTime": {
     "end_time": "2024-12-06T06:42:54.076149Z",
     "start_time": "2024-12-06T06:42:54.056017Z"
    }
   },
   "source": [
    "def test_prepare_articles_teacher():\n",
    "\n",
    "    # Test 1: Basic functionality\n",
    "    articles = [\"This is a test article.\"]\n",
    "    output = prepare_articles_teacher(articles, teacher_tokenizer)\n",
    "\n",
    "    assert \"input_ids\" in output, \"Output should contain input_ids\"\n",
    "    assert \"attention_mask\" in output, \"Output should contain attention_mask\"\n",
    "    assert torch.is_tensor(output[\"input_ids\"]), \"input_ids should be a tensor\"\n",
    "    assert torch.is_tensor(\n",
    "        output[\"attention_mask\"]\n",
    "    ), \"attention_mask should be a tensor\"\n",
    "\n",
    "    # Test 2: Instruction addition\n",
    "    decoded = teacher_tokenizer.decode(output[\"input_ids\"][0], skip_special_tokens=True)\n",
    "    assert (\n",
    "        \"Summarize the following article:\" in decoded\n",
    "    ), \"Should contain summarization instruction\"\n",
    "    assert (\n",
    "        \"Start your summary with 'TL;DR:'\" in decoded\n",
    "    ), \"Should contain TL;DR instruction\"\n",
    "\n",
    "    # Test 3: Multiple articles\n",
    "    articles = [\"First article.\", \"Second article.\", \"Third article.\"]\n",
    "    output = prepare_articles_teacher(articles, teacher_tokenizer)\n",
    "    assert (\n",
    "        output[\"input_ids\"].shape[0] == 3\n",
    "    ), \"Batch size should match number of articles\"\n",
    "    assert (\n",
    "        output[\"attention_mask\"].shape[0] == 3\n",
    "    ), \"Batch size should match number of articles\"\n",
    "\n",
    "    # Test 4: Padding and truncation\n",
    "    long_article = \"This is a very \" * 1000  # Create a very long article\n",
    "    short_article = \"Short.\"\n",
    "    articles = [long_article, short_article]\n",
    "    output = prepare_articles_teacher(articles, teacher_tokenizer, max_len=1024)\n",
    "    assert (\n",
    "        output[\"input_ids\"].shape[1] == 1024\n",
    "    ), \"Should be padded/truncated to max length\"\n",
    "    assert (output[\"attention_mask\"][1] == 0).any(), \"Short article should have padding\"\n",
    "    \n",
    "    print(\"All tests passed!\")\n",
    "    \n",
    "test_prepare_articles_teacher()"
   ],
   "outputs": [
    {
     "name": "stdout",
     "output_type": "stream",
     "text": [
      "All tests passed!\n"
     ]
    }
   ],
   "execution_count": 34
  },
  {
   "cell_type": "markdown",
   "metadata": {},
   "source": [
    "Let's have a look at the tokenized articles."
   ]
  },
  {
   "cell_type": "code",
   "metadata": {
    "ExecuteTime": {
     "end_time": "2024-12-06T06:42:54.112827Z",
     "start_time": "2024-12-06T06:42:54.105791Z"
    }
   },
   "source": [
    "tokenized_articles = prepare_articles_teacher(\n",
    "    cnn_dm_cse447_dataset[\"val\"][\"article\"][:2], teacher_tokenizer\n",
    ")\n",
    "decoded_articles = teacher_tokenizer.batch_decode(\n",
    "    tokenized_articles[\"input_ids\"], skip_special_tokens=True\n",
    ")\n",
    "pprint(decoded_articles[0])"
   ],
   "outputs": [
    {
     "name": "stdout",
     "output_type": "stream",
     "text": [
      "('system\\n'\n",
      " 'You are a helpful assistant and an expert at summarizing articles.\\n'\n",
      " 'user\\n'\n",
      " 'Summarize the following article:\\n'\n",
      " '\\n'\n",
      " '(CNN)French striker Bafetimbi Gomis, who has a history of fainting, said he '\n",
      " 'is now \"feeling well\" after collapsing during Swansea\\'s 3-2 loss at '\n",
      " 'Tottenham in the Premier League on Wednesday. The worrying incident occurred '\n",
      " 'in the first half at White Hart Lane -- after Tottenham scored in the '\n",
      " 'seventh minute -- but the 29-year-old left the pitch conscious following '\n",
      " 'about five minutes of treatment. The Guardian added that he was wearing an '\n",
      " 'oxygen mask. Play was temporarily stopped before resuming. As the match '\n",
      " 'progressed, Swansea tweeted that Gomis was \"fine,\" with manager Garry Monk '\n",
      " \"using the same word to describe Gomis' condition. Gomis spent the night in \"\n",
      " 'hospital as a precaution, Swansea said on its website. \"I wanted to reassure '\n",
      " 'you concerning my health,\" Gomis told the website. \"It actually looks much '\n",
      " 'scarier than it is physically dangerous, and I am feeling well now. \"I have '\n",
      " \"been under a great deal of stress and fatigue due to my father's health, \"\n",
      " 'which requires me to go back and forth from France. \"I was disappointed that '\n",
      " \"I couldn't help my team tonight, but now everything is back in order. I also \"\n",
      " 'want to thank everyone for their support and get well messages.\" Gomis had '\n",
      " 'similar fainting spells in France, which prompted the president of his '\n",
      " 'former club, Jean-Michel Aulas of Lyon, to tell French television in 2009: '\n",
      " '\"We can\\'t not be worried, it scares you each time.\" Swansea ran tests on '\n",
      " 'Gomis, said Monk, prior to signing him on a free transfer last July. \"He '\n",
      " 'just has a little bit of low blood pressure which causes you a little bit of '\n",
      " 'problems,\" Monk said in a televised interview on Sky. \"It\\'s been part of '\n",
      " \"his life. We were well aware of that when we signed him. He's done all the \"\n",
      " \"hospital checks and all the medical checks you can possibly do and it's just \"\n",
      " 'part of his life. \"It\\'s no problems whatsoever. It\\'s not as serious as it '\n",
      " 'looks.\" Gomis has scored two league goals for Swansea this season, mostly in '\n",
      " \"a backup role. He became the Welsh side's top striker when Wilfried Bony \"\n",
      " 'signed with Manchester City in January. Almost exactly three years ago at '\n",
      " 'White Hart Lane, then Bolton midfielder Fabrice Muamba collapsed after '\n",
      " 'suffering a cardiac arrest. He was near death,  according to Bolton, but '\n",
      " 'survived after being treated at the London Chest Hospital. He subsequently '\n",
      " 'retired. Other footballers, including Cameroon international Marc-Vivien Foe '\n",
      " \"in 2003 and Spanish international Antonio Puerta in 2007, didn't survive \"\n",
      " 'after collapsing on the pitch.\\n'\n",
      " '\\n'\n",
      " \"Start your summary with 'TL;DR:'\\n\"\n",
      " 'assistant\\n')\n"
     ]
    }
   ],
   "execution_count": 35
  },
  {
   "cell_type": "markdown",
   "metadata": {},
   "source": [
    "Notice the system, user, and assistant tags in the prompt. The system tag is followed by an instruction to ground the model to be a helpful assistant and be an expert at summarizing articles. The user tag is followed by the article to be summarized and the instruction about the task. We have the assistant tag in the end and the model is expected to generate the summary after the assistant tag."
   ]
  },
  {
   "cell_type": "markdown",
   "metadata": {},
   "source": [
    "### 2.2.2. Generate summaries with teacher model\n",
    "\n",
    "Similar to the student model, we will use the `generate()` method to generate summaries from the teacher model. Implement the `summarize_with_teacher_model` function below to do this."
   ]
  },
  {
   "cell_type": "code",
   "metadata": {
    "deletable": false,
    "nbgrader": {
     "cell_type": "code",
     "checksum": "82be9a3e43593d77f5fd4b86c847f3c0",
     "grade": false,
     "grade_id": "cell-ca1d4e6c170ef5d9",
     "locked": false,
     "schema_version": 3,
     "solution": true,
     "task": false
    },
    "ExecuteTime": {
     "end_time": "2024-12-06T06:42:54.148483Z",
     "start_time": "2024-12-06T06:42:54.143989Z"
    }
   },
   "source": [
    "def summarize_with_teacher_model(\n",
    "    articles,\n",
    "    teacher_model,\n",
    "    teacher_tokenizer,\n",
    "    batch_size=8,\n",
    "    max_new_tokens=100,\n",
    "    do_sample=True,\n",
    "    p=0.9,\n",
    "    temperature=1.0,\n",
    "    device=\"cuda\",\n",
    "):\n",
    "    \n",
    "    \"\"\"\n",
    "    Generates summaries for a list of articles using the teacher model.\n",
    "    Essentially the same as the function `summarize_wth_student_model`, but we will use the prepare articles function for the teacher model here.\n",
    "    \"\"\"\n",
    "    teacher_model.eval()\n",
    "    summaries = []\n",
    "    with torch.no_grad():\n",
    "        for i in tqdm(range(0, len(articles), batch_size)):\n",
    "            # TODO: Tokenize the batch of articles\n",
    "            tokenized_articles = prepare_articles_teacher(articles[i:i+batch_size], teacher_tokenizer)\n",
    "\n",
    "            # Move the data to the device\n",
    "            tokenized_articles = {\n",
    "                key: value.to(device) for key, value in tokenized_articles.items()\n",
    "            }\n",
    "\n",
    "            # TODO: Generate summaries from the model using the .generate method\n",
    "            generated_summaries = teacher_model.generate(\n",
    "                tokenized_articles[\"input_ids\"],\n",
    "                attention_mask=tokenized_articles[\"attention_mask\"],\n",
    "                max_new_tokens=max_new_tokens,\n",
    "                do_sample=do_sample,\n",
    "                top_p=p,\n",
    "                temperature=temperature,\n",
    "                pad_token_id=teacher_tokenizer.pad_token_id,\n",
    "                eos_token_id=teacher_tokenizer.eos_token_id\n",
    "            )\n",
    "            generated_summaries = generated_summaries[:, tokenized_articles[\"input_ids\"].shape[1]:]\n",
    "\n",
    "            # TODO: Convert the generated summaries to text. Hint: Use the `batch_decode` method of the tokenizer.\n",
    "            # Make sure to only decode the generated tokens, i.e., ignore the input tokens.\n",
    "            # Also, make sure to set `skip_special_tokens=True` to ignore the special tokens.\n",
    "            decoded_summaries = teacher_tokenizer.batch_decode(generated_summaries, skip_special_tokens=True)\n",
    "           \n",
    "            # Add the decoded summaries to the list\n",
    "            summaries.extend(decoded_summaries)\n",
    "\n",
    "    return summaries"
   ],
   "outputs": [],
   "execution_count": 36
  },
  {
   "cell_type": "markdown",
   "metadata": {},
   "source": [
    "Let's first check how well the teacher model performs on the validation set."
   ]
  },
  {
   "cell_type": "code",
   "metadata": {
    "ExecuteTime": {
     "end_time": "2024-12-06T06:43:28.977271Z",
     "start_time": "2024-12-06T06:42:54.176468Z"
    }
   },
   "source": [
    "\n",
    "set_seed()\n",
    "# Since the teacher model is large, we will only evaluate on a small subset of the validation set.\n",
    "val_summaries_generated = summarize_with_teacher_model(\n",
    "    cnn_dm_cse447_dataset[\"val\"][\"article\"][:100],\n",
    "    teacher_model,\n",
    "    teacher_tokenizer,\n",
    "    batch_size=8,\n",
    "    max_new_tokens=100,\n",
    "    do_sample=True,\n",
    "    p=0.9,\n",
    "    temperature=1.0,\n",
    "    device=\"cuda\"\n",
    ")"
   ],
   "outputs": [
    {
     "name": "stderr",
     "output_type": "stream",
     "text": [
      "100%|██████████| 13/13 [00:34<00:00,  2.68s/it]\n"
     ]
    }
   ],
   "execution_count": 37
  },
  {
   "cell_type": "code",
   "metadata": {
    "ExecuteTime": {
     "end_time": "2024-12-06T06:43:29.009470Z",
     "start_time": "2024-12-06T06:43:29.006136Z"
    }
   },
   "source": [
    "# Inspect the summaries\n",
    "print(\"Article:\")\n",
    "pprint(cnn_dm_cse447_dataset[\"val\"][0][\"article\"])\n",
    "print(\"***********************\\n\\n\")\n",
    "print(\"Generated summary:\")\n",
    "pprint(val_summaries_generated[0])\n",
    "print(\"***********************\\n\\n\")\n",
    "print(\"Gold summary:\")\n",
    "pprint(cnn_dm_cse447_dataset[\"val\"][0][\"summary\"])"
   ],
   "outputs": [
    {
     "name": "stdout",
     "output_type": "stream",
     "text": [
      "Article:\n",
      "('(CNN)French striker Bafetimbi Gomis, who has a history of fainting, said he '\n",
      " 'is now \"feeling well\" after collapsing during Swansea\\'s 3-2 loss at '\n",
      " 'Tottenham in the Premier League on Wednesday. The worrying incident occurred '\n",
      " 'in the first half at White Hart Lane -- after Tottenham scored in the '\n",
      " 'seventh minute -- but the 29-year-old left the pitch conscious following '\n",
      " 'about five minutes of treatment. The Guardian added that he was wearing an '\n",
      " 'oxygen mask. Play was temporarily stopped before resuming. As the match '\n",
      " 'progressed, Swansea tweeted that Gomis was \"fine,\" with manager Garry Monk '\n",
      " \"using the same word to describe Gomis' condition. Gomis spent the night in \"\n",
      " 'hospital as a precaution, Swansea said on its website. \"I wanted to reassure '\n",
      " 'you concerning my health,\" Gomis told the website. \"It actually looks much '\n",
      " 'scarier than it is physically dangerous, and I am feeling well now. \"I have '\n",
      " \"been under a great deal of stress and fatigue due to my father's health, \"\n",
      " 'which requires me to go back and forth from France. \"I was disappointed that '\n",
      " \"I couldn't help my team tonight, but now everything is back in order. I also \"\n",
      " 'want to thank everyone for their support and get well messages.\" Gomis had '\n",
      " 'similar fainting spells in France, which prompted the president of his '\n",
      " 'former club, Jean-Michel Aulas of Lyon, to tell French television in 2009: '\n",
      " '\"We can\\'t not be worried, it scares you each time.\" Swansea ran tests on '\n",
      " 'Gomis, said Monk, prior to signing him on a free transfer last July. \"He '\n",
      " 'just has a little bit of low blood pressure which causes you a little bit of '\n",
      " 'problems,\" Monk said in a televised interview on Sky. \"It\\'s been part of '\n",
      " \"his life. We were well aware of that when we signed him. He's done all the \"\n",
      " \"hospital checks and all the medical checks you can possibly do and it's just \"\n",
      " 'part of his life. \"It\\'s no problems whatsoever. It\\'s not as serious as it '\n",
      " 'looks.\" Gomis has scored two league goals for Swansea this season, mostly in '\n",
      " \"a backup role. He became the Welsh side's top striker when Wilfried Bony \"\n",
      " 'signed with Manchester City in January. Almost exactly three years ago at '\n",
      " 'White Hart Lane, then Bolton midfielder Fabrice Muamba collapsed after '\n",
      " 'suffering a cardiac arrest. He was near death,  according to Bolton, but '\n",
      " 'survived after being treated at the London Chest Hospital. He subsequently '\n",
      " 'retired. Other footballers, including Cameroon international Marc-Vivien Foe '\n",
      " \"in 2003 and Spanish international Antonio Puerta in 2007, didn't survive \"\n",
      " 'after collapsing on the pitch.')\n",
      "***********************\n",
      "\n",
      "\n",
      "Generated summary:\n",
      "('**TL;DR:** French striker Bafetimbi Gomis revealed that he had fainted '\n",
      " 'during a match between Swansea and Tottenham in the Premier League but was '\n",
      " 'feeling well after treatment and was hospitalized overnight. His previous '\n",
      " 'episodes have led some to express concern over his fitness. The 29-year-old '\n",
      " \"has been dealing with high levels of stress related to his family's \"\n",
      " 'situation. Despite his condition, Gomis expressed gratitude for the support '\n",
      " 'received and continued to play despite struggling with injury earlier in')\n",
      "***********************\n",
      "\n",
      "\n",
      "Gold summary:\n",
      "('Bafetimbi Gomis collapses within 10 minutes of kickoff at Tottenham .\\n'\n",
      " 'But he reportedly left the pitch conscious and wearing an oxygen mask .\\n'\n",
      " 'Gomis later said that he was \"feeling well\"\\n'\n",
      " 'The incident came three years after Fabrice Muamba collapsed at White Hart '\n",
      " 'Lane .')\n"
     ]
    }
   ],
   "execution_count": 38
  },
  {
   "cell_type": "markdown",
   "metadata": {},
   "source": [
    "You should see that the generated summary is much better than the one generated by the student model. Let's now evaluate the summaries generated by the teacher model."
   ]
  },
  {
   "cell_type": "code",
   "metadata": {
    "ExecuteTime": {
     "end_time": "2024-12-06T06:43:29.885185Z",
     "start_time": "2024-12-06T06:43:29.036631Z"
    }
   },
   "source": [
    "set_seed()\n",
    "teacher_rouge = evaluate.load(\"rouge\")\n",
    "scores = teacher_rouge.compute(\n",
    "    predictions=val_summaries_generated,\n",
    "    references=cnn_dm_cse447_dataset[\"val\"][\"summary\"][:100],\n",
    "    use_stemmer=True\n",
    ")\n",
    "scores  \n"
   ],
   "outputs": [
    {
     "data": {
      "text/plain": [
       "{'rouge1': 0.2664340663954573,\n",
       " 'rouge2': 0.08403782865692987,\n",
       " 'rougeL': 0.18580286294970424,\n",
       " 'rougeLsum': 0.21615203083136378}"
      ]
     },
     "execution_count": 39,
     "metadata": {},
     "output_type": "execute_result"
    }
   ],
   "execution_count": 39
  },
  {
   "cell_type": "markdown",
   "metadata": {},
   "source": [
    "You should see the following scores:\n",
    "- rouge1: 0.261\n",
    "- rouge2: 0.082\n",
    "- rougeL: 0.181\n",
    "- rougeLsum: 0.211\n",
    "\n",
    "Differences of +/- 0.02 in ROUGE scores are acceptable.\n",
    "\n",
    "\n",
    "While these are only on a small subset of the validation set, we also ran the teacher model on the entire validation set and got the following scores:\n",
    "- rouge1: 0.284\n",
    "- rouge2: 0.085\n",
    "- rougeL: 0.188\n",
    "- rougeLsum: 0.229"
   ]
  },
  {
   "cell_type": "markdown",
   "metadata": {},
   "source": [
    "As you can see, the teacher model performs much better than the student model. While the numbers are not super high, note that our teacher model is only 1.5B parameters, which is considered a tiny model in the current LLM landscape. Bigger models with 8B, 30B, 70B, or even higher are expected to perform even better."
   ]
  },
  {
   "cell_type": "markdown",
   "metadata": {},
   "source": [
    "#### Generating Data for Distillation"
   ]
  },
  {
   "cell_type": "markdown",
   "metadata": {},
   "source": [
    "We can now generate data for distillation. We will use the articles from the training dataset and generate summaries for those articles using the teacher model. Note that we do have the original summaries for the training set, but we are not using them for distillation. Our goal is to show you how distillation works and how you can use it for your own use cases where you might not have labelled training data available."
   ]
  },
  {
   "cell_type": "code",
   "metadata": {
    "ExecuteTime": {
     "end_time": "2024-12-06T06:43:29.916613Z",
     "start_time": "2024-12-06T06:43:29.913509Z"
    }
   },
   "source": [
    "def generate_synthetic_data_for_distillation(\n",
    "    articles,\n",
    "    teacher_model,\n",
    "    teacher_tokenizer,\n",
    "    num_samples=1000,\n",
    "    batch_size=8,\n",
    "    max_new_tokens=100,\n",
    "    do_sample=True,\n",
    "    p=0.9,\n",
    "    temperature=1.0,\n",
    "    device=\"cuda\",\n",
    "):\n",
    "    articles = articles[:num_samples]\n",
    "    summaries = summarize_with_teacher_model(\n",
    "        articles,\n",
    "        teacher_model,\n",
    "        teacher_tokenizer,\n",
    "        batch_size=batch_size,\n",
    "        max_new_tokens=max_new_tokens,\n",
    "        do_sample=do_sample,\n",
    "        p=p,\n",
    "        temperature=temperature,\n",
    "        device=device,\n",
    "    )\n",
    "\n",
    "    return summaries"
   ],
   "outputs": [],
   "execution_count": 40
  },
  {
   "cell_type": "code",
   "metadata": {
    "ExecuteTime": {
     "end_time": "2024-12-06T06:43:29.944772Z",
     "start_time": "2024-12-06T06:43:29.942265Z"
    }
   },
   "source": [
    "# set_seed()\n",
    "# train_summaries_generated = generate_synthetic_data_for_distillation(\n",
    "#     cnn_dm_cse447_dataset[\"train\"][\"article\"],\n",
    "#     teacher_model,\n",
    "#     teacher_tokenizer,\n",
    "#     num_samples=1000,\n",
    "#     batch_size=8,\n",
    "#     max_new_tokens=100,\n",
    "#     do_sample=True,\n",
    "#     p=0.9,\n",
    "#     temperature=1.0,\n",
    "#     device=\"cuda\",\n",
    "# )"
   ],
   "outputs": [],
   "execution_count": 41
  },
  {
   "cell_type": "code",
   "metadata": {
    "ExecuteTime": {
     "end_time": "2024-12-06T06:43:29.969937Z",
     "start_time": "2024-12-06T06:43:29.966720Z"
    }
   },
   "source": [
    "# kd_dataset = {\n",
    "#     \"article\": cnn_dm_cse447_dataset[\"train\"][\"article\"][:1000],\n",
    "#     \"summary\": train_summaries_generated,\n",
    "#     \"gold_summary\": cnn_dm_cse447_dataset[\"train\"][\"summary\"][:1000]\n",
    "# }\n",
    "# kd_dataset = Dataset.from_dict(kd_dataset)\n",
    "# kd_dataset"
   ],
   "outputs": [],
   "execution_count": 42
  },
  {
   "cell_type": "code",
   "metadata": {
    "ExecuteTime": {
     "end_time": "2024-12-06T06:43:29.997859Z",
     "start_time": "2024-12-06T06:43:29.995842Z"
    }
   },
   "source": [
    "# # Save the dataset to disk, so that you can load it later without re-generating the data.\n",
    "# kd_dataset.save_to_disk(f\"{data_dir}/kd_dataset.hf\")"
   ],
   "outputs": [],
   "execution_count": 43
  },
  {
   "cell_type": "markdown",
   "metadata": {},
   "source": [
    "In case you are running into compute issues while generating data for distillation, we provide you with the distilled dataset in the `data` folder, which you can directly load using the `datasets` library.\n",
    "\n",
    "```python\n",
    "kd_dataset = load_from_disk(f\"{data_dir}/kd_dataset.hf\")\n",
    "```"
   ]
  },
  {
   "cell_type": "markdown",
   "metadata": {},
   "source": [
    "### 3. Fine-tuning student model with teacher model's generated data"
   ]
  },
  {
   "cell_type": "markdown",
   "metadata": {},
   "source": [
    "#### 3.1 Preparing data for distillation\n",
    "\n",
    "You will now implement the `prepare_data_for_distillation` function to prepare the data for distillation. This function will format the data in a specific way so that it can be used to fine-tune the student model. You will follow pretty much the same process as you did for the student model in `prepare_articles_for_student_model` with a few changes.\n",
    "\n",
    "- First we will include the summaries in the input text along with the articles. This is done because we are now training the student model to generate summaries from the articles. Hence the format of the input text will be `<article>\\nTL;DR:<summary>`.\n",
    "- In the tokenization dictionary, we now need to add a new key, `labels,` which contains the labels to train the language model. For language models, the labels are the same as the input IDs since the model is expected to generate the next word in the sequence. However, while fine-tuning, we want the model to learn how to generate the summaries from the articles and we do not care about the model learning to predict tokens in the original articles. Therefore, we replace the labels for the prompt tokens with -100, which is a special token id that is used to signal the loss function to ignore the loss for those tokens.\n"
   ]
  },
  {
   "cell_type": "code",
   "metadata": {
    "deletable": false,
    "nbgrader": {
     "cell_type": "code",
     "checksum": "fa365ea8a33018ce8a35c8865f04dc61",
     "grade": false,
     "grade_id": "cell-b5ae7090ac4d3b51",
     "locked": false,
     "schema_version": 3,
     "solution": true,
     "task": false
    },
    "ExecuteTime": {
     "end_time": "2024-12-06T06:43:30.030286Z",
     "start_time": "2024-12-06T06:43:30.025611Z"
    }
   },
   "source": [
    "def prepare_data_for_distillation(article, summary, student_tokenizer, max_length=1024):\n",
    "    \"\"\"\n",
    "    Prepares the data for distillation.\n",
    "\n",
    "    Inputs:`\n",
    "    - article: The article to be summarized.\n",
    "    - summary: Summary to be used as labels for distillation.\n",
    "    - student_tokenizer: Tokenizer for the student model.\n",
    "    - max_length: Maximum length of the tokenized input.\n",
    "\n",
    "    Returns:\n",
    "    - tokenized_data: Tokenized data in the format of a dictionary with keys `input_ids`, `attention_mask`, and `labels`.\n",
    "\n",
    "    Note: Unlike the functions preparing data for student and teacher models before, this function only takes a single\n",
    "    article as input instead of a list of articles. We are doing this because while training we want to create batches\n",
    "    dynamically such that they are padded based on the longest article in the batch. Earlier functions were padding all\n",
    "    the articles with the same length. While it doesn't make any difference in the performance whether you use\n",
    "    dynamic padding or fixed padding, dynamic padding can be much more compute and memory efficient, which is especially\n",
    "    important for training\n",
    "    \"\"\"\n",
    "    \n",
    "    # # TODO: Format the article and summary for distillation.\n",
    "    # Hint: `summary` might already contain the TL;DR: prefix, make sure you are not adding it twice!\n",
    "    article_wth_summary = article + \"\\nTL;DR:\" + summary if \"TL;DR:\" not in summary else article + \"\\n\" + summary\n",
    "    article_prompt = article + \"\\nTL;DR:\"  # This should only contain the article and <article>\\nTL;DR: you will need this to set the labels for the prompt tokens to -100\n",
    "\n",
    "    # TODO: Tokenize `articles_wth_summaries`. Note set padding=False, since we want to do dynamic padding during training.\n",
    "    tokenized_data = student_tokenizer(\n",
    "        article_wth_summary,\n",
    "        padding=False,\n",
    "        truncation=True,\n",
    "        max_length=max_length,\n",
    "        return_tensors=\"pt\"\n",
    "    )\n",
    "    tokenized_prompt = student_tokenizer(\n",
    "        article_prompt,\n",
    "        padding=False,\n",
    "        truncation=True,\n",
    "        max_length=max_length,\n",
    "        return_tensors=\"pt\"\n",
    "    )\n",
    "\n",
    "    # Tokenizer adds a batch dimension to the input IDs and attention mask when the input is a single sequence.\n",
    "    # We need to remove the batch dimension since we are only processing a single article.\n",
    "    tokenized_data[\"input_ids\"], tokenized_data[\"attention_mask\"] = (\n",
    "        tokenized_data[\"input_ids\"][0],\n",
    "        tokenized_data[\"attention_mask\"][0],\n",
    "    )\n",
    "    tokenized_prompt[\"input_ids\"], tokenized_prompt[\"attention_mask\"] = (\n",
    "        tokenized_prompt[\"input_ids\"][0],\n",
    "        tokenized_prompt[\"attention_mask\"][0],\n",
    "    )\n",
    "\n",
    "    # Set the labels to the input IDs\n",
    "    tokenized_data[\"labels\"] = tokenized_data[\"input_ids\"].clone()\n",
    "\n",
    "    # TODO: Replace the labels for the prompt tokens with -100.\n",
    "    # Remember both labels and input_ids are pytorch tensors of shape (seq_len,)\n",
    "    # YOUR CODE HERE\n",
    "    tokenized_data[\"labels\"][:tokenized_prompt[\"input_ids\"].size(0)] = -100\n",
    "\n",
    "    return tokenized_data"
   ],
   "outputs": [],
   "execution_count": 44
  },
  {
   "cell_type": "code",
   "metadata": {
    "ExecuteTime": {
     "end_time": "2024-12-06T06:43:30.244079Z",
     "start_time": "2024-12-06T06:43:30.057777Z"
    }
   },
   "source": [
    "def test_prepare_data_for_distillation():\n",
    "    # Setup\n",
    "    student_tokenizer = AutoTokenizer.from_pretrained(\"gpt2\", padding_side=\"right\")\n",
    "    student_tokenizer.pad_token_id = student_tokenizer.eos_token_id\n",
    "\n",
    "    # Test 1: Basic functionality\n",
    "    article = \"This is a test article.\"\n",
    "    summary = \"This is a test summary.\"\n",
    "    output = prepare_data_for_distillation(article, summary, student_tokenizer)\n",
    "    assert \"input_ids\" in output, \"Output should contain input_ids\"\n",
    "    assert \"attention_mask\" in output, \"Output should contain attention_mask\"\n",
    "    assert \"labels\" in output, \"Output should contain labels\"\n",
    "    assert torch.is_tensor(output[\"input_ids\"]), \"input_ids should be a tensor\"\n",
    "    assert torch.is_tensor(\n",
    "        output[\"attention_mask\"]\n",
    "    ), \"attention_mask should be a tensor\"\n",
    "    assert torch.is_tensor(output[\"labels\"]), \"labels should be a tensor\"\n",
    "\n",
    "    # Test 2: Correct label masking\n",
    "    article = \"This is a test article.\"\n",
    "    summary = \"This is a test summary.\"\n",
    "    output = prepare_data_for_distillation(article, summary, student_tokenizer)\n",
    "    input_ids = output[\"input_ids\"]\n",
    "    labels = output[\"labels\"]\n",
    "\n",
    "    # Ensure labels for the article part are -100\n",
    "    article_length = len(student_tokenizer(article + \"\\nTL;DR:\")[\"input_ids\"])\n",
    "    assert all(\n",
    "        label == -100 for label in labels[:article_length]\n",
    "    ), \"Labels for article tokens should be -100\"\n",
    "\n",
    "    # Ensure labels for the summary part are not -100\n",
    "    assert all(\n",
    "        label != -100 for label in labels[article_length:]\n",
    "    ), \"Labels for summary tokens should not be -100\"\n",
    "\n",
    "    # Test 3: Padding and truncation\n",
    "    long_article = \"This is a very \" * 1000  # Create a very long article\n",
    "    long_summary = \"Summary \" * 1000\n",
    "    short_article = \"Short.\"\n",
    "    short_summary = \"Short.\"\n",
    "    output = prepare_data_for_distillation(\n",
    "        long_article, long_summary, student_tokenizer, max_length=1024\n",
    "    )\n",
    "    assert (\n",
    "        output[\"input_ids\"].shape[0] == 1024\n",
    "    ), \"Long inputs should be truncated to max length\"\n",
    "\n",
    "    output = prepare_data_for_distillation(\n",
    "        short_article, short_summary, student_tokenizer, max_length=1024\n",
    "    )\n",
    "    assert (\n",
    "        output[\"attention_mask\"][1] != 0\n",
    "    ).all(), \"Short article should no have padding\"\n",
    "    print(\"All tests passed!\")\n",
    "\n",
    "test_prepare_data_for_distillation()"
   ],
   "outputs": [
    {
     "name": "stdout",
     "output_type": "stream",
     "text": [
      "All tests passed!\n"
     ]
    }
   ],
   "execution_count": 45
  },
  {
   "cell_type": "markdown",
   "metadata": {},
   "source": [
    "Let's now prepare the data for distillation."
   ]
  },
  {
   "cell_type": "code",
   "metadata": {
    "ExecuteTime": {
     "end_time": "2024-12-06T06:43:30.281027Z",
     "start_time": "2024-12-06T06:43:30.273232Z"
    }
   },
   "source": [
    "kd_dataset = load_from_disk(f\"{data_dir}/kd_dataset.hf\")"
   ],
   "outputs": [],
   "execution_count": 46
  },
  {
   "cell_type": "code",
   "metadata": {
    "ExecuteTime": {
     "end_time": "2024-12-06T06:43:30.330091Z",
     "start_time": "2024-12-06T06:43:30.309074Z"
    }
   },
   "source": [
    "train_tokenized_data = kd_dataset.map(\n",
    "    lambda example: prepare_data_for_distillation(\n",
    "        example[\"article\"],\n",
    "        example[\"summary\"],\n",
    "        student_tokenizer,\n",
    "        max_length=1024,\n",
    "    ),\n",
    "    batched=False,\n",
    "    remove_columns=kd_dataset.column_names,\n",
    ")\n",
    "train_tokenized_data"
   ],
   "outputs": [
    {
     "data": {
      "text/plain": [
       "Dataset({\n",
       "    features: ['input_ids', 'attention_mask', 'labels'],\n",
       "    num_rows: 1000\n",
       "})"
      ]
     },
     "execution_count": 47,
     "metadata": {},
     "output_type": "execute_result"
    }
   ],
   "execution_count": 47
  },
  {
   "cell_type": "code",
   "metadata": {
    "ExecuteTime": {
     "end_time": "2024-12-06T06:43:32.125681Z",
     "start_time": "2024-12-06T06:43:30.358545Z"
    }
   },
   "source": [
    "val_tokenized_data = cnn_dm_cse447_dataset[\"val\"].map(\n",
    "    lambda example: prepare_data_for_distillation(\n",
    "        example[\"article\"],\n",
    "        example[\"summary\"],\n",
    "        student_tokenizer,\n",
    "        max_length=1024,\n",
    "    ),\n",
    "    batched=False,\n",
    "    remove_columns=cnn_dm_cse447_dataset[\"val\"].column_names,\n",
    ")\n",
    "val_tokenized_data"
   ],
   "outputs": [
    {
     "data": {
      "text/plain": [
       "Map:   0%|          | 0/1000 [00:00<?, ? examples/s]"
      ],
      "application/vnd.jupyter.widget-view+json": {
       "version_major": 2,
       "version_minor": 0,
       "model_id": "e9192e089cad4a5f96b6c4b859bd1891"
      }
     },
     "metadata": {},
     "output_type": "display_data"
    },
    {
     "data": {
      "text/plain": [
       "Dataset({\n",
       "    features: ['input_ids', 'attention_mask', 'labels'],\n",
       "    num_rows: 1000\n",
       "})"
      ]
     },
     "execution_count": 48,
     "metadata": {},
     "output_type": "execute_result"
    }
   ],
   "execution_count": 48
  },
  {
   "cell_type": "code",
   "metadata": {
    "ExecuteTime": {
     "end_time": "2024-12-06T06:43:32.157331Z",
     "start_time": "2024-12-06T06:43:32.149459Z"
    }
   },
   "source": [
    "# Let's have a look at the tokenized data\n",
    "tokenized_data = train_tokenized_data[0]\n",
    "print(\"Input IDs:\")\n",
    "print(tokenized_data[\"input_ids\"])\n",
    "print(\"Labels:\")\n",
    "print(tokenized_data[\"labels\"])\n",
    "print(\"***********************\\n\\n\")\n",
    "\n",
    "print(\"Input Text:\")\n",
    "pprint(student_tokenizer.decode(tokenized_data[\"input_ids\"], skip_special_tokens=True))"
   ],
   "outputs": [
    {
     "name": "stdout",
     "output_type": "stream",
     "text": [
      "Input IDs:\n",
      "[43, 47383, 11, 4492, 357, 12637, 8, 1377, 5850, 14179, 3491, 7806, 5325, 33783, 8810, 1895, 284, 257, 2098, 4248, 1238, 1510, 7198, 3901, 13, 16, 1510, 8, 15807, 355, 339, 4962, 1248, 319, 3321, 11, 475, 339, 17424, 262, 1637, 1839, 470, 3350, 257, 4822, 319, 683, 13, 7806, 5325, 33783, 355, 5850, 14179, 287, 366, 18308, 14179, 290, 262, 8284, 286, 262, 9643, 1, 1675, 262, 18641, 286, 30914, 5721, 1023, 1088, 262, 995, 11, 262, 1862, 8674, 1139, 339, 468, 645, 3352, 284, 277, 799, 353, 465, 5003, 1497, 319, 3049, 5006, 11, 4144, 290, 16527, 4671, 13, 366, 40, 836, 470, 1410, 284, 307, 530, 286, 883, 661, 508, 11, 355, 2582, 355, 484, 1210, 1248, 11, 6451, 2822, 2405, 257, 4858, 5701, 1097, 4947, 393, 1223, 2092, 553, 339, 1297, 281, 6638, 39877, 2961, 428, 1227, 13, 366, 40, 836, 470, 892, 314, 1183, 307, 3573, 45997, 13, 366, 464, 1243, 314, 588, 7067, 389, 1243, 326, 1575, 546, 838, 8059, 1377, 3835, 290, 36731, 290, 35962, 526, 1629, 1248, 11, 5325, 33783, 481, 307, 1498, 284, 32385, 287, 257, 21507, 11, 2822, 257, 4144, 287, 257, 2240, 393, 766, 262, 9961, 2646, 366, 17932, 417, 25, 2142, 2873, 553, 3058, 2237, 4113, 2174, 465, 1271, 530, 3807, 319, 262, 3482, 3091, 2607, 8262, 13, 14890, 286, 703, 339, 1183, 1317, 465, 20533, 10955, 389, 739, 27521, 13, 2399, 5797, 290, 1171, 396, 550, 645, 2912, 319, 465, 3352, 13, 366, 40, 1183, 4753, 423, 617, 3297, 286, 2151, 553, 339, 531, 287, 281, 2720, 13, 366, 32365, 4844, 286, 345, 481, 307, 3555, 546, 340, 526, 5325, 33783, 338, 12042, 422, 262, 717, 1936, 14179, 7328, 423, 587, 2714, 287, 257, 3774, 1814, 543, 339, 468, 407, 587, 1498, 284, 3638, 13, 7945, 465, 3957, 16117, 290, 35000, 11, 262, 8674, 1139, 339, 318, 5291, 465, 3625, 14245, 319, 262, 2323, 13, 366, 8061, 389, 1464, 2045, 284, 910, 705, 38439, 3491, 2925, 572, 262, 27587, 16078, 339, 1297, 7638, 938, 1227, 13, 366, 1537, 314, 1949, 845, 1327, 407, 284, 467, 326, 835, 780, 340, 561, 307, 1165, 2562, 329, 606, 526, 2399, 3452, 32922, 355, 262, 2933, 18731, 287, 366, 18308, 14179, 290, 262, 8284, 286, 262, 9643, 1, 318, 7163, 4406, 319, 1111, 5389, 286, 262, 10596, 290, 339, 481, 302, 7919, 262, 2597, 287, 262, 938, 734, 7328, 13, 220, 6305, 314, 12, 6207, 4337, 1577, 607, 2423, 286, 14179, 338, 3452, 13355, 764, 1318, 318, 1204, 3675, 14179, 11, 2158, 13, 383, 3576, 263, 468, 18976, 257, 3195, 3807, 1444, 366, 3666, 6387, 3619, 553, 546, 1772, 17421, 9413, 21927, 11347, 290, 465, 3367, 11, 2233, 329, 2650, 1568, 428, 614, 13, 679, 481, 635, 1656, 287, 366, 20588, 17528, 553, 281, 6638, 2646, 546, 1440, 6510, 508, 6654, 281, 26051, 496, 13, 20635, 428, 614, 11, 339, 925, 465, 3800, 8886, 2712, 257, 22485, 15287, 287, 5613, 911, 31183, 338, 366, 23588, 385, 526, 11214, 11, 339, 318, 865, 2286, 329, 772, 5699, 2056, 14521, 783, 326, 339, 338, 11119, 281, 4044, 25, 366, 40, 655, 892, 314, 1101, 1016, 284, 307, 517, 3297, 286, 3148, 983, 553, 339, 1297, 8428, 13, 412, 12, 4529, 284, 257, 1545, 764, 15069, 4343, 8428, 13, 1439, 2489, 10395, 13, 1212, 2587, 743, 407, 307, 3199, 11, 7025, 11, 30101, 11, 393, 38913, 13, 198, 14990, 26, 7707, 25, 7806, 5325, 33783, 4962, 1248, 319, 2795, 1542, 400, 290, 981, 339, 468, 7478, 39025, 257, 15807, 6108, 379, 4248, 1238, 1510, 11, 339, 318, 5410, 284, 4341, 465, 40000, 5129, 25220, 1473, 13, 5325, 33783, 481, 307, 3142, 284, 32385, 11, 2822, 5548, 11, 290, 2342, 366, 17932, 417, 25, 2142, 2873, 1, 379, 262, 2479, 286, 1248, 11, 996, 3307, 286, 703, 339, 8849, 465, 23554, 10955, 389, 6439, 13, 679, 19582, 284, 2583, 257, 1402, 11228, 11, 12316, 340, 338, 1165, 2562, 284, 1716, 366]\n",
      "Labels:\n",
      "[-100, -100, -100, -100, -100, -100, -100, -100, -100, -100, -100, -100, -100, -100, -100, -100, -100, -100, -100, -100, -100, -100, -100, -100, -100, -100, -100, -100, -100, -100, -100, -100, -100, -100, -100, -100, -100, -100, -100, -100, -100, -100, -100, -100, -100, -100, -100, -100, -100, -100, -100, -100, -100, -100, -100, -100, -100, -100, -100, -100, -100, -100, -100, -100, -100, -100, -100, -100, -100, -100, -100, -100, -100, -100, -100, -100, -100, -100, -100, -100, -100, -100, -100, -100, -100, -100, -100, -100, -100, -100, -100, -100, -100, -100, -100, -100, -100, -100, -100, -100, -100, -100, -100, -100, -100, -100, -100, -100, -100, -100, -100, -100, -100, -100, -100, -100, -100, -100, -100, -100, -100, -100, -100, -100, -100, -100, -100, -100, -100, -100, -100, -100, -100, -100, -100, -100, -100, -100, -100, -100, -100, -100, -100, -100, -100, -100, -100, -100, -100, -100, -100, -100, -100, -100, -100, -100, -100, -100, -100, -100, -100, -100, -100, -100, -100, -100, -100, -100, -100, -100, -100, -100, -100, -100, -100, -100, -100, -100, -100, -100, -100, -100, -100, -100, -100, -100, -100, -100, -100, -100, -100, -100, -100, -100, -100, -100, -100, -100, -100, -100, -100, -100, -100, -100, -100, -100, -100, -100, -100, -100, -100, -100, -100, -100, -100, -100, -100, -100, -100, -100, -100, -100, -100, -100, -100, -100, -100, -100, -100, -100, -100, -100, -100, -100, -100, -100, -100, -100, -100, -100, -100, -100, -100, -100, -100, -100, -100, -100, -100, -100, -100, -100, -100, -100, -100, -100, -100, -100, -100, -100, -100, -100, -100, -100, -100, -100, -100, -100, -100, -100, -100, -100, -100, -100, -100, -100, -100, -100, -100, -100, -100, -100, -100, -100, -100, -100, -100, -100, -100, -100, -100, -100, -100, -100, -100, -100, -100, -100, -100, -100, -100, -100, -100, -100, -100, -100, -100, -100, -100, -100, -100, -100, -100, -100, -100, -100, -100, -100, -100, -100, -100, -100, -100, -100, -100, -100, -100, -100, -100, -100, -100, -100, -100, -100, -100, -100, -100, -100, -100, -100, -100, -100, -100, -100, -100, -100, -100, -100, -100, -100, -100, -100, -100, -100, -100, -100, -100, -100, -100, -100, -100, -100, -100, -100, -100, -100, -100, -100, -100, -100, -100, -100, -100, -100, -100, -100, -100, -100, -100, -100, -100, -100, -100, -100, -100, -100, -100, -100, -100, -100, -100, -100, -100, -100, -100, -100, -100, -100, -100, -100, -100, -100, -100, -100, -100, -100, -100, -100, -100, -100, -100, -100, -100, -100, -100, -100, -100, -100, -100, -100, -100, -100, -100, -100, -100, -100, -100, -100, -100, -100, -100, -100, -100, -100, -100, -100, -100, -100, -100, -100, -100, -100, -100, -100, -100, -100, -100, -100, -100, -100, -100, -100, -100, -100, -100, -100, -100, -100, -100, -100, -100, -100, -100, -100, -100, -100, -100, -100, -100, -100, -100, -100, -100, -100, -100, -100, -100, -100, -100, -100, -100, -100, -100, -100, -100, -100, -100, -100, -100, -100, -100, -100, -100, -100, -100, -100, -100, -100, -100, -100, -100, -100, -100, -100, -100, -100, -100, -100, -100, -100, -100, -100, -100, -100, -100, -100, -100, -100, -100, -100, -100, -100, -100, -100, -100, -100, -100, -100, -100, -100, -100, -100, -100, -100, -100, -100, -100, -100, -100, -100, -100, -100, -100, -100, -100, -100, -100, -100, -100, -100, -100, -100, -100, -100, -100, -100, -100, -100, -100, -100, -100, -100, -100, -100, -100, -100, -100, -100, 7806, 5325, 33783, 4962, 1248, 319, 2795, 1542, 400, 290, 981, 339, 468, 7478, 39025, 257, 15807, 6108, 379, 4248, 1238, 1510, 11, 339, 318, 5410, 284, 4341, 465, 40000, 5129, 25220, 1473, 13, 5325, 33783, 481, 307, 3142, 284, 32385, 11, 2822, 5548, 11, 290, 2342, 366, 17932, 417, 25, 2142, 2873, 1, 379, 262, 2479, 286, 1248, 11, 996, 3307, 286, 703, 339, 8849, 465, 23554, 10955, 389, 6439, 13, 679, 19582, 284, 2583, 257, 1402, 11228, 11, 12316, 340, 338, 1165, 2562, 284, 1716, 366]\n",
      "***********************\n",
      "\n",
      "\n",
      "Input Text:\n",
      "('LONDON, England (Reuters) -- Harry Potter star Daniel Radcliffe gains access '\n",
      " 'to a reported £20 million ($41.1 million) fortune as he turns 18 on Monday, '\n",
      " \"but he insists the money won't cast a spell on him. Daniel Radcliffe as \"\n",
      " 'Harry Potter in \"Harry Potter and the Order of the Phoenix\" To the '\n",
      " 'disappointment of gossip columnists around the world, the young actor says '\n",
      " 'he has no plans to fritter his cash away on fast cars, drink and celebrity '\n",
      " 'parties. \"I don\\'t plan to be one of those people who, as soon as they turn '\n",
      " '18, suddenly buy themselves a massive sports car collection or something '\n",
      " 'similar,\" he told an Australian interviewer earlier this month. \"I don\\'t '\n",
      " 'think I\\'ll be particularly extravagant. \"The things I like buying are '\n",
      " 'things that cost about 10 pounds -- books and CDs and DVDs.\" At 18, '\n",
      " 'Radcliffe will be able to gamble in a casino, buy a drink in a pub or see '\n",
      " 'the horror film \"Hostel: Part II,\" currently six places below his number one '\n",
      " \"movie on the UK box office chart. Details of how he'll mark his landmark \"\n",
      " 'birthday are under wraps. His agent and publicist had no comment on his '\n",
      " 'plans. \"I\\'ll definitely have some sort of party,\" he said in an interview. '\n",
      " '\"Hopefully none of you will be reading about it.\" Radcliffe\\'s earnings from '\n",
      " 'the first five Potter films have been held in a trust fund which he has not '\n",
      " 'been able to touch. Despite his growing fame and riches, the actor says he '\n",
      " 'is keeping his feet firmly on the ground. \"People are always looking to say '\n",
      " '\\'kid star goes off the rails,\\'\" he told reporters last month. \"But I try '\n",
      " 'very hard not to go that way because it would be too easy for them.\" His '\n",
      " 'latest outing as the boy wizard in \"Harry Potter and the Order of the '\n",
      " 'Phoenix\" is breaking records on both sides of the Atlantic and he will '\n",
      " 'reprise the role in the last two films.  Watch I-Reporter give her review of '\n",
      " \"Potter's latest » . There is life beyond Potter, however. The Londoner has \"\n",
      " 'filmed a TV movie called \"My Boy Jack,\" about author Rudyard Kipling and his '\n",
      " 'son, due for release later this year. He will also appear in \"December '\n",
      " 'Boys,\" an Australian film about four boys who escape an orphanage. Earlier '\n",
      " 'this year, he made his stage debut playing a tortured teenager in Peter '\n",
      " 'Shaffer\\'s \"Equus.\" Meanwhile, he is braced for even closer media scrutiny '\n",
      " 'now that he\\'s legally an adult: \"I just think I\\'m going to be more sort of '\n",
      " 'fair game,\" he told Reuters. E-mail to a friend . Copyright 2007 Reuters. '\n",
      " 'All rights reserved.This material may not be published, broadcast, '\n",
      " 'rewritten, or redistributed.\\n'\n",
      " 'TL;DR: Daniel Radcliffe turns 18 on June 30th and while he has reportedly '\n",
      " 'amassed a fortune estimated at £20 million, he is planning to spend his '\n",
      " 'newfound wealth prudently. Radcliffe will be allowed to gamble, buy alcohol, '\n",
      " 'and watch \"Hostel: Part II\" at the age of 18, though details of how he marks '\n",
      " 'his milestone birthday are unknown. He intends to host a small gathering, '\n",
      " 'stating it\\'s too easy to become \"')\n"
     ]
    }
   ],
   "execution_count": 49
  },
  {
   "cell_type": "markdown",
   "metadata": {},
   "source": [
    "### Fine-tuning the student model\n",
    "\n",
    "We are now ready to fine-tune the student model. While this might sound like a daunting task, we actually need not write much code for this. Transformers library has a `Trainer` class that takes care of the fine-tuning process. We will use the `TrainingArguments` class to set the training arguments and the `Trainer` class to fine-tune the model. Below is the code to fine-tune the student model."
   ]
  },
  {
   "cell_type": "code",
   "metadata": {
    "ExecuteTime": {
     "end_time": "2024-12-06T06:43:32.338052Z",
     "start_time": "2024-12-06T06:43:32.328346Z"
    }
   },
   "source": [
    "torch.cuda.empty_cache()"
   ],
   "outputs": [],
   "execution_count": 50
  },
  {
   "cell_type": "code",
   "metadata": {
    "ExecuteTime": {
     "end_time": "2024-12-06T06:44:39.000952Z",
     "start_time": "2024-12-06T06:43:32.497782Z"
    }
   },
   "source": [
    "from transformers import TrainingArguments, Trainer, DataCollatorForSeq2Seq\n",
    "\n",
    "def fine_tune_student_model(\n",
    "    student_model,\n",
    "    train_tokenized_data,\n",
    "    val_tokenized_data,\n",
    "    student_tokenizer,\n",
    "    output_dir=\"checkpoints/\",\n",
    "    logging_steps=10,\n",
    "    eval_steps=50,\n",
    "    logging_first_step=True,\n",
    "    learning_rate=2e-5,\n",
    "    warmup_steps=100,\n",
    "    per_device_train_batch_size=2,\n",
    "    per_device_eval_batch_size=2,\n",
    "    gradient_accumulation_steps=4,\n",
    "    num_train_epochs=2,\n",
    "    weight_decay=0.01,\n",
    "    fp16=True,\n",
    "    seed=42,\n",
    "):\n",
    "\n",
    "    \"\"\"\n",
    "    Fine-tunes the student (language) model.\n",
    "\n",
    "    Inputs:\n",
    "    - student_model: The student (language) model to be fine-tuned.\n",
    "    - train_tokenized_data: The tokenized training data.\n",
    "    - val_tokenized_data: The tokenized validation data.\n",
    "    - student_tokenizer: The tokenizer for the student model.\n",
    "    - output_dir: The directory to save the fine-tuned model.\n",
    "    - learning_rate: The learning rate for the optimizer.\n",
    "    - warmup_steps: The number of steps to warm up the learning rate. This is used to gradually increase the learning rate during training.\n",
    "    - per_device_train_batch_size: The batch size for training per device. \n",
    "    - per_device_eval_batch_size: The batch size for evaluation per device.\n",
    "    - gradient_accumulation_steps: The number of steps to accumulate gradients before updating the model weights. # This is a trick to use a larger effective batch size when low on memory. Basically, we accumulate gradients for `gradient_accumulation_steps` steps before updating the model weights using SGD, which is equivalent to using a batch size of `gradient_accumulation_steps * per_device_train_batch_size` times the per_device_train_batch_size.\n",
    "    - num_train_epochs: The number of training epochs.\n",
    "    - weight_decay: The weight decay for the optimizer. This is a regularization technique to prevent overfitting.\n",
    "    - fp16: Whether to use 16-bit precision. This is used to speed up the training process and reduce the memory usage.\n",
    "    - seed: The random seed to use for training. This is used to ensure reproducibility of the training process.\n",
    "    \"\"\"\n",
    "\n",
    "    # Set training arguments.\n",
    "    # This involves things like learning rate, batch size, number of epochs, etc.\n",
    "    training_args = TrainingArguments(\n",
    "        output_dir=\"checkpoints/\",\n",
    "        logging_steps=10,\n",
    "        eval_strategy=\"steps\",\n",
    "        eval_steps=50,\n",
    "        logging_first_step=True,\n",
    "        learning_rate=learning_rate,\n",
    "        warmup_steps=warmup_steps,\n",
    "        per_device_train_batch_size=per_device_train_batch_size,\n",
    "        per_device_eval_batch_size=per_device_eval_batch_size,\n",
    "        gradient_accumulation_steps=gradient_accumulation_steps,\n",
    "        num_train_epochs=num_train_epochs,\n",
    "        weight_decay=weight_decay,\n",
    "        fp16=fp16,\n",
    "        seed=seed,\n",
    "        report_to=\"none\",\n",
    "    )\n",
    "\n",
    "    # Create a data collator for dynamic padding\n",
    "    # A data collator is used to construct batches of data from the dataset.\n",
    "    data_collator = DataCollatorForSeq2Seq(\n",
    "        tokenizer=student_tokenizer, model=student_model, padding=\"longest\"\n",
    "    )\n",
    "\n",
    "    # Create a trainer\n",
    "    trainer = Trainer(\n",
    "        model=student_model,\n",
    "        args=training_args,\n",
    "        train_dataset=train_tokenized_data,\n",
    "        eval_dataset=val_tokenized_data,\n",
    "        data_collator=data_collator,\n",
    "    )\n",
    "\n",
    "    # Fine-tune the model\n",
    "    trainer.train()\n",
    "\n",
    "set_seed()\n",
    "student_model = AutoModelForCausalLM.from_pretrained(\"gpt2\")\n",
    "student_model = student_model.to(device)\n",
    "student_tokenizer.pad_token_id = student_tokenizer.eos_token_id\n",
    "fine_tune_student_model(\n",
    "    student_model,\n",
    "    train_tokenized_data,\n",
    "    val_tokenized_data,\n",
    "    student_tokenizer,\n",
    "    learning_rate=2e-5,\n",
    "    warmup_steps=100,\n",
    "    per_device_train_batch_size=2,\n",
    "    per_device_eval_batch_size=2,\n",
    "    gradient_accumulation_steps=4,\n",
    "    num_train_epochs=2,\n",
    "    weight_decay=0.01,\n",
    "    fp16=True,\n",
    "    seed=42,\n",
    ")"
   ],
   "outputs": [
    {
     "data": {
      "text/plain": [
       "<IPython.core.display.HTML object>"
      ],
      "text/html": [
       "\n",
       "    <div>\n",
       "      \n",
       "      <progress value='250' max='250' style='width:300px; height:20px; vertical-align: middle;'></progress>\n",
       "      [250/250 01:05, Epoch 2/2]\n",
       "    </div>\n",
       "    <table border=\"1\" class=\"dataframe\">\n",
       "  <thead>\n",
       " <tr style=\"text-align: left;\">\n",
       "      <th>Step</th>\n",
       "      <th>Training Loss</th>\n",
       "      <th>Validation Loss</th>\n",
       "    </tr>\n",
       "  </thead>\n",
       "  <tbody>\n",
       "    <tr>\n",
       "      <td>50</td>\n",
       "      <td>17.559000</td>\n",
       "      <td>3.282049</td>\n",
       "    </tr>\n",
       "    <tr>\n",
       "      <td>100</td>\n",
       "      <td>12.319900</td>\n",
       "      <td>3.090302</td>\n",
       "    </tr>\n",
       "    <tr>\n",
       "      <td>150</td>\n",
       "      <td>11.739600</td>\n",
       "      <td>3.096331</td>\n",
       "    </tr>\n",
       "    <tr>\n",
       "      <td>200</td>\n",
       "      <td>11.297300</td>\n",
       "      <td>3.136682</td>\n",
       "    </tr>\n",
       "    <tr>\n",
       "      <td>250</td>\n",
       "      <td>10.749100</td>\n",
       "      <td>3.059554</td>\n",
       "    </tr>\n",
       "  </tbody>\n",
       "</table><p>"
      ]
     },
     "metadata": {},
     "output_type": "display_data"
    }
   ],
   "execution_count": 51
  },
  {
   "cell_type": "markdown",
   "metadata": {},
   "source": [
    "The reference training and validation losses are 2.61 and 3.01 respectively. Differences of +/- 0.2 are acceptable."
   ]
  },
  {
   "cell_type": "markdown",
   "metadata": {},
   "source": [
    "Let's now generate summaries with the fine-tuned student model and evaluate the performance."
   ]
  },
  {
   "cell_type": "code",
   "metadata": {
    "ExecuteTime": {
     "end_time": "2024-12-06T06:46:44.273717Z",
     "start_time": "2024-12-06T06:44:39.055634Z"
    }
   },
   "source": [
    "set_seed()\n",
    "student_tokenizer.padding_side = \"left\" #Padding side left for generation \n",
    "pred_summaries_ft_student = summarize_wth_student_model(\n",
    "    cnn_dm_cse447_dataset[\"val\"][\"article\"],\n",
    "    student_model,\n",
    "    student_tokenizer,\n",
    "    p=0.9,\n",
    "    temperature=1.0,\n",
    "    device=\"cuda\",\n",
    ")"
   ],
   "outputs": [
    {
     "name": "stderr",
     "output_type": "stream",
     "text": [
      "100%|██████████| 125/125 [02:05<00:00,  1.00s/it]\n"
     ]
    }
   ],
   "execution_count": 52
  },
  {
   "cell_type": "code",
   "metadata": {
    "ExecuteTime": {
     "end_time": "2024-12-06T06:46:44.310705Z",
     "start_time": "2024-12-06T06:46:44.306288Z"
    }
   },
   "source": [
    "# Inspect the summaries\n",
    "print(\"Article:\")\n",
    "pprint(cnn_dm_cse447_dataset[\"val\"][0][\"article\"])\n",
    "print(\"***********************\\n\\n\")\n",
    "print(\"Generated summary:\")\n",
    "pprint(pred_summaries_ft_student[0])\n",
    "print(\"***********************\\n\\n\")\n",
    "print(\"Gold summary:\")\n",
    "pprint(cnn_dm_cse447_dataset[\"val\"][0][\"summary\"])"
   ],
   "outputs": [
    {
     "name": "stdout",
     "output_type": "stream",
     "text": [
      "Article:\n",
      "('(CNN)French striker Bafetimbi Gomis, who has a history of fainting, said he '\n",
      " 'is now \"feeling well\" after collapsing during Swansea\\'s 3-2 loss at '\n",
      " 'Tottenham in the Premier League on Wednesday. The worrying incident occurred '\n",
      " 'in the first half at White Hart Lane -- after Tottenham scored in the '\n",
      " 'seventh minute -- but the 29-year-old left the pitch conscious following '\n",
      " 'about five minutes of treatment. The Guardian added that he was wearing an '\n",
      " 'oxygen mask. Play was temporarily stopped before resuming. As the match '\n",
      " 'progressed, Swansea tweeted that Gomis was \"fine,\" with manager Garry Monk '\n",
      " \"using the same word to describe Gomis' condition. Gomis spent the night in \"\n",
      " 'hospital as a precaution, Swansea said on its website. \"I wanted to reassure '\n",
      " 'you concerning my health,\" Gomis told the website. \"It actually looks much '\n",
      " 'scarier than it is physically dangerous, and I am feeling well now. \"I have '\n",
      " \"been under a great deal of stress and fatigue due to my father's health, \"\n",
      " 'which requires me to go back and forth from France. \"I was disappointed that '\n",
      " \"I couldn't help my team tonight, but now everything is back in order. I also \"\n",
      " 'want to thank everyone for their support and get well messages.\" Gomis had '\n",
      " 'similar fainting spells in France, which prompted the president of his '\n",
      " 'former club, Jean-Michel Aulas of Lyon, to tell French television in 2009: '\n",
      " '\"We can\\'t not be worried, it scares you each time.\" Swansea ran tests on '\n",
      " 'Gomis, said Monk, prior to signing him on a free transfer last July. \"He '\n",
      " 'just has a little bit of low blood pressure which causes you a little bit of '\n",
      " 'problems,\" Monk said in a televised interview on Sky. \"It\\'s been part of '\n",
      " \"his life. We were well aware of that when we signed him. He's done all the \"\n",
      " \"hospital checks and all the medical checks you can possibly do and it's just \"\n",
      " 'part of his life. \"It\\'s no problems whatsoever. It\\'s not as serious as it '\n",
      " 'looks.\" Gomis has scored two league goals for Swansea this season, mostly in '\n",
      " \"a backup role. He became the Welsh side's top striker when Wilfried Bony \"\n",
      " 'signed with Manchester City in January. Almost exactly three years ago at '\n",
      " 'White Hart Lane, then Bolton midfielder Fabrice Muamba collapsed after '\n",
      " 'suffering a cardiac arrest. He was near death,  according to Bolton, but '\n",
      " 'survived after being treated at the London Chest Hospital. He subsequently '\n",
      " 'retired. Other footballers, including Cameroon international Marc-Vivien Foe '\n",
      " \"in 2003 and Spanish international Antonio Puerta in 2007, didn't survive \"\n",
      " 'after collapsing on the pitch.')\n",
      "***********************\n",
      "\n",
      "\n",
      "Generated summary:\n",
      "(' Belgian striker Bafetimbi Gomis, who has a history of fainting, said he is '\n",
      " \"now feeling well after collapsing during Swansea's 3-2 loss at Tottenham in \"\n",
      " 'the Premier League on Wednesday. He was wearing an oxygen mask while '\n",
      " 'attempting to return to the stadium due to exhaustion, but was unable to '\n",
      " 'manage for long periods due to high blood pressure and mental aches. The '\n",
      " 'striker, who has played for seven different clubs since leaving to join '\n",
      " 'Premier League side AC Milan, reportedly')\n",
      "***********************\n",
      "\n",
      "\n",
      "Gold summary:\n",
      "('Bafetimbi Gomis collapses within 10 minutes of kickoff at Tottenham .\\n'\n",
      " 'But he reportedly left the pitch conscious and wearing an oxygen mask .\\n'\n",
      " 'Gomis later said that he was \"feeling well\"\\n'\n",
      " 'The incident came three years after Fabrice Muamba collapsed at White Hart '\n",
      " 'Lane .')\n"
     ]
    }
   ],
   "execution_count": 53
  },
  {
   "cell_type": "markdown",
   "metadata": {},
   "source": [
    "While not perfect, the summaries generated by the fine-tuned student model are much better than the ones generated by the student model before fine-tuning. Let's now evaluate the performance of the fine-tuned student model."
   ]
  },
  {
   "cell_type": "code",
   "metadata": {
    "ExecuteTime": {
     "end_time": "2024-12-06T06:46:48.333693Z",
     "start_time": "2024-12-06T06:46:44.354502Z"
    }
   },
   "source": [
    "import evaluate\n",
    "teacher_rouge = evaluate.load(\"rouge\")\n",
    "scores = teacher_rouge.compute(\n",
    "    predictions=pred_summaries_ft_student,\n",
    "    references=cnn_dm_cse447_dataset[\"val\"][\"summary\"],\n",
    "    use_stemmer=True,\n",
    ")\n",
    "scores"
   ],
   "outputs": [
    {
     "data": {
      "text/plain": [
       "{'rouge1': 0.2314907258730331,\n",
       " 'rouge2': 0.055315187761111995,\n",
       " 'rougeL': 0.14569933195061446,\n",
       " 'rougeLsum': 0.1839563766484451}"
      ]
     },
     "execution_count": 54,
     "metadata": {},
     "output_type": "execute_result"
    }
   ],
   "execution_count": 54
  },
  {
   "cell_type": "markdown",
   "metadata": {},
   "source": [
    "You should see the following scores:\n",
    "- rouge1: 0.230\n",
    "- rouge2: 0.055\n",
    "- rougeL: 0.145\n",
    "- rougeLsum: 0.185\n",
    "\n",
    "Differences of +/- 0.02 in ROUGE scores are acceptable.\n",
    "\n",
    "As you can see, the fine-tuned student model performs much better than the student model before fine-tuning. This is impressive because we used very small teacher and student models and only used 1000 examples for distillation.\n",
    "\n",
    "In practice, you would want to use a much bigger teacher model and a bigger student model to get better performance. The purpose of this exercise is to give you an idea of how distillation works and how you can use it for your own use cases."
   ]
  },
  {
   "metadata": {
    "ExecuteTime": {
     "end_time": "2024-12-06T06:53:14.513052Z",
     "start_time": "2024-12-06T06:53:12.459582Z"
    }
   },
   "cell_type": "code",
   "source": [
    "# GPT2 real-data fine-tuning\n",
    "# select just the first 1000 examples\n",
    "train_data_og = cnn_dm_cse447_dataset[\"train\"].select(range(1000))\n",
    "train_tokenized_data_og = train_data_og.map(\n",
    "    lambda example: prepare_data_for_distillation(\n",
    "        example[\"article\"],\n",
    "        example[\"summary\"],\n",
    "        student_tokenizer,\n",
    "        max_length=1024,\n",
    "    ),\n",
    "    batched=False,\n",
    "    remove_columns=cnn_dm_cse447_dataset[\"train\"].column_names\n",
    ")"
   ],
   "outputs": [
    {
     "data": {
      "text/plain": [
       "Map:   0%|          | 0/1000 [00:00<?, ? examples/s]"
      ],
      "application/vnd.jupyter.widget-view+json": {
       "version_major": 2,
       "version_minor": 0,
       "model_id": "fdd67660a72d46f39fcf6ed6740da93c"
      }
     },
     "metadata": {},
     "output_type": "display_data"
    }
   ],
   "execution_count": 57
  },
  {
   "metadata": {
    "ExecuteTime": {
     "end_time": "2024-12-06T06:54:24.261139Z",
     "start_time": "2024-12-06T06:53:18.583268Z"
    }
   },
   "cell_type": "code",
   "source": [
    "gpt2_real = AutoModelForCausalLM.from_pretrained(\"gpt2\")\n",
    "gpt2_real = gpt2_real.to(device)\n",
    "fine_tune_student_model(\n",
    "    gpt2_real,\n",
    "    train_tokenized_data_og,\n",
    "    val_tokenized_data,\n",
    "    student_tokenizer,\n",
    "    learning_rate=2e-5,\n",
    "    warmup_steps=100,\n",
    "    per_device_train_batch_size=2,\n",
    "    per_device_eval_batch_size=2,\n",
    "    gradient_accumulation_steps=4,\n",
    "    num_train_epochs=2,\n",
    "    weight_decay=0.01,\n",
    "    fp16=True,\n",
    "    seed=42,\n",
    ")"
   ],
   "outputs": [
    {
     "data": {
      "text/plain": [
       "<IPython.core.display.HTML object>"
      ],
      "text/html": [
       "\n",
       "    <div>\n",
       "      \n",
       "      <progress value='250' max='250' style='width:300px; height:20px; vertical-align: middle;'></progress>\n",
       "      [250/250 01:04, Epoch 2/2]\n",
       "    </div>\n",
       "    <table border=\"1\" class=\"dataframe\">\n",
       "  <thead>\n",
       " <tr style=\"text-align: left;\">\n",
       "      <th>Step</th>\n",
       "      <th>Training Loss</th>\n",
       "      <th>Validation Loss</th>\n",
       "    </tr>\n",
       "  </thead>\n",
       "  <tbody>\n",
       "    <tr>\n",
       "      <td>50</td>\n",
       "      <td>17.437100</td>\n",
       "      <td>3.052013</td>\n",
       "    </tr>\n",
       "    <tr>\n",
       "      <td>100</td>\n",
       "      <td>12.723100</td>\n",
       "      <td>2.340843</td>\n",
       "    </tr>\n",
       "    <tr>\n",
       "      <td>150</td>\n",
       "      <td>11.331000</td>\n",
       "      <td>2.214711</td>\n",
       "    </tr>\n",
       "    <tr>\n",
       "      <td>200</td>\n",
       "      <td>10.607000</td>\n",
       "      <td>2.189112</td>\n",
       "    </tr>\n",
       "    <tr>\n",
       "      <td>250</td>\n",
       "      <td>10.658600</td>\n",
       "      <td>2.176201</td>\n",
       "    </tr>\n",
       "  </tbody>\n",
       "</table><p>"
      ]
     },
     "metadata": {},
     "output_type": "display_data"
    }
   ],
   "execution_count": 58
  },
  {
   "metadata": {
    "ExecuteTime": {
     "end_time": "2024-12-06T06:57:20.657430Z",
     "start_time": "2024-12-06T06:55:12.648343Z"
    }
   },
   "cell_type": "code",
   "source": [
    "set_seed()\n",
    "pred_summaries_gpt2_real = summarize_wth_student_model(\n",
    "    cnn_dm_cse447_dataset[\"val\"][\"article\"],\n",
    "    gpt2_real,\n",
    "    student_tokenizer,\n",
    "    p=0.9,\n",
    "    temperature=1.0,\n",
    "    device=\"cuda\",\n",
    ")"
   ],
   "outputs": [
    {
     "name": "stderr",
     "output_type": "stream",
     "text": [
      "100%|██████████| 125/125 [02:08<00:00,  1.02s/it]\n"
     ]
    }
   ],
   "execution_count": 60
  },
  {
   "metadata": {
    "ExecuteTime": {
     "end_time": "2024-12-06T06:57:41.009253Z",
     "start_time": "2024-12-06T06:57:38.076596Z"
    }
   },
   "cell_type": "code",
   "source": [
    "scores_gpt2_real = teacher_rouge.compute(\n",
    "    predictions=pred_summaries_gpt2_real,\n",
    "    references=cnn_dm_cse447_dataset[\"val\"][\"summary\"],\n",
    "    use_stemmer=True,\n",
    ")\n",
    "print(scores_gpt2_real)"
   ],
   "outputs": [
    {
     "name": "stdout",
     "output_type": "stream",
     "text": [
      "{'rouge1': 0.25105259258740115, 'rouge2': 0.06543180779171379, 'rougeL': 0.15868926385145793, 'rougeLsum': 0.23297995391604004}\n"
     ]
    }
   ],
   "execution_count": 62
  }
 ],
 "metadata": {
  "kernelspec": {
   "display_name": "Python 3 (ipykernel)",
   "language": "python",
   "name": "python3"
  },
  "language_info": {
   "codemirror_mode": {
    "name": "ipython",
    "version": 3
   },
   "file_extension": ".py",
   "mimetype": "text/x-python",
   "name": "python",
   "nbconvert_exporter": "python",
   "pygments_lexer": "ipython3",
   "version": "3.10.14"
  }
 },
 "nbformat": 4,
 "nbformat_minor": 4
}
