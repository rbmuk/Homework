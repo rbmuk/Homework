{
 "cells": [
  {
   "cell_type": "markdown",
   "metadata": {},
   "source": [
    "# Project 3a: Self-Attention and Transformers"
   ]
  },
  {
   "cell_type": "code",
   "metadata": {
    "ExecuteTime": {
     "end_time": "2024-12-05T22:20:01.159544Z",
     "start_time": "2024-12-05T22:19:56.918798Z"
    }
   },
   "source": [
    "import math\n",
    "import torch\n",
    "import torch.nn as nn\n",
    "import torch.nn.functional as F\n",
    "from transformers.models.mbart50.tokenization_mbart50_fast import MBart50Tokenizer"
   ],
   "outputs": [],
   "execution_count": 1
  },
  {
   "cell_type": "markdown",
   "metadata": {},
   "source": [
    "## 1.1: Implementing Self-Attention from Scratch\n",
    "\n",
    "This assignment is adapted from the code by Yegor Kuznetsov, Liwei Jiang, and Jaehun Jung."
   ]
  },
  {
   "cell_type": "markdown",
   "metadata": {},
   "source": [
    "## Preparation"
   ]
  },
  {
   "cell_type": "code",
   "metadata": {
    "ExecuteTime": {
     "end_time": "2024-12-05T22:20:01.172332Z",
     "start_time": "2024-12-05T22:20:01.168106Z"
    }
   },
   "source": [
    "######################################################\n",
    "#  The following code is given to you.\n",
    "######################################################\n",
    "\n",
    "\n",
    "def MHA_wrapper(query, key, value, n_heads=1, causal=False):\n",
    "    \"\"\"\n",
    "    This is a wrapper around the PyTorch implementation of multi-head attention.\n",
    "    You will use this implementation to compare to your implementation for code testing.\n",
    "    \"\"\"\n",
    "    assert query.shape == key.shape == value.shape\n",
    "    _, n_tok, n_embd = query.shape\n",
    "\n",
    "    query = query.transpose(0, 1)\n",
    "    key = key.transpose(0, 1)\n",
    "    value = value.transpose(0, 1)\n",
    "\n",
    "    in_proj_weight = torch.eye(n_embd, dtype=key.dtype, device=key.device).repeat(\n",
    "        (3, 1)\n",
    "    )\n",
    "    out_proj_weight = torch.eye(n_embd, dtype=key.dtype, device=key.device)\n",
    "\n",
    "    attn_mask = None\n",
    "    if causal:\n",
    "        attn_mask = torch.tril(\n",
    "            torch.ones(n_tok, n_tok, dtype=bool, device=key.device)\n",
    "        ).logical_not()\n",
    "\n",
    "    out, _ = F.multi_head_attention_forward(\n",
    "        query,\n",
    "        key,\n",
    "        value,\n",
    "        n_embd,\n",
    "        n_heads,\n",
    "        in_proj_weight=in_proj_weight,\n",
    "        in_proj_bias=None,\n",
    "        bias_k=None,\n",
    "        bias_v=None,\n",
    "        add_zero_attn=False,\n",
    "        dropout_p=0,\n",
    "        out_proj_weight=out_proj_weight,\n",
    "        out_proj_bias=None,\n",
    "        attn_mask=attn_mask,\n",
    "        need_weights=False,\n",
    "    )\n",
    "\n",
    "    return out.transpose(0, 1)"
   ],
   "outputs": [],
   "execution_count": 2
  },
  {
   "cell_type": "code",
   "metadata": {
    "ExecuteTime": {
     "end_time": "2024-12-05T22:20:01.188766Z",
     "start_time": "2024-12-05T22:20:01.173834Z"
    }
   },
   "source": [
    "######################################################\n",
    "#  The following code is given to you.\n",
    "######################################################\n",
    "\n",
    "# use cpu for now\n",
    "DEVICE = \"cpu\"\n",
    "\n",
    "# make these bigger if you want a stricter test of your code\n",
    "part1_n_tok = 10\n",
    "part1_n_emb = 6\n",
    "\n",
    "# generate fixed pseudo-random Q,K,V for testing attn function\n",
    "torch.manual_seed(447)\n",
    "\n",
    "# Initialize random testing Q,K,V\n",
    "part1_key = torch.randn(1, part1_n_tok, part1_n_emb)\n",
    "part1_value = torch.randn(1, part1_n_tok, part1_n_emb)\n",
    "part1_query = torch.randn(1, part1_n_tok, part1_n_emb)"
   ],
   "outputs": [],
   "execution_count": 3
  },
  {
   "cell_type": "markdown",
   "metadata": {},
   "source": [
    "## Step 0: Set up the projections for attention.\n",
    "**You will complete the following code blocks denoted by `TODO:`.** For now you don't need to implement anything here, as you go through the following steps, you will keep coming back to this cell and fill in your implementation."
   ]
  },
  {
   "metadata": {
    "ExecuteTime": {
     "end_time": "2024-12-06T02:31:23.885897Z",
     "start_time": "2024-12-06T02:31:23.882386Z"
    }
   },
   "cell_type": "code",
   "source": "NUM_LAYERS = 1 # global variable for small_fc method",
   "outputs": [],
   "execution_count": 86
  },
  {
   "cell_type": "code",
   "metadata": {
    "deletable": false,
    "nbgrader": {
     "cell_type": "code",
     "checksum": "b9ddabd8d7c4616b34b5146c9a3f57bc",
     "grade": false,
     "grade_id": "cell-452a25f05b3731e0",
     "locked": false,
     "schema_version": 3,
     "solution": true,
     "task": false
    },
    "ExecuteTime": {
     "end_time": "2024-12-05T22:34:38.505745Z",
     "start_time": "2024-12-05T22:34:38.501103Z"
    }
   },
   "source": [
    "def init_qkv_proj(n_embd: int):\n",
    "    \"\"\"\n",
    "    This function is given to you.\n",
    "    :return: A tuple of length 3 containing the projections for Q, K, V.\n",
    "    \"\"\"\n",
    "    return (\n",
    "        small_fc(n_embd),\n",
    "        small_fc(n_embd),\n",
    "        small_fc(n_embd)\n",
    "    )\n",
    "\n",
    "def small_fc(n_embd: int):\n",
    "    layers = [\n",
    "        layer \n",
    "        for _ in range(NUM_LAYERS)\n",
    "        for layer in (nn.Linear(n_embd, n_embd), nn.ReLU())\n",
    "    ]\n",
    "    layers.append(nn.Linear(n_embd, n_embd))\n",
    "    \n",
    "    return nn.Sequential(*layers)\n",
    "\n",
    "def self_attention(Q, K, V, n_heads=1, causal=True):\n",
    "    \"\"\"\n",
    "    Self-attention block.\n",
    "\n",
    "    Note: You will keep coming back to this cell and fill in more of this function\n",
    "    after completing each of the following steps! Don't forget to re-run this\n",
    "    cell each time you change it. Make sure that once you're done, all the testing\n",
    "    cells should work.\n",
    "\n",
    "    :return: A tensor containing the result of the self-attention operation.\n",
    "\n",
    "    \"\"\"\n",
    "    \n",
    "    assert Q.shape == K.shape == V.shape\n",
    "    B, n_tok, n_embd = Q.shape\n",
    "    \n",
    "    # TODO: Step 3 -- split heads\n",
    "    if n_heads > 1:\n",
    "        # YOUR CODE HERE\n",
    "        Q, K, V = split_heads_qkv(Q, K, V, n_heads)\n",
    "    \n",
    "    # TODO: Step 1 -- Calculate raw attention scores, i.e., before softmax\n",
    "    # Hint: you need two lines here.\n",
    "    # YOUR CODE HERE\n",
    "    A = pairwise_similarities(Q, K)\n",
    "    A = attn_scaled(A, n_embd, n_heads)\n",
    "\n",
    "    # TODO: Step 2 -- create and apply the causal mask to attention.\n",
    "    if causal:\n",
    "        # YOUR CODE HERE\n",
    "        M = make_causal_mask(n_tok)\n",
    "        A = apply_causal_mask(M, A)\n",
    "\n",
    "    # TODO: Step 1 -- softmax the raw attention and use it to get outputs.\n",
    "    # Hint: you need two lines here.\n",
    "    A = attn_softmax(A)\n",
    "    y = compute_outputs(A, V)\n",
    "    # YOUR CODE HERE\n",
    "    # TODO: Step 3 -- merge heads.\n",
    "    if n_heads > 1:\n",
    "        # YOUR CODE HERE\n",
    "        y = merge_heads(y)\n",
    "    # output should have the same shape as input\n",
    "    assert y.shape == (B, n_tok, n_embd)\n",
    "    return y"
   ],
   "outputs": [],
   "execution_count": 34
  },
  {
   "cell_type": "markdown",
   "metadata": {},
   "source": [
    "## Step 1: Implement the core components of attention.\n",
    "\n",
    "Note that a self attention block consists of the following computations:\n",
    "\n",
    "Given a set of query vectors $Q$, key vectors $K$, and value vectors $V$,\n",
    "\n",
    "Compute the raw attention scores $A$ as:\n",
    "$$ A = \\frac{1}{\\sqrt{d_{\\text{head}}}}QK^T $$\n",
    "\n",
    "Apply a softmax to the scaled scores to get the attention weights:\n",
    "$$ A = \\texttt{softmax} (A) $$\n",
    "\n",
    "Compute the output vectors by taking a weighted sum of the value vectors, weighted by the attention weights:\n",
    "$$ O = AV $$\n",
    "\n",
    "Note that $d_{\\text{head}}$ is the dimensionality of the feature vectors i.e. query, key, and value vectors and is given by $\\frac{d_{\\text{model}}}{n_{\\text{heads}}}$, where $d_{\\text{model}}$ is the embedding dimension of the model and $n_{\\text{heads}}$ is the number of attention heads.\n"
   ]
  },
  {
   "cell_type": "markdown",
   "metadata": {},
   "source": [
    "Useful tips:\n",
    "- You can use the `@` operator to perform matrix multiplication. Alternatively, you can use the `torch.matmul` function.\n",
    "- For the batched cases, for e.g., you have a tensor X of shape (B, m, n) and another tensor Y of shape (B, n, m), then X@Y performs the matrix multiplication for each of the batch elements, giving you a tensor of shape (B, m, m).\n",
    "- You can use the `transpose` method to transpose matrices in pytorch. If you have a tensor X of shape (B, n, m), then X.transpose(-2, -1) gives you a tensor of shape (B, m, n).\n",
    "- You might find the `F.softmax` function useful. Check the [documentation](https://pytorch.org/docs/stable/generated/torch.nn.functional.softmax.html) for more details.\n",
    "- Softmax is applied along the last dimension."
   ]
  },
  {
   "cell_type": "markdown",
   "metadata": {},
   "source": [
    "**You will complete the following code blocks denoted by `TODO:`.**"
   ]
  },
  {
   "cell_type": "code",
   "metadata": {
    "deletable": false,
    "nbgrader": {
     "cell_type": "code",
     "checksum": "7494548dfc26db5544b8ca7c0cf6989f",
     "grade": false,
     "grade_id": "cell-92dccd6159197a28",
     "locked": false,
     "schema_version": 3,
     "solution": true,
     "task": false
    },
    "ExecuteTime": {
     "end_time": "2024-12-05T22:20:01.294114Z",
     "start_time": "2024-12-05T22:20:01.290094Z"
    }
   },
   "source": [
    "def pairwise_similarities(Q, K):\n",
    "    \"\"\"\n",
    "    Dot product attention is computed via the dot product between each query and each key.\n",
    "\n",
    "    Inputs:\n",
    "    - Q: torch.Tensor, shape (B, n_tok, n_embd) or (B, n_heads, n_tok, n_embd) containing the queries, where B is the batch size, n_heads is the number of attention heads, n_tok is the number of tokens, and n_embd is the embedding dimension.\n",
    "    - K: torch.Tensor, shape (B, n_tok, n_embd) or (B, n_heads, n_tok, n_embd) containing the keys, where B is the batch size, n_heads is the number of attention heads, n_tok is the number of tokens, and n_embd is the embedding dimension.\n",
    "\n",
    "    :return: The raw attention scores, A = QK^T.\n",
    "    \"\"\"\n",
    "    # TODO:\n",
    "    # YOUR CODE HERE\n",
    "    return Q @ K.transpose(-2, -1)\n",
    "\n",
    "def attn_scaled(A, d_model: float, n_heads: float):\n",
    "    \"\"\"\n",
    "    Scale the raw attention scores.\n",
    "    Inputs:\n",
    "    - A: torch.Tensor, shape (B, n_tok, n_tok) or (B, n_heads, n_tok, n_tok) containing the raw attention scores, where B is the batch size, n_heads is the number of attention heads, n_tok is the number of tokens.\n",
    "    - d_model: int, the embedding dimension.\n",
    "    - n_heads: int, the number of attention heads.\n",
    "    :return: Scaled raw attention scores.\n",
    "\n",
    "    \"\"\"\n",
    "    # TODO:\n",
    "    # YOUR CODE HERE\n",
    "    d_head = d_model // n_heads\n",
    "    return A / math.sqrt(d_head)\n",
    "\n",
    "def attn_softmax(A):\n",
    "    \"\"\"\n",
    "    Normalize the scaled raw attention scores with softmax.\n",
    "    Inputs:\n",
    "    - A: torch.Tensor, shape (B, n_tok, n_tok) or (B, n_heads, n_tok, n_tok) containing the scaled raw attention scores, where B is the batch size, n_heads is the number of attention heads, n_tok is the number of tokens.\n",
    "    :return: Normalized attention scores, A' = softmax(A).\n",
    "    \"\"\"\n",
    "    # TODO:\n",
    "    # YOUR CODE HERE\n",
    "    return F.softmax(A, dim=-1)\n",
    "\n",
    "def compute_outputs(A, V):\n",
    "    \"\"\"\n",
    "    Get outputs as a weighted sum of values by attention scores, using matrices.\n",
    "    Inputs:\n",
    "    - A: torch.Tensor, shape (B, n_tok, n_tok) or (B, n_heads, n_tok, n_tok) containing the normalized attention scores, where B is the batch size, n_heads is the number of attention heads, n_tok is the number of tokens.\n",
    "    - V: torch.Tensor, shape (B, n_tok, n_embd) or (B, n_heads, n_tok, n_embd) containing the value vectors, where B is the batch size, n_heads is the number of attention heads, n_tok is the number of tokens, and n_embd is the embedding dimension.\n",
    "    :return: weighted sum of values by attention scores.\n",
    "    \"\"\"\n",
    "    # TODO:\n",
    "    # YOUR CODE HERE\n",
    "    return A @ V"
   ],
   "outputs": [],
   "execution_count": 5
  },
  {
   "cell_type": "markdown",
   "metadata": {},
   "source": [
    "## Test 1: Building Single-headed Self-attention without Masking\n",
    "\n",
    "Implement lines denoted by `Step 1` in `self-attention()`, and run the following test code to verify your implementation produces close enough results to the PyTorch implementation."
   ]
  },
  {
   "cell_type": "code",
   "metadata": {
    "ExecuteTime": {
     "end_time": "2024-12-05T22:20:01.356258Z",
     "start_time": "2024-12-05T22:20:01.335617Z"
    }
   },
   "source": [
    "######################################################\n",
    "#  The following code is given to you. DO NOT MODIFY.\n",
    "######################################################\n",
    "\n",
    "out_A = self_attention(part1_query, part1_key, part1_value, n_heads=1, causal=False)\n",
    "out_B = MHA_wrapper(part1_query, part1_key, part1_value, n_heads=1, causal=False)\n",
    "assert out_A.shape == out_B.shape == part1_query.shape\n",
    "\n",
    "print(\"max diff:\", (out_A - out_B).abs().max().item())"
   ],
   "outputs": [
    {
     "name": "stdout",
     "output_type": "stream",
     "text": [
      "max diff: 1.4901161193847656e-07\n"
     ]
    }
   ],
   "execution_count": 6
  },
  {
   "cell_type": "markdown",
   "metadata": {},
   "source": [
    "Max difference should be very small, our reference implementation gets a difference of the order of 1e-7"
   ]
  },
  {
   "cell_type": "markdown",
   "metadata": {},
   "source": [
    "## Step 2: Implement causal masking for language modeling.\n",
    "\n",
    "Note that for language modeling, since we are predicting the next token at every step, we cannot attend to future tokens. Therefore, we need to apply a causal mask to the attention scores, which is a lower triangular matrix, i.e., all the values above the diagonal are set to zero. Hence, the model can attend to the current and past tokens only."
   ]
  },
  {
   "cell_type": "markdown",
   "metadata": {},
   "source": [
    "Useful tips:\n",
    "\n",
    "- Note that the mask is applied to the attention scores **before** the softmax operation.\n",
    "- A 0 raw attention score (pre-softmax) doesn't mean that after applying softmax it will also be 0! Think what score should be used to represent a raw attention score so that when softmaxed it will be 0.\n",
    "- You might find the `masked_fill` method useful. Check the [documentation](https://pytorch.org/docs/stable/generated/torch.Tensor.masked_fill.html) for more details."
   ]
  },
  {
   "cell_type": "markdown",
   "metadata": {},
   "source": [
    "**You will complete the following code blocks denoted by `TODO:`.**"
   ]
  },
  {
   "cell_type": "code",
   "metadata": {
    "deletable": false,
    "nbgrader": {
     "cell_type": "code",
     "checksum": "add8173a9470c5d0c95e195cfd7bc3ae",
     "grade": false,
     "grade_id": "cell-58647279b9ee6bba",
     "locked": false,
     "schema_version": 3,
     "solution": true,
     "task": false
    },
    "ExecuteTime": {
     "end_time": "2024-12-05T22:20:01.417061Z",
     "start_time": "2024-12-05T22:20:01.412528Z"
    }
   },
   "source": [
    "def make_causal_mask(n_tok: int):\n",
    "    \"\"\"\n",
    "    Create a mask matrix that masks future context for the attention.\n",
    "    Inputs:\n",
    "    - n_tok: int, the number of tokens in the sequence.\n",
    "    :return: A mask matrix which is a tensor of shape (n_tok, n_tok)\n",
    "    \"\"\"\n",
    "    # TODO:\n",
    "    # YOUR CODE HERE\n",
    "    ones_matrix = torch.ones(n_tok, n_tok, dtype=torch.bool)\n",
    "    return torch.triu(ones_matrix, diagonal=1)\n",
    "    \n",
    "def apply_causal_mask(mask, A):\n",
    "    \n",
    "    \"\"\"\n",
    "    Apply mask to attention.\n",
    "    Inputs:\n",
    "    - mask: torch.Tensor, shape (n_tok, n_tok) containing the causal mask.\n",
    "    - A: torch.Tensor, shape (B, n_tok, n_tok) or (B, n_heads, n_tok, n_tok) containing the attention scores, where B is the batch size, n_heads is the number of attention heads, n_tok is the number of tokens.\n",
    "    :return: A masked attention matrix.\n",
    "    \"\"\"\n",
    "    # TODO:\n",
    "    # YOUR CODE HERE\n",
    "    # if mask is on the wrong device\n",
    "    mask = mask.to(A.device)\n",
    "    return A.masked_fill_(mask, float('-inf'))"
   ],
   "outputs": [],
   "execution_count": 7
  },
  {
   "cell_type": "markdown",
   "metadata": {},
   "source": [
    "## Test 2: Adding Causal Masks\n",
    "\n",
    "Implement lines denoted by `Step 2` in `self-attention()`, and run the following test code to verify your implementation produces close enough results to the PyTorch implementation."
   ]
  },
  {
   "cell_type": "code",
   "metadata": {
    "ExecuteTime": {
     "end_time": "2024-12-05T22:20:01.442317Z",
     "start_time": "2024-12-05T22:20:01.433262Z"
    }
   },
   "source": [
    "out_A = self_attention(part1_query, part1_key, part1_value, n_heads=1, causal=True)\n",
    "out_B = MHA_wrapper(part1_query, part1_key, part1_value, n_heads=1, causal=True)\n",
    "assert out_A.shape == out_B.shape == part1_query.shape\n",
    "\n",
    "print(\"max diff:\", (out_A - out_B).abs().max().item())"
   ],
   "outputs": [
    {
     "name": "stdout",
     "output_type": "stream",
     "text": [
      "max diff: 1.1920928955078125e-07\n"
     ]
    }
   ],
   "execution_count": 8
  },
  {
   "cell_type": "markdown",
   "metadata": {},
   "source": [
    "The max difference should be very small, our reference implementation gets a difference of the order of 1e-7"
   ]
  },
  {
   "cell_type": "markdown",
   "metadata": {},
   "source": [
    "## Step 3: Implement multi-head attention.\n",
    "\n",
    "Recall from the lecture that multi-head attention is implemented by running self-attention independently on each head and then concatenating the results. Specifically, we use the following steps:\n",
    "\n",
    "1. Split the queries, keys, and values into multiple heads.\n",
    "$$ Q = [Q_1, Q_2, \\ldots, Q_{n_{\\text{heads}}}], K = [K_1, K_2, \\ldots, K_{n_{\\text{heads}}}], V = [V_1, V_2, \\ldots, V_{n_{\\text{heads}}}] $$\n",
    "where $n_{\\text{heads}}$ is the number of heads. This is done by simply splitting the embedding dimension into $n_{\\text{heads}}$ chunks.\n",
    "\n",
    "2. Run self-attention independently on each head.\n",
    "$$ O_i = \\text{self\\_attention}(Q_i, K_i, V_i, n_{\\text{heads}}=n_{\\text{heads}}, causal=causal) $$\n",
    "for $i=1, 2, \\ldots, n_{\\text{heads}}$.\n",
    "Note that you don't actually need to call the self-attention function separately for each head. If your implementation is correct, you should be able to perform a single call to self_attention with the split Q, K, and V and get the same result.\n",
    "\n",
    "3. Concatenate the results of the heads.\n",
    "$$ O = \\text{concat}(O_1, O_2, \\ldots, O_{n_{\\text{heads}}}) $$"
   ]
  },
  {
   "cell_type": "markdown",
   "metadata": {},
   "source": [
    "Useful tips:\n",
    "- You might find the `.view` method useful for splitting and merging heads. Check the [documentation](https://pytorch.org/docs/stable/generated/torch.Tensor.view.html) for more details.\n",
    "- You might find the `.contiguous()` method useful for merging heads. Check the [documentation](https://pytorch.org/docs/stable/generated/torch.Tensor.contiguous.html) for more details."
   ]
  },
  {
   "cell_type": "markdown",
   "metadata": {},
   "source": [
    "**You will complete the following code blocks denoted by `TODO:`.**"
   ]
  },
  {
   "cell_type": "code",
   "metadata": {
    "deletable": false,
    "nbgrader": {
     "cell_type": "code",
     "checksum": "4dc9002e93f029e1a5ee8fcbd94953fe",
     "grade": false,
     "grade_id": "cell-6f76a75118763d8f",
     "locked": false,
     "schema_version": 3,
     "solution": true,
     "task": false
    },
    "ExecuteTime": {
     "end_time": "2024-12-05T22:20:01.508245Z",
     "start_time": "2024-12-05T22:20:01.503062Z"
    }
   },
   "source": [
    "def split_heads_qkv(Q, K, V, n_heads: int):\n",
    "    \"\"\"\n",
    "    Provided as a utility -- you can choose to not use it if you'd like.\n",
    "    \"\"\"\n",
    "    return split_heads(Q, n_heads), split_heads(K, n_heads), split_heads(V, n_heads)\n",
    "\n",
    "\n",
    "def split_heads(x, n_heads: int):\n",
    "    \"\"\"\n",
    "    Splitting x across multiple heads.\n",
    "    Inputs:\n",
    "    - x: torch.Tensor, shape (B, n_tok, n_embd) can be the queries, or keys, or values, where B is the batch size, n_tok is the number of tokens, and n_embd is the embedding dimension.\n",
    "    - n_heads: int, the number of heads.\n",
    "    :return: A split x, shape (B,n_heads, n_tok, n_embd // n_heads)\n",
    "    \"\"\"\n",
    "    B, n_tok, n_embd = x.size()\n",
    "    assert n_embd % n_heads == 0, \"d must be divisible by number of heads\"\n",
    "    # TODO:\n",
    "    # YOUR CODE HERE\n",
    "    # .view() only works by (reversing) concat if dimensions are adjacent\n",
    "    x = x.view(B, n_tok, n_heads, n_embd // n_heads)\n",
    "    # changes x to (B, n_heads, n_tok, n_embd // n_heads)\n",
    "    return x.transpose(1, 2)\n",
    "\n",
    "\n",
    "def merge_heads(y: torch.Tensor):\n",
    "    \"\"\"\n",
    "    Reversing splitting action of y.\n",
    "    Inputs: \n",
    "    - y: torch.Tensor, shape (B, n_heads, n_tok, n_embd // n_heads)\n",
    "    :return: A merged y, shape (B, n_tok, n_embd)\n",
    "    \"\"\"\n",
    "    B, nh, n_tok, nc = y.size()\n",
    "    # TODO:\n",
    "    # YOUR CODE HERE\n",
    "    # .view() only works by concat if dimensions are adjacent, and can only run if tensor is contiguous\n",
    "    # makes y (B, n_tok, n_heads, n_embd // n_heads)\n",
    "    y = y.transpose(1, 2)\n",
    "    return y.contiguous().view(B, n_tok, nc * nh)\n"
   ],
   "outputs": [],
   "execution_count": 9
  },
  {
   "cell_type": "markdown",
   "metadata": {},
   "source": [
    "## Test 3: Adding Multi-Head Attention\n",
    "\n",
    "Implement lines denoted by `Step 3` in `self-attention()`, and run the following test code to verify your implementation produces close enough results to the PyTorch implementation."
   ]
  },
  {
   "cell_type": "code",
   "metadata": {
    "ExecuteTime": {
     "end_time": "2024-12-05T22:20:01.531330Z",
     "start_time": "2024-12-05T22:20:01.525825Z"
    }
   },
   "source": [
    "######################################################\n",
    "#  The following code is given to you. DO NOT MODIFY.\n",
    "######################################################\n",
    "\n",
    "out_A = self_attention(part1_query, part1_key, part1_value, n_heads=3, causal=True)\n",
    "out_B = MHA_wrapper(part1_query, part1_key, part1_value, n_heads=3, causal=True)\n",
    "assert out_A.shape == out_B.shape == part1_query.shape\n",
    "\n",
    "print(\"max diff:\", (out_A - out_B).abs().max().item())"
   ],
   "outputs": [
    {
     "name": "stdout",
     "output_type": "stream",
     "text": [
      "max diff: 1.1920928955078125e-07\n"
     ]
    }
   ],
   "execution_count": 10
  },
  {
   "cell_type": "markdown",
   "metadata": {},
   "source": [
    "The max difference should be very small, our reference implementation gets a difference of the order of 1e-7"
   ]
  },
  {
   "cell_type": "markdown",
   "metadata": {},
   "source": [
    "## 1.2: Experiment with Your Transformer\n",
    "\n",
    "In this part, you will train a transformer-based language model. We will provide you the starter code for training the model and evaluating perplexity on a dataset. You will then explore changes to the network architecture and see how they affect the training and performance of the language model.\n",
    "\n",
    "**Note: We will NOT grade this part of the assignment.** This is an open-ended exercise. The following codes provide you with a basis to experiment with some perspectives of your attention block, and you will summarize your explorations in the write-up. We will only grade the write-up for part 2.2."
   ]
  },
  {
   "cell_type": "markdown",
   "metadata": {},
   "source": [
    "## Preparation: Modifications to Your Attention Implementation for section 2.2\n",
    "\n",
    "Below is space for you to work on a *modified* version of your attention implementation above for your experimentation in section 2.2. **Ensure your submitted code does not break the tests in section 2.1**; the easiest way to do this is to *copy* your implementation above (and probably condense it) and modify it below. We provide you pointers on what explorations you can do in the handout.\n",
    "\n",
    "You can also put any code anywhere in section 2.2; putting that code here is just a suggestion."
   ]
  },
  {
   "cell_type": "code",
   "metadata": {
    "deletable": false,
    "nbgrader": {
     "cell_type": "code",
     "checksum": "addddf000a8e7380e6b5ddcaf39dbe4f",
     "grade": false,
     "grade_id": "cell-2834ef85f422e30d",
     "locked": false,
     "schema_version": 3,
     "solution": true,
     "task": false
    },
    "ExecuteTime": {
     "end_time": "2024-12-05T22:20:01.583298Z",
     "start_time": "2024-12-05T22:20:01.578654Z"
    }
   },
   "source": [
    "# TODO: Have your modified attention implementation here.\n",
    "# YOUR CODE HERE\n",
    "\n",
    "def split_heads_qkv(Q, K, V, n_heads: int):\n",
    "    \"\"\"\n",
    "    Provided as a utility -- you can choose to not use it if you'd like.\n",
    "    \"\"\"\n",
    "    return split_heads(Q, n_heads), split_heads(K, n_heads), split_heads(V, n_heads)\n",
    "\n",
    "\n",
    "def split_heads(x, n_heads: int):\n",
    "    \"\"\"\n",
    "    Splitting x across multiple heads.\n",
    "    Inputs:\n",
    "    - x: torch.Tensor, shape (B, n_tok, n_embd) can be the queries, or keys, or values, where B is the batch size, n_tok is the number of tokens, and n_embd is the embedding dimension.\n",
    "    - n_heads: int, the number of heads.\n",
    "    :return: A split x, shape (B,n_heads, n_tok, n_embd // n_heads)\n",
    "    \"\"\"\n",
    "    B, n_tok, n_embd = x.size()\n",
    "    assert n_embd % n_heads == 0, \"d must be divisible by number of heads\"\n",
    "    # TODO:\n",
    "    x = x.view(B, n_tok, n_heads, n_embd // n_heads)\n",
    "    x = x.transpose(1, 2)\n",
    "    return x\n",
    "\n",
    "\n",
    "def merge_heads(y):\n",
    "    \"\"\"\n",
    "    Reversing splitting action of y.\n",
    "    Inputs:\n",
    "    - y: torch.Tensor, shape (B, n_heads, n_tok, n_embd // n_heads)\n",
    "    :return: A merged y, shape (B, n_tok, n_embd)\n",
    "    \"\"\"\n",
    "    B, nh, n_tok, nc = y.size()\n",
    "    \n",
    "    y = y.transpose(1, 2)\n",
    "    y = y.contiguous().view(B, n_tok, nh * nc)\n",
    "    return y"
   ],
   "outputs": [],
   "execution_count": 11
  },
  {
   "cell_type": "markdown",
   "metadata": {},
   "source": [
    "## Guideline for Section 1.2"
   ]
  },
  {
   "cell_type": "markdown",
   "metadata": {},
   "source": [
    "What follows is the **starter code** for section 1.2. It includes the following:\n",
    "- Download the ngram data from Project 1\n",
    "- Download the fork of minGPT by Yegor, modified to receive an implementation of attention from an external source (i.e., this notebook)\n",
    "- Simple implementation of tokenization which is very similar to what you did for Project 1. Differences from Project 1:\n",
    "    - include `<START>` in the vocab\n",
    "    - truncate to a fixed maximum sequence length of 100 tokens\n",
    "    - pad with `<PAD>` to the max length\n",
    "- `<PAD>` is new -- the loss is set to ignore anything with this token, such that the model doesn't get optimized for learning how to pad, and instead gets trained for the actual text.\n",
    "- Model initialization is set up, but has not been tuned. Feel free to modify anything about it.\n",
    "- Simple trainer code to loop over the data and optimize on the model. We included a nice progress bar for you to watch while waiting.\n",
    "    - On the free-tier GPU in Colab, our provided starter code trains for an epoch (less than 2000 steps) within a few minutes. On CPU, it takes over an hour for even the smallest configuration.\n",
    "- Demonstration/explanation of loss calculation.\n",
    "- Per-document perplexity calculation like in Project 1, though it's a bit different:\n",
    "    - Due to the max training length, the learned positional embeddings won't extrapolate past 100 tokens. So, we actually only test on a *truncated* version of the data\n",
    "    - Most documents are less than 100 tokens and end up with a long chain of `<PAD>`s at the end. We don't want to include that in our loss/perplexity, so we show how to omit it from the calculation.\n",
    "- minGPT defines a very convenient `generate` function. We have a few example prompts you can try with it -- take a look at the kind of text your trained model generates.\n",
    "\n",
    "----\n",
    "\n",
    "**Feel free to modify the starter code as much as you want to!** We will focus on your report and not your code for section 2.2, so change anything. In particular, you will want to add more analysis/logging/comparisons for anything that's relevant to your experiment. Of course, that is in addition to the changes on top of part 2.1, as needed."
   ]
  },
  {
   "cell_type": "markdown",
   "metadata": {},
   "source": [
    "### Utilities, data, and imports"
   ]
  },
  {
   "cell_type": "code",
   "metadata": {
    "ExecuteTime": {
     "end_time": "2024-12-05T22:20:05.031521Z",
     "start_time": "2024-12-05T22:20:01.604496Z"
    }
   },
   "source": [
    "%%bash\n",
    "# We will use the Shakespeare dataset we used in Project 1.\n",
    "mkdir -p data\n",
    "wget https://homes.cs.washington.edu/~kahuja/cse447/project1/data/shakespear_train.txt -O data/shakespear_train.txt\n",
    "wget https://homes.cs.washington.edu/~kahuja/cse447/project1/data/shakespear_dev.txt -O data/shakespear_dev.txt\n",
    "wget https://homes.cs.washington.edu/~kahuja/cse447/project1/data/shakespear_test.txt -O data/shakespear_test.txt"
   ],
   "outputs": [
    {
     "name": "stderr",
     "output_type": "stream",
     "text": [
      "--2024-12-05 14:20:04--  https://homes.cs.washington.edu/~kahuja/cse447/project1/data/shakespear_train.txt\n",
      "Resolving homes.cs.washington.edu (homes.cs.washington.edu)... 128.208.3.226, 2607:4000:200:12::e2\n",
      "Connecting to homes.cs.washington.edu (homes.cs.washington.edu)|128.208.3.226|:443... connected.\n",
      "HTTP request sent, awaiting response... 200 OK\n",
      "Length: 943314 (921K) [text/plain]\n",
      "Saving to: ‘data/shakespear_train.txt’\n",
      "\n",
      "     0K .......... .......... .......... .......... ..........  5% 2.04M 0s\n",
      "    50K .......... .......... .......... .......... .......... 10% 2.15M 0s\n",
      "   100K .......... .......... .......... .......... .......... 16% 25.6M 0s\n",
      "   150K .......... .......... .......... .......... .......... 21% 30.0M 0s\n",
      "   200K .......... .......... .......... .......... .......... 27% 3.97M 0s\n",
      "   250K .......... .......... .......... .......... .......... 32% 6.02M 0s\n",
      "   300K .......... .......... .......... .......... .......... 37% 28.7M 0s\n",
      "   350K .......... .......... .......... .......... .......... 43% 25.0M 0s\n",
      "   400K .......... .......... .......... .......... .......... 48% 30.8M 0s\n",
      "   450K .......... .......... .......... .......... .......... 54% 25.9M 0s\n",
      "   500K .......... .......... .......... .......... .......... 59% 32.5M 0s\n",
      "   550K .......... .......... .......... .......... .......... 65% 19.8M 0s\n",
      "   600K .......... .......... .......... .......... .......... 70% 8.13M 0s\n",
      "   650K .......... .......... .......... .......... .......... 75% 29.5M 0s\n",
      "   700K .......... .......... .......... .......... .......... 81% 23.6M 0s\n",
      "   750K .......... .......... .......... .......... .......... 86% 32.7M 0s\n",
      "   800K .......... .......... .......... .......... .......... 92% 32.9M 0s\n",
      "   850K .......... .......... .......... .......... .......... 97% 27.9M 0s\n",
      "   900K .......... .......... .                               100% 39.3M=0.1s\n",
      "\n",
      "2024-12-05 14:20:04 (9.31 MB/s) - ‘data/shakespear_train.txt’ saved [943314/943314]\n",
      "\n",
      "--2024-12-05 14:20:04--  https://homes.cs.washington.edu/~kahuja/cse447/project1/data/shakespear_dev.txt\n",
      "Resolving homes.cs.washington.edu (homes.cs.washington.edu)... 128.208.3.226, 2607:4000:200:12::e2\n",
      "Connecting to homes.cs.washington.edu (homes.cs.washington.edu)|128.208.3.226|:443... connected.\n",
      "HTTP request sent, awaiting response... 200 OK\n",
      "Length: 113449 (111K) [text/plain]\n",
      "Saving to: ‘data/shakespear_dev.txt’\n",
      "\n",
      "     0K .......... .......... .......... .......... .......... 45% 2.09M 0s\n",
      "    50K .......... .......... .......... .......... .......... 90% 4.29M 0s\n",
      "   100K ..........                                            100% 21.5M=0.04s\n",
      "\n",
      "2024-12-05 14:20:04 (3.07 MB/s) - ‘data/shakespear_dev.txt’ saved [113449/113449]\n",
      "\n",
      "--2024-12-05 14:20:04--  https://homes.cs.washington.edu/~kahuja/cse447/project1/data/shakespear_test.txt\n",
      "Resolving homes.cs.washington.edu (homes.cs.washington.edu)... 128.208.3.226, 2607:4000:200:12::e2\n",
      "Connecting to homes.cs.washington.edu (homes.cs.washington.edu)|128.208.3.226|:443... connected.\n",
      "HTTP request sent, awaiting response... 200 OK\n",
      "Length: 103515 (101K) [text/plain]\n",
      "Saving to: ‘data/shakespear_test.txt’\n",
      "\n",
      "     0K .......... .......... .......... .......... .......... 49% 2.50M 0s\n",
      "    50K .......... .......... .......... .......... .......... 98% 4.40M 0s\n",
      "   100K .                                                     100% 2.03T=0.03s\n",
      "\n",
      "2024-12-05 14:20:05 (3.22 MB/s) - ‘data/shakespear_test.txt’ saved [103515/103515]\n",
      "\n"
     ]
    }
   ],
   "execution_count": 12
  },
  {
   "cell_type": "code",
   "metadata": {
    "ExecuteTime": {
     "end_time": "2024-12-05T22:20:05.146353Z",
     "start_time": "2024-12-05T22:20:05.039134Z"
    }
   },
   "source": [
    "%%bash\n",
    "# clone Yegor's fork of minGPT and link to the code\n",
    "[ -d \"mingpt-cse447\" ] || git clone https://gitlab.cs.washington.edu/yegork/mingpt-cse447.git\n",
    "[ -e \"mingpt\" ] || ln -s mingpt-cse447/mingpt mingpt"
   ],
   "outputs": [],
   "execution_count": 13
  },
  {
   "metadata": {
    "ExecuteTime": {
     "end_time": "2024-12-05T22:20:05.453206Z",
     "start_time": "2024-12-05T22:20:05.154079Z"
    }
   },
   "cell_type": "code",
   "source": [
    "import os\n",
    "import requests\n",
    "import subprocess\n",
    "import shutil\n",
    "\n",
    "# Ensure 'data' directory exists\n",
    "os.makedirs(\"data\", exist_ok=True)\n",
    "\n",
    "# Download files\n",
    "for name in [\"train\", \"dev\", \"test\"]:\n",
    "    url = f\"https://homes.cs.washington.edu/~kahuja/cse447/project1/data/shakespear_{name}.txt\"\n",
    "    with requests.get(url, stream=True) as r:\n",
    "        r.raise_for_status()\n",
    "        with open(f\"data/shakespear_{name}.txt\", \"wb\") as f:\n",
    "            for chunk in r.iter_content(chunk_size=8192):\n",
    "                f.write(chunk)\n",
    "\n",
    "# Clone repo and copy the directory\n",
    "if not os.path.isdir(\"mingpt-cse447\"):\n",
    "    subprocess.run([\"git\", \"clone\", \"https://gitlab.cs.washington.edu/yegork/mingpt-cse447.git\"], check=True)\n",
    "if not os.path.exists(\"mingpt\"):\n",
    "    shutil.copytree(\"mingpt-cse447/mingpt\", \"mingpt\")"
   ],
   "outputs": [],
   "execution_count": 14
  },
  {
   "cell_type": "code",
   "metadata": {
    "ExecuteTime": {
     "end_time": "2024-12-05T22:20:05.784068Z",
     "start_time": "2024-12-05T22:20:05.461418Z"
    }
   },
   "source": [
    "from mingpt.model import GPT\n",
    "from mingpt.trainer import Trainer\n",
    "\n",
    "import matplotlib.pyplot as plt\n",
    "from tqdm.auto import tqdm\n",
    "from collections import Counter\n",
    "import numpy as np"
   ],
   "outputs": [],
   "execution_count": 15
  },
  {
   "cell_type": "markdown",
   "metadata": {},
   "source": [
    "### Dataset processing"
   ]
  },
  {
   "cell_type": "code",
   "metadata": {
    "ExecuteTime": {
     "end_time": "2024-12-05T22:20:05.898006Z",
     "start_time": "2024-12-05T22:20:05.791716Z"
    }
   },
   "source": [
    "%%bash\n",
    "# recall that our data is just a text file of space-separated tokens, with new lines separating documents\n",
    "cat data/shakespear_train.txt | head -n 10"
   ],
   "outputs": [
    {
     "name": "stdout",
     "output_type": "stream",
     "text": [
      "First Citizen : Before we proceed any further , hear me speak .\n",
      "All : Speak , speak .\n",
      "First Citizen : You are all resolved rather to die than to famish ?\n",
      "All : Resolved .\n",
      "resolved .\n",
      "First Citizen : First , you know Caius Marcius is chief enemy to the people .\n",
      "All : We know't , we know't .\n",
      "First Citizen : Let us kill him , and we 'll have corn at our own price .\n",
      "Is't a verdict ?\n",
      "All : No more talking o n't ; let it be done : away , away !\n"
     ]
    }
   ],
   "execution_count": 16
  },
  {
   "metadata": {
    "ExecuteTime": {
     "end_time": "2024-12-05T22:20:05.908996Z",
     "start_time": "2024-12-05T22:20:05.905989Z"
    }
   },
   "cell_type": "code",
   "source": [
    "# Print the first 10 lines of a file\n",
    "file_path = \"data/shakespear_train.txt\"\n",
    "\n",
    "with open(file_path, \"r\", encoding=\"utf-8\") as f:\n",
    "    for i, line in enumerate(f):\n",
    "        if i >= 10:  # Stop after 10 lines\n",
    "            break\n",
    "        print(line.strip())"
   ],
   "outputs": [
    {
     "name": "stdout",
     "output_type": "stream",
     "text": [
      "First Citizen : Before we proceed any further , hear me speak .\n",
      "All : Speak , speak .\n",
      "First Citizen : You are all resolved rather to die than to famish ?\n",
      "All : Resolved .\n",
      "resolved .\n",
      "First Citizen : First , you know Caius Marcius is chief enemy to the people .\n",
      "All : We know't , we know't .\n",
      "First Citizen : Let us kill him , and we 'll have corn at our own price .\n",
      "Is't a verdict ?\n",
      "All : No more talking o n't ; let it be done : away , away !\n"
     ]
    }
   ],
   "execution_count": 17
  },
  {
   "cell_type": "code",
   "metadata": {
    "ExecuteTime": {
     "end_time": "2024-12-05T22:20:05.962602Z",
     "start_time": "2024-12-05T22:20:05.944333Z"
    }
   },
   "source": [
    "with open(\"data/shakespear_train.txt\", \"r\") as f: lines_train = f.readlines()\n",
    "with open(\"data/shakespear_dev.txt\", \"r\") as f: lines_dev = f.readlines()\n",
    "with open(\"data/shakespear_test.txt\", \"r\") as f: lines_test = f.readlines()\n",
    "\n",
    "# each element is a list of tokens\n",
    "tokens_train = [line.split() for line in lines_train]\n",
    "\n",
    "print(f\"train docs: {len(tokens_train)}\")\n",
    "print(f\"total train tokens: {sum(len(t) for t in tokens_train)}\")\n",
    "\n",
    "\n",
    "# utility fn to flatten the tokens structure\n",
    "def flat(tokens):\n",
    "    for t in tokens:\n",
    "        yield from t"
   ],
   "outputs": [
    {
     "name": "stdout",
     "output_type": "stream",
     "text": [
      "train docs: 9875\n",
      "total train tokens: 206589\n"
     ]
    }
   ],
   "execution_count": 18
  },
  {
   "cell_type": "code",
   "metadata": {
    "ExecuteTime": {
     "end_time": "2024-12-05T22:20:06.022288Z",
     "start_time": "2024-12-05T22:20:05.991699Z"
    }
   },
   "source": [
    "# get counts of each token sorted by count, descending\n",
    "# also add a few special tokens (with high counts) so they appear first\n",
    "token_counts = Counter(flat(tokens_train))\n",
    "token_counts[\"<START>\"] = 1000004\n",
    "token_counts[\"<STOP>\"] = 1000003\n",
    "token_counts[\"<UNK>\"] = 1000002\n",
    "token_counts[\"<PAD>\"] = 1000001\n",
    "sorted_tokens = sorted(token_counts.items(), key=lambda x: x[1], reverse=True)\n",
    "\n",
    "print(\"unique_tokens:\", len(token_counts))\n",
    "print(\"unique_tokens, count>=3:\", len([t for t in sorted_tokens if t[1] >= 3]))\n",
    "\n",
    "# make tokenizer for all tokens with count >= 3\n",
    "# note that our tokenizer ends up including START and STOP tokens too\n",
    "tokenizer = {t[0]: i for i, t in enumerate(sorted_tokens) if t[1] >= 3}\n",
    "\n",
    "\n",
    "def pad_to_length(tokens, max_len, tokenizer=tokenizer):\n",
    "    return tokens[:max_len] + [tokenizer[\"<PAD>\"]] * (max_len - len(tokens))\n",
    "\n",
    "\n",
    "def tokenize(sentence, pad_to_len=None, include_stop=True, tokenizer=tokenizer):\n",
    "    words = [tokenizer.get(w, tokenizer[\"<UNK>\"]) for w in sentence.split()]\n",
    "    # add START and STOP tokens\n",
    "    tokens = [tokenizer[\"<START>\"]] + words + ([tokenizer[\"<STOP>\"]] * include_stop)\n",
    "\n",
    "    if pad_to_len is not None:\n",
    "        tokens = pad_to_length(tokens, pad_to_len, tokenizer=tokenizer)\n",
    "    return tokens\n",
    "\n",
    "\n",
    "# invert tokenizer for decoding\n",
    "tokenizer_inv = {v: k for k, v in tokenizer.items()}\n",
    "\n",
    "\n",
    "def decode(tokens, tokenizer_inv=tokenizer_inv, end_at_stop=True, omit_pad=True):\n",
    "    tokens = [tokenizer_inv[t] for t in tokens]\n",
    "    if omit_pad:\n",
    "        tokens = [t for t in tokens if t != \"<PAD>\"]\n",
    "    if end_at_stop and \"<STOP>\" in tokens:\n",
    "        tokens = tokens[: tokens.index(\"<STOP>\") + 1]\n",
    "    return \" \".join(tokens)\n",
    "\n",
    "\n",
    "sentence = \"More people have said an Escher sentence than I have .\"\n",
    "tokenized = tokenize(sentence, pad_to_len=25)  # pad to only 25 so it looks nice\n",
    "decoded = decode(tokenized, end_at_stop=False, omit_pad=False)\n",
    "print(f\"{sentence=}\\n{tokenized=}\\n{decoded=}\")"
   ],
   "outputs": [
    {
     "name": "stdout",
     "output_type": "stream",
     "text": [
      "unique_tokens: 12613\n",
      "unique_tokens, count>=3: 4622\n",
      "sentence='More people have said an Escher sentence than I have .'\n",
      "tokenized=[0, 419, 271, 32, 334, 112, 2, 1174, 97, 8, 32, 6, 1, 3, 3, 3, 3, 3, 3, 3, 3, 3, 3, 3, 3]\n",
      "decoded='<START> More people have said an <UNK> sentence than I have . <STOP> <PAD> <PAD> <PAD> <PAD> <PAD> <PAD> <PAD> <PAD> <PAD> <PAD> <PAD> <PAD>'\n"
     ]
    }
   ],
   "execution_count": 19
  },
  {
   "cell_type": "code",
   "metadata": {
    "ExecuteTime": {
     "end_time": "2024-12-05T22:20:06.270907Z",
     "start_time": "2024-12-05T22:20:06.043322Z"
    }
   },
   "source": [
    "plt.hist([len(t) for t in tokens_train], bins=50)\n",
    "plt.title(\"sequence lengths in the train dataset by tokens\")\n",
    "plt.ylabel(\"# of sequences\")\n",
    "plt.xlabel(\"sequence length in tokens\")\n",
    "plt.show()"
   ],
   "outputs": [
    {
     "data": {
      "text/plain": [
       "<Figure size 640x480 with 1 Axes>"
      ],
      "image/png": "[encoded data removed]"
     },
     "metadata": {},
     "output_type": "display_data"
    }
   ],
   "execution_count": 20
  },
  {
   "cell_type": "code",
   "metadata": {
    "ExecuteTime": {
     "end_time": "2024-12-05T22:20:06.416140Z",
     "start_time": "2024-12-05T22:20:06.293094Z"
    }
   },
   "source": [
    "# Notice above that the vast majority of sequences have less than 100 tokens.\n",
    "# For performance we will thus truncate to 100 tokens.\n",
    "\n",
    "MAX_LEN = 100\n",
    "DEVICE = \"cuda\" if torch.cuda.is_available() else \"cpu\"\n",
    "\n",
    "data_train = torch.tensor(\n",
    "    [tokenize(t, MAX_LEN) for t in lines_train if len(t) > 0], dtype=torch.long\n",
    ")\n",
    "data_val = torch.tensor(\n",
    "    [tokenize(t, MAX_LEN) for t in lines_dev if len(t) > 0], dtype=torch.long\n",
    ")\n",
    "\n",
    "data_train.shape, data_val.shape"
   ],
   "outputs": [
    {
     "data": {
      "text/plain": [
       "(torch.Size([9875, 100]), torch.Size([1304, 100]))"
      ]
     },
     "execution_count": 21,
     "metadata": {},
     "output_type": "execute_result"
    }
   ],
   "execution_count": 21
  },
  {
   "cell_type": "code",
   "metadata": {
    "ExecuteTime": {
     "end_time": "2024-12-05T22:20:06.443315Z",
     "start_time": "2024-12-05T22:20:06.438527Z"
    }
   },
   "source": [
    "# X is all but last token, Y is all but first token\n",
    "train_dataset = torch.utils.data.TensorDataset(data_train[:, :-1], data_train[:, 1:])\n",
    "val_dataset = torch.utils.data.TensorDataset(data_val[:, :-1], data_val[:, 1:])\n",
    "\n",
    "# example X,Y pair from train dataset -- 2 is <START>, 3 is <STOP>\n",
    "train_dataset[447]"
   ],
   "outputs": [
    {
     "data": {
      "text/plain": [
       "(tensor([   0,   99,   50,   15, 1562,   12,  873, 1563,    6,    1,    3,    3,\n",
       "            3,    3,    3,    3,    3,    3,    3,    3,    3,    3,    3,    3,\n",
       "            3,    3,    3,    3,    3,    3,    3,    3,    3,    3,    3,    3,\n",
       "            3,    3,    3,    3,    3,    3,    3,    3,    3,    3,    3,    3,\n",
       "            3,    3,    3,    3,    3,    3,    3,    3,    3,    3,    3,    3,\n",
       "            3,    3,    3,    3,    3,    3,    3,    3,    3,    3,    3,    3,\n",
       "            3,    3,    3,    3,    3,    3,    3,    3,    3,    3,    3,    3,\n",
       "            3,    3,    3,    3,    3,    3,    3,    3,    3,    3,    3,    3,\n",
       "            3,    3,    3]),\n",
       " tensor([  99,   50,   15, 1562,   12,  873, 1563,    6,    1,    3,    3,    3,\n",
       "            3,    3,    3,    3,    3,    3,    3,    3,    3,    3,    3,    3,\n",
       "            3,    3,    3,    3,    3,    3,    3,    3,    3,    3,    3,    3,\n",
       "            3,    3,    3,    3,    3,    3,    3,    3,    3,    3,    3,    3,\n",
       "            3,    3,    3,    3,    3,    3,    3,    3,    3,    3,    3,    3,\n",
       "            3,    3,    3,    3,    3,    3,    3,    3,    3,    3,    3,    3,\n",
       "            3,    3,    3,    3,    3,    3,    3,    3,    3,    3,    3,    3,\n",
       "            3,    3,    3,    3,    3,    3,    3,    3,    3,    3,    3,    3,\n",
       "            3,    3,    3]))"
      ]
     },
     "execution_count": 22,
     "metadata": {},
     "output_type": "execute_result"
    }
   ],
   "execution_count": 22
  },
  {
   "cell_type": "markdown",
   "metadata": {},
   "source": [
    "### Model and Trainer code"
   ]
  },
  {
   "cell_type": "code",
   "metadata": {
    "ExecuteTime": {
     "end_time": "2024-12-06T03:47:26.265491Z",
     "start_time": "2024-12-06T03:47:26.261977Z"
    }
   },
   "source": [
    "def get_model(num_layers: int):\n",
    "    model_config = GPT.get_default_config()\n",
    "    model_config.model_type = None\n",
    "    model_config.pad_token = tokenizer[\"<PAD>\"]\n",
    "    \n",
    "    # This configuration is the very small 'gpt-nano' defined in minGPT. we'd use a\n",
    "    # bigger model like 'gpt2' but it would take a very long time to train :(\n",
    "    # See minGPT/model.py for configurations of other models\n",
    "    model_config.model_type = \"gpt-nano\"\n",
    "    # 'gpt-nano' equivalent to:\n",
    "    # model_config.n_layer = 3\n",
    "    # model_config.n_head = 3\n",
    "    # model_config.n_embd = 48\n",
    "    \n",
    "    model_config.vocab_size = max(tokenizer.values()) + 1\n",
    "    # model_config.vocab_size = 50257 # openai's model vocabulary, if using gpt2 BPE\n",
    "    \n",
    "    # The model's context length\n",
    "    # Note that minGPT has learned posemb, so outside the used maxlen wont really work\n",
    "    model_config.block_size = 1024\n",
    "    \n",
    "    # We modified config to accept some functions for attention\n",
    "    global NUM_LAYERS\n",
    "    NUM_LAYERS = num_layers\n",
    "    model_config.attn_init_fn = init_qkv_proj\n",
    "    model_config.attn_fn = self_attention\n",
    "    \n",
    "    return GPT(model_config)"
   ],
   "outputs": [],
   "execution_count": 105
  },
  {
   "cell_type": "code",
   "metadata": {
    "ExecuteTime": {
     "end_time": "2024-12-06T03:47:49.298737Z",
     "start_time": "2024-12-06T03:47:29.460398Z"
    }
   },
   "source": [
    "def train(model):\n",
    "    log = []\n",
    "    \n",
    "    train_config = Trainer.get_default_config()\n",
    "    train_config.device = DEVICE\n",
    "    train_config.num_workers = 2\n",
    "    \n",
    "    # We didn't tune the hyperparameters at all, feel free to change\n",
    "    train_config.learning_rate = 5e-4\n",
    "    train_config.batch_size = 32\n",
    "    train_config.max_iters = 3 * (\n",
    "        len(train_dataset) // train_config.batch_size\n",
    "    )  # train for 3 epochs\n",
    "    \n",
    "    trainer = Trainer(train_config, model, train_dataset)\n",
    "    \n",
    "    model.to(DEVICE)\n",
    "    model.train()\n",
    "    \n",
    "    bar = tqdm(total=train_config.max_iters)\n",
    "    \n",
    "    @torch.no_grad()\n",
    "    def on_batch_end(trainer):\n",
    "        log.append(trainer.loss.item())\n",
    "        bar.set_postfix(loss=trainer.loss.item())\n",
    "        bar.update()\n",
    "    \n",
    "    trainer.set_callback(\"on_batch_end\", on_batch_end)\n",
    "    trainer.run()\n",
    "    bar.close()\n",
    "    return log\n",
    "\n",
    "model = get_model(5)\n",
    "print(model)\n",
    "log = train(model)"
   ],
   "outputs": [
    {
     "name": "stdout",
     "output_type": "stream",
     "text": [
      "number of parameters: 0.46M\n",
      "GPT(\n",
      "  (transformer): ModuleDict(\n",
      "    (wte): Embedding(4622, 48)\n",
      "    (wpe): Embedding(1024, 48)\n",
      "    (drop): Dropout(p=0.1, inplace=False)\n",
      "    (h): ModuleList(\n",
      "      (0-2): 3 x Block(\n",
      "        (ln_1): LayerNorm((48,), eps=1e-05, elementwise_affine=True)\n",
      "        (attn): CausalSelfAttention(\n",
      "          (c_proj): Linear(in_features=48, out_features=48, bias=True)\n",
      "          (attn_dropout): Dropout(p=0.1, inplace=False)\n",
      "          (resid_dropout): Dropout(p=0.1, inplace=False)\n",
      "          (W_Q): Sequential(\n",
      "            (0): Linear(in_features=48, out_features=48, bias=True)\n",
      "            (1): ReLU()\n",
      "            (2): Linear(in_features=48, out_features=48, bias=True)\n",
      "            (3): ReLU()\n",
      "            (4): Linear(in_features=48, out_features=48, bias=True)\n",
      "            (5): ReLU()\n",
      "            (6): Linear(in_features=48, out_features=48, bias=True)\n",
      "            (7): ReLU()\n",
      "            (8): Linear(in_features=48, out_features=48, bias=True)\n",
      "            (9): ReLU()\n",
      "            (10): Linear(in_features=48, out_features=48, bias=True)\n",
      "          )\n",
      "          (W_K): Sequential(\n",
      "            (0): Linear(in_features=48, out_features=48, bias=True)\n",
      "            (1): ReLU()\n",
      "            (2): Linear(in_features=48, out_features=48, bias=True)\n",
      "            (3): ReLU()\n",
      "            (4): Linear(in_features=48, out_features=48, bias=True)\n",
      "            (5): ReLU()\n",
      "            (6): Linear(in_features=48, out_features=48, bias=True)\n",
      "            (7): ReLU()\n",
      "            (8): Linear(in_features=48, out_features=48, bias=True)\n",
      "            (9): ReLU()\n",
      "            (10): Linear(in_features=48, out_features=48, bias=True)\n",
      "          )\n",
      "          (W_V): Sequential(\n",
      "            (0): Linear(in_features=48, out_features=48, bias=True)\n",
      "            (1): ReLU()\n",
      "            (2): Linear(in_features=48, out_features=48, bias=True)\n",
      "            (3): ReLU()\n",
      "            (4): Linear(in_features=48, out_features=48, bias=True)\n",
      "            (5): ReLU()\n",
      "            (6): Linear(in_features=48, out_features=48, bias=True)\n",
      "            (7): ReLU()\n",
      "            (8): Linear(in_features=48, out_features=48, bias=True)\n",
      "            (9): ReLU()\n",
      "            (10): Linear(in_features=48, out_features=48, bias=True)\n",
      "          )\n",
      "        )\n",
      "        (ln_2): LayerNorm((48,), eps=1e-05, elementwise_affine=True)\n",
      "        (mlp): ModuleDict(\n",
      "          (c_fc): Linear(in_features=48, out_features=192, bias=True)\n",
      "          (c_proj): Linear(in_features=192, out_features=48, bias=True)\n",
      "          (act): NewGELU()\n",
      "          (dropout): Dropout(p=0.1, inplace=False)\n",
      "        )\n",
      "      )\n",
      "    )\n",
      "    (ln_f): LayerNorm((48,), eps=1e-05, elementwise_affine=True)\n",
      "  )\n",
      "  (lm_head): Linear(in_features=48, out_features=4622, bias=False)\n",
      ")\n",
      "running on device cuda\n"
     ]
    },
    {
     "data": {
      "text/plain": [
       "  0%|          | 0/924 [00:00<?, ?it/s]"
      ],
      "application/vnd.jupyter.widget-view+json": {
       "version_major": 2,
       "version_minor": 0,
       "model_id": "09a85d3576db409cb912fccb21ca5e8f"
      }
     },
     "metadata": {},
     "output_type": "display_data"
    }
   ],
   "execution_count": 106
  },
  {
   "metadata": {
    "ExecuteTime": {
     "end_time": "2024-12-05T23:02:10.641722Z",
     "start_time": "2024-12-05T23:02:10.584950Z"
    }
   },
   "cell_type": "code",
   "source": [
    "plt.plot(log)\n",
    "plt.xlabel(\"step\")\n",
    "plt.ylabel(\"loss\")\n",
    "plt.show()"
   ],
   "outputs": [
    {
     "data": {
      "text/plain": [
       "<Figure size 640x480 with 1 Axes>"
      ],
      "image/png": "[encoded data removed]"
     },
     "metadata": {},
     "output_type": "display_data"
    }
   ],
   "execution_count": 78
  },
  {
   "cell_type": "markdown",
   "metadata": {},
   "source": [
    "### Evaluation\n",
    "\n",
    "Like in Project 1, we will treat each line in the data file as a separate document. So, compute perplexity for each line separately and then take the average across all lines.\n",
    "\n",
    "However, the way we processed our data for batching makes it slightly more complicated, because the loss is averaged over tokens. While this would normally be simple, recall that we insert `<PAD>` tokens as padding until 100 tokens, and the vast majority of documents are significantly less than 100 tokens. This means that most of our tokens are the long tail of `<PAD>`s.\n",
    "\n",
    "So, we wish to exlude every `<PAD>` from perplexity calculations. Since the loss returned by the model is averaged for all tokens. PyTorch has great utilities for excluding a padding token from calculations, but we will also do this manually as a demonstration.\n",
    "\n",
    "However, this isn't the end of the story. Ideally, we would make `<PAD>` tokens have no effect whatsoever. For this to happen, we should apply a mask out all attention to and from `<PAD>` tokens, but we chose not to include that in your required implementation. The fact that we did not implement this has no measurable impact because our minGPT fork zeros out values for `<PAD>` tokens after attention anyway."
   ]
  },
  {
   "cell_type": "code",
   "metadata": {
    "ExecuteTime": {
     "end_time": "2024-12-05T22:40:25.334783Z",
     "start_time": "2024-12-05T22:40:25.322322Z"
    }
   },
   "source": [
    "sentence = \"Thank you so much Liwei and Taylor for all your help with this !\"\n",
    "\n",
    "tokens = torch.tensor([tokenize(sentence, pad_to_len=MAX_LEN)], dtype=torch.long)\n",
    "X_tokens, y_tokens = tokens[:, :-1], tokens[:, 1:]\n",
    "\n",
    "print(\"notice the long tail of PAD tokens: \", tokens.cpu()[0].tolist())\n",
    "\n",
    "model.eval()\n",
    "with torch.no_grad():\n",
    "    logits, loss = model(X_tokens.to(DEVICE), y_tokens.to(DEVICE))\n",
    "    logits, loss = logits.cpu(), loss.cpu()\n",
    "\n",
    "# Preprocess logits to unpad -- will be (jagged) list of tensors\n",
    "# We impl looping over them\n",
    "# students have to: convert 1 document's raw logits + y_tokens into loss and ppl\n",
    "\n",
    "# There's more ways to get the loss!\n",
    "\n",
    "# We could use F.cross_entropy with the logits -- this is what the model does\n",
    "# F.cross_entropy can take an \"ignore_index\", which makes it ignore our pad token\n",
    "also_loss = F.cross_entropy(\n",
    "    logits.flatten(0, 1), y_tokens.flatten(0, 1), ignore_index=tokenizer[\"<PAD>\"]\n",
    ")\n",
    "\n",
    "# However, we can just do the calculations manually because we enjoy being perplexed\n",
    "\n",
    "# softmax the logits to get probabilities\n",
    "probs = F.softmax(logits, dim=-1)\n",
    "\n",
    "# work with log of the probabilities for numerical stability\n",
    "log_probs = torch.log(probs)\n",
    "\n",
    "# this is weird pytorch screwery to index into last dimension of log_probs with y_tokens\n",
    "# this selects only the log probabilities of the target tokens\n",
    "y_log_probs = torch.gather(log_probs, -1, y_tokens[..., None])[..., 0]\n",
    "\n",
    "# get all the target log probabilities EXCEPT for when that target token is <PAD>\n",
    "not_pad_y_log_probs = y_log_probs[y_tokens != tokenizer[\"<PAD>\"]]\n",
    "\n",
    "# negative average of the log probs of the target tokens is exactly crossentropy loss here!\n",
    "also_loss_again = -not_pad_y_log_probs.mean()\n",
    "\n",
    "print()\n",
    "print(\"reported loss from model:\\t\", loss.item())\n",
    "print(\"manually calculated loss:\\t\", also_loss.item())\n",
    "print(\"manually calculated loss again:\\t\", also_loss_again.item())\n",
    "\n",
    "# we can calculate perplexity using the crossentropy loss\n",
    "perplexity = torch.exp(also_loss)\n",
    "print(\"perplexity:\", perplexity.item())"
   ],
   "outputs": [
    {
     "name": "stdout",
     "output_type": "stream",
     "text": [
      "notice the long tail of PAD tokens:  [0, 3257, 14, 39, 160, 2, 10, 2, 31, 44, 30, 382, 25, 33, 17, 1, 3, 3, 3, 3, 3, 3, 3, 3, 3, 3, 3, 3, 3, 3, 3, 3, 3, 3, 3, 3, 3, 3, 3, 3, 3, 3, 3, 3, 3, 3, 3, 3, 3, 3, 3, 3, 3, 3, 3, 3, 3, 3, 3, 3, 3, 3, 3, 3, 3, 3, 3, 3, 3, 3, 3, 3, 3, 3, 3, 3, 3, 3, 3, 3, 3, 3, 3, 3, 3, 3, 3, 3, 3, 3, 3, 3, 3, 3, 3, 3, 3, 3, 3, 3]\n",
      "\n",
      "reported loss from model:\t 4.394824028015137\n",
      "manually calculated loss:\t 4.394824028015137\n",
      "manually calculated loss again:\t 4.394824504852295\n",
      "perplexity: 81.0303726196289\n"
     ]
    }
   ],
   "execution_count": 42
  },
  {
   "cell_type": "code",
   "metadata": {
    "ExecuteTime": {
     "end_time": "2024-12-05T22:21:26.798915Z",
     "start_time": "2024-12-05T22:21:26.793991Z"
    }
   },
   "source": [
    "\"\"\"\n",
    "We've made a utility function to calculate loss per-document for some data.\n",
    "It accepts a list of strings, tokenizes, evaluates, and returns a list of floats.\n",
    "\"\"\"\n",
    "\n",
    "@torch.no_grad\n",
    "def evaluate_losses(data, model=model, bs=32, progress=True, pad_to_len=MAX_LEN):\n",
    "    it = range(0, len(data), bs)\n",
    "    if progress:\n",
    "        it = tqdm(it)\n",
    "\n",
    "    out = []\n",
    "    for b_start in it:\n",
    "        batch = slice(b_start, b_start + bs)\n",
    "        tokens = torch.tensor(\n",
    "            [tokenize(t, pad_to_len=pad_to_len) for t in data[batch]], dtype=torch.long\n",
    "        ).to(DEVICE)\n",
    "        X_tokens, y_tokens = tokens[:, :-1].contiguous(), tokens[:, 1:].contiguous()\n",
    "\n",
    "        model.eval()\n",
    "        logits, _ = model(X_tokens)\n",
    "        log_probs = F.log_softmax(logits, dim=-1)\n",
    "        y_log_probs = torch.gather(log_probs, 2, y_tokens[..., None])[..., 0]\n",
    "\n",
    "        for i in range(y_tokens.shape[0]):\n",
    "            not_pad = y_tokens[i] != tokenizer[\"<PAD>\"]\n",
    "            loss = -y_log_probs[i, not_pad].mean()\n",
    "            out.append(loss.item())\n",
    "\n",
    "    return out"
   ],
   "outputs": [],
   "execution_count": 28
  },
  {
   "cell_type": "code",
   "metadata": {
    "ExecuteTime": {
     "end_time": "2024-12-05T22:40:42.754058Z",
     "start_time": "2024-12-05T22:40:42.740653Z"
    }
   },
   "source": [
    "# calculate loss and perplexity for a single sentence\n",
    "is_this_loss = evaluate_losses(\n",
    "    [\n",
    "        \"RICHARD II : I will not be afraid of death . I will not be afraid of death .\",\n",
    "    ],\n",
    "    progress=False,\n",
    ")[0]\n",
    "print(\"loss:\", is_this_loss)\n",
    "print(\"perplexity:\", np.exp(is_this_loss))"
   ],
   "outputs": [
    {
     "name": "stdout",
     "output_type": "stream",
     "text": [
      "loss: 4.669568061828613\n",
      "perplexity: 106.6516655565906\n"
     ]
    }
   ],
   "execution_count": 43
  },
  {
   "cell_type": "code",
   "metadata": {
    "ExecuteTime": {
     "end_time": "2024-12-05T22:41:00.411848Z",
     "start_time": "2024-12-05T22:40:50.799902Z"
    }
   },
   "source": [
    "train_losses = evaluate_losses(lines_train)\n",
    "print(\"train perplexity:\", np.mean(np.exp(train_losses)))"
   ],
   "outputs": [
    {
     "data": {
      "text/plain": [
       "  0%|          | 0/309 [00:00<?, ?it/s]"
      ],
      "application/vnd.jupyter.widget-view+json": {
       "version_major": 2,
       "version_minor": 0,
       "model_id": "fe594a7e10e74177a1d17f05e4e495d5"
      }
     },
     "metadata": {},
     "output_type": "display_data"
    },
    {
     "name": "stdout",
     "output_type": "stream",
     "text": [
      "train perplexity: 101.52460139191516\n"
     ]
    }
   ],
   "execution_count": 44
  },
  {
   "cell_type": "code",
   "metadata": {
    "ExecuteTime": {
     "end_time": "2024-12-05T22:21:37.840105Z",
     "start_time": "2024-12-05T22:21:36.601790Z"
    }
   },
   "source": [
    "dev_losses = evaluate_losses(lines_dev)\n",
    "print(\"dev perplexity:\", np.mean(np.exp(dev_losses)))"
   ],
   "outputs": [
    {
     "data": {
      "text/plain": [
       "  0%|          | 0/41 [00:00<?, ?it/s]"
      ],
      "application/vnd.jupyter.widget-view+json": {
       "version_major": 2,
       "version_minor": 0,
       "model_id": "fd2b69369bf648e7a37b6fd54f57c954"
      }
     },
     "metadata": {},
     "output_type": "display_data"
    },
    {
     "name": "stdout",
     "output_type": "stream",
     "text": [
      "dev perplexity: 109.6068877280616\n"
     ]
    }
   ],
   "execution_count": 31
  },
  {
   "cell_type": "markdown",
   "metadata": {},
   "source": [
    "With the implementation on attention in Part 1, you should see that dev perplexity is close to the best perplexities that we achieved using N-gram models and interpolation in Project 1. The reason we don't do much better is that we are using a very small dataset and not doing much tuning. Transformer LMs become much more powerful when we have a whole lot of data."
   ]
  },
  {
   "cell_type": "markdown",
   "metadata": {},
   "source": [
    "Your task now is to make modifications to the attention mechanisms based on the guidelines in the handout and explore the effects of these changes."
   ]
  },
  {
   "cell_type": "code",
   "metadata": {
    "ExecuteTime": {
     "end_time": "2024-12-05T22:41:21.107588Z",
     "start_time": "2024-12-05T22:41:17.505185Z"
    }
   },
   "source": [
    "# Here's an example of generating using the model -- see generate in minGPT's model.py\n",
    "\n",
    "sentence = \"\"  # empty prompt -> sample from model at random\n",
    "# sentence = 'unfortunately ,'          # can sample more negative stuff\n",
    "# sentence = 'fun fact : did you know'  # AI-generated fun facts\n",
    "\n",
    "tokens = torch.tensor([tokenize(sentence, include_stop=False)], dtype=torch.long).to(\n",
    "    DEVICE\n",
    ")\n",
    "\n",
    "for _ in range(10):\n",
    "    pred = model.generate(\n",
    "        tokens, MAX_LEN - tokens.shape[-1], temperature=1.0, do_sample=True, top_k=None\n",
    "    )\n",
    "\n",
    "    print(decode(pred[0].tolist()))"
   ],
   "outputs": [
    {
     "name": "stdout",
     "output_type": "stream",
     "text": [
      "<START> HASTINGS : Ay , But we lack he undergo to straight ; And a come ! <STOP>\n",
      "<START> theme That brother . <STOP>\n",
      "<START> YORK : ' the purpose him her <UNK> heart ; And more root , That To both not you have them than her little nobility as you : Who is rest . <STOP>\n",
      "<START> <UNK> in more old great father , doth Ay . <STOP>\n",
      "<START> Ready enemy , my had thou <UNK> lambs is not itself woman ; The victory , O Richard of good Though by what to kinsman of him long we Lies , heinous , By pledge my brother That a people , strengthen ' I wert ; And more , I say and <UNK> . <STOP>\n",
      "<START> anointed daughter canst the bosom to this shepherd ; The breath again : We may stay : Somerset , Which As he makes 'd stir away Of those before your body can not the overthrow did not still Upon your <UNK> I would be so weep . <STOP>\n",
      "<START> COMINIUS : proper head ? <STOP>\n",
      "<START> Mowbray 's minute . <STOP>\n",
      "<START> ISABELLA : I came , sir , Unless you do some service ! <STOP>\n",
      "<START> QUEEN come and see the Elbow . <STOP>\n"
     ]
    }
   ],
   "execution_count": 45
  },
  {
   "metadata": {
    "ExecuteTime": {
     "end_time": "2024-12-06T03:44:51.645344Z",
     "start_time": "2024-12-06T03:44:51.633660Z"
    }
   },
   "cell_type": "code",
   "source": [
    "ex_model = get_model(5)\n",
    "print(ex_model)"
   ],
   "outputs": [
    {
     "name": "stdout",
     "output_type": "stream",
     "text": [
      "number of parameters: 0.46M\n",
      "GPT(\n",
      "  (transformer): ModuleDict(\n",
      "    (wte): Embedding(4622, 48)\n",
      "    (wpe): Embedding(1024, 48)\n",
      "    (drop): Dropout(p=0.1, inplace=False)\n",
      "    (h): ModuleList(\n",
      "      (0-2): 3 x Block(\n",
      "        (ln_1): LayerNorm((48,), eps=1e-05, elementwise_affine=True)\n",
      "        (attn): CausalSelfAttention(\n",
      "          (c_proj): Linear(in_features=48, out_features=48, bias=True)\n",
      "          (attn_dropout): Dropout(p=0.1, inplace=False)\n",
      "          (resid_dropout): Dropout(p=0.1, inplace=False)\n",
      "          (W_Q): Sequential(\n",
      "            (0): Linear(in_features=48, out_features=48, bias=True)\n",
      "            (1): ReLU()\n",
      "            (2): Linear(in_features=48, out_features=48, bias=True)\n",
      "            (3): ReLU()\n",
      "            (4): Linear(in_features=48, out_features=48, bias=True)\n",
      "            (5): ReLU()\n",
      "            (6): Linear(in_features=48, out_features=48, bias=True)\n",
      "            (7): ReLU()\n",
      "            (8): Linear(in_features=48, out_features=48, bias=True)\n",
      "            (9): ReLU()\n",
      "            (10): Linear(in_features=48, out_features=48, bias=True)\n",
      "          )\n",
      "          (W_K): Sequential(\n",
      "            (0): Linear(in_features=48, out_features=48, bias=True)\n",
      "            (1): ReLU()\n",
      "            (2): Linear(in_features=48, out_features=48, bias=True)\n",
      "            (3): ReLU()\n",
      "            (4): Linear(in_features=48, out_features=48, bias=True)\n",
      "            (5): ReLU()\n",
      "            (6): Linear(in_features=48, out_features=48, bias=True)\n",
      "            (7): ReLU()\n",
      "            (8): Linear(in_features=48, out_features=48, bias=True)\n",
      "            (9): ReLU()\n",
      "            (10): Linear(in_features=48, out_features=48, bias=True)\n",
      "          )\n",
      "          (W_V): Sequential(\n",
      "            (0): Linear(in_features=48, out_features=48, bias=True)\n",
      "            (1): ReLU()\n",
      "            (2): Linear(in_features=48, out_features=48, bias=True)\n",
      "            (3): ReLU()\n",
      "            (4): Linear(in_features=48, out_features=48, bias=True)\n",
      "            (5): ReLU()\n",
      "            (6): Linear(in_features=48, out_features=48, bias=True)\n",
      "            (7): ReLU()\n",
      "            (8): Linear(in_features=48, out_features=48, bias=True)\n",
      "            (9): ReLU()\n",
      "            (10): Linear(in_features=48, out_features=48, bias=True)\n",
      "          )\n",
      "        )\n",
      "        (ln_2): LayerNorm((48,), eps=1e-05, elementwise_affine=True)\n",
      "        (mlp): ModuleDict(\n",
      "          (c_fc): Linear(in_features=48, out_features=192, bias=True)\n",
      "          (c_proj): Linear(in_features=192, out_features=48, bias=True)\n",
      "          (act): NewGELU()\n",
      "          (dropout): Dropout(p=0.1, inplace=False)\n",
      "        )\n",
      "      )\n",
      "    )\n",
      "    (ln_f): LayerNorm((48,), eps=1e-05, elementwise_affine=True)\n",
      "  )\n",
      "  (lm_head): Linear(in_features=48, out_features=4622, bias=False)\n",
      ")\n"
     ]
    }
   ],
   "execution_count": 101
  },
  {
   "metadata": {
    "ExecuteTime": {
     "end_time": "2024-12-06T03:44:44.680233Z",
     "start_time": "2024-12-06T03:44:42.762064Z"
    }
   },
   "cell_type": "code",
   "source": [
    "layers = np.linspace(1, 30, 4, dtype=int)\n",
    "perplexities = []\n",
    "losses = []\n",
    "models = []\n",
    "for num_layers in layers:\n",
    "    model = get_model(num_layers)\n",
    "    final_loss = train(model)[-1]\n",
    "    models.append(model)\n",
    "    \n",
    "    train_losses = evaluate_losses(lines_train, model)\n",
    "    dev_losses = evaluate_losses(lines_dev, model)\n",
    "    \n",
    "    train_ppl = np.mean(np.exp(train_losses))\n",
    "    dev_ppl = np.mean(np.exp(dev_losses))\n",
    "    \n",
    "    losses.append(final_loss)\n",
    "    perplexities.append((train_ppl, dev_ppl))\n",
    "    print(f\"layers={num_layers}, final_loss={final_loss} train_ppl={train_ppl}, dev_ppl={dev_ppl}\")"
   ],
   "outputs": [
    {
     "name": "stdout",
     "output_type": "stream",
     "text": [
      "number of parameters: 0.38M\n",
      "running on device cuda\n"
     ]
    },
    {
     "data": {
      "text/plain": [
       "  0%|          | 0/924 [00:00<?, ?it/s]"
      ],
      "application/vnd.jupyter.widget-view+json": {
       "version_major": 2,
       "version_minor": 0,
       "model_id": "c83607da09934da1bab5c504f54fd754"
      }
     },
     "metadata": {},
     "output_type": "display_data"
    },
    {
     "ename": "TypeError",
     "evalue": "'NoneType' object is not callable",
     "output_type": "error",
     "traceback": [
      "\u001B[1;31m---------------------------------------------------------------------------\u001B[0m",
      "\u001B[1;31mTypeError\u001B[0m                                 Traceback (most recent call last)",
      "Cell \u001B[1;32mIn[100], line 7\u001B[0m\n\u001B[0;32m      5\u001B[0m \u001B[38;5;28;01mfor\u001B[39;00m num_layers \u001B[38;5;129;01min\u001B[39;00m layers:\n\u001B[0;32m      6\u001B[0m     model \u001B[38;5;241m=\u001B[39m get_model(num_layers)\n\u001B[1;32m----> 7\u001B[0m     final_loss \u001B[38;5;241m=\u001B[39m train(model)[\u001B[38;5;241m-\u001B[39m\u001B[38;5;241m1\u001B[39m]\n\u001B[0;32m      8\u001B[0m     models\u001B[38;5;241m.\u001B[39mappend(model)\n\u001B[0;32m     10\u001B[0m     train_losses \u001B[38;5;241m=\u001B[39m evaluate_losses(lines_train, model)\n",
      "Cell \u001B[1;32mIn[77], line 29\u001B[0m, in \u001B[0;36mtrain\u001B[1;34m(model)\u001B[0m\n\u001B[0;32m     26\u001B[0m     bar\u001B[38;5;241m.\u001B[39mupdate()\n\u001B[0;32m     28\u001B[0m trainer\u001B[38;5;241m.\u001B[39mset_callback(\u001B[38;5;124m\"\u001B[39m\u001B[38;5;124mon_batch_end\u001B[39m\u001B[38;5;124m\"\u001B[39m, on_batch_end)\n\u001B[1;32m---> 29\u001B[0m trainer\u001B[38;5;241m.\u001B[39mrun()\n\u001B[0;32m     30\u001B[0m bar\u001B[38;5;241m.\u001B[39mclose()\n\u001B[0;32m     31\u001B[0m \u001B[38;5;28;01mreturn\u001B[39;00m log\n",
      "File \u001B[1;32m~\\Documents\\Homework\\CSE 447\\HW3\\mingpt\\trainer.py:93\u001B[0m, in \u001B[0;36mTrainer.run\u001B[1;34m(self)\u001B[0m\n\u001B[0;32m     90\u001B[0m x, y \u001B[38;5;241m=\u001B[39m batch\n\u001B[0;32m     92\u001B[0m \u001B[38;5;66;03m# forward the model\u001B[39;00m\n\u001B[1;32m---> 93\u001B[0m logits, \u001B[38;5;28mself\u001B[39m\u001B[38;5;241m.\u001B[39mloss \u001B[38;5;241m=\u001B[39m model(x, y)\n\u001B[0;32m     95\u001B[0m \u001B[38;5;66;03m# backprop and update the parameters\u001B[39;00m\n\u001B[0;32m     96\u001B[0m model\u001B[38;5;241m.\u001B[39mzero_grad(set_to_none\u001B[38;5;241m=\u001B[39m\u001B[38;5;28;01mTrue\u001B[39;00m)\n",
      "File \u001B[1;32m~\\AppData\\Roaming\\Python\\Python312\\site-packages\\torch\\nn\\modules\\module.py:1736\u001B[0m, in \u001B[0;36mModule._wrapped_call_impl\u001B[1;34m(self, *args, **kwargs)\u001B[0m\n\u001B[0;32m   1734\u001B[0m     \u001B[38;5;28;01mreturn\u001B[39;00m \u001B[38;5;28mself\u001B[39m\u001B[38;5;241m.\u001B[39m_compiled_call_impl(\u001B[38;5;241m*\u001B[39margs, \u001B[38;5;241m*\u001B[39m\u001B[38;5;241m*\u001B[39mkwargs)  \u001B[38;5;66;03m# type: ignore[misc]\u001B[39;00m\n\u001B[0;32m   1735\u001B[0m \u001B[38;5;28;01melse\u001B[39;00m:\n\u001B[1;32m-> 1736\u001B[0m     \u001B[38;5;28;01mreturn\u001B[39;00m \u001B[38;5;28mself\u001B[39m\u001B[38;5;241m.\u001B[39m_call_impl(\u001B[38;5;241m*\u001B[39margs, \u001B[38;5;241m*\u001B[39m\u001B[38;5;241m*\u001B[39mkwargs)\n",
      "File \u001B[1;32m~\\AppData\\Roaming\\Python\\Python312\\site-packages\\torch\\nn\\modules\\module.py:1747\u001B[0m, in \u001B[0;36mModule._call_impl\u001B[1;34m(self, *args, **kwargs)\u001B[0m\n\u001B[0;32m   1742\u001B[0m \u001B[38;5;66;03m# If we don't have any hooks, we want to skip the rest of the logic in\u001B[39;00m\n\u001B[0;32m   1743\u001B[0m \u001B[38;5;66;03m# this function, and just call forward.\u001B[39;00m\n\u001B[0;32m   1744\u001B[0m \u001B[38;5;28;01mif\u001B[39;00m \u001B[38;5;129;01mnot\u001B[39;00m (\u001B[38;5;28mself\u001B[39m\u001B[38;5;241m.\u001B[39m_backward_hooks \u001B[38;5;129;01mor\u001B[39;00m \u001B[38;5;28mself\u001B[39m\u001B[38;5;241m.\u001B[39m_backward_pre_hooks \u001B[38;5;129;01mor\u001B[39;00m \u001B[38;5;28mself\u001B[39m\u001B[38;5;241m.\u001B[39m_forward_hooks \u001B[38;5;129;01mor\u001B[39;00m \u001B[38;5;28mself\u001B[39m\u001B[38;5;241m.\u001B[39m_forward_pre_hooks\n\u001B[0;32m   1745\u001B[0m         \u001B[38;5;129;01mor\u001B[39;00m _global_backward_pre_hooks \u001B[38;5;129;01mor\u001B[39;00m _global_backward_hooks\n\u001B[0;32m   1746\u001B[0m         \u001B[38;5;129;01mor\u001B[39;00m _global_forward_hooks \u001B[38;5;129;01mor\u001B[39;00m _global_forward_pre_hooks):\n\u001B[1;32m-> 1747\u001B[0m     \u001B[38;5;28;01mreturn\u001B[39;00m forward_call(\u001B[38;5;241m*\u001B[39margs, \u001B[38;5;241m*\u001B[39m\u001B[38;5;241m*\u001B[39mkwargs)\n\u001B[0;32m   1749\u001B[0m result \u001B[38;5;241m=\u001B[39m \u001B[38;5;28;01mNone\u001B[39;00m\n\u001B[0;32m   1750\u001B[0m called_always_called_hooks \u001B[38;5;241m=\u001B[39m \u001B[38;5;28mset\u001B[39m()\n",
      "File \u001B[1;32m~\\Documents\\Homework\\CSE 447\\HW3\\mingpt\\model.py:314\u001B[0m, in \u001B[0;36mGPT.forward\u001B[1;34m(self, idx, targets)\u001B[0m\n\u001B[0;32m    312\u001B[0m x \u001B[38;5;241m=\u001B[39m \u001B[38;5;28mself\u001B[39m\u001B[38;5;241m.\u001B[39mtransformer\u001B[38;5;241m.\u001B[39mdrop(tok_emb \u001B[38;5;241m+\u001B[39m pos_emb)\n\u001B[0;32m    313\u001B[0m \u001B[38;5;28;01mfor\u001B[39;00m block \u001B[38;5;129;01min\u001B[39;00m \u001B[38;5;28mself\u001B[39m\u001B[38;5;241m.\u001B[39mtransformer\u001B[38;5;241m.\u001B[39mh:\n\u001B[1;32m--> 314\u001B[0m     x \u001B[38;5;241m=\u001B[39m block(x, mask_tokens\u001B[38;5;241m=\u001B[39mmask_tokens)\n\u001B[0;32m    315\u001B[0m x \u001B[38;5;241m=\u001B[39m \u001B[38;5;28mself\u001B[39m\u001B[38;5;241m.\u001B[39mtransformer\u001B[38;5;241m.\u001B[39mln_f(x)\n\u001B[0;32m    316\u001B[0m logits \u001B[38;5;241m=\u001B[39m \u001B[38;5;28mself\u001B[39m\u001B[38;5;241m.\u001B[39mlm_head(x)\n",
      "File \u001B[1;32m~\\AppData\\Roaming\\Python\\Python312\\site-packages\\torch\\nn\\modules\\module.py:1736\u001B[0m, in \u001B[0;36mModule._wrapped_call_impl\u001B[1;34m(self, *args, **kwargs)\u001B[0m\n\u001B[0;32m   1734\u001B[0m     \u001B[38;5;28;01mreturn\u001B[39;00m \u001B[38;5;28mself\u001B[39m\u001B[38;5;241m.\u001B[39m_compiled_call_impl(\u001B[38;5;241m*\u001B[39margs, \u001B[38;5;241m*\u001B[39m\u001B[38;5;241m*\u001B[39mkwargs)  \u001B[38;5;66;03m# type: ignore[misc]\u001B[39;00m\n\u001B[0;32m   1735\u001B[0m \u001B[38;5;28;01melse\u001B[39;00m:\n\u001B[1;32m-> 1736\u001B[0m     \u001B[38;5;28;01mreturn\u001B[39;00m \u001B[38;5;28mself\u001B[39m\u001B[38;5;241m.\u001B[39m_call_impl(\u001B[38;5;241m*\u001B[39margs, \u001B[38;5;241m*\u001B[39m\u001B[38;5;241m*\u001B[39mkwargs)\n",
      "File \u001B[1;32m~\\AppData\\Roaming\\Python\\Python312\\site-packages\\torch\\nn\\modules\\module.py:1747\u001B[0m, in \u001B[0;36mModule._call_impl\u001B[1;34m(self, *args, **kwargs)\u001B[0m\n\u001B[0;32m   1742\u001B[0m \u001B[38;5;66;03m# If we don't have any hooks, we want to skip the rest of the logic in\u001B[39;00m\n\u001B[0;32m   1743\u001B[0m \u001B[38;5;66;03m# this function, and just call forward.\u001B[39;00m\n\u001B[0;32m   1744\u001B[0m \u001B[38;5;28;01mif\u001B[39;00m \u001B[38;5;129;01mnot\u001B[39;00m (\u001B[38;5;28mself\u001B[39m\u001B[38;5;241m.\u001B[39m_backward_hooks \u001B[38;5;129;01mor\u001B[39;00m \u001B[38;5;28mself\u001B[39m\u001B[38;5;241m.\u001B[39m_backward_pre_hooks \u001B[38;5;129;01mor\u001B[39;00m \u001B[38;5;28mself\u001B[39m\u001B[38;5;241m.\u001B[39m_forward_hooks \u001B[38;5;129;01mor\u001B[39;00m \u001B[38;5;28mself\u001B[39m\u001B[38;5;241m.\u001B[39m_forward_pre_hooks\n\u001B[0;32m   1745\u001B[0m         \u001B[38;5;129;01mor\u001B[39;00m _global_backward_pre_hooks \u001B[38;5;129;01mor\u001B[39;00m _global_backward_hooks\n\u001B[0;32m   1746\u001B[0m         \u001B[38;5;129;01mor\u001B[39;00m _global_forward_hooks \u001B[38;5;129;01mor\u001B[39;00m _global_forward_pre_hooks):\n\u001B[1;32m-> 1747\u001B[0m     \u001B[38;5;28;01mreturn\u001B[39;00m forward_call(\u001B[38;5;241m*\u001B[39margs, \u001B[38;5;241m*\u001B[39m\u001B[38;5;241m*\u001B[39mkwargs)\n\u001B[0;32m   1749\u001B[0m result \u001B[38;5;241m=\u001B[39m \u001B[38;5;28;01mNone\u001B[39;00m\n\u001B[0;32m   1750\u001B[0m called_always_called_hooks \u001B[38;5;241m=\u001B[39m \u001B[38;5;28mset\u001B[39m()\n",
      "File \u001B[1;32m~\\Documents\\Homework\\CSE 447\\HW3\\mingpt\\model.py:127\u001B[0m, in \u001B[0;36mBlock.forward\u001B[1;34m(self, x, mask_tokens)\u001B[0m\n\u001B[0;32m    126\u001B[0m \u001B[38;5;28;01mdef\u001B[39;00m \u001B[38;5;21mforward\u001B[39m(\u001B[38;5;28mself\u001B[39m, x, mask_tokens\u001B[38;5;241m=\u001B[39m\u001B[38;5;28;01mNone\u001B[39;00m):\n\u001B[1;32m--> 127\u001B[0m     x \u001B[38;5;241m=\u001B[39m x \u001B[38;5;241m+\u001B[39m \u001B[38;5;28mself\u001B[39m\u001B[38;5;241m.\u001B[39mattn(\u001B[38;5;28mself\u001B[39m\u001B[38;5;241m.\u001B[39mln_1(x), mask_tokens\u001B[38;5;241m=\u001B[39mmask_tokens)\n\u001B[0;32m    128\u001B[0m     x \u001B[38;5;241m=\u001B[39m x \u001B[38;5;241m+\u001B[39m \u001B[38;5;28mself\u001B[39m\u001B[38;5;241m.\u001B[39mmlpf(\u001B[38;5;28mself\u001B[39m\u001B[38;5;241m.\u001B[39mln_2(x))\n\u001B[0;32m    129\u001B[0m     \u001B[38;5;28;01mreturn\u001B[39;00m x\n",
      "File \u001B[1;32m~\\AppData\\Roaming\\Python\\Python312\\site-packages\\torch\\nn\\modules\\module.py:1736\u001B[0m, in \u001B[0;36mModule._wrapped_call_impl\u001B[1;34m(self, *args, **kwargs)\u001B[0m\n\u001B[0;32m   1734\u001B[0m     \u001B[38;5;28;01mreturn\u001B[39;00m \u001B[38;5;28mself\u001B[39m\u001B[38;5;241m.\u001B[39m_compiled_call_impl(\u001B[38;5;241m*\u001B[39margs, \u001B[38;5;241m*\u001B[39m\u001B[38;5;241m*\u001B[39mkwargs)  \u001B[38;5;66;03m# type: ignore[misc]\u001B[39;00m\n\u001B[0;32m   1735\u001B[0m \u001B[38;5;28;01melse\u001B[39;00m:\n\u001B[1;32m-> 1736\u001B[0m     \u001B[38;5;28;01mreturn\u001B[39;00m \u001B[38;5;28mself\u001B[39m\u001B[38;5;241m.\u001B[39m_call_impl(\u001B[38;5;241m*\u001B[39margs, \u001B[38;5;241m*\u001B[39m\u001B[38;5;241m*\u001B[39mkwargs)\n",
      "File \u001B[1;32m~\\AppData\\Roaming\\Python\\Python312\\site-packages\\torch\\nn\\modules\\module.py:1747\u001B[0m, in \u001B[0;36mModule._call_impl\u001B[1;34m(self, *args, **kwargs)\u001B[0m\n\u001B[0;32m   1742\u001B[0m \u001B[38;5;66;03m# If we don't have any hooks, we want to skip the rest of the logic in\u001B[39;00m\n\u001B[0;32m   1743\u001B[0m \u001B[38;5;66;03m# this function, and just call forward.\u001B[39;00m\n\u001B[0;32m   1744\u001B[0m \u001B[38;5;28;01mif\u001B[39;00m \u001B[38;5;129;01mnot\u001B[39;00m (\u001B[38;5;28mself\u001B[39m\u001B[38;5;241m.\u001B[39m_backward_hooks \u001B[38;5;129;01mor\u001B[39;00m \u001B[38;5;28mself\u001B[39m\u001B[38;5;241m.\u001B[39m_backward_pre_hooks \u001B[38;5;129;01mor\u001B[39;00m \u001B[38;5;28mself\u001B[39m\u001B[38;5;241m.\u001B[39m_forward_hooks \u001B[38;5;129;01mor\u001B[39;00m \u001B[38;5;28mself\u001B[39m\u001B[38;5;241m.\u001B[39m_forward_pre_hooks\n\u001B[0;32m   1745\u001B[0m         \u001B[38;5;129;01mor\u001B[39;00m _global_backward_pre_hooks \u001B[38;5;129;01mor\u001B[39;00m _global_backward_hooks\n\u001B[0;32m   1746\u001B[0m         \u001B[38;5;129;01mor\u001B[39;00m _global_forward_hooks \u001B[38;5;129;01mor\u001B[39;00m _global_forward_pre_hooks):\n\u001B[1;32m-> 1747\u001B[0m     \u001B[38;5;28;01mreturn\u001B[39;00m forward_call(\u001B[38;5;241m*\u001B[39margs, \u001B[38;5;241m*\u001B[39m\u001B[38;5;241m*\u001B[39mkwargs)\n\u001B[0;32m   1749\u001B[0m result \u001B[38;5;241m=\u001B[39m \u001B[38;5;28;01mNone\u001B[39;00m\n\u001B[0;32m   1750\u001B[0m called_always_called_hooks \u001B[38;5;241m=\u001B[39m \u001B[38;5;28mset\u001B[39m()\n",
      "File \u001B[1;32m~\\Documents\\Homework\\CSE 447\\HW3\\mingpt\\model.py:100\u001B[0m, in \u001B[0;36mCausalSelfAttention.forward\u001B[1;34m(self, x, mask_tokens)\u001B[0m\n\u001B[0;32m     97\u001B[0m \u001B[38;5;28;01mdef\u001B[39;00m \u001B[38;5;21mforward\u001B[39m(\u001B[38;5;28mself\u001B[39m, x, mask_tokens\u001B[38;5;241m=\u001B[39m\u001B[38;5;28;01mNone\u001B[39;00m):\n\u001B[0;32m     98\u001B[0m     \u001B[38;5;66;03m#B, T, C = x.size() # batch size, sequence length, embedding dimensionality (n_embd)\u001B[39;00m\n\u001B[0;32m     99\u001B[0m     Q,K,V \u001B[38;5;241m=\u001B[39m \u001B[38;5;28mself\u001B[39m\u001B[38;5;241m.\u001B[39mW_Q(x), \u001B[38;5;28mself\u001B[39m\u001B[38;5;241m.\u001B[39mW_K(x), \u001B[38;5;28mself\u001B[39m\u001B[38;5;241m.\u001B[39mW_V(x)\n\u001B[1;32m--> 100\u001B[0m     y \u001B[38;5;241m=\u001B[39m \u001B[38;5;28mself\u001B[39m\u001B[38;5;241m.\u001B[39mattn_fn(Q,K,V, n_heads\u001B[38;5;241m=\u001B[39m\u001B[38;5;28mself\u001B[39m\u001B[38;5;241m.\u001B[39mn_head, causal\u001B[38;5;241m=\u001B[39m\u001B[38;5;28;01mTrue\u001B[39;00m)\n\u001B[0;32m    101\u001B[0m     \u001B[38;5;28;01mif\u001B[39;00m mask_tokens \u001B[38;5;129;01mis\u001B[39;00m \u001B[38;5;129;01mnot\u001B[39;00m \u001B[38;5;28;01mNone\u001B[39;00m:\n\u001B[0;32m    102\u001B[0m         y[mask_tokens] \u001B[38;5;241m=\u001B[39m \u001B[38;5;241m0\u001B[39m\n",
      "\u001B[1;31mTypeError\u001B[0m: 'NoneType' object is not callable"
     ]
    }
   ],
   "execution_count": 100
  },
  {
   "metadata": {
    "ExecuteTime": {
     "end_time": "2024-12-06T02:39:47.802978Z",
     "start_time": "2024-12-06T02:39:47.701032Z"
    }
   },
   "cell_type": "code",
   "source": [
    "print(perplexities)\n",
    "plt.plot(layers, [p[0] for p in perplexities], label=\"train\")\n",
    "plt.plot(layers, [p[1] for p in perplexities], label=\"dev\")\n",
    "plt.xlabel(\"layers\")\n",
    "plt.ylabel(\"perplexity\")\n",
    "plt.legend()\n",
    "plt.show()"
   ],
   "outputs": [
    {
     "name": "stdout",
     "output_type": "stream",
     "text": [
      "[(116.44851230213287, 105.20294944736361), (117.9182313334126, 107.55932110598835), (118.5086857216532, 107.6257179893562), (119.24224306518337, 110.4311909531677), (119.289452300641, 107.82115244085256), (118.46437783897119, 106.66145675268407), (118.9081180759405, 111.08754701535477), (117.48658304834069, 106.42502887739164), (117.80524942214976, 108.08361981099921), (117.79271442660632, 108.04399975314318)]\n"
     ]
    },
    {
     "data": {
      "text/plain": [
       "<Figure size 640x480 with 1 Axes>"
      ],
      "image/png": "[encoded data removed]"
     },
     "metadata": {},
     "output_type": "display_data"
    }
   ],
   "execution_count": 87
  },
  {
   "metadata": {
    "ExecuteTime": {
     "end_time": "2024-12-06T02:39:49.963784Z",
     "start_time": "2024-12-06T02:39:49.903986Z"
    }
   },
   "cell_type": "code",
   "source": [
    "plt.plot(layers, losses)\n",
    "plt.xlabel(\"layers\")\n",
    "plt.ylabel(\"final loss\")\n",
    "plt.show()\n"
   ],
   "outputs": [
    {
     "data": {
      "text/plain": [
       "<Figure size 640x480 with 1 Axes>"
      ],
      "image/png": "[encoded data removed]"
     },
     "metadata": {},
     "output_type": "display_data"
    }
   ],
   "execution_count": 88
  },
  {
   "metadata": {
    "ExecuteTime": {
     "end_time": "2024-12-06T03:28:32.261281Z",
     "start_time": "2024-12-06T03:28:09.073771Z"
    }
   },
   "cell_type": "code",
   "source": [
    " # get 3 generations from each model\n",
    "tokens = torch.tensor([tokenize(\"\", include_stop=False)], dtype=torch.long).to(DEVICE)\n",
    "for i, model in enumerate(models):\n",
    "    print(f\"layers = {layers[i]}\")\n",
    "    for _ in range(3):\n",
    "        pred = model.generate(\n",
    "            tokens, MAX_LEN - tokens.shape[-1], temperature=1.0, do_sample=True, top_k=None\n",
    "        )\n",
    "\n",
    "        print(decode(pred[0].tolist()))"
   ],
   "outputs": [
    {
     "name": "stdout",
     "output_type": "stream",
     "text": [
      "layers = 1\n",
      "<START> <UNK> from mine , to King It MOWBRAY : if honest very breath to your oath pronounced being sir , I would in the <UNK> Does Which fly , and hear that <UNK> enough ? <STOP>\n",
      "<START> O lord ! and Clifford , hours of your hand , from and sir , Whither , as Leontes <UNK> . <STOP>\n",
      "<START> farewell : disease 's the save for my loved him ; With poor <UNK> of us and in pay so , for the soften spirit and thy great help . <STOP>\n",
      "layers = 4\n",
      "<START> but he should go . <STOP>\n",
      "<START> ROMEO MOWBRAY : Now , themselves ! <STOP>\n",
      "<START> : hath not go <UNK> Thou contract that <UNK> queen . <STOP>\n",
      "layers = 7\n",
      "<START> How steal Thus if you <UNK> the <UNK> with as noble Aumerle . <STOP>\n",
      "<START> BENVOLIO : I must have you , my Rome to court , Thou Will not let me , Which charge them <UNK> that speak to black own <UNK> . <STOP>\n",
      "<START> May name is from him that he is by the remorse in my rather . <STOP>\n",
      "layers = 10\n",
      "<START> CLAUDIO : You told cold ' what , Would she is a houses 'd you done o'er a QUEEN ELIZABETH : Which <UNK> what , and that stands such of blood , loins . <STOP>\n",
      "<START> and they lose his followers : our words late <UNK> purpose of for this lie so of we stood my father to myself , Thus He slaughter That more over <UNK> Of great <UNK> 'd , By virtuous And wenches i : Look themselves . <STOP>\n",
      "<START> BISHOP OF heartily a loved the gods toward the <UNK> with care to him set your Duke of Tybalt shall wake of my their food . <STOP>\n",
      "layers = 13\n",
      "<START> MENENIUS : Now , 't is honours praise the king , An little better seated she was condemn hast I 'll not at the crown , the house see like made so it not more earth . <STOP>\n",
      "<START> Can your art not speak to be o ' ' ' dead more , of rise Brandon , you make good rain : Strike the rabble . <STOP>\n",
      "<START> so others with follow me by France . <STOP>\n",
      "layers = 17\n",
      "<START> QUEEN MARGARET : about him me me , ! <STOP>\n",
      "<START> <UNK> thee , for my damned centre of the longer say he <UNK> of sweet daughters ; by eye is winter is heaven , fool , though upon prepared for thou friend . <STOP>\n",
      "<START> for their Trust weight , on , this Anne ; Hark , young <UNK> of <UNK> to accuse thee to tears ; Within them your brother lives ; bear my contrary . <STOP>\n",
      "layers = 20\n",
      "<START> DUKE VI : The day with my thing to the possession : My Son ; and king ? <STOP>\n",
      "<START> MARCIUS : Let me Capulet , over the young Who ? <STOP>\n",
      "<START> KING RICHARD ELIZABETH : Edward 's death : dead thank Warwick , I can ? <STOP>\n",
      "layers = 23\n",
      "<START> KING RICHARD III : name ? <STOP>\n",
      "<START> WARWICK : Sir than this matter flowers . <STOP>\n",
      "<START> Methought Thou puissant morning , and every prison appear , the rest Must that , to grant it was well . <STOP>\n",
      "layers = 26\n",
      "<START> I 'll end the arms , at the not up , in thee authority , -- Third lusty slain ? <STOP>\n",
      "<START> Yet speak ? <STOP>\n",
      "<START> your honour thine more banished ? <STOP>\n",
      "layers = 30\n",
      "<START> KING EDWARD : <STOP>\n",
      "<START> Second Murderer : My field , spoke with dust the coat , If I have most those he must . <STOP>\n",
      "<START> Be more <UNK> the victory me offer up to speak . <STOP>\n"
     ]
    }
   ],
   "execution_count": 93
  }
 ],
 "metadata": {
  "kernelspec": {
   "display_name": "Python 3 (ipykernel)",
   "language": "python",
   "name": "python3"
  },
  "language_info": {
   "codemirror_mode": {
    "name": "ipython",
    "version": 3
   },
   "file_extension": ".py",
   "mimetype": "text/x-python",
   "name": "python",
   "nbconvert_exporter": "python",
   "pygments_lexer": "ipython3",
   "version": "3.10.14"
  }
 },
 "nbformat": 4,
 "nbformat_minor": 4
}
