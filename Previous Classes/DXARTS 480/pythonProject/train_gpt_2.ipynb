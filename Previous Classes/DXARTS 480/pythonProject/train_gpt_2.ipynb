{
 "cells": [
  {
   "cell_type": "code",
   "id": "initial_id",
   "metadata": {
    "collapsed": true,
    "ExecuteTime": {
     "end_time": "2024-12-02T03:42:52.901441Z",
     "start_time": "2024-12-02T03:42:43.597428Z"
    }
   },
   "source": [
    "import torch\n",
    "from datasets import Dataset\n",
    "from transformers import GPT2Tokenizer, GPT2LMHeadModel, TrainingArguments, Trainer, pipeline"
   ],
   "outputs": [],
   "execution_count": 1
  },
  {
   "metadata": {
    "ExecuteTime": {
     "end_time": "2024-12-02T03:42:00.065576300Z",
     "start_time": "2024-12-01T05:46:41.123301Z"
    }
   },
   "cell_type": "code",
   "source": [
    "# Load the text file\n",
    "with open(\"sentences.txt\", \"r\", encoding=\"utf-8\") as f:\n",
    "    lines = f.read().splitlines()\n",
    "\n",
    "# Create a Hugging Face dataset\n",
    "dataset = Dataset.from_dict({\"text\": lines})"
   ],
   "id": "f982a067aca41dcc",
   "outputs": [
    {
     "name": "stdout",
     "output_type": "stream",
     "text": [
      "Dataset({\n",
      "    features: ['text'],\n",
      "    num_rows: 1238\n",
      "})\n"
     ]
    }
   ],
   "execution_count": 19
  },
  {
   "metadata": {
    "ExecuteTime": {
     "end_time": "2024-12-02T03:42:00.068573800Z",
     "start_time": "2024-12-01T05:47:01.079032Z"
    }
   },
   "cell_type": "code",
   "source": [
    "# Split the dataset into 90% train and 10% validation\n",
    "dataset = dataset.train_test_split(test_size=0.1)\n",
    "print(dataset)"
   ],
   "id": "89fc1cfe662cb325",
   "outputs": [
    {
     "name": "stdout",
     "output_type": "stream",
     "text": [
      "DatasetDict({\n",
      "    train: Dataset({\n",
      "        features: ['text'],\n",
      "        num_rows: 1114\n",
      "    })\n",
      "    test: Dataset({\n",
      "        features: ['text'],\n",
      "        num_rows: 124\n",
      "    })\n",
      "})\n"
     ]
    }
   ],
   "execution_count": 20
  },
  {
   "metadata": {
    "ExecuteTime": {
     "end_time": "2024-12-02T03:42:00.071082500Z",
     "start_time": "2024-12-01T05:47:15.319305Z"
    }
   },
   "cell_type": "code",
   "source": [
    "# Load the GPT-2 tokenizer\n",
    "tokenizer = GPT2Tokenizer.from_pretrained(\"gpt2\")\n",
    "tokenizer.pad_token = tokenizer.eos_token  # Set padding token to the end-of-sequence token"
   ],
   "id": "3fe5501072fa82c",
   "outputs": [],
   "execution_count": 21
  },
  {
   "metadata": {
    "ExecuteTime": {
     "end_time": "2024-12-02T03:42:00.071082500Z",
     "start_time": "2024-12-01T05:47:28.112603Z"
    }
   },
   "cell_type": "code",
   "source": [
    "# Tokenize the dataset\n",
    "def tokenize_function(examples):\n",
    "    return tokenizer(examples[\"text\"], truncation=True, padding=\"max_length\", max_length=128)\n",
    "\n",
    "tokenized_datasets = dataset.map(tokenize_function, batched=True)\n",
    "\n",
    "# Add labels (required for GPT-2 training)\n",
    "def add_labels(examples):\n",
    "    examples[\"labels\"] = examples[\"input_ids\"].copy()\n",
    "    return examples\n",
    "\n",
    "tokenized_datasets = tokenized_datasets.map(add_labels, batched=True)"
   ],
   "id": "94697d0ee250167",
   "outputs": [
    {
     "data": {
      "text/plain": [
       "Map:   0%|          | 0/1114 [00:00<?, ? examples/s]"
      ],
      "application/vnd.jupyter.widget-view+json": {
       "version_major": 2,
       "version_minor": 0,
       "model_id": "bf8c2890410d4ac88901d539d04f0980"
      }
     },
     "metadata": {},
     "output_type": "display_data"
    },
    {
     "data": {
      "text/plain": [
       "Map:   0%|          | 0/124 [00:00<?, ? examples/s]"
      ],
      "application/vnd.jupyter.widget-view+json": {
       "version_major": 2,
       "version_minor": 0,
       "model_id": "994f04b691fa44b683d2a4dc4f1327dd"
      }
     },
     "metadata": {},
     "output_type": "display_data"
    },
    {
     "data": {
      "text/plain": [
       "Map:   0%|          | 0/1114 [00:00<?, ? examples/s]"
      ],
      "application/vnd.jupyter.widget-view+json": {
       "version_major": 2,
       "version_minor": 0,
       "model_id": "ddaa1a2e65dc4c349abab4b9c83a89c4"
      }
     },
     "metadata": {},
     "output_type": "display_data"
    },
    {
     "data": {
      "text/plain": [
       "Map:   0%|          | 0/124 [00:00<?, ? examples/s]"
      ],
      "application/vnd.jupyter.widget-view+json": {
       "version_major": 2,
       "version_minor": 0,
       "model_id": "2260d9ba78854c33b5baa36096721e8c"
      }
     },
     "metadata": {},
     "output_type": "display_data"
    }
   ],
   "execution_count": 22
  },
  {
   "metadata": {
    "ExecuteTime": {
     "end_time": "2024-12-02T03:42:00.074590900Z",
     "start_time": "2024-12-01T05:47:39.980432Z"
    }
   },
   "cell_type": "code",
   "source": [
    "# Set the dataset format to PyTorch\n",
    "tokenized_datasets.set_format(type=\"torch\", columns=[\"input_ids\", \"attention_mask\", \"labels\"])"
   ],
   "id": "2743fbd93c4324a8",
   "outputs": [],
   "execution_count": 23
  },
  {
   "metadata": {
    "ExecuteTime": {
     "end_time": "2024-12-02T03:42:00.074590900Z",
     "start_time": "2024-12-01T05:47:47.422976Z"
    }
   },
   "cell_type": "code",
   "source": [
    "# Load the pre-trained GPT-2 model\n",
    "model = GPT2LMHeadModel.from_pretrained(\"gpt2\")\n",
    "model.resize_token_embeddings(len(tokenizer))  # Adjust for the tokenizer size"
   ],
   "id": "88bc3c0753227f4b",
   "outputs": [
    {
     "data": {
      "text/plain": [
       "Embedding(50257, 768)"
      ]
     },
     "execution_count": 24,
     "metadata": {},
     "output_type": "execute_result"
    }
   ],
   "execution_count": 24
  },
  {
   "metadata": {
    "ExecuteTime": {
     "end_time": "2024-12-02T03:42:00.074590900Z",
     "start_time": "2024-12-01T05:48:01.188112Z"
    }
   },
   "cell_type": "code",
   "source": [
    "# Define training arguments\n",
    "training_args = TrainingArguments(\n",
    "    output_dir=\"./results\",\n",
    "    evaluation_strategy=\"epoch\",    # Evaluate at the end of each epoch\n",
    "    learning_rate=5e-5,\n",
    "    per_device_train_batch_size=8,\n",
    "    num_train_epochs=3,\n",
    "    weight_decay=0.01,\n",
    "    save_total_limit=2,\n",
    "    logging_dir=\"./logs\",\n",
    "    fp16=True,  # Use mixed precision if available\n",
    ")"
   ],
   "id": "b7c4a855d853fc30",
   "outputs": [],
   "execution_count": 25
  },
  {
   "metadata": {
    "ExecuteTime": {
     "end_time": "2024-12-02T03:42:00.075591Z",
     "start_time": "2024-12-01T05:48:10.704378Z"
    }
   },
   "cell_type": "code",
   "source": [
    "trainer = Trainer(\n",
    "    model=model,\n",
    "    args=training_args,\n",
    "    train_dataset=tokenized_datasets[\"train\"],\n",
    "    eval_dataset=tokenized_datasets[\"test\"],\n",
    "    tokenizer=tokenizer,  # Pass the tokenizer for logging convenience\n",
    ")"
   ],
   "id": "eab48ffb51d8cede",
   "outputs": [
    {
     "name": "stderr",
     "output_type": "stream",
     "text": [
      "C:\\Users\\Rohan Mukherjee\\AppData\\Local\\Temp\\ipykernel_14104\\699088819.py:1: FutureWarning: `tokenizer` is deprecated and will be removed in version 5.0.0 for `Trainer.__init__`. Use `processing_class` instead.\n",
      "  trainer = Trainer(\n"
     ]
    }
   ],
   "execution_count": 26
  },
  {
   "metadata": {
    "ExecuteTime": {
     "end_time": "2024-12-02T03:42:00.075591Z",
     "start_time": "2024-12-01T05:48:26.917187Z"
    }
   },
   "cell_type": "code",
   "source": "trainer.train()",
   "id": "67f9c0ead0f7345b",
   "outputs": [
    {
     "data": {
      "text/plain": [
       "<IPython.core.display.HTML object>"
      ],
      "text/html": [
       "\n",
       "    <div>\n",
       "      \n",
       "      <progress value='420' max='420' style='width:300px; height:20px; vertical-align: middle;'></progress>\n",
       "      [420/420 00:16, Epoch 3/3]\n",
       "    </div>\n",
       "    <table border=\"1\" class=\"dataframe\">\n",
       "  <thead>\n",
       " <tr style=\"text-align: left;\">\n",
       "      <th>Epoch</th>\n",
       "      <th>Training Loss</th>\n",
       "      <th>Validation Loss</th>\n",
       "    </tr>\n",
       "  </thead>\n",
       "  <tbody>\n",
       "    <tr>\n",
       "      <td>1</td>\n",
       "      <td>No log</td>\n",
       "      <td>0.757391</td>\n",
       "    </tr>\n",
       "    <tr>\n",
       "      <td>2</td>\n",
       "      <td>No log</td>\n",
       "      <td>0.742824</td>\n",
       "    </tr>\n",
       "    <tr>\n",
       "      <td>3</td>\n",
       "      <td>No log</td>\n",
       "      <td>0.741616</td>\n",
       "    </tr>\n",
       "  </tbody>\n",
       "</table><p>"
      ]
     },
     "metadata": {},
     "output_type": "display_data"
    },
    {
     "data": {
      "text/plain": [
       "TrainOutput(global_step=420, training_loss=0.9109887259347098, metrics={'train_runtime': 16.9451, 'train_samples_per_second': 197.225, 'train_steps_per_second': 24.786, 'total_flos': 218309492736000.0, 'train_loss': 0.9109887259347098, 'epoch': 3.0})"
      ]
     },
     "execution_count": 27,
     "metadata": {},
     "output_type": "execute_result"
    }
   ],
   "execution_count": 27
  },
  {
   "metadata": {
    "ExecuteTime": {
     "end_time": "2024-12-02T03:42:00.079099400Z",
     "start_time": "2024-12-01T05:48:57.634215Z"
    }
   },
   "cell_type": "code",
   "source": [
    "model.save_pretrained(\"./fine_tuned_gpt2\")\n",
    "tokenizer.save_pretrained(\"./fine_tuned_gpt2\")"
   ],
   "id": "ed1e405cb25dc8d",
   "outputs": [
    {
     "data": {
      "text/plain": [
       "('./fine_tuned_gpt2\\\\tokenizer_config.json',\n",
       " './fine_tuned_gpt2\\\\special_tokens_map.json',\n",
       " './fine_tuned_gpt2\\\\vocab.json',\n",
       " './fine_tuned_gpt2\\\\merges.txt',\n",
       " './fine_tuned_gpt2\\\\added_tokens.json')"
      ]
     },
     "execution_count": 28,
     "metadata": {},
     "output_type": "execute_result"
    }
   ],
   "execution_count": 28
  },
  {
   "metadata": {
    "ExecuteTime": {
     "end_time": "2024-12-02T03:52:35.666206Z",
     "start_time": "2024-12-02T03:52:35.235750Z"
    }
   },
   "cell_type": "code",
   "source": [
    "# Generate text\n",
    "text = \"Why must humans fight amongst themselves?\"\n",
    "\n",
    "def generate_text(text, max_attempts=100):\n",
    "    generator = pipeline(\"text-generation\", model=\"./fine_tuned_gpt2\", tokenizer=\"./fine_tuned_gpt2\", device=\"cuda\")\n",
    "    \n",
    "    prompt = f\"Q: {text}\\nA:\"\n",
    "    \n",
    "    for _ in range(max_attempts):\n",
    "        output = generator(\n",
    "        prompt, # Prompt\n",
    "        max_length=100,                  # Max tokens to generate\n",
    "        truncation=True,\n",
    "        num_return_sequences=1,         # Number of outputs\n",
    "        temperature=1.5,                # Randomness (lower = more deterministic)\n",
    "        top_k=50,                       # Consider top 50 tokens\n",
    "        top_p=0.95,                     # Nucleus sampling\n",
    "        do_sample=True                  # Enable sampling\n",
    "        )\n",
    "        output = output[0][\"generated_text\"][len(prompt):]\n",
    "        if len(output) != 0:\n",
    "            print(output)\n",
    "            break\n",
    "        \n",
    "generate_text(text)"
   ],
   "id": "47169375a5271e35",
   "outputs": [
    {
     "name": "stdout",
     "output_type": "stream",
     "text": [
      " To solve the question would imply that the solution does not seem obvious enough\n"
     ]
    }
   ],
   "execution_count": 16
  }
 ],
 "metadata": {
  "kernelspec": {
   "display_name": "Python 3",
   "language": "python",
   "name": "python3"
  },
  "language_info": {
   "codemirror_mode": {
    "name": "ipython",
    "version": 2
   },
   "file_extension": ".py",
   "mimetype": "text/x-python",
   "name": "python",
   "nbconvert_exporter": "python",
   "pygments_lexer": "ipython2",
   "version": "2.7.6"
  }
 },
 "nbformat": 4,
 "nbformat_minor": 5
}
