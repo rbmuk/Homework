{
 "cells": [
  {
   "cell_type": "code",
   "id": "initial_id",
   "metadata": {
    "collapsed": true,
    "ExecuteTime": {
     "end_time": "2025-01-13T05:54:50.334349Z",
     "start_time": "2025-01-13T05:54:50.331689Z"
    }
   },
   "source": [
    "import numpy as np\n",
    "from itertools import product\n",
    "\n",
    "np.set_printoptions(linewidth=200, precision=3, suppress=True)"
   ],
   "outputs": [],
   "execution_count": 53
  },
  {
   "metadata": {
    "ExecuteTime": {
     "end_time": "2025-01-13T05:52:29.584955Z",
     "start_time": "2025-01-13T05:52:29.580450Z"
    }
   },
   "cell_type": "code",
   "source": [
    "def alpha(M: np.ndarray):\n",
    "    M /= np.linalg.norm(M, ord=2, axis=0)\n",
    "    dim = M.shape[1]\n",
    "    hypercube = product([-1, 1], repeat=dim)\n",
    "    \n",
    "    return min([np.linalg.norm(np.dot(M, np.array(h)), ord=np.inf) for h in hypercube])\n",
    "\n",
    "def beta(M: np.ndarray):\n",
    "    M /= np.linalg.norm(M, ord=2, axis=0)\n",
    "    dim = M.shape[1]\n",
    "    hypercube = product([-1, 1], repeat=dim)\n",
    "    \n",
    "    return max([np.linalg.norm(np.dot(M, np.array(h)), ord=2) for h in hypercube])\n",
    "\n",
    "def recursive(n: int):\n",
    "    if n == 1:\n",
    "        return np.array([\n",
    "            [1, 1],\n",
    "            [1, -1]\n",
    "        ])\n",
    "    M = recursive(n-1)\n",
    "    return np.block([\n",
    "        [M, np.eye(M.shape[0])],\n",
    "        [-M, np.eye(M.shape[0])]\n",
    "    ])"
   ],
   "id": "2558822bf4fa2990",
   "outputs": [],
   "execution_count": 43
  },
  {
   "metadata": {
    "ExecuteTime": {
     "end_time": "2025-01-13T05:54:52.657136Z",
     "start_time": "2025-01-13T05:54:52.207009Z"
    }
   },
   "cell_type": "code",
   "source": [
    "A = recursive(4)\n",
    "B = recursive(3)\n",
    "print(B / np.linalg.norm(B, ord=2, axis=0))\n",
    "print(A.shape)\n",
    "print(A / np.linalg.norm(A, ord=2, axis=0))\n",
    "print(alpha(A))\n",
    "print(beta(A))"
   ],
   "id": "4a29041d1829a858",
   "outputs": [
    {
     "name": "stdout",
     "output_type": "stream",
     "text": [
      "[[ 0.354  0.354  0.5    0.     0.707  0.     0.     0.   ]\n",
      " [ 0.354 -0.354  0.     0.5    0.     0.707  0.     0.   ]\n",
      " [-0.354 -0.354  0.5    0.     0.     0.     0.707  0.   ]\n",
      " [-0.354  0.354  0.     0.5    0.     0.     0.     0.707]\n",
      " [-0.354 -0.354 -0.5   -0.     0.707  0.     0.     0.   ]\n",
      " [-0.354  0.354 -0.    -0.5    0.     0.707  0.     0.   ]\n",
      " [ 0.354  0.354 -0.5   -0.     0.     0.     0.707  0.   ]\n",
      " [ 0.354 -0.354 -0.    -0.5    0.     0.     0.     0.707]]\n",
      "(16, 16)\n",
      "[[ 0.25   0.25   0.354  0.     0.5    0.     0.     0.     0.707  0.     0.     0.     0.     0.     0.     0.   ]\n",
      " [ 0.25  -0.25   0.     0.354  0.     0.5    0.     0.     0.     0.707  0.     0.     0.     0.     0.     0.   ]\n",
      " [-0.25  -0.25   0.354  0.     0.     0.     0.5    0.     0.     0.     0.707  0.     0.     0.     0.     0.   ]\n",
      " [-0.25   0.25   0.     0.354  0.     0.     0.     0.5    0.     0.     0.     0.707  0.     0.     0.     0.   ]\n",
      " [-0.25  -0.25  -0.354 -0.     0.5    0.     0.     0.     0.     0.     0.     0.     0.707  0.     0.     0.   ]\n",
      " [-0.25   0.25  -0.    -0.354  0.     0.5    0.     0.     0.     0.     0.     0.     0.     0.707  0.     0.   ]\n",
      " [ 0.25   0.25  -0.354 -0.     0.     0.     0.5    0.     0.     0.     0.     0.     0.     0.     0.707  0.   ]\n",
      " [ 0.25  -0.25  -0.    -0.354  0.     0.     0.     0.5    0.     0.     0.     0.     0.     0.     0.     0.707]\n",
      " [-0.25  -0.25  -0.354 -0.    -0.5   -0.    -0.    -0.     0.707  0.     0.     0.     0.     0.     0.     0.   ]\n",
      " [-0.25   0.25  -0.    -0.354 -0.    -0.5   -0.    -0.     0.     0.707  0.     0.     0.     0.     0.     0.   ]\n",
      " [ 0.25   0.25  -0.354 -0.    -0.    -0.    -0.5   -0.     0.     0.     0.707  0.     0.     0.     0.     0.   ]\n",
      " [ 0.25  -0.25  -0.    -0.354 -0.    -0.    -0.    -0.5    0.     0.     0.     0.707  0.     0.     0.     0.   ]\n",
      " [ 0.25   0.25   0.354  0.    -0.5   -0.    -0.    -0.     0.     0.     0.     0.     0.707  0.     0.     0.   ]\n",
      " [ 0.25  -0.25   0.     0.354 -0.    -0.5   -0.    -0.     0.     0.     0.     0.     0.     0.707  0.     0.   ]\n",
      " [-0.25  -0.25   0.354  0.    -0.    -0.    -0.5   -0.     0.     0.     0.     0.     0.     0.     0.707  0.   ]\n",
      " [-0.25   0.25   0.     0.354 -0.    -0.    -0.    -0.5    0.     0.     0.     0.     0.     0.     0.     0.707]]\n",
      "2.060660171779821\n",
      "4.0\n"
     ]
    }
   ],
   "execution_count": 54
  }
 ],
 "metadata": {
  "kernelspec": {
   "display_name": "Python 3",
   "language": "python",
   "name": "python3"
  },
  "language_info": {
   "codemirror_mode": {
    "name": "ipython",
    "version": 2
   },
   "file_extension": ".py",
   "mimetype": "text/x-python",
   "name": "python",
   "nbconvert_exporter": "python",
   "pygments_lexer": "ipython2",
   "version": "2.7.6"
  }
 },
 "nbformat": 4,
 "nbformat_minor": 5
}
