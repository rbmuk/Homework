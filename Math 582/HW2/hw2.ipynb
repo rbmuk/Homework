{
 "cells": [
  {
   "cell_type": "code",
   "id": "initial_id",
   "metadata": {
    "collapsed": true,
    "ExecuteTime": {
     "end_time": "2025-01-17T01:36:11.027863Z",
     "start_time": "2025-01-17T01:36:10.613565Z"
    }
   },
   "source": [
    "import numpy as np\n",
    "from scipy.optimize import minimize\n",
    "from sympy import symbols, sqrt, solve"
   ],
   "outputs": [],
   "execution_count": 1
  },
  {
   "metadata": {
    "ExecuteTime": {
     "end_time": "2025-01-17T01:36:16.692492Z",
     "start_time": "2025-01-17T01:36:16.687331Z"
    }
   },
   "cell_type": "code",
   "source": [
    "def pairwise_sum(M):\n",
    "    \"\"\"\n",
    "    Compute the sum \\sum_{i \\neq j} \\frac{1}{||m[i] - m[j]||}.\n",
    "\n",
    "    Parameters:\n",
    "        M (numpy.ndarray): A matrix of shape (n, d), where n is the number of vectors and d is their dimensionality.\n",
    "\n",
    "    Returns:\n",
    "        float: The computed sum.\n",
    "    \"\"\"\n",
    "    n = M.shape[0]\n",
    "    total_sum = 0.0\n",
    "\n",
    "    for i in range(n):\n",
    "        for j in range(n):\n",
    "            if i != j:\n",
    "                diff = M[i] - M[j]\n",
    "                norm = np.linalg.norm(diff)\n",
    "                if norm > 0:  # Avoid division by zero\n",
    "                    total_sum += 1 / norm\n",
    "\n",
    "    return total_sum\n",
    "\n",
    "def pairwise_distances(M):\n",
    "    \"\"\"\n",
    "    Compute the pairwise distance matrix for the rows of matrix M.\n",
    "\n",
    "    Parameters:\n",
    "        M (numpy.ndarray): A matrix of shape (n, d), where n is the number of vectors and d is their dimensionality.\n",
    "\n",
    "    Returns:\n",
    "        numpy.ndarray: A matrix D of shape (n, n), where D[i, j] = ||m[i] - m[j]||.\n",
    "    \"\"\"\n",
    "    n = M.shape[0]\n",
    "    D = np.zeros((n, n))\n",
    "\n",
    "    for i in range(n):\n",
    "        for j in range(n):\n",
    "            if i != j:\n",
    "                D[i, j] = np.linalg.norm(M[i] - M[j])\n",
    "\n",
    "    return D\n",
    "\n",
    "# Example usage:\n",
    "M = np.array([[1, 2], [3, 4], [5, 6]])  # Example 2D matrix\n",
    "result = pairwise_sum(M)\n",
    "print(\"Sum:\", result)\n",
    "\n",
    "distance_matrix = pairwise_distances(M)\n",
    "print(\"Pairwise distances:\\n\", distance_matrix)\n"
   ],
   "id": "845751c18104a848",
   "outputs": [
    {
     "name": "stdout",
     "output_type": "stream",
     "text": [
      "Sum: 1.7677669529663687\n",
      "Pairwise distances:\n",
      " [[0.         2.82842712 5.65685425]\n",
      " [2.82842712 0.         2.82842712]\n",
      " [5.65685425 2.82842712 0.        ]]\n"
     ]
    },
    {
     "name": "stderr",
     "output_type": "stream",
     "text": [
      "<>:2: SyntaxWarning: invalid escape sequence '\\s'\n",
      "<>:2: SyntaxWarning: invalid escape sequence '\\s'\n",
      "/tmp/ipykernel_537/3743854625.py:2: SyntaxWarning: invalid escape sequence '\\s'\n",
      "  \"\"\"\n"
     ]
    }
   ],
   "execution_count": 2
  },
  {
   "metadata": {
    "ExecuteTime": {
     "end_time": "2025-01-17T01:36:19.194894Z",
     "start_time": "2025-01-17T01:36:19.191350Z"
    }
   },
   "cell_type": "code",
   "source": [
    "M = np.array([\n",
    "    [1, 0, 0],\n",
    "    [-0.50000725,  0.61236069, -0.6123784],\n",
    "    [-0.50000722, -0.61237838,  0.61236072]\n",
    "])\n",
    "print(pairwise_sum(M))\n",
    "print(pairwise_distances(M))"
   ],
   "id": "21ef6d1741e140c6",
   "outputs": [
    {
     "name": "stdout",
     "output_type": "stream",
     "text": [
      "3.464101429890209\n",
      "[[0.         1.73205504 1.73205502]\n",
      " [1.73205504 0.         1.73204264]\n",
      " [1.73205502 1.73204264 0.        ]]\n"
     ]
    }
   ],
   "execution_count": 3
  },
  {
   "metadata": {
    "ExecuteTime": {
     "end_time": "2025-01-17T01:22:34.986069Z",
     "start_time": "2025-01-17T01:22:34.978689Z"
    }
   },
   "cell_type": "code",
   "source": [
    "# Define the objective function\n",
    "def f(vars):\n",
    "    y1, y2, y3, z1, z2, z3 = vars\n",
    "    term1 = 1 / np.sqrt((1 - y1)**2 + y2**2 + y3**2)\n",
    "    term2 = 1 / np.sqrt((1 - z1)**2 + z2**2 + z3**2)\n",
    "    term3 = 1 / np.sqrt((y1 - z1)**2 + (y2 - z2)**2 + (y3 - z3)**2)\n",
    "    return (term1 + term2 + term3)  # Negative for maximization\n",
    "\n",
    "# Define the constraints\n",
    "constraints = [\n",
    "    {'type': 'eq', 'fun': lambda vars: vars[0]**2 + vars[1]**2 + vars[2]**2 - 1},  # y1^2 + y2^2 + y3^2 = 1\n",
    "    {'type': 'eq', 'fun': lambda vars: vars[3]**2 + vars[4]**2 + vars[5]**2 - 1}   # z1^2 + z2^2 + z3^2 = 1\n",
    "]\n",
    "\n",
    "# Initial guess\n",
    "initial_guess = [0, 1, 0, 0, 0, 1]\n",
    "\n",
    "# Solve using SciPy minimize\n",
    "result = minimize(f, initial_guess, constraints=constraints)\n",
    "print(\"Optimal solution:\", result.x)\n",
    "print(\"Minimum value:\", result.fun)"
   ],
   "id": "7e8bf18a52acc239",
   "outputs": [
    {
     "name": "stdout",
     "output_type": "stream",
     "text": [
      "Optimal solution: [-0.50000725  0.61236069 -0.6123784  -0.50000722 -0.61237838  0.61236072]\n",
      "Minimum value: 1.7320507175316286\n"
     ]
    }
   ],
   "execution_count": 13
  },
  {
   "metadata": {},
   "cell_type": "code",
   "outputs": [],
   "execution_count": null,
   "source": [
    "from sage.all import *\n",
    "\n",
    "# Define variables\n",
    "y1, y2, y3, z1, z2, z3 = var('y1 y2 y3 z1 z2 z3')\n",
    "lambda1, lambda2 = var('lambda1 lambda2')\n",
    "\n",
    "# Define the function and constraints\n",
    "f = 1 / sqrt((1 - y1)^2 + y2^2 + y3^2) + \\\n",
    "    1 / sqrt((1 - z1)^2 + z2^2 + z3^2) + \\\n",
    "    1 / sqrt((y1 - z1)^2 + (y2 - z2)^2 + (y3 - z3)^2)\n",
    "\n",
    "constraint1 = y1^2 + y2^2 + y3^2 - 1\n",
    "constraint2 = z1^2 + z2^2 + z3^2 - 1\n",
    "\n",
    "# Set up Lagrange equations\n",
    "lagrange_eqs = [\n",
    "    diff(f, y1) + 2 * lambda1 * y1 == 0,\n",
    "    diff(f, y2) + 2 * lambda1 * y2 == 0,\n",
    "    diff(f, y3) + 2 * lambda1 * y3 == 0,\n",
    "    diff(f, z1) + 2 * lambda2 * z1 == 0,\n",
    "    diff(f, z2) + 2 * lambda2 * z2 == 0,\n",
    "    diff(f, z3) + 2 * lambda2 * z3 == 0,\n",
    "    constraint1 == 0,\n",
    "    constraint2 == 0\n",
    "]\n",
    "\n",
    "# Solve the system\n",
    "solutions = solve(lagrange_eqs, [y1, y2, y3, z1, z2, z3, lambda1, lambda2])\n",
    "print(solutions)"
   ],
   "id": "d78ba8fa79a7117"
  }
 ],
 "metadata": {
  "kernelspec": {
   "display_name": "Python 3",
   "language": "python",
   "name": "python3"
  },
  "language_info": {
   "codemirror_mode": {
    "name": "ipython",
    "version": 2
   },
   "file_extension": ".py",
   "mimetype": "text/x-python",
   "name": "python",
   "nbconvert_exporter": "python",
   "pygments_lexer": "ipython2",
   "version": "2.7.6"
  }
 },
 "nbformat": 4,
 "nbformat_minor": 5
}
